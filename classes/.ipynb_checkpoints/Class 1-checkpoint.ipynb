{
 "cells": [
  {
   "cell_type": "markdown",
   "id": "53fce03f",
   "metadata": {},
   "source": [
    "## Module 1 Class activities\n",
    "This notebook is a starting point for the exercises and activities that we'll do in class.\n",
    "\n",
    "Before you attempt any of these activities, make sure to watch the Module 1 video lectures."
   ]
  },
  {
   "cell_type": "markdown",
   "id": "c092609b",
   "metadata": {},
   "source": [
    "### Using the `requests` library to query an API\n",
    "Here's the code that we saw in the video lecture that queries BART for real-time arrivals."
   ]
  },
  {
   "cell_type": "code",
   "execution_count": 1,
   "id": "89222500",
   "metadata": {},
   "outputs": [
    {
     "name": "stdout",
     "output_type": "stream",
     "text": [
      "Trains from CIVC to Daly City\n"
     ]
    },
    {
     "data": {
      "text/html": [
       "<div>\n",
       "<style scoped>\n",
       "    .dataframe tbody tr th:only-of-type {\n",
       "        vertical-align: middle;\n",
       "    }\n",
       "\n",
       "    .dataframe tbody tr th {\n",
       "        vertical-align: top;\n",
       "    }\n",
       "\n",
       "    .dataframe thead th {\n",
       "        text-align: right;\n",
       "    }\n",
       "</style>\n",
       "<table border=\"1\" class=\"dataframe\">\n",
       "  <thead>\n",
       "    <tr style=\"text-align: right;\">\n",
       "      <th></th>\n",
       "      <th>minutes</th>\n",
       "      <th>platform</th>\n",
       "      <th>direction</th>\n",
       "      <th>length</th>\n",
       "      <th>color</th>\n",
       "      <th>hexcolor</th>\n",
       "      <th>bikeflag</th>\n",
       "      <th>delay</th>\n",
       "      <th>cancelflag</th>\n",
       "      <th>dynamicflag</th>\n",
       "    </tr>\n",
       "  </thead>\n",
       "  <tbody>\n",
       "    <tr>\n",
       "      <th>0</th>\n",
       "      <td>3</td>\n",
       "      <td>1</td>\n",
       "      <td>South</td>\n",
       "      <td>8</td>\n",
       "      <td>BLUE</td>\n",
       "      <td>#0099cc</td>\n",
       "      <td>1</td>\n",
       "      <td>0</td>\n",
       "      <td>0</td>\n",
       "      <td>0</td>\n",
       "    </tr>\n",
       "    <tr>\n",
       "      <th>1</th>\n",
       "      <td>16</td>\n",
       "      <td>1</td>\n",
       "      <td>South</td>\n",
       "      <td>8</td>\n",
       "      <td>GREEN</td>\n",
       "      <td>#339933</td>\n",
       "      <td>1</td>\n",
       "      <td>0</td>\n",
       "      <td>0</td>\n",
       "      <td>0</td>\n",
       "    </tr>\n",
       "    <tr>\n",
       "      <th>2</th>\n",
       "      <td>33</td>\n",
       "      <td>1</td>\n",
       "      <td>South</td>\n",
       "      <td>8</td>\n",
       "      <td>BLUE</td>\n",
       "      <td>#0099cc</td>\n",
       "      <td>1</td>\n",
       "      <td>0</td>\n",
       "      <td>0</td>\n",
       "      <td>0</td>\n",
       "    </tr>\n",
       "  </tbody>\n",
       "</table>\n",
       "</div>"
      ],
      "text/plain": [
       "  minutes platform direction length  color hexcolor bikeflag delay cancelflag   \n",
       "0       3        1     South      8   BLUE  #0099cc        1     0          0  \\\n",
       "1      16        1     South      8  GREEN  #339933        1     0          0   \n",
       "2      33        1     South      8   BLUE  #0099cc        1     0          0   \n",
       "\n",
       "  dynamicflag  \n",
       "0           0  \n",
       "1           0  \n",
       "2           0  "
      ]
     },
     "execution_count": 1,
     "metadata": {},
     "output_type": "execute_result"
    }
   ],
   "source": [
    "import json\n",
    "import pandas as pd\n",
    "import requests\n",
    "\n",
    "APIkey = 'MW9S-E7SL-26DU-VV8V'  # the key posted on BART's website\n",
    "station = 'CIVC'\n",
    "# string passing into the API \n",
    "requestString = 'http://api.bart.gov/api/etd.aspx?cmd=etd&orig={}&json=y&key={}&dir=s'.format(station, APIkey) \n",
    "r = requests.get(requestString)\n",
    "d = json.loads(r.text)\n",
    "etd = d['root']['station'][0]['etd']\n",
    "print('Trains from {} to {}'.format(station, etd[0]['destination']))\n",
    "df = pd.DataFrame(etd[0]['estimate'])\n",
    "df"
   ]
  },
  {
   "cell_type": "markdown",
   "id": "5e6d730d",
   "metadata": {},
   "source": [
    "<div class=\"alert alert-block alert-info\">\n",
    "<strong>Exercise:</strong> Explore the different objects. What are <strong>r</strong>, <strong>d</strong>, and <strong>etd</strong>. What can you do with them?\n",
    "</div>"
   ]
  },
  {
   "cell_type": "markdown",
   "id": "77669ec3",
   "metadata": {},
   "source": [
    "Hint: Use `type()` to find out the type of an object (e.g. `type(r)`), and `?` to pull up the help screen (e.g. `r?`).\n",
    "\n",
    "You can also tab autocomplete to discover an object's attributes and methods (e.g. `r.` and then `TAB`). "
   ]
  },
  {
   "cell_type": "code",
   "execution_count": 2,
   "id": "2386544a-95ed-430e-a5c8-4d26b3c08879",
   "metadata": {},
   "outputs": [
    {
     "data": {
      "text/plain": [
       "requests.models.Response"
      ]
     },
     "execution_count": 2,
     "metadata": {},
     "output_type": "execute_result"
    }
   ],
   "source": [
    "type(r)"
   ]
  },
  {
   "cell_type": "code",
   "execution_count": 3,
   "id": "662c9c5a-4f93-486f-9a3c-e3f42262fe68",
   "metadata": {},
   "outputs": [
    {
     "data": {
      "text/plain": [
       "<Response [200]>"
      ]
     },
     "execution_count": 3,
     "metadata": {},
     "output_type": "execute_result"
    }
   ],
   "source": [
    "r"
   ]
  },
  {
   "cell_type": "code",
   "execution_count": 4,
   "id": "c6330708-914f-4675-885c-a37dd7399758",
   "metadata": {},
   "outputs": [
    {
     "data": {
      "text/plain": [
       "dict"
      ]
     },
     "execution_count": 4,
     "metadata": {},
     "output_type": "execute_result"
    }
   ],
   "source": [
    "type(d)"
   ]
  },
  {
   "cell_type": "code",
   "execution_count": 5,
   "id": "992bc6db-ae7f-4b76-bbdb-47dfa70a2d69",
   "metadata": {},
   "outputs": [
    {
     "data": {
      "text/plain": [
       "list"
      ]
     },
     "execution_count": 5,
     "metadata": {},
     "output_type": "execute_result"
    }
   ],
   "source": [
    "type(etd)"
   ]
  },
  {
   "cell_type": "markdown",
   "id": "4f970164-f274-4597-b94f-714f7cf871fe",
   "metadata": {},
   "source": [
    "<div class=\"alert alert-block alert-success\"> <b>Response to Exersice</b> In this, <strong>r</strong> is a request variable that stores the data recieved from the response to the get request. <strong>d</strong> is a dictionary that converts the response into a json format data. <strong>etd</strong> is a list within the dictionary <strong>d</strong>, where each item of the list is a train departing from the station. </div>"
   ]
  },
  {
   "cell_type": "markdown",
   "id": "98e25862",
   "metadata": {},
   "source": [
    "Now let's explore the other options and API commands that BART offers. \n",
    "\n",
    "The API documentation for the `etd` (real-time information) command is [here](https://api.bart.gov/docs/etd/etd.aspx). "
   ]
  },
  {
   "cell_type": "markdown",
   "id": "19e3f6d0",
   "metadata": {},
   "source": [
    "<div class=\"alert alert-block alert-info\">\n",
    "<strong>Exercise:</strong> Write a command to retrieve real-time departures for southbound trains at Civic Center station (code: CIVC). Hint: You'll need to add another <strong>&</strong> to <strong>requestString</strong>.\n",
    "</div>"
   ]
  },
  {
   "cell_type": "code",
   "execution_count": 6,
   "id": "9f8705a1",
   "metadata": {},
   "outputs": [
    {
     "name": "stdout",
     "output_type": "stream",
     "text": [
      "Trains from CIVC to Daly City\n"
     ]
    },
    {
     "data": {
      "text/html": [
       "<div>\n",
       "<style scoped>\n",
       "    .dataframe tbody tr th:only-of-type {\n",
       "        vertical-align: middle;\n",
       "    }\n",
       "\n",
       "    .dataframe tbody tr th {\n",
       "        vertical-align: top;\n",
       "    }\n",
       "\n",
       "    .dataframe thead th {\n",
       "        text-align: right;\n",
       "    }\n",
       "</style>\n",
       "<table border=\"1\" class=\"dataframe\">\n",
       "  <thead>\n",
       "    <tr style=\"text-align: right;\">\n",
       "      <th></th>\n",
       "      <th>minutes</th>\n",
       "      <th>platform</th>\n",
       "      <th>direction</th>\n",
       "      <th>length</th>\n",
       "      <th>color</th>\n",
       "      <th>hexcolor</th>\n",
       "      <th>bikeflag</th>\n",
       "      <th>delay</th>\n",
       "      <th>cancelflag</th>\n",
       "      <th>dynamicflag</th>\n",
       "    </tr>\n",
       "  </thead>\n",
       "  <tbody>\n",
       "    <tr>\n",
       "      <th>0</th>\n",
       "      <td>3</td>\n",
       "      <td>1</td>\n",
       "      <td>South</td>\n",
       "      <td>8</td>\n",
       "      <td>BLUE</td>\n",
       "      <td>#0099cc</td>\n",
       "      <td>1</td>\n",
       "      <td>0</td>\n",
       "      <td>0</td>\n",
       "      <td>0</td>\n",
       "    </tr>\n",
       "    <tr>\n",
       "      <th>1</th>\n",
       "      <td>16</td>\n",
       "      <td>1</td>\n",
       "      <td>South</td>\n",
       "      <td>8</td>\n",
       "      <td>GREEN</td>\n",
       "      <td>#339933</td>\n",
       "      <td>1</td>\n",
       "      <td>0</td>\n",
       "      <td>0</td>\n",
       "      <td>0</td>\n",
       "    </tr>\n",
       "    <tr>\n",
       "      <th>2</th>\n",
       "      <td>33</td>\n",
       "      <td>1</td>\n",
       "      <td>South</td>\n",
       "      <td>8</td>\n",
       "      <td>BLUE</td>\n",
       "      <td>#0099cc</td>\n",
       "      <td>1</td>\n",
       "      <td>0</td>\n",
       "      <td>0</td>\n",
       "      <td>0</td>\n",
       "    </tr>\n",
       "  </tbody>\n",
       "</table>\n",
       "</div>"
      ],
      "text/plain": [
       "  minutes platform direction length  color hexcolor bikeflag delay cancelflag   \n",
       "0       3        1     South      8   BLUE  #0099cc        1     0          0  \\\n",
       "1      16        1     South      8  GREEN  #339933        1     0          0   \n",
       "2      33        1     South      8   BLUE  #0099cc        1     0          0   \n",
       "\n",
       "  dynamicflag  \n",
       "0           0  \n",
       "1           0  \n",
       "2           0  "
      ]
     },
     "execution_count": 6,
     "metadata": {},
     "output_type": "execute_result"
    }
   ],
   "source": [
    "# your code here\n",
    "direction = 's'\n",
    "requestString = 'http://api.bart.gov/api/etd.aspx?cmd=etd&orig={}&json=y&key={}&dir={}'.format(station, APIkey, direction) \n",
    "r = requests.get(requestString)\n",
    "d = json.loads(r.text)\n",
    "etd = d['root']['station'][0]['etd']\n",
    "print('Trains from {} to {}'.format(station, etd[0]['destination']))\n",
    "df = pd.DataFrame(etd[0]['estimate'])\n",
    "df"
   ]
  },
  {
   "cell_type": "markdown",
   "id": "67f984e9-59dc-45e3-bf46-147e876448d6",
   "metadata": {},
   "source": [
    "<div class=\"alert alert-block alert-success\"> <b>Response to Exersice</b> This code reveals the real time departure for southbound trains only. We added direction as a input variable in the API request. </div>"
   ]
  },
  {
   "cell_type": "markdown",
   "id": "dd5bdf82",
   "metadata": {},
   "source": [
    "<div class=\"alert alert-block alert-info\">\n",
    "    <strong>Exercise:</strong> Use the <strong>elev</strong> command to obtain the elevator status at each station, and put it in a dataframe. Optional extension: pass the parameters as a dictionary to requests, as we saw in the video lecture."
   ]
  },
  {
   "cell_type": "markdown",
   "id": "1489bc0c",
   "metadata": {},
   "source": [
    "See the API docs [here](https://api.bart.gov/docs/bsa/elev.aspx) for details of that command."
   ]
  },
  {
   "cell_type": "code",
   "execution_count": 49,
   "id": "e4a6c63a-f5de-4db5-95d5-d7c7dd333127",
   "metadata": {},
   "outputs": [
    {
     "data": {
      "text/plain": [
       "{'?xml': {'@version': '1.0', '@encoding': 'utf-8'},\n",
       " 'root': {'@id': '1',\n",
       "  'uri': {'#cdata-section': 'http://api.bart.gov/api/bsa.aspx?cmd=elev&json=y'},\n",
       "  'date': '04/09/2023',\n",
       "  'time': '06:50:20 PM PDT',\n",
       "  'bsa': [{'@id': '04090651',\n",
       "    'station': 'BART',\n",
       "    'type': 'ELEVATOR',\n",
       "    'description': {'#cdata-section': 'There are 5 elevators out of service at this time: 12TH: Street - Ogawa Plaza; COLS: Walkway - Coliseum; NBRK: Station; PITT: Platform - SF/East Bay; RICH: Street (West side)'},\n",
       "    'sms_text': {'#cdata-section': '5 elevs out of svc: 12TH: street - ogawa plaza; COLS: walkway - COLS; NBRK: stn; PITT: plat - sf/East Bay; rich: street (west side)'},\n",
       "    'posted': '',\n",
       "    'expires': ''}],\n",
       "  'message': ''}}"
      ]
     },
     "execution_count": 49,
     "metadata": {},
     "output_type": "execute_result"
    }
   ],
   "source": [
    "# your code here\n",
    "# your code here\n",
    "requestString = 'https://api.bart.gov/api/bsa.aspx?cmd=elev&key={}&json=y'.format(APIkey) \n",
    "r_ele = requests.get(requestString)\n",
    "d_ele = json.loads(r_ele.text)\n",
    "d_ele"
   ]
  },
  {
   "cell_type": "markdown",
   "id": "25154c53-9cab-4525-91a3-539ffac8cb62",
   "metadata": {},
   "source": [
    "<div class=\"alert alert-block alert-success\"> <b>Exersice in progress</b> It shows that d1 is a dictionary. The value we want, elevator status is the list description, within the dictionary bsa, which is within the dictionary root inside d1. We will call the relevant list and try to convert it into a data frame. . </div>"
   ]
  },
  {
   "cell_type": "code",
   "execution_count": 50,
   "id": "9104ca10-be0b-4e24-a100-0569b3f063e9",
   "metadata": {},
   "outputs": [
    {
     "data": {
      "text/plain": [
       "'There are 5 elevators out of service at this time: 12TH: Street - Ogawa Plaza; COLS: Walkway - Coliseum; NBRK: Station; PITT: Platform - SF/East Bay; RICH: Street (West side)'"
      ]
     },
     "execution_count": 50,
     "metadata": {},
     "output_type": "execute_result"
    }
   ],
   "source": [
    "ele = d_ele['root']['bsa'][0]['description']['#cdata-section']\n",
    "ele"
   ]
  },
  {
   "cell_type": "markdown",
   "id": "328c6ef4-a561-435b-bc26-aec807061d0a",
   "metadata": {},
   "source": [
    "<div class=\"alert alert-block alert-success\"> <b>Exersice in progress</b> This shows that we can convert the dictionray bsa into a list where each dection is dcata-section. However, we probably need the values in description to do this neater. </div>"
   ]
  },
  {
   "cell_type": "code",
   "execution_count": 51,
   "id": "a39ccc34-f976-40b9-863c-ee5f35a90d4c",
   "metadata": {},
   "outputs": [
    {
     "data": {
      "text/plain": [
       "str"
      ]
     },
     "execution_count": 51,
     "metadata": {},
     "output_type": "execute_result"
    }
   ],
   "source": [
    "type(ele[0])"
   ]
  },
  {
   "cell_type": "code",
   "execution_count": 52,
   "id": "0c500af8-dc8c-49f2-a787-d514144025b4",
   "metadata": {},
   "outputs": [
    {
     "data": {
      "text/plain": [
       "'There are 5 elevators out of service at this time: 12TH: Street - Ogawa Plaza; COLS: Walkway - Coliseum; NBRK: Station; PITT: Platform - SF/East Bay; RICH: Street (West side)'"
      ]
     },
     "execution_count": 52,
     "metadata": {},
     "output_type": "execute_result"
    }
   ],
   "source": [
    "ele"
   ]
  },
  {
   "cell_type": "markdown",
   "id": "cbd69c19-c6c5-4ce4-b3d2-3eea1d215d29",
   "metadata": {},
   "source": [
    "<div class=\"alert alert-block alert-success\"> <b>Exersice in progress</b> The reslut for <strong>ele</strong> show that the value is a string, and we need to use other ways to seperate it out into a data frame. </div>"
   ]
  },
  {
   "cell_type": "code",
   "execution_count": 53,
   "id": "b9b92434-4d81-4c3f-9889-f946b278ac4b",
   "metadata": {},
   "outputs": [
    {
     "data": {
      "text/plain": [
       "['There are 5 elevators out of service at this time: 12TH: Street - Ogawa Plaza',\n",
       " ' COLS: Walkway - Coliseum',\n",
       " ' NBRK: Station',\n",
       " ' PITT: Platform - SF/East Bay',\n",
       " ' RICH: Street (West side)']"
      ]
     },
     "execution_count": 53,
     "metadata": {},
     "output_type": "execute_result"
    }
   ],
   "source": [
    "ele_columns=ele.split(\";\")\n",
    "ele_columns"
   ]
  },
  {
   "cell_type": "code",
   "execution_count": 59,
   "id": "ddc7f770-1415-42c9-9c32-f047e0c811ff",
   "metadata": {},
   "outputs": [
    {
     "data": {
      "text/html": [
       "<div>\n",
       "<style scoped>\n",
       "    .dataframe tbody tr th:only-of-type {\n",
       "        vertical-align: middle;\n",
       "    }\n",
       "\n",
       "    .dataframe tbody tr th {\n",
       "        vertical-align: top;\n",
       "    }\n",
       "\n",
       "    .dataframe thead th {\n",
       "        text-align: right;\n",
       "    }\n",
       "</style>\n",
       "<table border=\"1\" class=\"dataframe\">\n",
       "  <thead>\n",
       "    <tr style=\"text-align: right;\">\n",
       "      <th></th>\n",
       "      <th>Elevator</th>\n",
       "    </tr>\n",
       "  </thead>\n",
       "  <tbody>\n",
       "    <tr>\n",
       "      <th>0</th>\n",
       "      <td>There are 5 elevators out of service at this t...</td>\n",
       "    </tr>\n",
       "    <tr>\n",
       "      <th>1</th>\n",
       "      <td>COLS: Walkway - Coliseum</td>\n",
       "    </tr>\n",
       "    <tr>\n",
       "      <th>2</th>\n",
       "      <td>NBRK: Station</td>\n",
       "    </tr>\n",
       "    <tr>\n",
       "      <th>3</th>\n",
       "      <td>PITT: Platform - SF/East Bay</td>\n",
       "    </tr>\n",
       "    <tr>\n",
       "      <th>4</th>\n",
       "      <td>RICH: Street (West side)</td>\n",
       "    </tr>\n",
       "  </tbody>\n",
       "</table>\n",
       "</div>"
      ],
      "text/plain": [
       "                                            Elevator\n",
       "0  There are 5 elevators out of service at this t...\n",
       "1                           COLS: Walkway - Coliseum\n",
       "2                                      NBRK: Station\n",
       "3                       PITT: Platform - SF/East Bay\n",
       "4                           RICH: Street (West side)"
      ]
     },
     "execution_count": 59,
     "metadata": {},
     "output_type": "execute_result"
    }
   ],
   "source": [
    "ele_df=pd.DataFrame(ele_columns, columns=[\"Elevator\"] )\n",
    "ele_df"
   ]
  },
  {
   "cell_type": "code",
   "execution_count": 60,
   "id": "5e2f1a84-5ba5-4229-9348-8de5eba0c1d2",
   "metadata": {},
   "outputs": [
    {
     "data": {
      "text/html": [
       "<div>\n",
       "<style scoped>\n",
       "    .dataframe tbody tr th:only-of-type {\n",
       "        vertical-align: middle;\n",
       "    }\n",
       "\n",
       "    .dataframe tbody tr th {\n",
       "        vertical-align: top;\n",
       "    }\n",
       "\n",
       "    .dataframe thead th {\n",
       "        text-align: right;\n",
       "    }\n",
       "</style>\n",
       "<table border=\"1\" class=\"dataframe\">\n",
       "  <thead>\n",
       "    <tr style=\"text-align: right;\">\n",
       "      <th></th>\n",
       "      <th>Elevator</th>\n",
       "      <th>Station</th>\n",
       "      <th>Location</th>\n",
       "      <th>q</th>\n",
       "    </tr>\n",
       "  </thead>\n",
       "  <tbody>\n",
       "    <tr>\n",
       "      <th>0</th>\n",
       "      <td>There are 5 elevators out of service at this t...</td>\n",
       "      <td>There are 5 elevators out of service at this time</td>\n",
       "      <td>12TH</td>\n",
       "      <td>Street - Ogawa Plaza</td>\n",
       "    </tr>\n",
       "    <tr>\n",
       "      <th>1</th>\n",
       "      <td>COLS: Walkway - Coliseum</td>\n",
       "      <td>COLS</td>\n",
       "      <td>Walkway - Coliseum</td>\n",
       "      <td>None</td>\n",
       "    </tr>\n",
       "    <tr>\n",
       "      <th>2</th>\n",
       "      <td>NBRK: Station</td>\n",
       "      <td>NBRK</td>\n",
       "      <td>Station</td>\n",
       "      <td>None</td>\n",
       "    </tr>\n",
       "    <tr>\n",
       "      <th>3</th>\n",
       "      <td>PITT: Platform - SF/East Bay</td>\n",
       "      <td>PITT</td>\n",
       "      <td>Platform - SF/East Bay</td>\n",
       "      <td>None</td>\n",
       "    </tr>\n",
       "    <tr>\n",
       "      <th>4</th>\n",
       "      <td>RICH: Street (West side)</td>\n",
       "      <td>RICH</td>\n",
       "      <td>Street (West side)</td>\n",
       "      <td>None</td>\n",
       "    </tr>\n",
       "  </tbody>\n",
       "</table>\n",
       "</div>"
      ],
      "text/plain": [
       "                                            Elevator   \n",
       "0  There are 5 elevators out of service at this t...  \\\n",
       "1                           COLS: Walkway - Coliseum   \n",
       "2                                      NBRK: Station   \n",
       "3                       PITT: Platform - SF/East Bay   \n",
       "4                           RICH: Street (West side)   \n",
       "\n",
       "                                             Station                 Location   \n",
       "0  There are 5 elevators out of service at this time                     12TH  \\\n",
       "1                                               COLS       Walkway - Coliseum   \n",
       "2                                               NBRK                  Station   \n",
       "3                                               PITT   Platform - SF/East Bay   \n",
       "4                                               RICH       Street (West side)   \n",
       "\n",
       "                       q  \n",
       "0   Street - Ogawa Plaza  \n",
       "1                   None  \n",
       "2                   None  \n",
       "3                   None  \n",
       "4                   None  "
      ]
     },
     "execution_count": 60,
     "metadata": {},
     "output_type": "execute_result"
    }
   ],
   "source": [
    "# split the Elevator column by ':'\n",
    "ele_df[['Station','Location','q']] = ele_df['Elevator'].str.split(':', n=2, expand=True)\n",
    "\n",
    "ele_df"
   ]
  },
  {
   "cell_type": "code",
   "execution_count": 61,
   "id": "85b9b95a-2855-48ca-8162-70b8b96e2088",
   "metadata": {},
   "outputs": [
    {
     "data": {
      "text/html": [
       "<div>\n",
       "<style scoped>\n",
       "    .dataframe tbody tr th:only-of-type {\n",
       "        vertical-align: middle;\n",
       "    }\n",
       "\n",
       "    .dataframe tbody tr th {\n",
       "        vertical-align: top;\n",
       "    }\n",
       "\n",
       "    .dataframe thead th {\n",
       "        text-align: right;\n",
       "    }\n",
       "</style>\n",
       "<table border=\"1\" class=\"dataframe\">\n",
       "  <thead>\n",
       "    <tr style=\"text-align: right;\">\n",
       "      <th></th>\n",
       "      <th>Station</th>\n",
       "      <th>Location</th>\n",
       "    </tr>\n",
       "  </thead>\n",
       "  <tbody>\n",
       "    <tr>\n",
       "      <th>0</th>\n",
       "      <td>12TH</td>\n",
       "      <td>Street - Ogawa Plaza</td>\n",
       "    </tr>\n",
       "    <tr>\n",
       "      <th>1</th>\n",
       "      <td>COLS</td>\n",
       "      <td>Walkway - Coliseum</td>\n",
       "    </tr>\n",
       "    <tr>\n",
       "      <th>2</th>\n",
       "      <td>NBRK</td>\n",
       "      <td>Station</td>\n",
       "    </tr>\n",
       "    <tr>\n",
       "      <th>3</th>\n",
       "      <td>PITT</td>\n",
       "      <td>Platform - SF/East Bay</td>\n",
       "    </tr>\n",
       "    <tr>\n",
       "      <th>4</th>\n",
       "      <td>RICH</td>\n",
       "      <td>Street (West side)</td>\n",
       "    </tr>\n",
       "  </tbody>\n",
       "</table>\n",
       "</div>"
      ],
      "text/plain": [
       "  Station                 Location\n",
       "0    12TH     Street - Ogawa Plaza\n",
       "1    COLS       Walkway - Coliseum\n",
       "2    NBRK                  Station\n",
       "3    PITT   Platform - SF/East Bay\n",
       "4    RICH       Street (West side)"
      ]
     },
     "execution_count": 61,
     "metadata": {},
     "output_type": "execute_result"
    }
   ],
   "source": [
    "# drop the original Elevator column\n",
    "ele_df.at[0,'Station']=ele_df.at[0,'Location']\n",
    "ele_df.at[0,'Location']=ele_df.at[0,'q']\n",
    "ele_df = ele_df.drop('q', axis=1)\n",
    "ele_df = ele_df.drop('Elevator', axis=1)\n",
    "ele_df"
   ]
  },
  {
   "cell_type": "code",
   "execution_count": 63,
   "id": "4dbe2277-1d9e-4f78-8b81-889f3adf9b4e",
   "metadata": {},
   "outputs": [
    {
     "data": {
      "text/html": [
       "<div>\n",
       "<style scoped>\n",
       "    .dataframe tbody tr th:only-of-type {\n",
       "        vertical-align: middle;\n",
       "    }\n",
       "\n",
       "    .dataframe tbody tr th {\n",
       "        vertical-align: top;\n",
       "    }\n",
       "\n",
       "    .dataframe thead th {\n",
       "        text-align: right;\n",
       "    }\n",
       "</style>\n",
       "<table border=\"1\" class=\"dataframe\">\n",
       "  <thead>\n",
       "    <tr style=\"text-align: right;\">\n",
       "      <th></th>\n",
       "      <th>Station</th>\n",
       "      <th>Location</th>\n",
       "    </tr>\n",
       "  </thead>\n",
       "  <tbody>\n",
       "    <tr>\n",
       "      <th>0</th>\n",
       "      <td>12TH</td>\n",
       "      <td>Street - Ogawa Plaza</td>\n",
       "    </tr>\n",
       "    <tr>\n",
       "      <th>1</th>\n",
       "      <td>COLS</td>\n",
       "      <td>Walkway - Coliseum</td>\n",
       "    </tr>\n",
       "    <tr>\n",
       "      <th>2</th>\n",
       "      <td>NBRK</td>\n",
       "      <td>Station</td>\n",
       "    </tr>\n",
       "    <tr>\n",
       "      <th>3</th>\n",
       "      <td>PITT</td>\n",
       "      <td>Platform - SF/East Bay</td>\n",
       "    </tr>\n",
       "    <tr>\n",
       "      <th>4</th>\n",
       "      <td>RICH</td>\n",
       "      <td>Street (West side)</td>\n",
       "    </tr>\n",
       "  </tbody>\n",
       "</table>\n",
       "</div>"
      ],
      "text/plain": [
       "  Station                 Location\n",
       "0    12TH     Street - Ogawa Plaza\n",
       "1    COLS       Walkway - Coliseum\n",
       "2    NBRK                  Station\n",
       "3    PITT   Platform - SF/East Bay\n",
       "4    RICH       Street (West side)"
      ]
     },
     "execution_count": 63,
     "metadata": {},
     "output_type": "execute_result"
    }
   ],
   "source": [
    "# Alternative from kushal\n",
    "ele_df1=pd.DataFrame(columns=['Station','Location'])\n",
    "\n",
    "ele_df1=pd.DataFrame(d_ele['root']['bsa'][0]['description']['#cdata-section'].split('time:')[1].split(';'), columns=[\"Elevator\"] )\n",
    "\n",
    "ele_df1[['Station','Location']] = ele_df1['Elevator'].str.split(':', n=1, expand=True)\n",
    "ele_df1 = ele_df1.drop('Elevator', axis=1)\n",
    "\n",
    "ele_df1"
   ]
  },
  {
   "cell_type": "markdown",
   "id": "fe157f2f-12e8-4fb8-a5b6-24a1d421a2aa",
   "metadata": {},
   "source": [
    "<div class=\"alert alert-block alert-success\"> <b>Response to Exersice</b> We get a table with all stations and elevator locations that are not functioning. Tho there is a little hard coding, it is robust enough to adapt to changes in # elevators . </div>"
   ]
  },
  {
   "cell_type": "markdown",
   "id": "eb62fb82",
   "metadata": {},
   "source": [
    "### Accessing census data\n",
    "\n",
    "Recall that we have seen two ways to access census data:\n",
    "* The Census Bureau API\n",
    "* The `cenpy` library\n",
    "\n",
    "Let's try them both and map patterns of race for Los Angeles County. \n",
    "\n",
    "Here's the relevant code that we saw in the video lecture to get the 5-year ACS estimates for population (table `B01001_001E`)."
   ]
  },
  {
   "cell_type": "code",
   "execution_count": 48,
   "id": "bd1a70c8",
   "metadata": {},
   "outputs": [
    {
     "data": {
      "text/html": [
       "<div>\n",
       "<style scoped>\n",
       "    .dataframe tbody tr th:only-of-type {\n",
       "        vertical-align: middle;\n",
       "    }\n",
       "\n",
       "    .dataframe tbody tr th {\n",
       "        vertical-align: top;\n",
       "    }\n",
       "\n",
       "    .dataframe thead th {\n",
       "        text-align: right;\n",
       "    }\n",
       "</style>\n",
       "<table border=\"1\" class=\"dataframe\">\n",
       "  <thead>\n",
       "    <tr style=\"text-align: right;\">\n",
       "      <th></th>\n",
       "      <th>B01001_001E</th>\n",
       "      <th>state</th>\n",
       "      <th>county</th>\n",
       "    </tr>\n",
       "  </thead>\n",
       "  <tbody>\n",
       "    <tr>\n",
       "      <th>0</th>\n",
       "      <td>7059</td>\n",
       "      <td>48</td>\n",
       "      <td>075</td>\n",
       "    </tr>\n",
       "    <tr>\n",
       "      <th>1</th>\n",
       "      <td>119632</td>\n",
       "      <td>48</td>\n",
       "      <td>091</td>\n",
       "    </tr>\n",
       "    <tr>\n",
       "      <th>2</th>\n",
       "      <td>22949</td>\n",
       "      <td>48</td>\n",
       "      <td>225</td>\n",
       "    </tr>\n",
       "    <tr>\n",
       "      <th>3</th>\n",
       "      <td>48118</td>\n",
       "      <td>48</td>\n",
       "      <td>349</td>\n",
       "    </tr>\n",
       "    <tr>\n",
       "      <th>4</th>\n",
       "      <td>17238</td>\n",
       "      <td>48</td>\n",
       "      <td>415</td>\n",
       "    </tr>\n",
       "  </tbody>\n",
       "</table>\n",
       "</div>"
      ],
      "text/plain": [
       "  B01001_001E state county\n",
       "0        7059    48    075\n",
       "1      119632    48    091\n",
       "2       22949    48    225\n",
       "3       48118    48    349\n",
       "4       17238    48    415"
      ]
     },
     "execution_count": 48,
     "metadata": {},
     "output_type": "execute_result"
    }
   ],
   "source": [
    "import json\n",
    "import requests\n",
    "import pandas as pd\n",
    "\n",
    "r_census = requests.get('https://api.census.gov/data/2015/acs/acs5?get=B01001_001E&for=county')\n",
    "censusdata = r_census.json()\n",
    "df_census = pd.DataFrame(censusdata[1:], columns=censusdata[0])\n",
    "df_census.head()"
   ]
  },
  {
   "cell_type": "markdown",
   "id": "f7e05635",
   "metadata": {},
   "source": [
    "<div class=\"alert alert-block alert-info\">\n",
    "<strong>Exercise:</strong> Retrieve population data at the census tract level for LA County, and put it in a pandas dataframe. (You can use the 5-year ACS if you like.)\n",
    "</div>"
   ]
  },
  {
   "cell_type": "markdown",
   "id": "c28d9352",
   "metadata": {},
   "source": [
    "Some examples are given [here](https://api.census.gov/data/2015/acs/acs5/examples.html). \n",
    "\n",
    "Note that you don't need the API key for a small number of queries, so you can delete `&key=YOUR_KEY_GOES_HERE` from the examples. \n",
    "\n",
    "The FIPS code for California is `06` and for Los Angeles County `037`."
   ]
  },
  {
   "cell_type": "code",
   "execution_count": 64,
   "id": "2ab4a446",
   "metadata": {},
   "outputs": [
    {
     "data": {
      "text/html": [
       "<div>\n",
       "<style scoped>\n",
       "    .dataframe tbody tr th:only-of-type {\n",
       "        vertical-align: middle;\n",
       "    }\n",
       "\n",
       "    .dataframe tbody tr th {\n",
       "        vertical-align: top;\n",
       "    }\n",
       "\n",
       "    .dataframe thead th {\n",
       "        text-align: right;\n",
       "    }\n",
       "</style>\n",
       "<table border=\"1\" class=\"dataframe\">\n",
       "  <thead>\n",
       "    <tr style=\"text-align: right;\">\n",
       "      <th></th>\n",
       "      <th>population</th>\n",
       "      <th>state</th>\n",
       "      <th>county</th>\n",
       "      <th>tract</th>\n",
       "    </tr>\n",
       "  </thead>\n",
       "  <tbody>\n",
       "    <tr>\n",
       "      <th>0</th>\n",
       "      <td>5308</td>\n",
       "      <td>06</td>\n",
       "      <td>037</td>\n",
       "      <td>530102</td>\n",
       "    </tr>\n",
       "    <tr>\n",
       "      <th>1</th>\n",
       "      <td>3385</td>\n",
       "      <td>06</td>\n",
       "      <td>037</td>\n",
       "      <td>104610</td>\n",
       "    </tr>\n",
       "    <tr>\n",
       "      <th>2</th>\n",
       "      <td>5151</td>\n",
       "      <td>06</td>\n",
       "      <td>037</td>\n",
       "      <td>106510</td>\n",
       "    </tr>\n",
       "    <tr>\n",
       "      <th>3</th>\n",
       "      <td>2145</td>\n",
       "      <td>06</td>\n",
       "      <td>037</td>\n",
       "      <td>106641</td>\n",
       "    </tr>\n",
       "    <tr>\n",
       "      <th>4</th>\n",
       "      <td>4714</td>\n",
       "      <td>06</td>\n",
       "      <td>037</td>\n",
       "      <td>113213</td>\n",
       "    </tr>\n",
       "  </tbody>\n",
       "</table>\n",
       "</div>"
      ],
      "text/plain": [
       "  population state county   tract\n",
       "0       5308    06    037  530102\n",
       "1       3385    06    037  104610\n",
       "2       5151    06    037  106510\n",
       "3       2145    06    037  106641\n",
       "4       4714    06    037  113213"
      ]
     },
     "execution_count": 64,
     "metadata": {},
     "output_type": "execute_result"
    }
   ],
   "source": [
    "# your code here\n",
    "r_censuscounty = requests.get('https://api.census.gov/data/2015/acs/acs5?get=B01001_001E&for=tract:*&in=state:06&in=county:037')\n",
    "censusdata = r_censuscounty.json()\n",
    "df_censuscounty = pd.DataFrame(censusdata[1:], columns=censusdata[0])\n",
    "df_censuscounty.rename(columns = {'B01001_001E':'population'}, inplace=True)\n",
    "df_censuscounty.head()"
   ]
  },
  {
   "cell_type": "markdown",
   "id": "c5c945ea-895e-445d-9312-68f79fff4190",
   "metadata": {},
   "source": [
    "<div class=\"alert alert-block alert-success\"> <b>Response to Exersice</b> This code retrieved tract level data for 2015. We are using the census table B01001_001E, which is total population by sex. </div>"
   ]
  },
  {
   "cell_type": "markdown",
   "id": "52eb7f94",
   "metadata": {},
   "source": [
    "<div class=\"alert alert-block alert-info\">\n",
    "<strong>Exercise:</strong> Retrieve the census data for race/ethnicity for tracts in Los Angeles county, and put it in a pandas dataframe. \n",
    "</div>"
   ]
  },
  {
   "cell_type": "markdown",
   "id": "f80478ac",
   "metadata": {},
   "source": [
    "Hints:\n",
    "* The list of variables is [here](https://api.census.gov/data/2015/acs/acs5/variables.html).\n",
    "* The data is crosstabulated by race and age and gender. If you just want race/ethnicity, then look at the `Estimate!!Total:` variables. For example, `B01001H_001E` gives the total number of non-Hispanic white people, without further disaggregating by gender and age. \n",
    "* Start with the simplest measure of race. For example, you could calculate the proportion of Black people or non-Hispanic white people in each census tract, by dividing the relevant variable by the total population (which you already retrieved above).\n",
    "* You can request multiple variables at once - just separate them with commas. For example, `get=NAME,B01001_001E,B01001H_001E`. \n",
    "* `NAME` means that you are requesting the description of the geography - this is optional.\n"
   ]
  },
  {
   "cell_type": "markdown",
   "id": "6f0a5ec2-568b-4abf-8217-87de0ddc6bb4",
   "metadata": {},
   "source": [
    "<b> Exersice in progress</b> The tables we need\n",
    "| Table | Title | Race |\n",
    "| --- | --- | --- | \n",
    "| B01001B_001E | Estimate Sex by Age Total |  BLACK OR AFRICAN AMERICAN ALONE | \n",
    "| B01001C_001E | Estimate Sex by Age Total | AMERICAN INDIAN AND ALASKA NATIVE ALONE| \n",
    "| B01001D_001E | Estimate Sex by Age Total | ASIAN ALONE)| \n",
    "| B01001E_001E | Estimate Sex by Age Total | NATIVE HAWAIIAN AND OTHER PACIFIC ISLANDER ALONE| \n",
    "| B01001F_001E | Estimate Sex by Age Total | SOME OTHER RACE ALONE|\n",
    "| B01001G_001E | Estimate Sex by Age Total | TWO OR MORE RACES| \n",
    "| B01001H_001E | Estimate Sex by Age Total | WHITE ALONE, NOT HISPANIC OR LATINO| \n",
    "| B01001I_001E | Estimate Sex by Age Total | HISPANIC OR LATINO| \n"
   ]
  },
  {
   "cell_type": "code",
   "execution_count": 76,
   "id": "c0f92c9f-98d8-4b82-8028-e90611e6e62d",
   "metadata": {},
   "outputs": [
    {
     "data": {
      "text/html": [
       "<div>\n",
       "<style scoped>\n",
       "    .dataframe tbody tr th:only-of-type {\n",
       "        vertical-align: middle;\n",
       "    }\n",
       "\n",
       "    .dataframe tbody tr th {\n",
       "        vertical-align: top;\n",
       "    }\n",
       "\n",
       "    .dataframe thead th {\n",
       "        text-align: right;\n",
       "    }\n",
       "</style>\n",
       "<table border=\"1\" class=\"dataframe\">\n",
       "  <thead>\n",
       "    <tr style=\"text-align: right;\">\n",
       "      <th></th>\n",
       "      <th>B01001_001E</th>\n",
       "      <th>B01001B_001E</th>\n",
       "      <th>B01001C_001E</th>\n",
       "      <th>B01001D_001E</th>\n",
       "      <th>B01001E_001E</th>\n",
       "      <th>B01001F_001E</th>\n",
       "      <th>B01001G_001E</th>\n",
       "      <th>B01001H_001E</th>\n",
       "      <th>B01001I_001E</th>\n",
       "      <th>state</th>\n",
       "      <th>county</th>\n",
       "      <th>tract</th>\n",
       "    </tr>\n",
       "  </thead>\n",
       "  <tbody>\n",
       "    <tr>\n",
       "      <th>0</th>\n",
       "      <td>5308</td>\n",
       "      <td>60</td>\n",
       "      <td>69</td>\n",
       "      <td>330</td>\n",
       "      <td>0</td>\n",
       "      <td>606</td>\n",
       "      <td>230</td>\n",
       "      <td>957</td>\n",
       "      <td>3895</td>\n",
       "      <td>06</td>\n",
       "      <td>037</td>\n",
       "      <td>530102</td>\n",
       "    </tr>\n",
       "    <tr>\n",
       "      <th>1</th>\n",
       "      <td>3385</td>\n",
       "      <td>0</td>\n",
       "      <td>0</td>\n",
       "      <td>0</td>\n",
       "      <td>0</td>\n",
       "      <td>995</td>\n",
       "      <td>79</td>\n",
       "      <td>41</td>\n",
       "      <td>3339</td>\n",
       "      <td>06</td>\n",
       "      <td>037</td>\n",
       "      <td>104610</td>\n",
       "    </tr>\n",
       "    <tr>\n",
       "      <th>2</th>\n",
       "      <td>5151</td>\n",
       "      <td>270</td>\n",
       "      <td>0</td>\n",
       "      <td>304</td>\n",
       "      <td>0</td>\n",
       "      <td>877</td>\n",
       "      <td>115</td>\n",
       "      <td>966</td>\n",
       "      <td>3575</td>\n",
       "      <td>06</td>\n",
       "      <td>037</td>\n",
       "      <td>106510</td>\n",
       "    </tr>\n",
       "    <tr>\n",
       "      <th>3</th>\n",
       "      <td>2145</td>\n",
       "      <td>29</td>\n",
       "      <td>0</td>\n",
       "      <td>433</td>\n",
       "      <td>0</td>\n",
       "      <td>23</td>\n",
       "      <td>132</td>\n",
       "      <td>1350</td>\n",
       "      <td>231</td>\n",
       "      <td>06</td>\n",
       "      <td>037</td>\n",
       "      <td>106641</td>\n",
       "    </tr>\n",
       "    <tr>\n",
       "      <th>4</th>\n",
       "      <td>4714</td>\n",
       "      <td>169</td>\n",
       "      <td>7</td>\n",
       "      <td>708</td>\n",
       "      <td>0</td>\n",
       "      <td>722</td>\n",
       "      <td>347</td>\n",
       "      <td>2118</td>\n",
       "      <td>1433</td>\n",
       "      <td>06</td>\n",
       "      <td>037</td>\n",
       "      <td>113213</td>\n",
       "    </tr>\n",
       "  </tbody>\n",
       "</table>\n",
       "</div>"
      ],
      "text/plain": [
       "  B01001_001E B01001B_001E B01001C_001E B01001D_001E B01001E_001E   \n",
       "0        5308           60           69          330            0  \\\n",
       "1        3385            0            0            0            0   \n",
       "2        5151          270            0          304            0   \n",
       "3        2145           29            0          433            0   \n",
       "4        4714          169            7          708            0   \n",
       "\n",
       "  B01001F_001E B01001G_001E B01001H_001E B01001I_001E state county   tract  \n",
       "0          606          230          957         3895    06    037  530102  \n",
       "1          995           79           41         3339    06    037  104610  \n",
       "2          877          115          966         3575    06    037  106510  \n",
       "3           23          132         1350          231    06    037  106641  \n",
       "4          722          347         2118         1433    06    037  113213  "
      ]
     },
     "execution_count": 76,
     "metadata": {},
     "output_type": "execute_result"
    }
   ],
   "source": [
    "# your code here\n",
    "r_racetract= requests.get('https://api.census.gov/data/2015/acs/acs5?get=B01001_001E,B01001B_001E,B01001C_001E,B01001D_001E,B01001E_001E,B01001F_001E,B01001G_001E,B01001H_001E,B01001I_001E&for=tract:*&in=state:06&in=county:037')\n",
    "census_racetract = r_racetract.json()\n",
    "df_racetract = pd.DataFrame(census_racetract[1:], columns=census_racetract[0])\n",
    "df_racetract.head()\n"
   ]
  },
  {
   "cell_type": "markdown",
   "id": "39eec118-4b25-44dc-81fb-072c54924f76",
   "metadata": {},
   "source": [
    "r = requests.get('https://api.census.gov/data/2015/acs/acs5?get=B00001_001E,B01001I_001E,B01001A_001E,B01001B_001E,B01001D_001E,B01001E_001E,B01001F_001E&for=tract:*&in=state:06&in=county:037')\n",
    "censusdata = r.json()\n",
    "df = pd.DataFrame(censusdata[1:], columns=censusdata[0])\n",
    "df.head()\n"
   ]
  },
  {
   "cell_type": "code",
   "execution_count": 77,
   "id": "65adf9f8-4d72-4df6-b9ea-fa8050616e54",
   "metadata": {},
   "outputs": [
    {
     "data": {
      "text/html": [
       "<div>\n",
       "<style scoped>\n",
       "    .dataframe tbody tr th:only-of-type {\n",
       "        vertical-align: middle;\n",
       "    }\n",
       "\n",
       "    .dataframe tbody tr th {\n",
       "        vertical-align: top;\n",
       "    }\n",
       "\n",
       "    .dataframe thead th {\n",
       "        text-align: right;\n",
       "    }\n",
       "</style>\n",
       "<table border=\"1\" class=\"dataframe\">\n",
       "  <thead>\n",
       "    <tr style=\"text-align: right;\">\n",
       "      <th></th>\n",
       "      <th>Total Population</th>\n",
       "      <th>Black</th>\n",
       "      <th>AN/AN</th>\n",
       "      <th>Asian</th>\n",
       "      <th>NHPI</th>\n",
       "      <th>Other Races</th>\n",
       "      <th>Two or more Races</th>\n",
       "      <th>Non-Hispanic White</th>\n",
       "      <th>Hispanic</th>\n",
       "      <th>state</th>\n",
       "      <th>county</th>\n",
       "      <th>tract</th>\n",
       "    </tr>\n",
       "  </thead>\n",
       "  <tbody>\n",
       "    <tr>\n",
       "      <th>0</th>\n",
       "      <td>5308</td>\n",
       "      <td>60</td>\n",
       "      <td>69</td>\n",
       "      <td>330</td>\n",
       "      <td>0</td>\n",
       "      <td>606</td>\n",
       "      <td>230</td>\n",
       "      <td>957</td>\n",
       "      <td>3895</td>\n",
       "      <td>06</td>\n",
       "      <td>037</td>\n",
       "      <td>530102</td>\n",
       "    </tr>\n",
       "    <tr>\n",
       "      <th>1</th>\n",
       "      <td>3385</td>\n",
       "      <td>0</td>\n",
       "      <td>0</td>\n",
       "      <td>0</td>\n",
       "      <td>0</td>\n",
       "      <td>995</td>\n",
       "      <td>79</td>\n",
       "      <td>41</td>\n",
       "      <td>3339</td>\n",
       "      <td>06</td>\n",
       "      <td>037</td>\n",
       "      <td>104610</td>\n",
       "    </tr>\n",
       "    <tr>\n",
       "      <th>2</th>\n",
       "      <td>5151</td>\n",
       "      <td>270</td>\n",
       "      <td>0</td>\n",
       "      <td>304</td>\n",
       "      <td>0</td>\n",
       "      <td>877</td>\n",
       "      <td>115</td>\n",
       "      <td>966</td>\n",
       "      <td>3575</td>\n",
       "      <td>06</td>\n",
       "      <td>037</td>\n",
       "      <td>106510</td>\n",
       "    </tr>\n",
       "    <tr>\n",
       "      <th>3</th>\n",
       "      <td>2145</td>\n",
       "      <td>29</td>\n",
       "      <td>0</td>\n",
       "      <td>433</td>\n",
       "      <td>0</td>\n",
       "      <td>23</td>\n",
       "      <td>132</td>\n",
       "      <td>1350</td>\n",
       "      <td>231</td>\n",
       "      <td>06</td>\n",
       "      <td>037</td>\n",
       "      <td>106641</td>\n",
       "    </tr>\n",
       "    <tr>\n",
       "      <th>4</th>\n",
       "      <td>4714</td>\n",
       "      <td>169</td>\n",
       "      <td>7</td>\n",
       "      <td>708</td>\n",
       "      <td>0</td>\n",
       "      <td>722</td>\n",
       "      <td>347</td>\n",
       "      <td>2118</td>\n",
       "      <td>1433</td>\n",
       "      <td>06</td>\n",
       "      <td>037</td>\n",
       "      <td>113213</td>\n",
       "    </tr>\n",
       "  </tbody>\n",
       "</table>\n",
       "</div>"
      ],
      "text/plain": [
       "  Total Population Black AN/AN Asian NHPI Other Races Two or more Races   \n",
       "0             5308    60    69   330    0         606               230  \\\n",
       "1             3385     0     0     0    0         995                79   \n",
       "2             5151   270     0   304    0         877               115   \n",
       "3             2145    29     0   433    0          23               132   \n",
       "4             4714   169     7   708    0         722               347   \n",
       "\n",
       "  Non-Hispanic White Hispanic state county   tract  \n",
       "0                957     3895    06    037  530102  \n",
       "1                 41     3339    06    037  104610  \n",
       "2                966     3575    06    037  106510  \n",
       "3               1350      231    06    037  106641  \n",
       "4               2118     1433    06    037  113213  "
      ]
     },
     "execution_count": 77,
     "metadata": {},
     "output_type": "execute_result"
    }
   ],
   "source": [
    "df_racetract.rename(columns = {'B01001_001E':'Total Population',\n",
    "                     'B01001B_001E':'Black',\n",
    "                     'B01001C_001E':'AN/AN',\n",
    "                     'B01001D_001E':'Asian',\n",
    "                     'B01001E_001E':'NHPI',\n",
    "                     'B01001F_001E':'Other Races',\n",
    "                     'B01001G_001E':'Two or more Races',\n",
    "                     'B01001I_001E':'Hispanic',\n",
    "                     'B01001H_001E':'Non-Hispanic White',}, inplace=True)\n",
    "df_racetract.head()"
   ]
  },
  {
   "cell_type": "code",
   "execution_count": 78,
   "id": "517e2ac4-fbc1-4daf-8adf-df5a1ac6b376",
   "metadata": {},
   "outputs": [
    {
     "data": {
      "text/plain": [
       "Index(['Total Population', 'Black', 'AN/AN', 'Asian', 'NHPI', 'Other Races',\n",
       "       'Two or more Races', 'Non-Hispanic White', 'Hispanic', 'state',\n",
       "       'county', 'tract'],\n",
       "      dtype='object')"
      ]
     },
     "execution_count": 78,
     "metadata": {},
     "output_type": "execute_result"
    }
   ],
   "source": [
    "df_racetract.columns"
   ]
  },
  {
   "cell_type": "code",
   "execution_count": 79,
   "id": "d545d8b2-e81a-46bd-b2a6-dcc0a631c8d3",
   "metadata": {},
   "outputs": [],
   "source": [
    "col=['Total Population', 'Black', 'AN/AN', 'Asian', 'NHPI', 'Other Races',\n",
    "       'Two or more Races', 'Non-Hispanic White',\n",
    "       'Hispanic']"
   ]
  },
  {
   "cell_type": "code",
   "execution_count": 80,
   "id": "7288433a-dab2-42a0-9b93-21b34296810e",
   "metadata": {},
   "outputs": [
    {
     "name": "stdout",
     "output_type": "stream",
     "text": [
      "<class 'pandas.core.frame.DataFrame'>\n",
      "RangeIndex: 2346 entries, 0 to 2345\n",
      "Data columns (total 12 columns):\n",
      " #   Column              Non-Null Count  Dtype \n",
      "---  ------              --------------  ----- \n",
      " 0   Total Population    2346 non-null   object\n",
      " 1   Black               2346 non-null   object\n",
      " 2   AN/AN               2346 non-null   object\n",
      " 3   Asian               2346 non-null   object\n",
      " 4   NHPI                2346 non-null   object\n",
      " 5   Other Races         2346 non-null   object\n",
      " 6   Two or more Races   2346 non-null   object\n",
      " 7   Non-Hispanic White  2346 non-null   object\n",
      " 8   Hispanic            2346 non-null   object\n",
      " 9   state               2346 non-null   object\n",
      " 10  county              2346 non-null   object\n",
      " 11  tract               2346 non-null   object\n",
      "dtypes: object(12)\n",
      "memory usage: 220.1+ KB\n"
     ]
    }
   ],
   "source": [
    "df_racetract.info()"
   ]
  },
  {
   "cell_type": "code",
   "execution_count": 81,
   "id": "acd65f78-307b-422f-a332-fd623b547499",
   "metadata": {},
   "outputs": [
    {
     "name": "stdout",
     "output_type": "stream",
     "text": [
      "<class 'pandas.core.frame.DataFrame'>\n",
      "RangeIndex: 2346 entries, 0 to 2345\n",
      "Data columns (total 12 columns):\n",
      " #   Column              Non-Null Count  Dtype  \n",
      "---  ------              --------------  -----  \n",
      " 0   Total Population    2346 non-null   float64\n",
      " 1   Black               2346 non-null   float64\n",
      " 2   AN/AN               2346 non-null   float64\n",
      " 3   Asian               2346 non-null   float64\n",
      " 4   NHPI                2346 non-null   float64\n",
      " 5   Other Races         2346 non-null   float64\n",
      " 6   Two or more Races   2346 non-null   float64\n",
      " 7   Non-Hispanic White  2346 non-null   float64\n",
      " 8   Hispanic            2346 non-null   float64\n",
      " 9   state               2346 non-null   object \n",
      " 10  county              2346 non-null   object \n",
      " 11  tract               2346 non-null   object \n",
      "dtypes: float64(9), object(3)\n",
      "memory usage: 220.1+ KB\n"
     ]
    }
   ],
   "source": [
    "for i in col:\n",
    "    df_racetract[i]=df_racetract[i].astype(float)\n",
    "df_racetract.info()"
   ]
  },
  {
   "cell_type": "code",
   "execution_count": 82,
   "id": "1be77907-2a86-4922-a609-a464058356da",
   "metadata": {},
   "outputs": [],
   "source": [
    "def createpercentage(df, col):\n",
    "    for x in col:\n",
    "        df[(\"Percent \" + x)] = df[x]/df[\"Total Population\"]*100\n",
    "        print(x, \"Completed\")\n",
    "# df['proportion_white']=df['White only']/df['population']\n",
    "#df['proportion_black']=df['Black only']/df['population']\n",
    "#df.head()"
   ]
  },
  {
   "cell_type": "code",
   "execution_count": 83,
   "id": "035d98f7-215f-4c70-a8c2-83c47bbd28ad",
   "metadata": {},
   "outputs": [
    {
     "name": "stdout",
     "output_type": "stream",
     "text": [
      "Total Population Completed\n",
      "Black Completed\n",
      "AN/AN Completed\n",
      "Asian Completed\n",
      "NHPI Completed\n",
      "Other Races Completed\n",
      "Two or more Races Completed\n",
      "Non-Hispanic White Completed\n",
      "Hispanic Completed\n"
     ]
    }
   ],
   "source": [
    "createpercentage(df_racetract, col)"
   ]
  },
  {
   "cell_type": "code",
   "execution_count": 84,
   "id": "600e553c-162c-4e34-90d2-79c2e032bddf",
   "metadata": {},
   "outputs": [
    {
     "data": {
      "text/html": [
       "<div>\n",
       "<style scoped>\n",
       "    .dataframe tbody tr th:only-of-type {\n",
       "        vertical-align: middle;\n",
       "    }\n",
       "\n",
       "    .dataframe tbody tr th {\n",
       "        vertical-align: top;\n",
       "    }\n",
       "\n",
       "    .dataframe thead th {\n",
       "        text-align: right;\n",
       "    }\n",
       "</style>\n",
       "<table border=\"1\" class=\"dataframe\">\n",
       "  <thead>\n",
       "    <tr style=\"text-align: right;\">\n",
       "      <th></th>\n",
       "      <th>Total Population</th>\n",
       "      <th>Black</th>\n",
       "      <th>AN/AN</th>\n",
       "      <th>Asian</th>\n",
       "      <th>NHPI</th>\n",
       "      <th>Other Races</th>\n",
       "      <th>Two or more Races</th>\n",
       "      <th>Non-Hispanic White</th>\n",
       "      <th>Hispanic</th>\n",
       "      <th>state</th>\n",
       "      <th>...</th>\n",
       "      <th>tract</th>\n",
       "      <th>Percent Total Population</th>\n",
       "      <th>Percent Black</th>\n",
       "      <th>Percent AN/AN</th>\n",
       "      <th>Percent Asian</th>\n",
       "      <th>Percent NHPI</th>\n",
       "      <th>Percent Other Races</th>\n",
       "      <th>Percent Two or more Races</th>\n",
       "      <th>Percent Non-Hispanic White</th>\n",
       "      <th>Percent Hispanic</th>\n",
       "    </tr>\n",
       "  </thead>\n",
       "  <tbody>\n",
       "    <tr>\n",
       "      <th>0</th>\n",
       "      <td>5308.0</td>\n",
       "      <td>60.0</td>\n",
       "      <td>69.0</td>\n",
       "      <td>330.0</td>\n",
       "      <td>0.0</td>\n",
       "      <td>606.0</td>\n",
       "      <td>230.0</td>\n",
       "      <td>957.0</td>\n",
       "      <td>3895.0</td>\n",
       "      <td>06</td>\n",
       "      <td>...</td>\n",
       "      <td>530102</td>\n",
       "      <td>100.0</td>\n",
       "      <td>1.130369</td>\n",
       "      <td>1.299925</td>\n",
       "      <td>6.217031</td>\n",
       "      <td>0.0</td>\n",
       "      <td>11.416729</td>\n",
       "      <td>4.333082</td>\n",
       "      <td>18.029390</td>\n",
       "      <td>73.379804</td>\n",
       "    </tr>\n",
       "    <tr>\n",
       "      <th>1</th>\n",
       "      <td>3385.0</td>\n",
       "      <td>0.0</td>\n",
       "      <td>0.0</td>\n",
       "      <td>0.0</td>\n",
       "      <td>0.0</td>\n",
       "      <td>995.0</td>\n",
       "      <td>79.0</td>\n",
       "      <td>41.0</td>\n",
       "      <td>3339.0</td>\n",
       "      <td>06</td>\n",
       "      <td>...</td>\n",
       "      <td>104610</td>\n",
       "      <td>100.0</td>\n",
       "      <td>0.000000</td>\n",
       "      <td>0.000000</td>\n",
       "      <td>0.000000</td>\n",
       "      <td>0.0</td>\n",
       "      <td>29.394387</td>\n",
       "      <td>2.333826</td>\n",
       "      <td>1.211226</td>\n",
       "      <td>98.641064</td>\n",
       "    </tr>\n",
       "    <tr>\n",
       "      <th>2</th>\n",
       "      <td>5151.0</td>\n",
       "      <td>270.0</td>\n",
       "      <td>0.0</td>\n",
       "      <td>304.0</td>\n",
       "      <td>0.0</td>\n",
       "      <td>877.0</td>\n",
       "      <td>115.0</td>\n",
       "      <td>966.0</td>\n",
       "      <td>3575.0</td>\n",
       "      <td>06</td>\n",
       "      <td>...</td>\n",
       "      <td>106510</td>\n",
       "      <td>100.0</td>\n",
       "      <td>5.241701</td>\n",
       "      <td>0.000000</td>\n",
       "      <td>5.901767</td>\n",
       "      <td>0.0</td>\n",
       "      <td>17.025820</td>\n",
       "      <td>2.232576</td>\n",
       "      <td>18.753640</td>\n",
       "      <td>69.403999</td>\n",
       "    </tr>\n",
       "    <tr>\n",
       "      <th>3</th>\n",
       "      <td>2145.0</td>\n",
       "      <td>29.0</td>\n",
       "      <td>0.0</td>\n",
       "      <td>433.0</td>\n",
       "      <td>0.0</td>\n",
       "      <td>23.0</td>\n",
       "      <td>132.0</td>\n",
       "      <td>1350.0</td>\n",
       "      <td>231.0</td>\n",
       "      <td>06</td>\n",
       "      <td>...</td>\n",
       "      <td>106641</td>\n",
       "      <td>100.0</td>\n",
       "      <td>1.351981</td>\n",
       "      <td>0.000000</td>\n",
       "      <td>20.186480</td>\n",
       "      <td>0.0</td>\n",
       "      <td>1.072261</td>\n",
       "      <td>6.153846</td>\n",
       "      <td>62.937063</td>\n",
       "      <td>10.769231</td>\n",
       "    </tr>\n",
       "    <tr>\n",
       "      <th>4</th>\n",
       "      <td>4714.0</td>\n",
       "      <td>169.0</td>\n",
       "      <td>7.0</td>\n",
       "      <td>708.0</td>\n",
       "      <td>0.0</td>\n",
       "      <td>722.0</td>\n",
       "      <td>347.0</td>\n",
       "      <td>2118.0</td>\n",
       "      <td>1433.0</td>\n",
       "      <td>06</td>\n",
       "      <td>...</td>\n",
       "      <td>113213</td>\n",
       "      <td>100.0</td>\n",
       "      <td>3.585066</td>\n",
       "      <td>0.148494</td>\n",
       "      <td>15.019092</td>\n",
       "      <td>0.0</td>\n",
       "      <td>15.316080</td>\n",
       "      <td>7.361052</td>\n",
       "      <td>44.929996</td>\n",
       "      <td>30.398812</td>\n",
       "    </tr>\n",
       "  </tbody>\n",
       "</table>\n",
       "<p>5 rows × 21 columns</p>\n",
       "</div>"
      ],
      "text/plain": [
       "   Total Population  Black  AN/AN  Asian  NHPI  Other Races   \n",
       "0            5308.0   60.0   69.0  330.0   0.0        606.0  \\\n",
       "1            3385.0    0.0    0.0    0.0   0.0        995.0   \n",
       "2            5151.0  270.0    0.0  304.0   0.0        877.0   \n",
       "3            2145.0   29.0    0.0  433.0   0.0         23.0   \n",
       "4            4714.0  169.0    7.0  708.0   0.0        722.0   \n",
       "\n",
       "   Two or more Races  Non-Hispanic White  Hispanic state  ...   tract   \n",
       "0              230.0               957.0    3895.0    06  ...  530102  \\\n",
       "1               79.0                41.0    3339.0    06  ...  104610   \n",
       "2              115.0               966.0    3575.0    06  ...  106510   \n",
       "3              132.0              1350.0     231.0    06  ...  106641   \n",
       "4              347.0              2118.0    1433.0    06  ...  113213   \n",
       "\n",
       "  Percent Total Population  Percent Black  Percent AN/AN  Percent Asian   \n",
       "0                    100.0       1.130369       1.299925       6.217031  \\\n",
       "1                    100.0       0.000000       0.000000       0.000000   \n",
       "2                    100.0       5.241701       0.000000       5.901767   \n",
       "3                    100.0       1.351981       0.000000      20.186480   \n",
       "4                    100.0       3.585066       0.148494      15.019092   \n",
       "\n",
       "   Percent NHPI  Percent Other Races  Percent Two or more Races   \n",
       "0           0.0            11.416729                   4.333082  \\\n",
       "1           0.0            29.394387                   2.333826   \n",
       "2           0.0            17.025820                   2.232576   \n",
       "3           0.0             1.072261                   6.153846   \n",
       "4           0.0            15.316080                   7.361052   \n",
       "\n",
       "   Percent Non-Hispanic White  Percent Hispanic  \n",
       "0                   18.029390         73.379804  \n",
       "1                    1.211226         98.641064  \n",
       "2                   18.753640         69.403999  \n",
       "3                   62.937063         10.769231  \n",
       "4                   44.929996         30.398812  \n",
       "\n",
       "[5 rows x 21 columns]"
      ]
     },
     "execution_count": 84,
     "metadata": {},
     "output_type": "execute_result"
    }
   ],
   "source": [
    "df_racetract.head()"
   ]
  },
  {
   "cell_type": "code",
   "execution_count": 133,
   "id": "2e403577-97c1-4136-a622-583fbb115457",
   "metadata": {},
   "outputs": [
    {
     "data": {
      "text/html": [
       "<div>\n",
       "<style scoped>\n",
       "    .dataframe tbody tr th:only-of-type {\n",
       "        vertical-align: middle;\n",
       "    }\n",
       "\n",
       "    .dataframe tbody tr th {\n",
       "        vertical-align: top;\n",
       "    }\n",
       "\n",
       "    .dataframe thead th {\n",
       "        text-align: right;\n",
       "    }\n",
       "</style>\n",
       "<table border=\"1\" class=\"dataframe\">\n",
       "  <thead>\n",
       "    <tr style=\"text-align: right;\">\n",
       "      <th></th>\n",
       "      <th>state</th>\n",
       "      <th>county</th>\n",
       "      <th>tract</th>\n",
       "      <th>Percent Total Population</th>\n",
       "      <th>Percent Black</th>\n",
       "      <th>Percent AN/AN</th>\n",
       "      <th>Percent Asian</th>\n",
       "      <th>Percent NHPI</th>\n",
       "      <th>Percent Other Races</th>\n",
       "      <th>Percent Two or more Races</th>\n",
       "      <th>Percent Non-Hispanic White</th>\n",
       "      <th>Percent Hispanic</th>\n",
       "    </tr>\n",
       "  </thead>\n",
       "  <tbody>\n",
       "    <tr>\n",
       "      <th>2150</th>\n",
       "      <td>06</td>\n",
       "      <td>037</td>\n",
       "      <td>102107</td>\n",
       "      <td>100.0</td>\n",
       "      <td>1.398779</td>\n",
       "      <td>0.203459</td>\n",
       "      <td>16.505595</td>\n",
       "      <td>0.406918</td>\n",
       "      <td>5.340793</td>\n",
       "      <td>1.780264</td>\n",
       "      <td>55.035605</td>\n",
       "      <td>25.686673</td>\n",
       "    </tr>\n",
       "  </tbody>\n",
       "</table>\n",
       "</div>"
      ],
      "text/plain": [
       "     state county   tract  Percent Total Population  Percent Black   \n",
       "2150    06    037  102107                     100.0       1.398779  \\\n",
       "\n",
       "      Percent AN/AN  Percent Asian  Percent NHPI  Percent Other Races   \n",
       "2150       0.203459      16.505595      0.406918             5.340793  \\\n",
       "\n",
       "      Percent Two or more Races  Percent Non-Hispanic White  Percent Hispanic  \n",
       "2150                   1.780264                   55.035605         25.686673  "
      ]
     },
     "execution_count": 133,
     "metadata": {},
     "output_type": "execute_result"
    }
   ],
   "source": [
    "df_sample=df_racetract.sample(1)\n",
    "#df_sample=df_sample.set_axis([df_sample.loc[:,'tract']], axis='index')\n",
    "df_sample=df_sample.drop(columns=col)\n",
    "#tract=df_sample.at[:,'tract']\n",
    "#tract\n",
    "df_sample=df_sample.drop(columns=['state', 'county', 'tract', 'Percent Total Population'])\n"
   ]
  },
  {
   "cell_type": "code",
   "execution_count": 154,
   "id": "209d064e-1de5-42f5-b70e-cee9c0184554",
   "metadata": {},
   "outputs": [
    {
     "data": {
      "image/png": "[encoded data removed]",
      "text/plain": [
       "<Figure size 500x500 with 1 Axes>"
      ]
     },
     "metadata": {},
     "output_type": "display_data"
    }
   ],
   "source": [
    "df_transpose=df_sample.transpose()\n",
    "plot = df_transpose.plot.pie(y=2150, figsize=(5, 5))\n",
    "\n",
    "#df_transpose.rename(columns = {'2150':'population'},inplace=True) \n",
    "\n",
    "#df_censuscounty.rename(columns = {'B01001_001E':'population'}, inplace=True)\n",
    "#df_transpose"
   ]
  },
  {
   "cell_type": "markdown",
   "id": "c96f0fcb-1c9a-4e5d-8f4c-6f031a9de01a",
   "metadata": {},
   "source": [
    "<div class=\"alert alert-block alert-success\">\n",
    "    <strong>Response to Exercise:</strong> We have mapped the population composition for one census tract. We can similarly do it for others, or get proportion of a particular race in a tract.\n",
    "</div>"
   ]
  },
  {
   "cell_type": "markdown",
   "id": "dd44cdb0",
   "metadata": {},
   "source": [
    "<div class=\"alert alert-block alert-info\">\n",
    "    <strong>Exercise:</strong> Now do the same using <strong>cenpy</strong>.\n",
    "</div>"
   ]
  },
  {
   "cell_type": "markdown",
   "id": "9b9c37b6",
   "metadata": {},
   "source": [
    "Here's the relevant example from the lecture. Note if you want multiple variables, you can pass them as a list. For example: `variables=['B25035_001E','B01001H_001E']`.\n"
   ]
  },
  {
   "cell_type": "code",
   "execution_count": 155,
   "id": "d733a7a1",
   "metadata": {},
   "outputs": [
    {
     "name": "stderr",
     "output_type": "stream",
     "text": [
      "/Users/chaithra/opt/anaconda3/envs/uds/lib/python3.10/site-packages/cenpy/products.py:762: FutureWarning: The `op` parameter is deprecated and will be removed in a future release. Please use the `predicate` parameter instead.\n",
      "  return self._from_name(county, variables, level, \"Counties\", **kwargs)\n"
     ]
    },
    {
     "data": {
      "text/html": [
       "<div>\n",
       "<style scoped>\n",
       "    .dataframe tbody tr th:only-of-type {\n",
       "        vertical-align: middle;\n",
       "    }\n",
       "\n",
       "    .dataframe tbody tr th {\n",
       "        vertical-align: top;\n",
       "    }\n",
       "\n",
       "    .dataframe thead th {\n",
       "        text-align: right;\n",
       "    }\n",
       "</style>\n",
       "<table border=\"1\" class=\"dataframe\">\n",
       "  <thead>\n",
       "    <tr style=\"text-align: right;\">\n",
       "      <th></th>\n",
       "      <th>GEOID</th>\n",
       "      <th>geometry</th>\n",
       "      <th>B25035_001E</th>\n",
       "      <th>NAME</th>\n",
       "      <th>state</th>\n",
       "      <th>county</th>\n",
       "      <th>tract</th>\n",
       "    </tr>\n",
       "  </thead>\n",
       "  <tbody>\n",
       "    <tr>\n",
       "      <th>0</th>\n",
       "      <td>06065043272</td>\n",
       "      <td>POLYGON ((-13065671.600 3960598.630, -13065249...</td>\n",
       "      <td>1998.0</td>\n",
       "      <td>Census Tract 432.72, Riverside County, California</td>\n",
       "      <td>06</td>\n",
       "      <td>065</td>\n",
       "      <td>043272</td>\n",
       "    </tr>\n",
       "    <tr>\n",
       "      <th>1</th>\n",
       "      <td>06065043228</td>\n",
       "      <td>POLYGON ((-13049247.080 3972238.770, -13049240...</td>\n",
       "      <td>1994.0</td>\n",
       "      <td>Census Tract 432.28, Riverside County, California</td>\n",
       "      <td>06</td>\n",
       "      <td>065</td>\n",
       "      <td>043228</td>\n",
       "    </tr>\n",
       "    <tr>\n",
       "      <th>2</th>\n",
       "      <td>06065049800</td>\n",
       "      <td>POLYGON ((-13049262.000 3968743.130, -13049219...</td>\n",
       "      <td>2002.0</td>\n",
       "      <td>Census Tract 498, Riverside County, California</td>\n",
       "      <td>06</td>\n",
       "      <td>065</td>\n",
       "      <td>049800</td>\n",
       "    </tr>\n",
       "    <tr>\n",
       "      <th>3</th>\n",
       "      <td>06065042724</td>\n",
       "      <td>POLYGON ((-13041627.930 3988180.970, -13041627...</td>\n",
       "      <td>NaN</td>\n",
       "      <td>Census Tract 427.24, Riverside County, California</td>\n",
       "      <td>06</td>\n",
       "      <td>065</td>\n",
       "      <td>042724</td>\n",
       "    </tr>\n",
       "    <tr>\n",
       "      <th>4</th>\n",
       "      <td>06065049600</td>\n",
       "      <td>POLYGON ((-13043644.370 3966850.670, -13043615...</td>\n",
       "      <td>2003.0</td>\n",
       "      <td>Census Tract 496, Riverside County, California</td>\n",
       "      <td>06</td>\n",
       "      <td>065</td>\n",
       "      <td>049600</td>\n",
       "    </tr>\n",
       "  </tbody>\n",
       "</table>\n",
       "</div>"
      ],
      "text/plain": [
       "         GEOID                                           geometry   \n",
       "0  06065043272  POLYGON ((-13065671.600 3960598.630, -13065249...  \\\n",
       "1  06065043228  POLYGON ((-13049247.080 3972238.770, -13049240...   \n",
       "2  06065049800  POLYGON ((-13049262.000 3968743.130, -13049219...   \n",
       "3  06065042724  POLYGON ((-13041627.930 3988180.970, -13041627...   \n",
       "4  06065049600  POLYGON ((-13043644.370 3966850.670, -13043615...   \n",
       "\n",
       "   B25035_001E                                               NAME state   \n",
       "0       1998.0  Census Tract 432.72, Riverside County, California    06  \\\n",
       "1       1994.0  Census Tract 432.28, Riverside County, California    06   \n",
       "2       2002.0     Census Tract 498, Riverside County, California    06   \n",
       "3          NaN  Census Tract 427.24, Riverside County, California    06   \n",
       "4       2003.0     Census Tract 496, Riverside County, California    06   \n",
       "\n",
       "  county   tract  \n",
       "0    065  043272  \n",
       "1    065  043228  \n",
       "2    065  049800  \n",
       "3    065  042724  \n",
       "4    065  049600  "
      ]
     },
     "execution_count": 155,
     "metadata": {},
     "output_type": "execute_result"
    }
   ],
   "source": [
    "import cenpy\n",
    "from cenpy import products\n",
    "\n",
    "# create a connection to the American Community Survey\n",
    "acs = cenpy.products.ACS()\n",
    "riverside = products.ACS(2017).from_county('Riverside, CA', level='tract',\n",
    "                                        variables='B25035_001E')\n",
    "riverside.head()"
   ]
  },
  {
   "cell_type": "code",
   "execution_count": 160,
   "id": "56605431-e01f-4c99-bfe3-7ed7dcd08ef3",
   "metadata": {},
   "outputs": [
    {
     "name": "stderr",
     "output_type": "stream",
     "text": [
      "/Users/chaithra/opt/anaconda3/envs/uds/lib/python3.10/site-packages/cenpy/products.py:762: FutureWarning: The `op` parameter is deprecated and will be removed in a future release. Please use the `predicate` parameter instead.\n",
      "  return self._from_name(county, variables, level, \"Counties\", **kwargs)\n"
     ]
    },
    {
     "data": {
      "text/html": [
       "<div>\n",
       "<style scoped>\n",
       "    .dataframe tbody tr th:only-of-type {\n",
       "        vertical-align: middle;\n",
       "    }\n",
       "\n",
       "    .dataframe tbody tr th {\n",
       "        vertical-align: top;\n",
       "    }\n",
       "\n",
       "    .dataframe thead th {\n",
       "        text-align: right;\n",
       "    }\n",
       "</style>\n",
       "<table border=\"1\" class=\"dataframe\">\n",
       "  <thead>\n",
       "    <tr style=\"text-align: right;\">\n",
       "      <th></th>\n",
       "      <th>GEOID</th>\n",
       "      <th>geometry</th>\n",
       "      <th>Black</th>\n",
       "      <th>AN/AN</th>\n",
       "      <th>Asian</th>\n",
       "      <th>NHPI</th>\n",
       "      <th>Other Races</th>\n",
       "      <th>Two or more Races</th>\n",
       "      <th>Non-Hispanic White</th>\n",
       "      <th>Hispanic</th>\n",
       "      <th>Total Population</th>\n",
       "      <th>NAME</th>\n",
       "      <th>state</th>\n",
       "      <th>county</th>\n",
       "      <th>tract</th>\n",
       "    </tr>\n",
       "  </thead>\n",
       "  <tbody>\n",
       "    <tr>\n",
       "      <th>0</th>\n",
       "      <td>06037670324</td>\n",
       "      <td>POLYGON ((-13181622.320 4001604.410, -13181397...</td>\n",
       "      <td>22.0</td>\n",
       "      <td>0.0</td>\n",
       "      <td>740.0</td>\n",
       "      <td>0.0</td>\n",
       "      <td>13.0</td>\n",
       "      <td>306.0</td>\n",
       "      <td>3687.0</td>\n",
       "      <td>513.0</td>\n",
       "      <td>5167.0</td>\n",
       "      <td>Census Tract 6703.24, Los Angeles County, Cali...</td>\n",
       "      <td>06</td>\n",
       "      <td>037</td>\n",
       "      <td>670324</td>\n",
       "    </tr>\n",
       "    <tr>\n",
       "      <th>1</th>\n",
       "      <td>06037670500</td>\n",
       "      <td>POLYGON ((-13176441.290 3996934.430, -13176429...</td>\n",
       "      <td>11.0</td>\n",
       "      <td>4.0</td>\n",
       "      <td>281.0</td>\n",
       "      <td>0.0</td>\n",
       "      <td>19.0</td>\n",
       "      <td>75.0</td>\n",
       "      <td>1224.0</td>\n",
       "      <td>106.0</td>\n",
       "      <td>1684.0</td>\n",
       "      <td>Census Tract 6705, Los Angeles County, California</td>\n",
       "      <td>06</td>\n",
       "      <td>037</td>\n",
       "      <td>670500</td>\n",
       "    </tr>\n",
       "    <tr>\n",
       "      <th>2</th>\n",
       "      <td>06037651101</td>\n",
       "      <td>POLYGON ((-13174776.060 4002986.790, -13174774...</td>\n",
       "      <td>46.0</td>\n",
       "      <td>16.0</td>\n",
       "      <td>2382.0</td>\n",
       "      <td>6.0</td>\n",
       "      <td>222.0</td>\n",
       "      <td>216.0</td>\n",
       "      <td>2191.0</td>\n",
       "      <td>639.0</td>\n",
       "      <td>5414.0</td>\n",
       "      <td>Census Tract 6511.01, Los Angeles County, Cali...</td>\n",
       "      <td>06</td>\n",
       "      <td>037</td>\n",
       "      <td>651101</td>\n",
       "    </tr>\n",
       "    <tr>\n",
       "      <th>3</th>\n",
       "      <td>06037297400</td>\n",
       "      <td>POLYGON ((-13172981.590 3990813.920, -13172775...</td>\n",
       "      <td>96.0</td>\n",
       "      <td>0.0</td>\n",
       "      <td>198.0</td>\n",
       "      <td>0.0</td>\n",
       "      <td>66.0</td>\n",
       "      <td>152.0</td>\n",
       "      <td>2357.0</td>\n",
       "      <td>984.0</td>\n",
       "      <td>3701.0</td>\n",
       "      <td>Census Tract 2974, Los Angeles County, California</td>\n",
       "      <td>06</td>\n",
       "      <td>037</td>\n",
       "      <td>297400</td>\n",
       "    </tr>\n",
       "    <tr>\n",
       "      <th>4</th>\n",
       "      <td>06037670100</td>\n",
       "      <td>POLYGON ((-13172288.180 4000326.940, -13172287...</td>\n",
       "      <td>438.0</td>\n",
       "      <td>54.0</td>\n",
       "      <td>1056.0</td>\n",
       "      <td>0.0</td>\n",
       "      <td>629.0</td>\n",
       "      <td>531.0</td>\n",
       "      <td>2943.0</td>\n",
       "      <td>2173.0</td>\n",
       "      <td>7001.0</td>\n",
       "      <td>Census Tract 6701, Los Angeles County, California</td>\n",
       "      <td>06</td>\n",
       "      <td>037</td>\n",
       "      <td>670100</td>\n",
       "    </tr>\n",
       "  </tbody>\n",
       "</table>\n",
       "</div>"
      ],
      "text/plain": [
       "         GEOID                                           geometry  Black   \n",
       "0  06037670324  POLYGON ((-13181622.320 4001604.410, -13181397...   22.0  \\\n",
       "1  06037670500  POLYGON ((-13176441.290 3996934.430, -13176429...   11.0   \n",
       "2  06037651101  POLYGON ((-13174776.060 4002986.790, -13174774...   46.0   \n",
       "3  06037297400  POLYGON ((-13172981.590 3990813.920, -13172775...   96.0   \n",
       "4  06037670100  POLYGON ((-13172288.180 4000326.940, -13172287...  438.0   \n",
       "\n",
       "   AN/AN   Asian  NHPI  Other Races  Two or more Races  Non-Hispanic White   \n",
       "0    0.0   740.0   0.0         13.0              306.0              3687.0  \\\n",
       "1    4.0   281.0   0.0         19.0               75.0              1224.0   \n",
       "2   16.0  2382.0   6.0        222.0              216.0              2191.0   \n",
       "3    0.0   198.0   0.0         66.0              152.0              2357.0   \n",
       "4   54.0  1056.0   0.0        629.0              531.0              2943.0   \n",
       "\n",
       "   Hispanic  Total Population   \n",
       "0     513.0            5167.0  \\\n",
       "1     106.0            1684.0   \n",
       "2     639.0            5414.0   \n",
       "3     984.0            3701.0   \n",
       "4    2173.0            7001.0   \n",
       "\n",
       "                                                NAME state county   tract  \n",
       "0  Census Tract 6703.24, Los Angeles County, Cali...    06    037  670324  \n",
       "1  Census Tract 6705, Los Angeles County, California    06    037  670500  \n",
       "2  Census Tract 6511.01, Los Angeles County, Cali...    06    037  651101  \n",
       "3  Census Tract 2974, Los Angeles County, California    06    037  297400  \n",
       "4  Census Tract 6701, Los Angeles County, California    06    037  670100  "
      ]
     },
     "execution_count": 160,
     "metadata": {},
     "output_type": "execute_result"
    }
   ],
   "source": [
    "# your code here\n",
    "acs_tract = cenpy.products.ACS()\n",
    "lacounty_tract = products.ACS(2017).from_county('Los Angeles, CA', level='tract',\n",
    "                                        variables=('B01001_001E',\n",
    "                                                   'B01001B_001E',\n",
    "                                                   'B01001C_001E',\n",
    "                                                   'B01001D_001E',\n",
    "                                                   'B01001E_001E',\n",
    "                                                   'B01001F_001E',\n",
    "                                                   'B01001G_001E',\n",
    "                                                   'B01001H_001E',\n",
    "                                                   'B01001I_001E',))\n",
    "lacounty_tract.rename(columns = {'B01001_001E':'Total Population',\n",
    "                     'B01001B_001E':'Black',\n",
    "                     'B01001C_001E':'AN/AN',\n",
    "                     'B01001D_001E':'Asian',\n",
    "                     'B01001E_001E':'NHPI',\n",
    "                     'B01001F_001E':'Other Races',\n",
    "                     'B01001G_001E':'Two or more Races',\n",
    "                     'B01001I_001E':'Hispanic',\n",
    "                     'B01001H_001E':'Non-Hispanic White',}, inplace=True)\n",
    "lacounty_tract.head()"
   ]
  },
  {
   "cell_type": "markdown",
   "id": "fc824310",
   "metadata": {},
   "source": [
    "<div class=\"alert alert-block alert-info\">\n",
    "<strong>Exercise:</strong> Can you write a function that retrieves population by race for all census tracts in a specified county? (Or a simplified measure of race, such as the proportion of Black people.) \n",
    "</div>"
   ]
  },
  {
   "cell_type": "markdown",
   "id": "375585a8",
   "metadata": {},
   "source": [
    "Hint: use the code you wrote, but replace the county FIPS code `037` with a variable. Your function can take a single argument, e.g. `countyFIPS`."
   ]
  },
  {
   "cell_type": "code",
   "execution_count": 166,
   "id": "dd45dee4",
   "metadata": {},
   "outputs": [],
   "source": [
    "# your code here\n",
    "def countymap(fips):\n",
    "    acs_tract = cenpy.products.ACS()\n",
    "    lacounty_tract = products.ACS(2017).from_county(fips, level='tract',\n",
    "                                        variables=('B01001_001E',\n",
    "                                                   'B01001B_001E',\n",
    "                                                   'B01001C_001E',\n",
    "                                                   'B01001D_001E',\n",
    "                                                   'B01001E_001E',\n",
    "                                                   'B01001F_001E',\n",
    "                                                   'B01001G_001E',\n",
    "                                                   'B01001H_001E',\n",
    "                                                   'B01001I_001E',))\n",
    "    lacounty_tract.rename(columns = {'B01001_001E':'Total Population',\n",
    "                                     'B01001B_001E':'Black',\n",
    "                                     'B01001C_001E':'AN/AN',\n",
    "                                     'B01001D_001E':'Asian',\n",
    "                                     'B01001E_001E':'NHPI',\n",
    "                                     'B01001F_001E':'Other Races',\n",
    "                                     'B01001G_001E':'Two or more Races',\n",
    "                                     'B01001I_001E':'Hispanic',\n",
    "                                     'B01001H_001E':'Non-Hispanic White',}, inplace=True)\n",
    "    return(lacounty_tract)\n",
    "    "
   ]
  },
  {
   "cell_type": "markdown",
   "id": "c8a2e603-0db0-41d7-91cc-60693a6b86dd",
   "metadata": {},
   "source": [
    "<div class=\"alert alert-block alert-success\">\n",
    "<strong>Response to Exercise:</strong> The above is the code to retrieve population by race for all census tracts in a specified county. The fuction takes the county name (NOT FIPS) as the input and return the table containing the data. Below is an example of the function being called. \n",
    "</div>"
   ]
  },
  {
   "cell_type": "code",
   "execution_count": 168,
   "id": "b91e82e7-2388-4a65-9b73-2cf01c40424d",
   "metadata": {},
   "outputs": [
    {
     "name": "stderr",
     "output_type": "stream",
     "text": [
      "/Users/chaithra/opt/anaconda3/envs/uds/lib/python3.10/site-packages/cenpy/products.py:762: FutureWarning: The `op` parameter is deprecated and will be removed in a future release. Please use the `predicate` parameter instead.\n",
      "  return self._from_name(county, variables, level, \"Counties\", **kwargs)\n"
     ]
    },
    {
     "data": {
      "text/html": [
       "<div>\n",
       "<style scoped>\n",
       "    .dataframe tbody tr th:only-of-type {\n",
       "        vertical-align: middle;\n",
       "    }\n",
       "\n",
       "    .dataframe tbody tr th {\n",
       "        vertical-align: top;\n",
       "    }\n",
       "\n",
       "    .dataframe thead th {\n",
       "        text-align: right;\n",
       "    }\n",
       "</style>\n",
       "<table border=\"1\" class=\"dataframe\">\n",
       "  <thead>\n",
       "    <tr style=\"text-align: right;\">\n",
       "      <th></th>\n",
       "      <th>GEOID</th>\n",
       "      <th>geometry</th>\n",
       "      <th>Black</th>\n",
       "      <th>AN/AN</th>\n",
       "      <th>Asian</th>\n",
       "      <th>NHPI</th>\n",
       "      <th>Other Races</th>\n",
       "      <th>Two or more Races</th>\n",
       "      <th>Non-Hispanic White</th>\n",
       "      <th>Hispanic</th>\n",
       "      <th>Total Population</th>\n",
       "      <th>NAME</th>\n",
       "      <th>state</th>\n",
       "      <th>county</th>\n",
       "      <th>tract</th>\n",
       "    </tr>\n",
       "  </thead>\n",
       "  <tbody>\n",
       "    <tr>\n",
       "      <th>0</th>\n",
       "      <td>06037670324</td>\n",
       "      <td>POLYGON ((-13181622.320 4001604.410, -13181397...</td>\n",
       "      <td>22.0</td>\n",
       "      <td>0.0</td>\n",
       "      <td>740.0</td>\n",
       "      <td>0.0</td>\n",
       "      <td>13.0</td>\n",
       "      <td>306.0</td>\n",
       "      <td>3687.0</td>\n",
       "      <td>513.0</td>\n",
       "      <td>5167.0</td>\n",
       "      <td>Census Tract 6703.24, Los Angeles County, Cali...</td>\n",
       "      <td>06</td>\n",
       "      <td>037</td>\n",
       "      <td>670324</td>\n",
       "    </tr>\n",
       "    <tr>\n",
       "      <th>1</th>\n",
       "      <td>06037670500</td>\n",
       "      <td>POLYGON ((-13176441.290 3996934.430, -13176429...</td>\n",
       "      <td>11.0</td>\n",
       "      <td>4.0</td>\n",
       "      <td>281.0</td>\n",
       "      <td>0.0</td>\n",
       "      <td>19.0</td>\n",
       "      <td>75.0</td>\n",
       "      <td>1224.0</td>\n",
       "      <td>106.0</td>\n",
       "      <td>1684.0</td>\n",
       "      <td>Census Tract 6705, Los Angeles County, California</td>\n",
       "      <td>06</td>\n",
       "      <td>037</td>\n",
       "      <td>670500</td>\n",
       "    </tr>\n",
       "    <tr>\n",
       "      <th>2</th>\n",
       "      <td>06037651101</td>\n",
       "      <td>POLYGON ((-13174776.060 4002986.790, -13174774...</td>\n",
       "      <td>46.0</td>\n",
       "      <td>16.0</td>\n",
       "      <td>2382.0</td>\n",
       "      <td>6.0</td>\n",
       "      <td>222.0</td>\n",
       "      <td>216.0</td>\n",
       "      <td>2191.0</td>\n",
       "      <td>639.0</td>\n",
       "      <td>5414.0</td>\n",
       "      <td>Census Tract 6511.01, Los Angeles County, Cali...</td>\n",
       "      <td>06</td>\n",
       "      <td>037</td>\n",
       "      <td>651101</td>\n",
       "    </tr>\n",
       "    <tr>\n",
       "      <th>3</th>\n",
       "      <td>06037297400</td>\n",
       "      <td>POLYGON ((-13172981.590 3990813.920, -13172775...</td>\n",
       "      <td>96.0</td>\n",
       "      <td>0.0</td>\n",
       "      <td>198.0</td>\n",
       "      <td>0.0</td>\n",
       "      <td>66.0</td>\n",
       "      <td>152.0</td>\n",
       "      <td>2357.0</td>\n",
       "      <td>984.0</td>\n",
       "      <td>3701.0</td>\n",
       "      <td>Census Tract 2974, Los Angeles County, California</td>\n",
       "      <td>06</td>\n",
       "      <td>037</td>\n",
       "      <td>297400</td>\n",
       "    </tr>\n",
       "    <tr>\n",
       "      <th>4</th>\n",
       "      <td>06037670100</td>\n",
       "      <td>POLYGON ((-13172288.180 4000326.940, -13172287...</td>\n",
       "      <td>438.0</td>\n",
       "      <td>54.0</td>\n",
       "      <td>1056.0</td>\n",
       "      <td>0.0</td>\n",
       "      <td>629.0</td>\n",
       "      <td>531.0</td>\n",
       "      <td>2943.0</td>\n",
       "      <td>2173.0</td>\n",
       "      <td>7001.0</td>\n",
       "      <td>Census Tract 6701, Los Angeles County, California</td>\n",
       "      <td>06</td>\n",
       "      <td>037</td>\n",
       "      <td>670100</td>\n",
       "    </tr>\n",
       "  </tbody>\n",
       "</table>\n",
       "</div>"
      ],
      "text/plain": [
       "         GEOID                                           geometry  Black   \n",
       "0  06037670324  POLYGON ((-13181622.320 4001604.410, -13181397...   22.0  \\\n",
       "1  06037670500  POLYGON ((-13176441.290 3996934.430, -13176429...   11.0   \n",
       "2  06037651101  POLYGON ((-13174776.060 4002986.790, -13174774...   46.0   \n",
       "3  06037297400  POLYGON ((-13172981.590 3990813.920, -13172775...   96.0   \n",
       "4  06037670100  POLYGON ((-13172288.180 4000326.940, -13172287...  438.0   \n",
       "\n",
       "   AN/AN   Asian  NHPI  Other Races  Two or more Races  Non-Hispanic White   \n",
       "0    0.0   740.0   0.0         13.0              306.0              3687.0  \\\n",
       "1    4.0   281.0   0.0         19.0               75.0              1224.0   \n",
       "2   16.0  2382.0   6.0        222.0              216.0              2191.0   \n",
       "3    0.0   198.0   0.0         66.0              152.0              2357.0   \n",
       "4   54.0  1056.0   0.0        629.0              531.0              2943.0   \n",
       "\n",
       "   Hispanic  Total Population   \n",
       "0     513.0            5167.0  \\\n",
       "1     106.0            1684.0   \n",
       "2     639.0            5414.0   \n",
       "3     984.0            3701.0   \n",
       "4    2173.0            7001.0   \n",
       "\n",
       "                                                NAME state county   tract  \n",
       "0  Census Tract 6703.24, Los Angeles County, Cali...    06    037  670324  \n",
       "1  Census Tract 6705, Los Angeles County, California    06    037  670500  \n",
       "2  Census Tract 6511.01, Los Angeles County, Cali...    06    037  651101  \n",
       "3  Census Tract 2974, Los Angeles County, California    06    037  297400  \n",
       "4  Census Tract 6701, Los Angeles County, California    06    037  670100  "
      ]
     },
     "execution_count": 168,
     "metadata": {},
     "output_type": "execute_result"
    }
   ],
   "source": [
    "df22=countymap('Los Angeles, CA')\n",
    "df22.head()"
   ]
  },
  {
   "cell_type": "markdown",
   "id": "9bcf1b0e",
   "metadata": {},
   "source": [
    "<div class=\"alert alert-block alert-info\">\n",
    "<strong>Exercise:</strong> Map your results!\n",
    "</div>"
   ]
  },
  {
   "cell_type": "markdown",
   "id": "656ae53b-5424-4a03-974e-1041668ba7e5",
   "metadata": {},
   "source": [
    "<div class=\"alert alert-block alert-success\">\n",
    "<strong>Response to Exercise:</strong> Mapping total population in LA county!\n",
    "</div>"
   ]
  },
  {
   "cell_type": "code",
   "execution_count": 169,
   "id": "38778d45",
   "metadata": {
    "tags": []
   },
   "outputs": [
    {
     "data": {
      "image/png": "[encoded data removed]",
      "text/plain": [
       "<Figure size 2000x1000 with 2 Axes>"
      ]
     },
     "metadata": {},
     "output_type": "display_data"
    }
   ],
   "source": [
    "# your code here\n",
    "import matplotlib.pyplot as plt \n",
    "\n",
    "# create a matplotlib figure and axis object\n",
    "fig, ax = plt.subplots(figsize=(20,10))\n",
    "\n",
    "df22.plot('Total Population', ax=ax, cmap='plasma', legend=True, \n",
    "               legend_kwds={'orientation': 'horizontal'})\n",
    "ax.set_facecolor('k')\n"
   ]
  },
  {
   "cell_type": "markdown",
   "id": "95a6407c",
   "metadata": {},
   "source": [
    "### Using Socrata"
   ]
  },
  {
   "cell_type": "markdown",
   "id": "13f01449",
   "metadata": {},
   "source": [
    "Here's the example that we saw in the lecture."
   ]
  },
  {
   "cell_type": "code",
   "execution_count": 170,
   "id": "85c14749",
   "metadata": {},
   "outputs": [
    {
     "data": {
      "text/plain": [
       "<Axes: >"
      ]
     },
     "execution_count": 170,
     "metadata": {},
     "output_type": "execute_result"
    },
    {
     "data": {
      "image/png": "[encoded data removed]",
      "text/plain": [
       "<Figure size 640x480 with 1 Axes>"
      ]
     },
     "metadata": {},
     "output_type": "display_data"
    }
   ],
   "source": [
    "import geopandas as gpd\n",
    "url = 'https://data.lacity.org/resource/mymu-zi3s.geojson'\n",
    "gdf = gpd.read_file(url)\n",
    "gdf.plot()"
   ]
  },
  {
   "cell_type": "code",
   "execution_count": 171,
   "id": "ce8ada5f",
   "metadata": {},
   "outputs": [
    {
     "data": {
      "text/plain": [
       "\u001b[0;31mSignature:\u001b[0m\n",
       "\u001b[0mgpd\u001b[0m\u001b[0;34m.\u001b[0m\u001b[0mread_file\u001b[0m\u001b[0;34m(\u001b[0m\u001b[0;34m\u001b[0m\n",
       "\u001b[0;34m\u001b[0m    \u001b[0mfilename\u001b[0m\u001b[0;34m,\u001b[0m\u001b[0;34m\u001b[0m\n",
       "\u001b[0;34m\u001b[0m    \u001b[0mbbox\u001b[0m\u001b[0;34m=\u001b[0m\u001b[0;32mNone\u001b[0m\u001b[0;34m,\u001b[0m\u001b[0;34m\u001b[0m\n",
       "\u001b[0;34m\u001b[0m    \u001b[0mmask\u001b[0m\u001b[0;34m=\u001b[0m\u001b[0;32mNone\u001b[0m\u001b[0;34m,\u001b[0m\u001b[0;34m\u001b[0m\n",
       "\u001b[0;34m\u001b[0m    \u001b[0mrows\u001b[0m\u001b[0;34m=\u001b[0m\u001b[0;32mNone\u001b[0m\u001b[0;34m,\u001b[0m\u001b[0;34m\u001b[0m\n",
       "\u001b[0;34m\u001b[0m    \u001b[0mengine\u001b[0m\u001b[0;34m=\u001b[0m\u001b[0;32mNone\u001b[0m\u001b[0;34m,\u001b[0m\u001b[0;34m\u001b[0m\n",
       "\u001b[0;34m\u001b[0m    \u001b[0;34m**\u001b[0m\u001b[0mkwargs\u001b[0m\u001b[0;34m,\u001b[0m\u001b[0;34m\u001b[0m\n",
       "\u001b[0;34m\u001b[0m\u001b[0;34m)\u001b[0m\u001b[0;34m\u001b[0m\u001b[0;34m\u001b[0m\u001b[0m\n",
       "\u001b[0;31mDocstring:\u001b[0m\n",
       "Returns a GeoDataFrame from a file or URL.\n",
       "\n",
       ".. versionadded:: 0.7.0 mask, rows\n",
       "\n",
       "Parameters\n",
       "----------\n",
       "filename : str, path object or file-like object\n",
       "    Either the absolute or relative path to the file or URL to\n",
       "    be opened, or any object with a read() method (such as an open file\n",
       "    or StringIO)\n",
       "bbox : tuple | GeoDataFrame or GeoSeries | shapely Geometry, default None\n",
       "    Filter features by given bounding box, GeoSeries, GeoDataFrame or a shapely\n",
       "    geometry. With engine=\"fiona\", CRS mis-matches are resolved if given a GeoSeries\n",
       "    or GeoDataFrame. With engine=\"pyogrio\", bbox must be in the same CRS as the\n",
       "    dataset. Tuple is (minx, miny, maxx, maxy) to match the bounds property of\n",
       "    shapely geometry objects. Cannot be used with mask.\n",
       "mask : dict | GeoDataFrame or GeoSeries | shapely Geometry, default None\n",
       "    Filter for features that intersect with the given dict-like geojson\n",
       "    geometry, GeoSeries, GeoDataFrame or shapely geometry.\n",
       "    CRS mis-matches are resolved if given a GeoSeries or GeoDataFrame.\n",
       "    Cannot be used with bbox.\n",
       "rows : int or slice, default None\n",
       "    Load in specific rows by passing an integer (first `n` rows) or a\n",
       "    slice() object.\n",
       "engine : str, \"fiona\" or \"pyogrio\"\n",
       "    The underlying library that is used to read the file. Currently, the\n",
       "    supported options are \"fiona\" and \"pyogrio\". Defaults to \"fiona\" if\n",
       "    installed, otherwise tries \"pyogrio\".\n",
       "**kwargs :\n",
       "    Keyword args to be passed to the engine. In case of the \"fiona\" engine,\n",
       "    the keyword arguments are passed to :func:`fiona.open` or\n",
       "    :class:`fiona.collection.BytesCollection` when opening the file.\n",
       "    For more information on possible keywords, type:\n",
       "    ``import fiona; help(fiona.open)``. In case of the \"pyogrio\" engine,\n",
       "    the keyword arguments are passed to :func:`pyogrio.read_dataframe`.\n",
       "\n",
       "\n",
       "Examples\n",
       "--------\n",
       ">>> df = geopandas.read_file(\"nybb.shp\")  # doctest: +SKIP\n",
       "\n",
       "Specifying layer of GPKG:\n",
       "\n",
       ">>> df = geopandas.read_file(\"file.gpkg\", layer='cities')  # doctest: +SKIP\n",
       "\n",
       "Reading only first 10 rows:\n",
       "\n",
       ">>> df = geopandas.read_file(\"nybb.shp\", rows=10)  # doctest: +SKIP\n",
       "\n",
       "Reading only geometries intersecting ``mask``:\n",
       "\n",
       ">>> df = geopandas.read_file(\"nybb.shp\", mask=polygon)  # doctest: +SKIP\n",
       "\n",
       "Reading only geometries intersecting ``bbox``:\n",
       "\n",
       ">>> df = geopandas.read_file(\"nybb.shp\", bbox=(0, 0, 10, 20))  # doctest: +SKIP\n",
       "\n",
       "Returns\n",
       "-------\n",
       ":obj:`geopandas.GeoDataFrame` or :obj:`pandas.DataFrame` :\n",
       "    If `ignore_geometry=True` a :obj:`pandas.DataFrame` will be returned.\n",
       "\n",
       "Notes\n",
       "-----\n",
       "The format drivers will attempt to detect the encoding of your data, but\n",
       "may fail. In this case, the proper encoding can be specified explicitly\n",
       "by using the encoding keyword parameter, e.g. ``encoding='utf-8'``.\n",
       "\u001b[0;31mFile:\u001b[0m      ~/opt/anaconda3/envs/uds/lib/python3.10/site-packages/geopandas/io/file.py\n",
       "\u001b[0;31mType:\u001b[0m      function"
      ]
     },
     "metadata": {},
     "output_type": "display_data"
    }
   ],
   "source": [
    "gpd.read_file?"
   ]
  },
  {
   "cell_type": "markdown",
   "id": "e7dcb1a3",
   "metadata": {},
   "source": [
    "<div class=\"alert alert-block alert-info\">\n",
    "<strong>Exercise:</strong> Choose another dataset on Socrata, download it using the API, and map the results. \n",
    "</div>"
   ]
  },
  {
   "cell_type": "markdown",
   "id": "bffeece0",
   "metadata": {},
   "source": [
    "The City of Los Angeles datasets are [here](https://data.lacity.org). Feel free to choose another city or county if you prefer.\n",
    "\n",
    "Some possible datasets of planning-related interest:\n",
    "* [DACA/DAPA workshops](https://data.lacity.org/Community-Economic-Development/Map2-DACA-DAPA-Workshops/icwt-9z3e) (seems a bit dated)\n",
    "* [Solar PV permits](https://data.lacity.org/A-Prosperous-City/Solar-PV-Permits-in-LA/bdt7-w2xr)\n",
    "* [Parks](https://data.lacity.org/Community-Economic-Development/Department-of-Recreation-and-Parks-Facility-and-Pa/ax8j-dhzm)"
   ]
  },
  {
   "cell_type": "code",
   "execution_count": 175,
   "id": "d141d6a8",
   "metadata": {},
   "outputs": [
    {
     "data": {
      "text/plain": [
       "<Axes: >"
      ]
     },
     "execution_count": 175,
     "metadata": {},
     "output_type": "execute_result"
    },
    {
     "data": {
      "image/png": "[encoded data removed]",
      "text/plain": [
       "<Figure size 640x480 with 1 Axes>"
      ]
     },
     "metadata": {},
     "output_type": "display_data"
    }
   ],
   "source": [
    "# your code here\n",
    "url_parks = 'https://data.lacity.org/resource/bdt7-w2xr.geojson'\n",
    "gdf_parks = gpd.read_file(url_parks)\n",
    "gdf_parks.plot()"
   ]
  },
  {
   "cell_type": "code",
   "execution_count": 174,
   "id": "3a2a1bcf-61e4-4f3d-9216-593dfecc0b6c",
   "metadata": {},
   "outputs": [
    {
     "data": {
      "text/plain": [
       "<Axes: >"
      ]
     },
     "execution_count": 174,
     "metadata": {},
     "output_type": "execute_result"
    },
    {
     "data": {
      "image/png": "[encoded data removed]",
      "text/plain": [
       "<Figure size 640x480 with 1 Axes>"
      ]
     },
     "metadata": {},
     "output_type": "display_data"
    }
   ],
   "source": [
    "gdf_parks.plot()"
   ]
  },
  {
   "cell_type": "code",
   "execution_count": null,
   "id": "9e76de67-3f64-40bf-aa1d-4e55d8236c83",
   "metadata": {},
   "outputs": [],
   "source": [
    "## do this. \n",
    "# clean it up a bit\n",
    "import matplotlib.pyplot as plt\n",
    "import contextily as ctx\n",
    "\n",
    "# easier if we pre-create an axis object\n",
    "fig, ax = plt.subplots(figsize=(10,10))\n",
    "\n",
    "# project to 3857 to match the basemap\n",
    "# use the markersize keyword to make the points smaller\n",
    "gdf_parks.to_crs('EPSG:3857').plot(ax=ax, markersize=2)\n",
    "\n",
    "# add a basemap\n",
    "# for more options, see https://contextily.readthedocs.io/en/latest/providers_deepdive.html\n",
    "# I chose xyz.OpenStreetMap.Mapnik\n",
    "ctx.add_basemap(ax=ax, zoom=12, source=ctx.providers.OpenStreetMap.Mapnik)\n",
    "\n",
    "# drop the tick labels\n",
    "ax.set_xticks([])\n",
    "ax.set_yticks([])\n",
    "\n",
    "# add a title\n",
    "ax.set_title('Solar PV permits, City of Los Angeles')"
   ]
  },
  {
   "cell_type": "markdown",
   "id": "0a75a2b9-13cb-45b3-bc8c-3a35479dcffa",
   "metadata": {},
   "source": [
    "<div class=\"alert alert-block alert-success\">\n",
    "<strong>Response to Exercise:</strong>This is the solution, we have mapped the sv panel data. \n",
    "</div>"
   ]
  },
  {
   "cell_type": "markdown",
   "id": "a2818a26",
   "metadata": {},
   "source": [
    "<div class=\"alert alert-block alert-info\">\n",
    "<h3>What you should have learned</h3>\n",
    "<ul>\n",
    "  <li>Gain confidence in experimenting with code - exploring different objects, writing functions, and so on</li>\n",
    "  <li>Learn how to read API documentation and adapt the examples to create your own queries.</li>\n",
    "  <li>Gain confidence in mapping the results. We'll practice this much more throughout the quarter.</li>\n",
    "</ul>\n",
    "</div>"
   ]
  }
 ],
 "metadata": {
  "kernelspec": {
   "display_name": "Python 3 (ipykernel)",
   "language": "python",
   "name": "python3"
  },
  "language_info": {
   "codemirror_mode": {
    "name": "ipython",
    "version": 3
   },
   "file_extension": ".py",
   "mimetype": "text/x-python",
   "name": "python",
   "nbconvert_exporter": "python",
   "pygments_lexer": "ipython3",
   "version": "3.10.10"
  }
 },
 "nbformat": 4,
 "nbformat_minor": 5
}
