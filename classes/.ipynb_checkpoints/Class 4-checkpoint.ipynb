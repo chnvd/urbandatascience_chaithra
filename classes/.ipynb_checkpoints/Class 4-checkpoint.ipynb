{
 "cells": [
  {
   "cell_type": "markdown",
   "id": "53fce03f",
   "metadata": {},
   "source": [
    "## Module 4 Class activities\n",
    "This notebook is a starting point for the exercises and activities that we'll do in class.\n",
    "\n",
    "Before you attempt any of these activities, make sure to watch the video lectures for this module."
   ]
  },
  {
   "cell_type": "markdown",
   "id": "c092609b",
   "metadata": {},
   "source": [
    "### Spatial joins\n",
    "In the Data Wrangling lecture, we used the [dataset on California traffic collisions](https://tims.berkeley.edu/help/SWITRS.php). Let's revisit that dataset, but make use of the spatial information this time.\n",
    "\n",
    "Below is the code that we used in lecture to load in the data. It's just one month from Ventura County; if you want more, you'll need to register.\n",
    "\n",
    "An aside: Note that the paths are a little different because the data files are under `lectures/data`, not `classes/data`. The `..` directory means \"up one level.\"\n",
    "\n",
    "The `os` module has some useful functions for directory and file operations. "
   ]
  },
  {
   "cell_type": "code",
   "execution_count": 1,
   "id": "52838cab",
   "metadata": {},
   "outputs": [
    {
     "data": {
      "text/plain": [
       "'/Users/chaithra/Documents/GitHub/chaithra_urbandatascience/classes'"
      ]
     },
     "execution_count": 1,
     "metadata": {},
     "output_type": "execute_result"
    }
   ],
   "source": [
    "import os\n",
    "\n",
    "# see what directory we are in\n",
    "os.getcwd()"
   ]
  },
  {
   "cell_type": "code",
   "execution_count": 2,
   "id": "4d630594",
   "metadata": {},
   "outputs": [
    {
     "data": {
      "text/plain": [
       "['Class 1.ipynb',\n",
       " 'Class 3.ipynb',\n",
       " 'Untitled.ipynb',\n",
       " 'Class 2.ipynb',\n",
       " 'Class 4.ipynb',\n",
       " '.ipynb_checkpoints']"
      ]
     },
     "execution_count": 2,
     "metadata": {},
     "output_type": "execute_result"
    }
   ],
   "source": [
    "# list the current directory contents\n",
    "os.listdir()"
   ]
  },
  {
   "cell_type": "code",
   "execution_count": 3,
   "id": "a805635c",
   "metadata": {},
   "outputs": [
    {
     "data": {
      "text/plain": [
       "['M_2 Scraping',\n",
       " '.DS_Store',\n",
       " 'M_1 APIs',\n",
       " 'classes',\n",
       " 'M_4 Spatial relations',\n",
       " 'M_3 Wrangling',\n",
       " 'scratch',\n",
       " '.gitattributes',\n",
       " '.ipynb_checkpoints',\n",
       " '.git',\n",
       " 'data']"
      ]
     },
     "execution_count": 3,
     "metadata": {},
     "output_type": "execute_result"
    }
   ],
   "source": [
    "# list the parent directory contents\n",
    "os.listdir('..')"
   ]
  },
  {
   "cell_type": "code",
   "execution_count": 4,
   "id": "0d237be3",
   "metadata": {},
   "outputs": [],
   "source": [
    "# load in the data\n",
    "import pandas as pd\n",
    "collisionDf = pd.read_csv('../data/Collisions.csv')"
   ]
  },
  {
   "cell_type": "markdown",
   "id": "a30faed6",
   "metadata": {},
   "source": [
    "<div class=\"alert alert-block alert-info\">\n",
    "\n",
    "<strong>Exercise:</strong> What columns provide the spatial coordinates? What problems might there be with each one?\n",
    "</div>"
   ]
  },
  {
   "cell_type": "markdown",
   "id": "920d1ce7",
   "metadata": {},
   "source": [
    "*Hint*: Look at the [codebook](https://tims.berkeley.edu/help/SWITRS.php) to see the column definitions. You have two choices - there are minor differences.\n",
    "    \n",
    "*Hint*: Use `head()` to look at the first rows of the relevant columns . What problems are there with each of them?"
   ]
  },
  {
   "cell_type": "code",
   "execution_count": 5,
   "id": "a8b41e56",
   "metadata": {},
   "outputs": [
    {
     "data": {
      "text/html": [
       "<div>\n",
       "<style scoped>\n",
       "    .dataframe tbody tr th:only-of-type {\n",
       "        vertical-align: middle;\n",
       "    }\n",
       "\n",
       "    .dataframe tbody tr th {\n",
       "        vertical-align: top;\n",
       "    }\n",
       "\n",
       "    .dataframe thead th {\n",
       "        text-align: right;\n",
       "    }\n",
       "</style>\n",
       "<table border=\"1\" class=\"dataframe\">\n",
       "  <thead>\n",
       "    <tr style=\"text-align: right;\">\n",
       "      <th></th>\n",
       "      <th>CASE_ID</th>\n",
       "      <th>ACCIDENT_YEAR</th>\n",
       "      <th>PROC_DATE</th>\n",
       "      <th>JURIS</th>\n",
       "      <th>COLLISION_DATE</th>\n",
       "      <th>COLLISION_TIME</th>\n",
       "      <th>OFFICER_ID</th>\n",
       "      <th>REPORTING_DISTRICT</th>\n",
       "      <th>DAY_OF_WEEK</th>\n",
       "      <th>CHP_SHIFT</th>\n",
       "      <th>...</th>\n",
       "      <th>COUNT_MC_KILLED</th>\n",
       "      <th>COUNT_MC_INJURED</th>\n",
       "      <th>PRIMARY_RAMP</th>\n",
       "      <th>SECONDARY_RAMP</th>\n",
       "      <th>LATITUDE</th>\n",
       "      <th>LONGITUDE</th>\n",
       "      <th>COUNTY</th>\n",
       "      <th>CITY</th>\n",
       "      <th>POINT_X</th>\n",
       "      <th>POINT_Y</th>\n",
       "    </tr>\n",
       "  </thead>\n",
       "  <tbody>\n",
       "    <tr>\n",
       "      <th>0</th>\n",
       "      <td>8167180</td>\n",
       "      <td>2018</td>\n",
       "      <td>2020-05-26</td>\n",
       "      <td>5600</td>\n",
       "      <td>2018-01-29</td>\n",
       "      <td>1700</td>\n",
       "      <td>3386</td>\n",
       "      <td>8125</td>\n",
       "      <td>1</td>\n",
       "      <td>5</td>\n",
       "      <td>...</td>\n",
       "      <td>0</td>\n",
       "      <td>0</td>\n",
       "      <td>-</td>\n",
       "      <td>-</td>\n",
       "      <td>34.220058</td>\n",
       "      <td>-119.038971</td>\n",
       "      <td>VENTURA</td>\n",
       "      <td>CAMARILLO</td>\n",
       "      <td>-119.039001</td>\n",
       "      <td>34.219994</td>\n",
       "    </tr>\n",
       "    <tr>\n",
       "      <th>1</th>\n",
       "      <td>8414912</td>\n",
       "      <td>2018</td>\n",
       "      <td>2018-02-14</td>\n",
       "      <td>5600</td>\n",
       "      <td>2018-01-30</td>\n",
       "      <td>1840</td>\n",
       "      <td>2740</td>\n",
       "      <td>9080</td>\n",
       "      <td>2</td>\n",
       "      <td>5</td>\n",
       "      <td>...</td>\n",
       "      <td>0</td>\n",
       "      <td>0</td>\n",
       "      <td>-</td>\n",
       "      <td>-</td>\n",
       "      <td>NaN</td>\n",
       "      <td>NaN</td>\n",
       "      <td>VENTURA</td>\n",
       "      <td>THOUSAND OAKS</td>\n",
       "      <td>-118.883827</td>\n",
       "      <td>34.182751</td>\n",
       "    </tr>\n",
       "    <tr>\n",
       "      <th>2</th>\n",
       "      <td>8414916</td>\n",
       "      <td>2018</td>\n",
       "      <td>2018-02-14</td>\n",
       "      <td>5600</td>\n",
       "      <td>2018-01-22</td>\n",
       "      <td>1425</td>\n",
       "      <td>2740</td>\n",
       "      <td>9122</td>\n",
       "      <td>1</td>\n",
       "      <td>5</td>\n",
       "      <td>...</td>\n",
       "      <td>0</td>\n",
       "      <td>0</td>\n",
       "      <td>-</td>\n",
       "      <td>-</td>\n",
       "      <td>NaN</td>\n",
       "      <td>NaN</td>\n",
       "      <td>VENTURA</td>\n",
       "      <td>THOUSAND OAKS</td>\n",
       "      <td>-118.926300</td>\n",
       "      <td>34.182961</td>\n",
       "    </tr>\n",
       "    <tr>\n",
       "      <th>3</th>\n",
       "      <td>8504531</td>\n",
       "      <td>2018</td>\n",
       "      <td>2018-08-15</td>\n",
       "      <td>5600</td>\n",
       "      <td>2018-01-31</td>\n",
       "      <td>2358</td>\n",
       "      <td>5002</td>\n",
       "      <td>8153</td>\n",
       "      <td>3</td>\n",
       "      <td>5</td>\n",
       "      <td>...</td>\n",
       "      <td>0</td>\n",
       "      <td>0</td>\n",
       "      <td>-</td>\n",
       "      <td>-</td>\n",
       "      <td>34.205349</td>\n",
       "      <td>-119.040993</td>\n",
       "      <td>VENTURA</td>\n",
       "      <td>CAMARILLO</td>\n",
       "      <td>-119.040749</td>\n",
       "      <td>34.205418</td>\n",
       "    </tr>\n",
       "    <tr>\n",
       "      <th>4</th>\n",
       "      <td>8513493</td>\n",
       "      <td>2018</td>\n",
       "      <td>2018-02-15</td>\n",
       "      <td>5608</td>\n",
       "      <td>2018-01-01</td>\n",
       "      <td>1801</td>\n",
       "      <td>492</td>\n",
       "      <td>NaN</td>\n",
       "      <td>1</td>\n",
       "      <td>5</td>\n",
       "      <td>...</td>\n",
       "      <td>0</td>\n",
       "      <td>0</td>\n",
       "      <td>-</td>\n",
       "      <td>-</td>\n",
       "      <td>34.280899</td>\n",
       "      <td>-119.285400</td>\n",
       "      <td>VENTURA</td>\n",
       "      <td>VENTURA</td>\n",
       "      <td>NaN</td>\n",
       "      <td>NaN</td>\n",
       "    </tr>\n",
       "  </tbody>\n",
       "</table>\n",
       "<p>5 rows × 80 columns</p>\n",
       "</div>"
      ],
      "text/plain": [
       "   CASE_ID  ACCIDENT_YEAR   PROC_DATE  JURIS COLLISION_DATE  COLLISION_TIME   \n",
       "0  8167180           2018  2020-05-26   5600     2018-01-29            1700  \\\n",
       "1  8414912           2018  2018-02-14   5600     2018-01-30            1840   \n",
       "2  8414916           2018  2018-02-14   5600     2018-01-22            1425   \n",
       "3  8504531           2018  2018-08-15   5600     2018-01-31            2358   \n",
       "4  8513493           2018  2018-02-15   5608     2018-01-01            1801   \n",
       "\n",
       "   OFFICER_ID REPORTING_DISTRICT  DAY_OF_WEEK  CHP_SHIFT  ...   \n",
       "0        3386               8125            1          5  ...  \\\n",
       "1        2740               9080            2          5  ...   \n",
       "2        2740               9122            1          5  ...   \n",
       "3        5002               8153            3          5  ...   \n",
       "4         492                NaN            1          5  ...   \n",
       "\n",
       "   COUNT_MC_KILLED  COUNT_MC_INJURED  PRIMARY_RAMP  SECONDARY_RAMP   LATITUDE   \n",
       "0                0                 0            -               -   34.220058  \\\n",
       "1                0                 0            -               -         NaN   \n",
       "2                0                 0            -               -         NaN   \n",
       "3                0                 0            -               -   34.205349   \n",
       "4                0                 0            -               -   34.280899   \n",
       "\n",
       "    LONGITUDE   COUNTY           CITY     POINT_X    POINT_Y  \n",
       "0 -119.038971  VENTURA      CAMARILLO -119.039001  34.219994  \n",
       "1         NaN  VENTURA  THOUSAND OAKS -118.883827  34.182751  \n",
       "2         NaN  VENTURA  THOUSAND OAKS -118.926300  34.182961  \n",
       "3 -119.040993  VENTURA      CAMARILLO -119.040749  34.205418  \n",
       "4 -119.285400  VENTURA        VENTURA         NaN        NaN  \n",
       "\n",
       "[5 rows x 80 columns]"
      ]
     },
     "execution_count": 5,
     "metadata": {},
     "output_type": "execute_result"
    }
   ],
   "source": [
    "# your code here\n",
    "collisionDf.head(1)"
   ]
  },
  {
   "cell_type": "markdown",
   "id": "a38ee0f1",
   "metadata": {},
   "source": [
    "You'll notice that there is some missing data. There is a helpful function, `fillna()` in pandas that will fill in missing values from another columns. Take a look at the documentation."
   ]
  },
  {
   "cell_type": "markdown",
   "id": "fdd2fa65",
   "metadata": {},
   "source": [
    "Note that the `value` argument can be a scalar (e.g. you can replace all NaNs with 0), or another column (e.g. you can replace all NaNs in the `LONGITUDE` column with values from `POINT_X`.) [See the example here](https://stackoverflow.com/questions/30357276/how-to-pass-another-entire-column-as-argument-to-pandas-fillna).\n",
    "\n",
    "Also note that there is an `inplace` keyword argument, which we've seen before with the `set_index()` function. It works the same way."
   ]
  },
  {
   "cell_type": "markdown",
   "id": "9549f5a2",
   "metadata": {},
   "source": [
    "<div class=\"alert alert-block alert-info\">\n",
    "\n",
    "<strong>Exercise:</strong> Fill in the missing values in the latitude and longitude columns."
   ]
  },
  {
   "cell_type": "code",
   "execution_count": 6,
   "id": "8dc7c542",
   "metadata": {},
   "outputs": [
    {
     "data": {
      "text/html": [
       "<div>\n",
       "<style scoped>\n",
       "    .dataframe tbody tr th:only-of-type {\n",
       "        vertical-align: middle;\n",
       "    }\n",
       "\n",
       "    .dataframe tbody tr th {\n",
       "        vertical-align: top;\n",
       "    }\n",
       "\n",
       "    .dataframe thead th {\n",
       "        text-align: right;\n",
       "    }\n",
       "</style>\n",
       "<table border=\"1\" class=\"dataframe\">\n",
       "  <thead>\n",
       "    <tr style=\"text-align: right;\">\n",
       "      <th></th>\n",
       "      <th>CASE_ID</th>\n",
       "      <th>ACCIDENT_YEAR</th>\n",
       "      <th>PROC_DATE</th>\n",
       "      <th>JURIS</th>\n",
       "      <th>COLLISION_DATE</th>\n",
       "      <th>COLLISION_TIME</th>\n",
       "      <th>OFFICER_ID</th>\n",
       "      <th>REPORTING_DISTRICT</th>\n",
       "      <th>DAY_OF_WEEK</th>\n",
       "      <th>CHP_SHIFT</th>\n",
       "      <th>...</th>\n",
       "      <th>COUNT_MC_KILLED</th>\n",
       "      <th>COUNT_MC_INJURED</th>\n",
       "      <th>PRIMARY_RAMP</th>\n",
       "      <th>SECONDARY_RAMP</th>\n",
       "      <th>LATITUDE</th>\n",
       "      <th>LONGITUDE</th>\n",
       "      <th>COUNTY</th>\n",
       "      <th>CITY</th>\n",
       "      <th>POINT_X</th>\n",
       "      <th>POINT_Y</th>\n",
       "    </tr>\n",
       "  </thead>\n",
       "  <tbody>\n",
       "    <tr>\n",
       "      <th>0</th>\n",
       "      <td>8167180</td>\n",
       "      <td>2018</td>\n",
       "      <td>2020-05-26</td>\n",
       "      <td>5600</td>\n",
       "      <td>2018-01-29</td>\n",
       "      <td>1700</td>\n",
       "      <td>3386</td>\n",
       "      <td>8125</td>\n",
       "      <td>1</td>\n",
       "      <td>5</td>\n",
       "      <td>...</td>\n",
       "      <td>0</td>\n",
       "      <td>0</td>\n",
       "      <td>-</td>\n",
       "      <td>-</td>\n",
       "      <td>34.220058</td>\n",
       "      <td>-119.038971</td>\n",
       "      <td>VENTURA</td>\n",
       "      <td>CAMARILLO</td>\n",
       "      <td>-119.039001</td>\n",
       "      <td>34.219994</td>\n",
       "    </tr>\n",
       "    <tr>\n",
       "      <th>1</th>\n",
       "      <td>8414912</td>\n",
       "      <td>2018</td>\n",
       "      <td>2018-02-14</td>\n",
       "      <td>5600</td>\n",
       "      <td>2018-01-30</td>\n",
       "      <td>1840</td>\n",
       "      <td>2740</td>\n",
       "      <td>9080</td>\n",
       "      <td>2</td>\n",
       "      <td>5</td>\n",
       "      <td>...</td>\n",
       "      <td>0</td>\n",
       "      <td>0</td>\n",
       "      <td>-</td>\n",
       "      <td>-</td>\n",
       "      <td>34.182751</td>\n",
       "      <td>-118.883827</td>\n",
       "      <td>VENTURA</td>\n",
       "      <td>THOUSAND OAKS</td>\n",
       "      <td>-118.883827</td>\n",
       "      <td>34.182751</td>\n",
       "    </tr>\n",
       "    <tr>\n",
       "      <th>2</th>\n",
       "      <td>8414916</td>\n",
       "      <td>2018</td>\n",
       "      <td>2018-02-14</td>\n",
       "      <td>5600</td>\n",
       "      <td>2018-01-22</td>\n",
       "      <td>1425</td>\n",
       "      <td>2740</td>\n",
       "      <td>9122</td>\n",
       "      <td>1</td>\n",
       "      <td>5</td>\n",
       "      <td>...</td>\n",
       "      <td>0</td>\n",
       "      <td>0</td>\n",
       "      <td>-</td>\n",
       "      <td>-</td>\n",
       "      <td>34.182961</td>\n",
       "      <td>-118.926300</td>\n",
       "      <td>VENTURA</td>\n",
       "      <td>THOUSAND OAKS</td>\n",
       "      <td>-118.926300</td>\n",
       "      <td>34.182961</td>\n",
       "    </tr>\n",
       "    <tr>\n",
       "      <th>3</th>\n",
       "      <td>8504531</td>\n",
       "      <td>2018</td>\n",
       "      <td>2018-08-15</td>\n",
       "      <td>5600</td>\n",
       "      <td>2018-01-31</td>\n",
       "      <td>2358</td>\n",
       "      <td>5002</td>\n",
       "      <td>8153</td>\n",
       "      <td>3</td>\n",
       "      <td>5</td>\n",
       "      <td>...</td>\n",
       "      <td>0</td>\n",
       "      <td>0</td>\n",
       "      <td>-</td>\n",
       "      <td>-</td>\n",
       "      <td>34.205349</td>\n",
       "      <td>-119.040993</td>\n",
       "      <td>VENTURA</td>\n",
       "      <td>CAMARILLO</td>\n",
       "      <td>-119.040749</td>\n",
       "      <td>34.205418</td>\n",
       "    </tr>\n",
       "    <tr>\n",
       "      <th>4</th>\n",
       "      <td>8513493</td>\n",
       "      <td>2018</td>\n",
       "      <td>2018-02-15</td>\n",
       "      <td>5608</td>\n",
       "      <td>2018-01-01</td>\n",
       "      <td>1801</td>\n",
       "      <td>492</td>\n",
       "      <td>NaN</td>\n",
       "      <td>1</td>\n",
       "      <td>5</td>\n",
       "      <td>...</td>\n",
       "      <td>0</td>\n",
       "      <td>0</td>\n",
       "      <td>-</td>\n",
       "      <td>-</td>\n",
       "      <td>34.280899</td>\n",
       "      <td>-119.285400</td>\n",
       "      <td>VENTURA</td>\n",
       "      <td>VENTURA</td>\n",
       "      <td>NaN</td>\n",
       "      <td>NaN</td>\n",
       "    </tr>\n",
       "  </tbody>\n",
       "</table>\n",
       "<p>5 rows × 80 columns</p>\n",
       "</div>"
      ],
      "text/plain": [
       "   CASE_ID  ACCIDENT_YEAR   PROC_DATE  JURIS COLLISION_DATE  COLLISION_TIME   \n",
       "0  8167180           2018  2020-05-26   5600     2018-01-29            1700  \\\n",
       "1  8414912           2018  2018-02-14   5600     2018-01-30            1840   \n",
       "2  8414916           2018  2018-02-14   5600     2018-01-22            1425   \n",
       "3  8504531           2018  2018-08-15   5600     2018-01-31            2358   \n",
       "4  8513493           2018  2018-02-15   5608     2018-01-01            1801   \n",
       "\n",
       "   OFFICER_ID REPORTING_DISTRICT  DAY_OF_WEEK  CHP_SHIFT  ...   \n",
       "0        3386               8125            1          5  ...  \\\n",
       "1        2740               9080            2          5  ...   \n",
       "2        2740               9122            1          5  ...   \n",
       "3        5002               8153            3          5  ...   \n",
       "4         492                NaN            1          5  ...   \n",
       "\n",
       "   COUNT_MC_KILLED  COUNT_MC_INJURED  PRIMARY_RAMP  SECONDARY_RAMP   LATITUDE   \n",
       "0                0                 0            -               -   34.220058  \\\n",
       "1                0                 0            -               -   34.182751   \n",
       "2                0                 0            -               -   34.182961   \n",
       "3                0                 0            -               -   34.205349   \n",
       "4                0                 0            -               -   34.280899   \n",
       "\n",
       "    LONGITUDE   COUNTY           CITY     POINT_X    POINT_Y  \n",
       "0 -119.038971  VENTURA      CAMARILLO -119.039001  34.219994  \n",
       "1 -118.883827  VENTURA  THOUSAND OAKS -118.883827  34.182751  \n",
       "2 -118.926300  VENTURA  THOUSAND OAKS -118.926300  34.182961  \n",
       "3 -119.040993  VENTURA      CAMARILLO -119.040749  34.205418  \n",
       "4 -119.285400  VENTURA        VENTURA         NaN        NaN  \n",
       "\n",
       "[5 rows x 80 columns]"
      ]
     },
     "execution_count": 6,
     "metadata": {},
     "output_type": "execute_result"
    }
   ],
   "source": [
    "# your code here\n",
    "collisionDf.LONGITUDE.fillna(collisionDf.POINT_X,inplace=True)\n",
    "collisionDf.LATITUDE.fillna(collisionDf.POINT_Y,inplace=True)\n",
    "collisionDf.head()"
   ]
  },
  {
   "cell_type": "markdown",
   "id": "8365e547",
   "metadata": {},
   "source": [
    "<div class=\"alert alert-block alert-info\">\n",
    "\n",
    "<strong>Exercise:</strong> Convert your dataframe to a GeoDataFrame. Call it <strong>collisionGdf</strong>. \n",
    "    \n",
    "Do a quick-and-dirty plot of the points to satisfy yourself that it worked."
   ]
  },
  {
   "cell_type": "markdown",
   "id": "3deaca3b",
   "metadata": {},
   "source": [
    "*Hint*: The geopandas `points_from_xy()` function will be helpful.\n",
    "\n"
   ]
  },
  {
   "cell_type": "code",
   "execution_count": 7,
   "id": "a79d623c",
   "metadata": {},
   "outputs": [
    {
     "data": {
      "text/html": [
       "<div>\n",
       "<style scoped>\n",
       "    .dataframe tbody tr th:only-of-type {\n",
       "        vertical-align: middle;\n",
       "    }\n",
       "\n",
       "    .dataframe tbody tr th {\n",
       "        vertical-align: top;\n",
       "    }\n",
       "\n",
       "    .dataframe thead th {\n",
       "        text-align: right;\n",
       "    }\n",
       "</style>\n",
       "<table border=\"1\" class=\"dataframe\">\n",
       "  <thead>\n",
       "    <tr style=\"text-align: right;\">\n",
       "      <th></th>\n",
       "      <th>CASE_ID</th>\n",
       "      <th>ACCIDENT_YEAR</th>\n",
       "      <th>PROC_DATE</th>\n",
       "      <th>JURIS</th>\n",
       "      <th>COLLISION_DATE</th>\n",
       "      <th>COLLISION_TIME</th>\n",
       "      <th>OFFICER_ID</th>\n",
       "      <th>REPORTING_DISTRICT</th>\n",
       "      <th>DAY_OF_WEEK</th>\n",
       "      <th>CHP_SHIFT</th>\n",
       "      <th>...</th>\n",
       "      <th>COUNT_MC_INJURED</th>\n",
       "      <th>PRIMARY_RAMP</th>\n",
       "      <th>SECONDARY_RAMP</th>\n",
       "      <th>LATITUDE</th>\n",
       "      <th>LONGITUDE</th>\n",
       "      <th>COUNTY</th>\n",
       "      <th>CITY</th>\n",
       "      <th>POINT_X</th>\n",
       "      <th>POINT_Y</th>\n",
       "      <th>geometry</th>\n",
       "    </tr>\n",
       "  </thead>\n",
       "  <tbody>\n",
       "    <tr>\n",
       "      <th>0</th>\n",
       "      <td>8167180</td>\n",
       "      <td>2018</td>\n",
       "      <td>2020-05-26</td>\n",
       "      <td>5600</td>\n",
       "      <td>2018-01-29</td>\n",
       "      <td>1700</td>\n",
       "      <td>3386</td>\n",
       "      <td>8125</td>\n",
       "      <td>1</td>\n",
       "      <td>5</td>\n",
       "      <td>...</td>\n",
       "      <td>0</td>\n",
       "      <td>-</td>\n",
       "      <td>-</td>\n",
       "      <td>34.220058</td>\n",
       "      <td>-119.038971</td>\n",
       "      <td>VENTURA</td>\n",
       "      <td>CAMARILLO</td>\n",
       "      <td>-119.039001</td>\n",
       "      <td>34.219994</td>\n",
       "      <td>POINT (-119.03897 34.22006)</td>\n",
       "    </tr>\n",
       "    <tr>\n",
       "      <th>1</th>\n",
       "      <td>8414912</td>\n",
       "      <td>2018</td>\n",
       "      <td>2018-02-14</td>\n",
       "      <td>5600</td>\n",
       "      <td>2018-01-30</td>\n",
       "      <td>1840</td>\n",
       "      <td>2740</td>\n",
       "      <td>9080</td>\n",
       "      <td>2</td>\n",
       "      <td>5</td>\n",
       "      <td>...</td>\n",
       "      <td>0</td>\n",
       "      <td>-</td>\n",
       "      <td>-</td>\n",
       "      <td>34.182751</td>\n",
       "      <td>-118.883827</td>\n",
       "      <td>VENTURA</td>\n",
       "      <td>THOUSAND OAKS</td>\n",
       "      <td>-118.883827</td>\n",
       "      <td>34.182751</td>\n",
       "      <td>POINT (-118.88383 34.18275)</td>\n",
       "    </tr>\n",
       "    <tr>\n",
       "      <th>2</th>\n",
       "      <td>8414916</td>\n",
       "      <td>2018</td>\n",
       "      <td>2018-02-14</td>\n",
       "      <td>5600</td>\n",
       "      <td>2018-01-22</td>\n",
       "      <td>1425</td>\n",
       "      <td>2740</td>\n",
       "      <td>9122</td>\n",
       "      <td>1</td>\n",
       "      <td>5</td>\n",
       "      <td>...</td>\n",
       "      <td>0</td>\n",
       "      <td>-</td>\n",
       "      <td>-</td>\n",
       "      <td>34.182961</td>\n",
       "      <td>-118.926300</td>\n",
       "      <td>VENTURA</td>\n",
       "      <td>THOUSAND OAKS</td>\n",
       "      <td>-118.926300</td>\n",
       "      <td>34.182961</td>\n",
       "      <td>POINT (-118.92630 34.18296)</td>\n",
       "    </tr>\n",
       "    <tr>\n",
       "      <th>3</th>\n",
       "      <td>8504531</td>\n",
       "      <td>2018</td>\n",
       "      <td>2018-08-15</td>\n",
       "      <td>5600</td>\n",
       "      <td>2018-01-31</td>\n",
       "      <td>2358</td>\n",
       "      <td>5002</td>\n",
       "      <td>8153</td>\n",
       "      <td>3</td>\n",
       "      <td>5</td>\n",
       "      <td>...</td>\n",
       "      <td>0</td>\n",
       "      <td>-</td>\n",
       "      <td>-</td>\n",
       "      <td>34.205349</td>\n",
       "      <td>-119.040993</td>\n",
       "      <td>VENTURA</td>\n",
       "      <td>CAMARILLO</td>\n",
       "      <td>-119.040749</td>\n",
       "      <td>34.205418</td>\n",
       "      <td>POINT (-119.04099 34.20535)</td>\n",
       "    </tr>\n",
       "    <tr>\n",
       "      <th>4</th>\n",
       "      <td>8513493</td>\n",
       "      <td>2018</td>\n",
       "      <td>2018-02-15</td>\n",
       "      <td>5608</td>\n",
       "      <td>2018-01-01</td>\n",
       "      <td>1801</td>\n",
       "      <td>492</td>\n",
       "      <td>NaN</td>\n",
       "      <td>1</td>\n",
       "      <td>5</td>\n",
       "      <td>...</td>\n",
       "      <td>0</td>\n",
       "      <td>-</td>\n",
       "      <td>-</td>\n",
       "      <td>34.280899</td>\n",
       "      <td>-119.285400</td>\n",
       "      <td>VENTURA</td>\n",
       "      <td>VENTURA</td>\n",
       "      <td>NaN</td>\n",
       "      <td>NaN</td>\n",
       "      <td>POINT (-119.28540 34.28090)</td>\n",
       "    </tr>\n",
       "  </tbody>\n",
       "</table>\n",
       "<p>5 rows × 81 columns</p>\n",
       "</div>"
      ],
      "text/plain": [
       "   CASE_ID  ACCIDENT_YEAR   PROC_DATE  JURIS COLLISION_DATE  COLLISION_TIME   \n",
       "0  8167180           2018  2020-05-26   5600     2018-01-29            1700  \\\n",
       "1  8414912           2018  2018-02-14   5600     2018-01-30            1840   \n",
       "2  8414916           2018  2018-02-14   5600     2018-01-22            1425   \n",
       "3  8504531           2018  2018-08-15   5600     2018-01-31            2358   \n",
       "4  8513493           2018  2018-02-15   5608     2018-01-01            1801   \n",
       "\n",
       "   OFFICER_ID REPORTING_DISTRICT  DAY_OF_WEEK  CHP_SHIFT  ...   \n",
       "0        3386               8125            1          5  ...  \\\n",
       "1        2740               9080            2          5  ...   \n",
       "2        2740               9122            1          5  ...   \n",
       "3        5002               8153            3          5  ...   \n",
       "4         492                NaN            1          5  ...   \n",
       "\n",
       "   COUNT_MC_INJURED  PRIMARY_RAMP  SECONDARY_RAMP   LATITUDE   LONGITUDE   \n",
       "0                 0            -               -   34.220058 -119.038971  \\\n",
       "1                 0            -               -   34.182751 -118.883827   \n",
       "2                 0            -               -   34.182961 -118.926300   \n",
       "3                 0            -               -   34.205349 -119.040993   \n",
       "4                 0            -               -   34.280899 -119.285400   \n",
       "\n",
       "    COUNTY           CITY     POINT_X    POINT_Y                     geometry  \n",
       "0  VENTURA      CAMARILLO -119.039001  34.219994  POINT (-119.03897 34.22006)  \n",
       "1  VENTURA  THOUSAND OAKS -118.883827  34.182751  POINT (-118.88383 34.18275)  \n",
       "2  VENTURA  THOUSAND OAKS -118.926300  34.182961  POINT (-118.92630 34.18296)  \n",
       "3  VENTURA      CAMARILLO -119.040749  34.205418  POINT (-119.04099 34.20535)  \n",
       "4  VENTURA        VENTURA         NaN        NaN  POINT (-119.28540 34.28090)  \n",
       "\n",
       "[5 rows x 81 columns]"
      ]
     },
     "execution_count": 7,
     "metadata": {},
     "output_type": "execute_result"
    }
   ],
   "source": [
    "# your code here\n",
    "import geopandas as gpd\n",
    "collisionGdf =gpd.GeoDataFrame(collisionDf,geometry=gpd.points_from_xy(collisionDf.LONGITUDE, collisionDf.LATITUDE, crs='EPSG:4326'))\n",
    "collisionGdf.head()"
   ]
  },
  {
   "cell_type": "markdown",
   "id": "022f20a6",
   "metadata": {},
   "source": [
    "What do we join the collision data to?\n",
    "\n",
    "Let's do two separate analyses:\n",
    "* Look at the transportation justice aspects of road safety, through joining the collision data to the CalEnviroScreen data\n",
    "* Look at school safety, through joining the collision data to school locations\n",
    "\n",
    "## Collisions and neighborhood characteristics\n",
    "\n",
    "Let's start with the EnviroScreen. We already used this data set, so let's load it into `geopandas`."
   ]
  },
  {
   "cell_type": "code",
   "execution_count": 56,
   "id": "779a57ad",
   "metadata": {},
   "outputs": [],
   "source": [
    "enviroscreen = gpd.read_file('../data/CalEnviroScreen/CES4 Final Shapefile.shp')"
   ]
  },
  {
   "cell_type": "code",
   "execution_count": 58,
   "id": "23de0142-39ab-46ff-bb0f-ef99bd33a230",
   "metadata": {},
   "outputs": [],
   "source": [
    "enviroscreen.CIscore.describe()\n",
    "enviroscreen2=enviroscreen"
   ]
  },
  {
   "cell_type": "markdown",
   "id": "3a51bff4-80d0-4aef-a76c-4e029ff68181",
   "metadata": {},
   "source": [
    "### dropping all except ventura"
   ]
  },
  {
   "cell_type": "markdown",
   "id": "accd0b18",
   "metadata": {},
   "source": [
    "<div class=\"alert alert-block alert-info\">\n",
    "    <strong>Exercise:</strong> Drop all the rows from <strong>enviroscreen</strong> except for those in Ventura County.\n",
    "</div>"
   ]
  },
  {
   "cell_type": "markdown",
   "id": "6277b197",
   "metadata": {},
   "source": [
    "*Hint*: The `df=df[...]` syntax is the easiest way to do this. It will just keep the rows where the condition inside the `[ ]` is `True`.\n",
    "\n",
    "For example, this will only keep the census tracts with population greater than 5000.\n",
    "\n",
    "`enviroscreen = enviroscreen[enviroscreen.TotPop19>5000]`"
   ]
  },
  {
   "cell_type": "code",
   "execution_count": 9,
   "id": "59d59465",
   "metadata": {},
   "outputs": [
    {
     "data": {
      "text/plain": [
       "0       False\n",
       "1        True\n",
       "2       False\n",
       "3       False\n",
       "4       False\n",
       "        ...  \n",
       "8030     True\n",
       "8031    False\n",
       "8032     True\n",
       "8033     True\n",
       "8034    False\n",
       "Name: TotPop19, Length: 8035, dtype: bool"
      ]
     },
     "execution_count": 9,
     "metadata": {},
     "output_type": "execute_result"
    }
   ],
   "source": [
    "# This returns a boolean Series\n",
    "enviroscreen.TotPop19>5000"
   ]
  },
  {
   "cell_type": "code",
   "execution_count": 10,
   "id": "e011cc2a",
   "metadata": {},
   "outputs": [
    {
     "data": {
      "text/html": [
       "<div>\n",
       "<style scoped>\n",
       "    .dataframe tbody tr th:only-of-type {\n",
       "        vertical-align: middle;\n",
       "    }\n",
       "\n",
       "    .dataframe tbody tr th {\n",
       "        vertical-align: top;\n",
       "    }\n",
       "\n",
       "    .dataframe thead th {\n",
       "        text-align: right;\n",
       "    }\n",
       "</style>\n",
       "<table border=\"1\" class=\"dataframe\">\n",
       "  <thead>\n",
       "    <tr style=\"text-align: right;\">\n",
       "      <th></th>\n",
       "      <th>Tract</th>\n",
       "      <th>ZIP</th>\n",
       "      <th>County</th>\n",
       "      <th>ApproxLoc</th>\n",
       "      <th>TotPop19</th>\n",
       "      <th>CIscore</th>\n",
       "      <th>CIscoreP</th>\n",
       "      <th>Ozone</th>\n",
       "      <th>OzoneP</th>\n",
       "      <th>PM2_5</th>\n",
       "      <th>...</th>\n",
       "      <th>Elderly65</th>\n",
       "      <th>Hispanic</th>\n",
       "      <th>White</th>\n",
       "      <th>AfricanAm</th>\n",
       "      <th>NativeAm</th>\n",
       "      <th>OtherMult</th>\n",
       "      <th>Shape_Leng</th>\n",
       "      <th>Shape_Area</th>\n",
       "      <th>AAPI</th>\n",
       "      <th>geometry</th>\n",
       "    </tr>\n",
       "  </thead>\n",
       "  <tbody>\n",
       "    <tr>\n",
       "      <th>1</th>\n",
       "      <td>6.083002e+09</td>\n",
       "      <td>93455</td>\n",
       "      <td>Santa Barbara</td>\n",
       "      <td>Santa Maria</td>\n",
       "      <td>13173</td>\n",
       "      <td>37.030667</td>\n",
       "      <td>70.637922</td>\n",
       "      <td>0.035217</td>\n",
       "      <td>11.561917</td>\n",
       "      <td>7.624775</td>\n",
       "      <td>...</td>\n",
       "      <td>5.3519</td>\n",
       "      <td>78.6229</td>\n",
       "      <td>13.224</td>\n",
       "      <td>2.5051</td>\n",
       "      <td>0.0</td>\n",
       "      <td>0.9489</td>\n",
       "      <td>19100.578232</td>\n",
       "      <td>1.635292e+07</td>\n",
       "      <td>4.699</td>\n",
       "      <td>POLYGON ((-39795.070 -341919.191, -39803.632 -...</td>\n",
       "    </tr>\n",
       "  </tbody>\n",
       "</table>\n",
       "<p>1 rows × 67 columns</p>\n",
       "</div>"
      ],
      "text/plain": [
       "          Tract    ZIP         County    ApproxLoc  TotPop19    CIscore   \n",
       "1  6.083002e+09  93455  Santa Barbara  Santa Maria     13173  37.030667  \\\n",
       "\n",
       "    CIscoreP     Ozone     OzoneP     PM2_5  ...  Elderly65  Hispanic   White   \n",
       "1  70.637922  0.035217  11.561917  7.624775  ...     5.3519   78.6229  13.224  \\\n",
       "\n",
       "   AfricanAm  NativeAm  OtherMult    Shape_Leng    Shape_Area   AAPI   \n",
       "1     2.5051       0.0     0.9489  19100.578232  1.635292e+07  4.699  \\\n",
       "\n",
       "                                            geometry  \n",
       "1  POLYGON ((-39795.070 -341919.191, -39803.632 -...  \n",
       "\n",
       "[1 rows x 67 columns]"
      ]
     },
     "execution_count": 10,
     "metadata": {},
     "output_type": "execute_result"
    }
   ],
   "source": [
    "# Then we pass that series to only return values from the DataFrame where the condition evaluated to True\n",
    "# Note that rows with index 4581, 4583, etc. have been filtered out\n",
    "enviroscreen[enviroscreen.TotPop19>5000].head(1)"
   ]
  },
  {
   "cell_type": "code",
   "execution_count": 59,
   "id": "f75342ce",
   "metadata": {},
   "outputs": [
    {
     "data": {
      "text/html": [
       "<div>\n",
       "<style scoped>\n",
       "    .dataframe tbody tr th:only-of-type {\n",
       "        vertical-align: middle;\n",
       "    }\n",
       "\n",
       "    .dataframe tbody tr th {\n",
       "        vertical-align: top;\n",
       "    }\n",
       "\n",
       "    .dataframe thead th {\n",
       "        text-align: right;\n",
       "    }\n",
       "</style>\n",
       "<table border=\"1\" class=\"dataframe\">\n",
       "  <thead>\n",
       "    <tr style=\"text-align: right;\">\n",
       "      <th></th>\n",
       "      <th>Tract</th>\n",
       "      <th>ZIP</th>\n",
       "      <th>County</th>\n",
       "      <th>ApproxLoc</th>\n",
       "      <th>TotPop19</th>\n",
       "      <th>CIscore</th>\n",
       "      <th>CIscoreP</th>\n",
       "      <th>Ozone</th>\n",
       "      <th>OzoneP</th>\n",
       "      <th>PM2_5</th>\n",
       "      <th>...</th>\n",
       "      <th>Elderly65</th>\n",
       "      <th>Hispanic</th>\n",
       "      <th>White</th>\n",
       "      <th>AfricanAm</th>\n",
       "      <th>NativeAm</th>\n",
       "      <th>OtherMult</th>\n",
       "      <th>Shape_Leng</th>\n",
       "      <th>Shape_Area</th>\n",
       "      <th>AAPI</th>\n",
       "      <th>geometry</th>\n",
       "    </tr>\n",
       "  </thead>\n",
       "  <tbody>\n",
       "    <tr>\n",
       "      <th>4580</th>\n",
       "      <td>6.111001e+09</td>\n",
       "      <td>93060</td>\n",
       "      <td>Ventura</td>\n",
       "      <td>Santa Paula</td>\n",
       "      <td>7508</td>\n",
       "      <td>33.384185</td>\n",
       "      <td>64.762985</td>\n",
       "      <td>0.047165</td>\n",
       "      <td>50.541381</td>\n",
       "      <td>8.966109</td>\n",
       "      <td>...</td>\n",
       "      <td>7.4188</td>\n",
       "      <td>88.0394</td>\n",
       "      <td>6.9393</td>\n",
       "      <td>0.0133</td>\n",
       "      <td>0.2797</td>\n",
       "      <td>2.4907</td>\n",
       "      <td>5097.821978</td>\n",
       "      <td>1.427820e+06</td>\n",
       "      <td>2.2376</td>\n",
       "      <td>POLYGON ((85037.273 -407887.964, 84379.117 -40...</td>\n",
       "    </tr>\n",
       "  </tbody>\n",
       "</table>\n",
       "<p>1 rows × 67 columns</p>\n",
       "</div>"
      ],
      "text/plain": [
       "             Tract    ZIP   County    ApproxLoc  TotPop19    CIscore   \n",
       "4580  6.111001e+09  93060  Ventura  Santa Paula      7508  33.384185  \\\n",
       "\n",
       "       CIscoreP     Ozone     OzoneP     PM2_5  ...  Elderly65  Hispanic   \n",
       "4580  64.762985  0.047165  50.541381  8.966109  ...     7.4188   88.0394  \\\n",
       "\n",
       "       White  AfricanAm  NativeAm  OtherMult   Shape_Leng    Shape_Area   \n",
       "4580  6.9393     0.0133    0.2797     2.4907  5097.821978  1.427820e+06  \\\n",
       "\n",
       "        AAPI                                           geometry  \n",
       "4580  2.2376  POLYGON ((85037.273 -407887.964, 84379.117 -40...  \n",
       "\n",
       "[1 rows x 67 columns]"
      ]
     },
     "execution_count": 59,
     "metadata": {},
     "output_type": "execute_result"
    }
   ],
   "source": [
    "# your code here to limit the dataframe to Ventura County\n",
    "enviroscreen=enviroscreen[enviroscreen.County=='Ventura']\n",
    "enviroscreen.head(1)"
   ]
  },
  {
   "cell_type": "code",
   "execution_count": 60,
   "id": "3a0c359e-19bc-4168-abde-45269c29e519",
   "metadata": {},
   "outputs": [
    {
     "data": {
      "text/plain": [
       "count    173.000000\n",
       "mean       3.117091\n",
       "std      133.919427\n",
       "min     -999.000000\n",
       "25%       12.319224\n",
       "50%       19.423721\n",
       "75%       26.374768\n",
       "max       54.102853\n",
       "Name: CIscore, dtype: float64"
      ]
     },
     "execution_count": 60,
     "metadata": {},
     "output_type": "execute_result"
    }
   ],
   "source": [
    "enviroscreen.CIscore.describe()"
   ]
  },
  {
   "cell_type": "markdown",
   "id": "7eec2a8d-79a6-4cee-a2a8-ac4c12488376",
   "metadata": {},
   "source": [
    "### add collision to census tract"
   ]
  },
  {
   "cell_type": "markdown",
   "id": "89523f4a",
   "metadata": {},
   "source": [
    "<div class=\"alert alert-block alert-info\">\n",
    "<strong>Exercise:</strong> Add the number of collisions to each census tract in the EnviroScreen data frame.\n",
    "</div>"
   ]
  },
  {
   "cell_type": "markdown",
   "id": "e4e568d4",
   "metadata": {},
   "source": [
    "*Hints*:\n",
    "- Think about projections!\n",
    "- I suggest a multistep process\n",
    "  - What census tract is the collision in? Do a spatial join to add the tract (which is in `enviroscreen`) to the collisions dataframe.\n",
    "  - How many collisions are there in each tract? Use `groupby`! Create a new dataframe with the tract-level counts.\n",
    "  - Then you can join these counts back to `enviroscreen` using the `Tract` column\n",
    "  \n",
    "  \n",
    "If you get an error in the final join, `Other Series must have a name`, you can add a name to a pandas `Series` as follows (remember that a Series is like a one-column DataFrame):\n",
    "\n",
    "    `your_series_name.name = 'n_collisions'`"
   ]
  },
  {
   "cell_type": "code",
   "execution_count": 61,
   "id": "5e407307",
   "metadata": {},
   "outputs": [
    {
     "name": "stdout",
     "output_type": "stream",
     "text": [
      "EPSG:4326\n",
      "EPSG:3310\n",
      "EPSG:4326\n"
     ]
    }
   ],
   "source": [
    "# your code here\n",
    "print(collisionGdf.crs)\n",
    "print(enviroscreen.crs)\n",
    "enviroscreen=enviroscreen.to_crs('EPSG:4326')\n",
    "print(enviroscreen.crs)"
   ]
  },
  {
   "cell_type": "code",
   "execution_count": 62,
   "id": "2ffc5bea-5ce2-4058-a1ca-3a5f9cb37efa",
   "metadata": {},
   "outputs": [
    {
     "data": {
      "text/html": [
       "<div>\n",
       "<style scoped>\n",
       "    .dataframe tbody tr th:only-of-type {\n",
       "        vertical-align: middle;\n",
       "    }\n",
       "\n",
       "    .dataframe tbody tr th {\n",
       "        vertical-align: top;\n",
       "    }\n",
       "\n",
       "    .dataframe thead th {\n",
       "        text-align: right;\n",
       "    }\n",
       "</style>\n",
       "<table border=\"1\" class=\"dataframe\">\n",
       "  <thead>\n",
       "    <tr style=\"text-align: right;\">\n",
       "      <th></th>\n",
       "      <th>Tract</th>\n",
       "      <th>geometry</th>\n",
       "      <th>index_right</th>\n",
       "      <th>CASE_ID</th>\n",
       "      <th>ACCIDENT_YEAR</th>\n",
       "      <th>PROC_DATE</th>\n",
       "      <th>JURIS</th>\n",
       "      <th>COLLISION_DATE</th>\n",
       "      <th>COLLISION_TIME</th>\n",
       "      <th>OFFICER_ID</th>\n",
       "      <th>...</th>\n",
       "      <th>COUNT_MC_KILLED</th>\n",
       "      <th>COUNT_MC_INJURED</th>\n",
       "      <th>PRIMARY_RAMP</th>\n",
       "      <th>SECONDARY_RAMP</th>\n",
       "      <th>LATITUDE</th>\n",
       "      <th>LONGITUDE</th>\n",
       "      <th>COUNTY</th>\n",
       "      <th>CITY</th>\n",
       "      <th>POINT_X</th>\n",
       "      <th>POINT_Y</th>\n",
       "    </tr>\n",
       "  </thead>\n",
       "  <tbody>\n",
       "    <tr>\n",
       "      <th>4580</th>\n",
       "      <td>6.111001e+09</td>\n",
       "      <td>POLYGON ((-119.07552 34.34130, -119.08273 34.3...</td>\n",
       "      <td>279</td>\n",
       "      <td>90645616</td>\n",
       "      <td>2018</td>\n",
       "      <td>2018-01-23</td>\n",
       "      <td>9765</td>\n",
       "      <td>2018-01-22</td>\n",
       "      <td>1530</td>\n",
       "      <td>13206</td>\n",
       "      <td>...</td>\n",
       "      <td>0</td>\n",
       "      <td>0</td>\n",
       "      <td>-</td>\n",
       "      <td>-</td>\n",
       "      <td>34.342499</td>\n",
       "      <td>-119.07373</td>\n",
       "      <td>VENTURA</td>\n",
       "      <td>SANTA PAULA</td>\n",
       "      <td>-119.073776</td>\n",
       "      <td>34.342575</td>\n",
       "    </tr>\n",
       "  </tbody>\n",
       "</table>\n",
       "<p>1 rows × 83 columns</p>\n",
       "</div>"
      ],
      "text/plain": [
       "             Tract                                           geometry   \n",
       "4580  6.111001e+09  POLYGON ((-119.07552 34.34130, -119.08273 34.3...  \\\n",
       "\n",
       "      index_right   CASE_ID  ACCIDENT_YEAR   PROC_DATE  JURIS COLLISION_DATE   \n",
       "4580          279  90645616           2018  2018-01-23   9765     2018-01-22  \\\n",
       "\n",
       "      COLLISION_TIME  OFFICER_ID  ... COUNT_MC_KILLED  COUNT_MC_INJURED   \n",
       "4580            1530       13206  ...               0                 0  \\\n",
       "\n",
       "      PRIMARY_RAMP  SECONDARY_RAMP   LATITUDE  LONGITUDE   COUNTY   \n",
       "4580            -               -   34.342499 -119.07373  VENTURA  \\\n",
       "\n",
       "             CITY     POINT_X    POINT_Y  \n",
       "4580  SANTA PAULA -119.073776  34.342575  \n",
       "\n",
       "[1 rows x 83 columns]"
      ]
     },
     "execution_count": 62,
     "metadata": {},
     "output_type": "execute_result"
    }
   ],
   "source": [
    "collisionGdftract= gpd.sjoin(enviroscreen[['Tract', 'geometry']],\n",
    "                            collisionGdf) \n",
    "                              #how=\"inner\", \n",
    "                              #predicate='contains')\n",
    "collisionGdftract.head(1)"
   ]
  },
  {
   "cell_type": "code",
   "execution_count": 63,
   "id": "f72200ff-98c1-49d0-90ea-353e6ba3c555",
   "metadata": {},
   "outputs": [
    {
     "data": {
      "text/html": [
       "<div>\n",
       "<style scoped>\n",
       "    .dataframe tbody tr th:only-of-type {\n",
       "        vertical-align: middle;\n",
       "    }\n",
       "\n",
       "    .dataframe tbody tr th {\n",
       "        vertical-align: top;\n",
       "    }\n",
       "\n",
       "    .dataframe thead th {\n",
       "        text-align: right;\n",
       "    }\n",
       "</style>\n",
       "<table border=\"1\" class=\"dataframe\">\n",
       "  <thead>\n",
       "    <tr style=\"text-align: right;\">\n",
       "      <th></th>\n",
       "      <th>Tract</th>\n",
       "      <th>Collision_Count</th>\n",
       "    </tr>\n",
       "  </thead>\n",
       "  <tbody>\n",
       "    <tr>\n",
       "      <th>0</th>\n",
       "      <td>06111000200</td>\n",
       "      <td>5</td>\n",
       "    </tr>\n",
       "    <tr>\n",
       "      <th>1</th>\n",
       "      <td>06111000302</td>\n",
       "      <td>2</td>\n",
       "    </tr>\n",
       "    <tr>\n",
       "      <th>2</th>\n",
       "      <td>06111000303</td>\n",
       "      <td>1</td>\n",
       "    </tr>\n",
       "    <tr>\n",
       "      <th>3</th>\n",
       "      <td>06111000500</td>\n",
       "      <td>2</td>\n",
       "    </tr>\n",
       "    <tr>\n",
       "      <th>4</th>\n",
       "      <td>06111000600</td>\n",
       "      <td>3</td>\n",
       "    </tr>\n",
       "    <tr>\n",
       "      <th>...</th>\n",
       "      <td>...</td>\n",
       "      <td>...</td>\n",
       "    </tr>\n",
       "    <tr>\n",
       "      <th>108</th>\n",
       "      <td>06111008600</td>\n",
       "      <td>4</td>\n",
       "    </tr>\n",
       "    <tr>\n",
       "      <th>109</th>\n",
       "      <td>06111008700</td>\n",
       "      <td>7</td>\n",
       "    </tr>\n",
       "    <tr>\n",
       "      <th>110</th>\n",
       "      <td>06111008800</td>\n",
       "      <td>3</td>\n",
       "    </tr>\n",
       "    <tr>\n",
       "      <th>111</th>\n",
       "      <td>06111008900</td>\n",
       "      <td>2</td>\n",
       "    </tr>\n",
       "    <tr>\n",
       "      <th>112</th>\n",
       "      <td>06111009100</td>\n",
       "      <td>7</td>\n",
       "    </tr>\n",
       "  </tbody>\n",
       "</table>\n",
       "<p>113 rows × 2 columns</p>\n",
       "</div>"
      ],
      "text/plain": [
       "           Tract  Collision_Count\n",
       "0    06111000200                5\n",
       "1    06111000302                2\n",
       "2    06111000303                1\n",
       "3    06111000500                2\n",
       "4    06111000600                3\n",
       "..           ...              ...\n",
       "108  06111008600                4\n",
       "109  06111008700                7\n",
       "110  06111008800                3\n",
       "111  06111008900                2\n",
       "112  06111009100                7\n",
       "\n",
       "[113 rows x 2 columns]"
      ]
     },
     "execution_count": 63,
     "metadata": {},
     "output_type": "execute_result"
    }
   ],
   "source": [
    "#cleaning the tract number from float to int and string\n",
    "import numpy as np\n",
    "collisionGdftract.Tract=collisionGdftract.Tract.astype(np.int64).astype(str).str.zfill(11)\n",
    "enviroscreen.Tract=enviroscreen.Tract.astype(np.int64).astype(str).str.zfill(11)\n",
    "\n",
    "#grouping collision data by tract\n",
    "collisioncounttract = collisionGdftract.groupby('Tract', as_index=False).size()\n",
    "collisioncounttract.rename(columns={'size':'Collision_Count'}, inplace=True)\n",
    "collisioncounttract"
   ]
  },
  {
   "cell_type": "code",
   "execution_count": 64,
   "id": "64baccc7-a2f3-42ca-8e6d-0af5b2d55a0f",
   "metadata": {},
   "outputs": [
    {
     "data": {
      "text/html": [
       "<div>\n",
       "<style scoped>\n",
       "    .dataframe tbody tr th:only-of-type {\n",
       "        vertical-align: middle;\n",
       "    }\n",
       "\n",
       "    .dataframe tbody tr th {\n",
       "        vertical-align: top;\n",
       "    }\n",
       "\n",
       "    .dataframe thead th {\n",
       "        text-align: right;\n",
       "    }\n",
       "</style>\n",
       "<table border=\"1\" class=\"dataframe\">\n",
       "  <thead>\n",
       "    <tr style=\"text-align: right;\">\n",
       "      <th></th>\n",
       "      <th>ZIP</th>\n",
       "      <th>County</th>\n",
       "      <th>ApproxLoc</th>\n",
       "      <th>TotPop19</th>\n",
       "      <th>CIscore</th>\n",
       "      <th>CIscoreP</th>\n",
       "      <th>Ozone</th>\n",
       "      <th>OzoneP</th>\n",
       "      <th>PM2_5</th>\n",
       "      <th>PM2_5_P</th>\n",
       "      <th>...</th>\n",
       "      <th>Hispanic</th>\n",
       "      <th>White</th>\n",
       "      <th>AfricanAm</th>\n",
       "      <th>NativeAm</th>\n",
       "      <th>OtherMult</th>\n",
       "      <th>Shape_Leng</th>\n",
       "      <th>Shape_Area</th>\n",
       "      <th>AAPI</th>\n",
       "      <th>geometry</th>\n",
       "      <th>Collision_Count</th>\n",
       "    </tr>\n",
       "    <tr>\n",
       "      <th>Tract</th>\n",
       "      <th></th>\n",
       "      <th></th>\n",
       "      <th></th>\n",
       "      <th></th>\n",
       "      <th></th>\n",
       "      <th></th>\n",
       "      <th></th>\n",
       "      <th></th>\n",
       "      <th></th>\n",
       "      <th></th>\n",
       "      <th></th>\n",
       "      <th></th>\n",
       "      <th></th>\n",
       "      <th></th>\n",
       "      <th></th>\n",
       "      <th></th>\n",
       "      <th></th>\n",
       "      <th></th>\n",
       "      <th></th>\n",
       "      <th></th>\n",
       "      <th></th>\n",
       "    </tr>\n",
       "  </thead>\n",
       "  <tbody>\n",
       "    <tr>\n",
       "      <th>06111000701</th>\n",
       "      <td>93060</td>\n",
       "      <td>Ventura</td>\n",
       "      <td>Santa Paula</td>\n",
       "      <td>7508</td>\n",
       "      <td>33.384185</td>\n",
       "      <td>64.762985</td>\n",
       "      <td>0.047165</td>\n",
       "      <td>50.541381</td>\n",
       "      <td>8.966109</td>\n",
       "      <td>36.589919</td>\n",
       "      <td>...</td>\n",
       "      <td>88.0394</td>\n",
       "      <td>6.9393</td>\n",
       "      <td>0.0133</td>\n",
       "      <td>0.2797</td>\n",
       "      <td>2.4907</td>\n",
       "      <td>5097.821978</td>\n",
       "      <td>1.427820e+06</td>\n",
       "      <td>2.2376</td>\n",
       "      <td>POLYGON ((-119.07552 34.34130, -119.08273 34.3...</td>\n",
       "      <td>1.0</td>\n",
       "    </tr>\n",
       "  </tbody>\n",
       "</table>\n",
       "<p>1 rows × 67 columns</p>\n",
       "</div>"
      ],
      "text/plain": [
       "               ZIP   County    ApproxLoc  TotPop19    CIscore   CIscoreP   \n",
       "Tract                                                                      \n",
       "06111000701  93060  Ventura  Santa Paula      7508  33.384185  64.762985  \\\n",
       "\n",
       "                Ozone     OzoneP     PM2_5    PM2_5_P  ...  Hispanic   White   \n",
       "Tract                                                  ...                     \n",
       "06111000701  0.047165  50.541381  8.966109  36.589919  ...   88.0394  6.9393  \\\n",
       "\n",
       "             AfricanAm  NativeAm  OtherMult   Shape_Leng    Shape_Area   \n",
       "Tract                                                                    \n",
       "06111000701     0.0133    0.2797     2.4907  5097.821978  1.427820e+06  \\\n",
       "\n",
       "               AAPI                                           geometry   \n",
       "Tract                                                                    \n",
       "06111000701  2.2376  POLYGON ((-119.07552 34.34130, -119.08273 34.3...  \\\n",
       "\n",
       "             Collision_Count  \n",
       "Tract                         \n",
       "06111000701              1.0  \n",
       "\n",
       "[1 rows x 67 columns]"
      ]
     },
     "execution_count": 64,
     "metadata": {},
     "output_type": "execute_result"
    }
   ],
   "source": [
    "#tabular join collsion count data with enviroscreen df to get tract\n",
    "collisioncounttract.set_index('Tract', inplace=True)\n",
    "enviroscreen.set_index('Tract', inplace=True)\n",
    "enviroscreen=enviroscreen.join(collisioncounttract)\n",
    "\n",
    "#filling null vlaues\n",
    "enviroscreen.Collision_Count.fillna(0,inplace=True)\n",
    "enviroscreen.head(1)"
   ]
  },
  {
   "cell_type": "code",
   "execution_count": 65,
   "id": "56a3c286-7158-4900-bcd4-141ca0343c34",
   "metadata": {},
   "outputs": [
    {
     "data": {
      "text/plain": [
       "count    173.000000\n",
       "mean       3.117091\n",
       "std      133.919427\n",
       "min     -999.000000\n",
       "25%       12.319224\n",
       "50%       19.423721\n",
       "75%       26.374768\n",
       "max       54.102853\n",
       "Name: CIscore, dtype: float64"
      ]
     },
     "execution_count": 65,
     "metadata": {},
     "output_type": "execute_result"
    }
   ],
   "source": [
    "enviroscreen.CIscore.describe()"
   ]
  },
  {
   "cell_type": "markdown",
   "id": "bc59a5b5",
   "metadata": {},
   "source": [
    "<div class=\"alert alert-block alert-info\">\n",
    "<strong>Exercise:</strong> Plot the relationship between traffic collisions and the Enviroscreen score, and/or some of the demographic indicators.\n",
    "</div>"
   ]
  },
  {
   "cell_type": "markdown",
   "id": "5c2ef151",
   "metadata": {},
   "source": [
    "*Hints*:\n",
    "- The `CIscoreP` gives the percentile of each census tract. The higher the score, the more the pollution burden and/or vulnerability as measured via demographic characteristics. Disadvantaged communities are defined as those with a percentile of 75 or greater.\n",
    "- Try boxplots, scatterplots, or the `seaborn.regplot` (a scatter plot with the line of best fit)\n",
    "- You can also map the results"
   ]
  },
  {
   "cell_type": "code",
   "execution_count": 66,
   "id": "739355be-f548-4f4f-b8fb-23d0a9bb5b66",
   "metadata": {},
   "outputs": [
    {
     "data": {
      "text/plain": [
       "<Axes: xlabel='CIscore', ylabel='Collision_Count'>"
      ]
     },
     "execution_count": 66,
     "metadata": {},
     "output_type": "execute_result"
    },
    {
     "data": {
      "image/png": "[encoded data removed]",
      "text/plain": [
       "<Figure size 640x480 with 1 Axes>"
      ]
     },
     "metadata": {},
     "output_type": "display_data"
    }
   ],
   "source": [
    "#plotting CI score and COllision count\n",
    "enviroscreen.plot.scatter(x='CIscore', \n",
    "                          y='Collision_Count',\n",
    "                          s=50\n",
    "                         )"
   ]
  },
  {
   "cell_type": "code",
   "execution_count": 67,
   "id": "14a5c00c-61d6-4f01-b586-6a957746b2a6",
   "metadata": {},
   "outputs": [
    {
     "name": "stdout",
     "output_type": "stream",
     "text": [
      "orignal \n",
      " count    173.000000\n",
      "mean       3.117091\n",
      "std      133.919427\n",
      "min     -999.000000\n",
      "25%       12.319224\n",
      "50%       19.423721\n",
      "75%       26.374768\n",
      "max       54.102853\n",
      "Name: CIscore, dtype: float64\n",
      "after dropping -999 \n",
      " count    170.000000\n",
      "mean      20.801510\n",
      "std       10.557665\n",
      "min        4.295635\n",
      "25%       12.644897\n",
      "50%       19.506228\n",
      "75%       26.512578\n",
      "max       54.102853\n",
      "Name: CIscore, dtype: float64\n"
     ]
    }
   ],
   "source": [
    "#dropping -999 values\n",
    "print(\"orignal \\n\", enviroscreen.CIscore.describe())\n",
    "enviroscreen=enviroscreen[enviroscreen.CIscore!=-999]\n",
    "print(\"after dropping -999 \\n\", enviroscreen.CIscore.describe())"
   ]
  },
  {
   "cell_type": "code",
   "execution_count": 68,
   "id": "2e06c6db",
   "metadata": {},
   "outputs": [
    {
     "data": {
      "text/plain": [
       "<Axes: xlabel='CIscore', ylabel='Collision_Count'>"
      ]
     },
     "execution_count": 68,
     "metadata": {},
     "output_type": "execute_result"
    },
    {
     "data": {
      "image/png": "[encoded data removed]",
      "text/plain": [
       "<Figure size 640x480 with 1 Axes>"
      ]
     },
     "metadata": {},
     "output_type": "display_data"
    }
   ],
   "source": [
    "# your code here\n",
    "enviroscreen.plot.scatter(x='CIscore', \n",
    "                          y='Collision_Count',\n",
    "                          s=50\n",
    "                         )"
   ]
  },
  {
   "cell_type": "code",
   "execution_count": 69,
   "id": "18e6cd8e",
   "metadata": {},
   "outputs": [
    {
     "data": {
      "image/png": "[encoded data removed]",
      "text/plain": [
       "<Figure size 640x480 with 1 Axes>"
      ]
     },
     "metadata": {},
     "output_type": "display_data"
    }
   ],
   "source": [
    "import seaborn as sns\n",
    "ax = sns.regplot(x='CIscore', y='Collision_Count', data=enviroscreen)"
   ]
  },
  {
   "cell_type": "markdown",
   "id": "84771c77-f7db-454a-8ef8-115c32f89d73",
   "metadata": {},
   "source": [
    "eaborn.boxplot(data=None, *, x=None, y=None, hue=None, order=None, hue_order=None, orient=None, color=None, palette=None, saturation=0.75, width=0.8, dodge=True, fliersize=5, linewidth=None, whis=1.5, ax=None, **kwargs)\n"
   ]
  },
  {
   "cell_type": "code",
   "execution_count": 70,
   "id": "d72cf8f1-9799-4763-8a44-bcec19c2d152",
   "metadata": {},
   "outputs": [
    {
     "data": {
      "text/plain": [
       "Text(0.5, 1.0, 'CIscore')"
      ]
     },
     "execution_count": 70,
     "metadata": {},
     "output_type": "execute_result"
    },
    {
     "data": {
      "image/png": "[encoded data removed]",
      "text/plain": [
       "<Figure size 1500x500 with 2 Axes>"
      ]
     },
     "metadata": {},
     "output_type": "display_data"
    }
   ],
   "source": [
    "# code for subplotting from: https://dev.to/thalesbruno/subplotting-with-matplotlib-and-seaborn-5ei8 \n",
    "from matplotlib import pyplot as plt\n",
    "fig, axes = plt.subplots(1, 2, figsize=(15, 5), sharey=True)\n",
    "fig.suptitle('Ventura County')\n",
    "\n",
    "sns.boxplot(ax=axes[0], x='Collision_Count', y='ApproxLoc', data=enviroscreen)\n",
    "axes[0].set_title(\"Collision Count\")\n",
    "\n",
    "sns.boxplot(ax=axes[1], x='CIscore', y='ApproxLoc', data=enviroscreen)\n",
    "axes[1].set_title(\"CIscore\")"
   ]
  },
  {
   "cell_type": "code",
   "execution_count": null,
   "id": "e3f0048a-dfe1-43e2-8f75-edde871b7ecd",
   "metadata": {},
   "outputs": [],
   "source": []
  },
  {
   "cell_type": "markdown",
   "id": "d966a1bf",
   "metadata": {},
   "source": [
    "## Schools\n",
    "Now let's do a join to the schools dataset. [Download the shapefile with the point location of schools](https://data-cdegis.opendata.arcgis.com/datasets/CDEGIS::california-schools-2019-20/about). If you put it in your class repository in the `classes/` directory, you won't have to specify the path.\n"
   ]
  },
  {
   "cell_type": "markdown",
   "id": "128c3cb0",
   "metadata": {},
   "source": [
    "<div class=\"alert alert-block alert-info\">\n",
    "    <strong>Exercise:</strong> Load the schools data into a geodataframe called <strong>schools</strong>. Drop all the schools that are not in Ventura County. (You can use the <strong>CountyName</strong> column.)\n",
    "</div>"
   ]
  },
  {
   "cell_type": "code",
   "execution_count": 47,
   "id": "a5096cd1",
   "metadata": {},
   "outputs": [
    {
     "data": {
      "text/html": [
       "<div>\n",
       "<style scoped>\n",
       "    .dataframe tbody tr th:only-of-type {\n",
       "        vertical-align: middle;\n",
       "    }\n",
       "\n",
       "    .dataframe tbody tr th {\n",
       "        vertical-align: top;\n",
       "    }\n",
       "\n",
       "    .dataframe thead th {\n",
       "        text-align: right;\n",
       "    }\n",
       "</style>\n",
       "<table border=\"1\" class=\"dataframe\">\n",
       "  <thead>\n",
       "    <tr style=\"text-align: right;\">\n",
       "      <th></th>\n",
       "      <th>OBJECTID</th>\n",
       "      <th>Year</th>\n",
       "      <th>FedID</th>\n",
       "      <th>CDSCode</th>\n",
       "      <th>CDCode</th>\n",
       "      <th>SCode</th>\n",
       "      <th>CountyName</th>\n",
       "      <th>DistrictNa</th>\n",
       "      <th>SchoolName</th>\n",
       "      <th>SchoolType</th>\n",
       "      <th>...</th>\n",
       "      <th>HOMpct</th>\n",
       "      <th>MIGcount</th>\n",
       "      <th>MIGpct</th>\n",
       "      <th>SEDCount</th>\n",
       "      <th>SEDpct</th>\n",
       "      <th>SWDcount</th>\n",
       "      <th>SWDpct</th>\n",
       "      <th>FRPMcount</th>\n",
       "      <th>FRPMpct</th>\n",
       "      <th>geometry</th>\n",
       "    </tr>\n",
       "  </thead>\n",
       "  <tbody>\n",
       "    <tr>\n",
       "      <th>0</th>\n",
       "      <td>1</td>\n",
       "      <td>2019-20</td>\n",
       "      <td>060161410947</td>\n",
       "      <td>01100170112607</td>\n",
       "      <td>0110017</td>\n",
       "      <td>0112607</td>\n",
       "      <td>Alameda</td>\n",
       "      <td>Alameda County Office of Education</td>\n",
       "      <td>Envision Academy for Arts &amp; Technology</td>\n",
       "      <td>High</td>\n",
       "      <td>...</td>\n",
       "      <td>0.0</td>\n",
       "      <td>0</td>\n",
       "      <td>0.0</td>\n",
       "      <td>313.0</td>\n",
       "      <td>76.000000</td>\n",
       "      <td>53</td>\n",
       "      <td>12.900000</td>\n",
       "      <td>295</td>\n",
       "      <td>71.599998</td>\n",
       "      <td>POINT (-13610853.802 4551870.274)</td>\n",
       "    </tr>\n",
       "    <tr>\n",
       "      <th>1</th>\n",
       "      <td>2</td>\n",
       "      <td>2019-20</td>\n",
       "      <td>060169112844</td>\n",
       "      <td>01100170123968</td>\n",
       "      <td>0110017</td>\n",
       "      <td>0123968</td>\n",
       "      <td>Alameda</td>\n",
       "      <td>Alameda County Office of Education</td>\n",
       "      <td>Community School for Creative Education</td>\n",
       "      <td>Elementary</td>\n",
       "      <td>...</td>\n",
       "      <td>0.0</td>\n",
       "      <td>0</td>\n",
       "      <td>0.0</td>\n",
       "      <td>233.0</td>\n",
       "      <td>87.300003</td>\n",
       "      <td>31</td>\n",
       "      <td>11.600000</td>\n",
       "      <td>228</td>\n",
       "      <td>85.400002</td>\n",
       "      <td>POINT (-13607542.047 4549047.180)</td>\n",
       "    </tr>\n",
       "    <tr>\n",
       "      <th>2</th>\n",
       "      <td>3</td>\n",
       "      <td>2019-20</td>\n",
       "      <td>060201312901</td>\n",
       "      <td>01100170124172</td>\n",
       "      <td>0110017</td>\n",
       "      <td>0124172</td>\n",
       "      <td>Alameda</td>\n",
       "      <td>Alameda County Office of Education</td>\n",
       "      <td>Yu Ming Charter</td>\n",
       "      <td>Elementary</td>\n",
       "      <td>...</td>\n",
       "      <td>0.0</td>\n",
       "      <td>0</td>\n",
       "      <td>0.0</td>\n",
       "      <td>79.0</td>\n",
       "      <td>16.200001</td>\n",
       "      <td>28</td>\n",
       "      <td>5.700000</td>\n",
       "      <td>77</td>\n",
       "      <td>15.800000</td>\n",
       "      <td>POINT (-13612550.311 4557886.694)</td>\n",
       "    </tr>\n",
       "    <tr>\n",
       "      <th>3</th>\n",
       "      <td>4</td>\n",
       "      <td>2019-20</td>\n",
       "      <td>060181613008</td>\n",
       "      <td>01100170125567</td>\n",
       "      <td>0110017</td>\n",
       "      <td>0125567</td>\n",
       "      <td>Alameda</td>\n",
       "      <td>Alameda County Office of Education</td>\n",
       "      <td>Urban Montessori Charter</td>\n",
       "      <td>Elementary</td>\n",
       "      <td>...</td>\n",
       "      <td>0.8</td>\n",
       "      <td>0</td>\n",
       "      <td>0.0</td>\n",
       "      <td>136.0</td>\n",
       "      <td>34.599998</td>\n",
       "      <td>41</td>\n",
       "      <td>10.400000</td>\n",
       "      <td>132</td>\n",
       "      <td>33.599998</td>\n",
       "      <td>POINT (-13602114.109 4548176.740)</td>\n",
       "    </tr>\n",
       "    <tr>\n",
       "      <th>4</th>\n",
       "      <td>5</td>\n",
       "      <td>2019-20</td>\n",
       "      <td>060222313772</td>\n",
       "      <td>01100170129403</td>\n",
       "      <td>0110017</td>\n",
       "      <td>0129403</td>\n",
       "      <td>Alameda</td>\n",
       "      <td>Alameda County Office of Education</td>\n",
       "      <td>Epic Charter</td>\n",
       "      <td>Middle</td>\n",
       "      <td>...</td>\n",
       "      <td>0.0</td>\n",
       "      <td>0</td>\n",
       "      <td>0.0</td>\n",
       "      <td>218.0</td>\n",
       "      <td>88.599998</td>\n",
       "      <td>45</td>\n",
       "      <td>18.299999</td>\n",
       "      <td>199</td>\n",
       "      <td>80.900002</td>\n",
       "      <td>POINT (-13606538.613 4547987.027)</td>\n",
       "    </tr>\n",
       "  </tbody>\n",
       "</table>\n",
       "<p>5 rows × 69 columns</p>\n",
       "</div>"
      ],
      "text/plain": [
       "   OBJECTID     Year         FedID         CDSCode   CDCode    SCode   \n",
       "0         1  2019-20  060161410947  01100170112607  0110017  0112607  \\\n",
       "1         2  2019-20  060169112844  01100170123968  0110017  0123968   \n",
       "2         3  2019-20  060201312901  01100170124172  0110017  0124172   \n",
       "3         4  2019-20  060181613008  01100170125567  0110017  0125567   \n",
       "4         5  2019-20  060222313772  01100170129403  0110017  0129403   \n",
       "\n",
       "  CountyName                          DistrictNa   \n",
       "0    Alameda  Alameda County Office of Education  \\\n",
       "1    Alameda  Alameda County Office of Education   \n",
       "2    Alameda  Alameda County Office of Education   \n",
       "3    Alameda  Alameda County Office of Education   \n",
       "4    Alameda  Alameda County Office of Education   \n",
       "\n",
       "                                SchoolName  SchoolType  ... HOMpct MIGcount   \n",
       "0   Envision Academy for Arts & Technology        High  ...    0.0        0  \\\n",
       "1  Community School for Creative Education  Elementary  ...    0.0        0   \n",
       "2                          Yu Ming Charter  Elementary  ...    0.0        0   \n",
       "3                 Urban Montessori Charter  Elementary  ...    0.8        0   \n",
       "4                             Epic Charter      Middle  ...    0.0        0   \n",
       "\n",
       "   MIGpct SEDCount     SEDpct SWDcount     SWDpct FRPMcount    FRPMpct   \n",
       "0     0.0    313.0  76.000000       53  12.900000       295  71.599998  \\\n",
       "1     0.0    233.0  87.300003       31  11.600000       228  85.400002   \n",
       "2     0.0     79.0  16.200001       28   5.700000        77  15.800000   \n",
       "3     0.0    136.0  34.599998       41  10.400000       132  33.599998   \n",
       "4     0.0    218.0  88.599998       45  18.299999       199  80.900002   \n",
       "\n",
       "                            geometry  \n",
       "0  POINT (-13610853.802 4551870.274)  \n",
       "1  POINT (-13607542.047 4549047.180)  \n",
       "2  POINT (-13612550.311 4557886.694)  \n",
       "3  POINT (-13602114.109 4548176.740)  \n",
       "4  POINT (-13606538.613 4547987.027)  \n",
       "\n",
       "[5 rows x 69 columns]"
      ]
     },
     "execution_count": 47,
     "metadata": {},
     "output_type": "execute_result"
    }
   ],
   "source": [
    "# your code here\n",
    "schools = gpd.read_file('../data/calschools/SchoolSites1920.shp')\n",
    "schools.head()"
   ]
  },
  {
   "cell_type": "code",
   "execution_count": 48,
   "id": "2d1b08a6-a0f1-4f65-a606-3d5e9a1250a5",
   "metadata": {},
   "outputs": [
    {
     "data": {
      "text/html": [
       "<div>\n",
       "<style scoped>\n",
       "    .dataframe tbody tr th:only-of-type {\n",
       "        vertical-align: middle;\n",
       "    }\n",
       "\n",
       "    .dataframe tbody tr th {\n",
       "        vertical-align: top;\n",
       "    }\n",
       "\n",
       "    .dataframe thead th {\n",
       "        text-align: right;\n",
       "    }\n",
       "</style>\n",
       "<table border=\"1\" class=\"dataframe\">\n",
       "  <thead>\n",
       "    <tr style=\"text-align: right;\">\n",
       "      <th></th>\n",
       "      <th>OBJECTID</th>\n",
       "      <th>Year</th>\n",
       "      <th>FedID</th>\n",
       "      <th>CDSCode</th>\n",
       "      <th>CDCode</th>\n",
       "      <th>SCode</th>\n",
       "      <th>CountyName</th>\n",
       "      <th>DistrictNa</th>\n",
       "      <th>SchoolName</th>\n",
       "      <th>SchoolType</th>\n",
       "      <th>...</th>\n",
       "      <th>HOMpct</th>\n",
       "      <th>MIGcount</th>\n",
       "      <th>MIGpct</th>\n",
       "      <th>SEDCount</th>\n",
       "      <th>SEDpct</th>\n",
       "      <th>SWDcount</th>\n",
       "      <th>SWDpct</th>\n",
       "      <th>FRPMcount</th>\n",
       "      <th>FRPMpct</th>\n",
       "      <th>geometry</th>\n",
       "    </tr>\n",
       "  </thead>\n",
       "  <tbody>\n",
       "    <tr>\n",
       "      <th>9831</th>\n",
       "      <td>9832</td>\n",
       "      <td>2019-20</td>\n",
       "      <td>063684009639</td>\n",
       "      <td>56726035630249</td>\n",
       "      <td>5672603</td>\n",
       "      <td>5630249</td>\n",
       "      <td>Ventura</td>\n",
       "      <td>Simi Valley Unified</td>\n",
       "      <td>Monte Vista</td>\n",
       "      <td>Alternative Schools of Choice</td>\n",
       "      <td>...</td>\n",
       "      <td>0.3</td>\n",
       "      <td>0</td>\n",
       "      <td>0.0</td>\n",
       "      <td>105.0</td>\n",
       "      <td>34.700001</td>\n",
       "      <td>20</td>\n",
       "      <td>6.6</td>\n",
       "      <td>100</td>\n",
       "      <td>33.0</td>\n",
       "      <td>POINT (-13222728.378 4063968.021)</td>\n",
       "    </tr>\n",
       "  </tbody>\n",
       "</table>\n",
       "<p>1 rows × 69 columns</p>\n",
       "</div>"
      ],
      "text/plain": [
       "      OBJECTID     Year         FedID         CDSCode   CDCode    SCode   \n",
       "9831      9832  2019-20  063684009639  56726035630249  5672603  5630249  \\\n",
       "\n",
       "     CountyName           DistrictNa   SchoolName   \n",
       "9831    Ventura  Simi Valley Unified  Monte Vista  \\\n",
       "\n",
       "                         SchoolType  ... HOMpct MIGcount  MIGpct SEDCount   \n",
       "9831  Alternative Schools of Choice  ...    0.3        0     0.0    105.0  \\\n",
       "\n",
       "         SEDpct SWDcount SWDpct FRPMcount FRPMpct   \n",
       "9831  34.700001       20    6.6       100    33.0  \\\n",
       "\n",
       "                               geometry  \n",
       "9831  POINT (-13222728.378 4063968.021)  \n",
       "\n",
       "[1 rows x 69 columns]"
      ]
     },
     "execution_count": 48,
     "metadata": {},
     "output_type": "execute_result"
    }
   ],
   "source": [
    "# your code here to limit the dataframe to Ventura County\n",
    "schools=schools[schools.CountyName=='Ventura']\n",
    "schools.sample(1)"
   ]
  },
  {
   "cell_type": "code",
   "execution_count": 49,
   "id": "ec105433-1940-421e-a3d0-74e7c0c8aecf",
   "metadata": {},
   "outputs": [
    {
     "data": {
      "text/plain": [
       "<Axes: >"
      ]
     },
     "execution_count": 49,
     "metadata": {},
     "output_type": "execute_result"
    },
    {
     "data": {
      "image/png": "[encoded data removed]",
      "text/plain": [
       "<Figure size 640x480 with 1 Axes>"
      ]
     },
     "metadata": {},
     "output_type": "display_data"
    }
   ],
   "source": [
    "schools.plot()"
   ]
  },
  {
   "cell_type": "markdown",
   "id": "aca0086c",
   "metadata": {},
   "source": [
    "<div class=\"alert alert-block alert-info\">\n",
    "    <strong>Exercise:</strong>In my version of the data, it looks like there is an errant school in the far north of California, that only purports to be in Ventura County. Identify and drop it.\n",
    "</div>"
   ]
  },
  {
   "cell_type": "markdown",
   "id": "9ff28c25",
   "metadata": {},
   "source": [
    "*Hint*: There are several ways to approach this. My approach would be to:\n",
    "\n",
    "* Create a new column with the `y` coordinate: `schools['y'] = schools.geometry.y`\n",
    "* Sort by this column to find the row with the highest value of `y`\n",
    "* Drop that row (e.g. `schools = schools[schools.y<some_value_of_y]`\n"
   ]
  },
  {
   "cell_type": "code",
   "execution_count": 50,
   "id": "9d00715d",
   "metadata": {},
   "outputs": [
    {
     "data": {
      "text/plain": [
       "count    2.090000e+02\n",
       "mean     4.065726e+06\n",
       "std      4.476218e+04\n",
       "min      4.048145e+06\n",
       "25%      4.055386e+06\n",
       "50%      4.061394e+06\n",
       "75%      4.066258e+06\n",
       "max      4.693608e+06\n",
       "Name: y, dtype: float64"
      ]
     },
     "execution_count": 50,
     "metadata": {},
     "output_type": "execute_result"
    }
   ],
   "source": [
    "# your code here\n",
    "schools['y']=schools.geometry.y\n",
    "schools.y.describe()"
   ]
  },
  {
   "cell_type": "code",
   "execution_count": 52,
   "id": "c2677bf9-0519-4928-a7fa-5746d923533b",
   "metadata": {},
   "outputs": [
    {
     "data": {
      "text/plain": [
       "count    2.080000e+02\n",
       "mean     4.062707e+06\n",
       "std      9.982471e+03\n",
       "min      4.048145e+06\n",
       "25%      4.055379e+06\n",
       "50%      4.061353e+06\n",
       "75%      4.066243e+06\n",
       "max      4.090529e+06\n",
       "Name: y, dtype: float64"
      ]
     },
     "execution_count": 52,
     "metadata": {},
     "output_type": "execute_result"
    }
   ],
   "source": [
    "schools = schools[schools.y<4.593608e+06]\n",
    "schools.y.describe()"
   ]
  },
  {
   "cell_type": "code",
   "execution_count": 53,
   "id": "a63a0c67-52be-4e61-beb5-7e80d0f8c4f7",
   "metadata": {},
   "outputs": [
    {
     "data": {
      "text/plain": [
       "<Axes: >"
      ]
     },
     "execution_count": 53,
     "metadata": {},
     "output_type": "execute_result"
    },
    {
     "data": {
      "image/png": "[encoded data removed]",
      "text/plain": [
       "<Figure size 640x480 with 1 Axes>"
      ]
     },
     "metadata": {},
     "output_type": "display_data"
    }
   ],
   "source": [
    "schools.plot()"
   ]
  },
  {
   "cell_type": "markdown",
   "id": "5b02b573",
   "metadata": {},
   "source": [
    "Now, how do we join the schools to the collision data? Both are point geometries"
   ]
  },
  {
   "cell_type": "markdown",
   "id": "24327cee",
   "metadata": {},
   "source": [
    "<div class=\"alert alert-block alert-info\">\n",
    "<strong>Exercise:</strong> Think conceptually about different options to do the join. It can help to do some sketches.</div>"
   ]
  },
  {
   "cell_type": "markdown",
   "id": "715551f4",
   "metadata": {},
   "source": [
    "There are several ways to do this, but let's look at the number of collisions within a 1km radius of each school. Then, we can follow a five-step process:\n",
    "* Make sure we are working in a suitable projection\n",
    "* Create a 1km buffer around each school\n",
    "* Do a spatial join between collisions and (buffered) schools, attaching school ids to the collision geodataframe\n",
    "* Group by the school id to get the counts\n",
    "* Join back to the school data\n",
    "\n",
    "\n",
    "*NOTE*: Buffering a geometry isn't usually the most efficient way to get this count, because creating new geometries takes time and memory. Instead, we could get the distances between each school and each collision, and count the number with a distance (like we did in the video lecture). That's a little more complicated, and for a small dataset the speed penalty is going to be minimal. But for large datasets, try and avoid creating buffer geometries."
   ]
  },
  {
   "cell_type": "markdown",
   "id": "09baf9bb",
   "metadata": {},
   "source": [
    "<div class=\"alert alert-block alert-info\">\n",
    "<strong>Exercise:</strong> Find the relevant State Plane coordinate reference system for Ventura County (choose the one in meters, not feet). Convert both <strong>schools</strong> and <strong>collisionGdf</strong> to that crs.</div>"
   ]
  },
  {
   "cell_type": "code",
   "execution_count": 75,
   "id": "43f51968",
   "metadata": {},
   "outputs": [
    {
     "name": "stdout",
     "output_type": "stream",
     "text": [
      "EPSG:4326\n",
      "EPSG:3857\n"
     ]
    }
   ],
   "source": [
    "# your code here\n",
    "print(collisionGdf.crs)\n",
    "print(schools.crs)"
   ]
  },
  {
   "cell_type": "code",
   "execution_count": 81,
   "id": "01cd97f3-23e7-4fbc-a72b-7c1dc150c80a",
   "metadata": {},
   "outputs": [],
   "source": [
    "# ventury is in state plane zone 5 with EPSG:3497\n",
    "collisionGdf=collisionGdf.to_crs('EPSG:3497')\n",
    "schools=schools.to_crs('EPSG:3497')"
   ]
  },
  {
   "cell_type": "markdown",
   "id": "fe419b47",
   "metadata": {},
   "source": [
    "<div class=\"alert alert-block alert-info\">\n",
    "<strong>Exercise:</strong> Convert the school geometry into a 1km buffer."
   ]
  },
  {
   "cell_type": "markdown",
   "id": "2784a282",
   "metadata": {},
   "source": [
    "*Hint*: The `buffer()` function will work here. It will create a new geometry, which you can use to overwrite the old one. You can buffer lines and polygons as well as points.\n",
    "\n",
    "For example: `gdf.geometry = gdf.geometry.buffer(100)`. "
   ]
  },
  {
   "cell_type": "code",
   "execution_count": null,
   "id": "39703cab",
   "metadata": {},
   "outputs": [],
   "source": [
    "# creating buffer\n",
    "collisionGdf.geometry = gdf.geometry.buffer(100)\n"
   ]
  },
  {
   "cell_type": "markdown",
   "id": "c363214c",
   "metadata": {},
   "source": [
    "<div class=\"alert alert-block alert-info\">\n",
    "<strong>Exercise:</strong> Add a column to the schools data with the number of collisions within 1km."
   ]
  },
  {
   "cell_type": "markdown",
   "id": "b2768cfb",
   "metadata": {},
   "source": [
    "*Hint*: You should now be able to follow steps 3-5 using the same procedure as with the EnviroScreen data. "
   ]
  },
  {
   "cell_type": "code",
   "execution_count": null,
   "id": "b426a2af",
   "metadata": {},
   "outputs": [],
   "source": [
    "# your code here\n"
   ]
  },
  {
   "cell_type": "markdown",
   "id": "204ff5cc",
   "metadata": {},
   "source": [
    "<div class=\"alert alert-block alert-info\">\n",
    "<strong>Exercise:</strong> Map the number of collisions near each school."
   ]
  },
  {
   "cell_type": "markdown",
   "id": "af029d17",
   "metadata": {},
   "source": [
    "*Hints*: \n",
    "* There are several ways to do this. You could do proportional markers (you might need to scale the `n_collisions` column). Add a basemap too!\n",
    "* Note that you can't do proportional circles for the schools polygon geometry - just for points. You'll need to convert the geometry back to the centroids (`gdf.geometry = gdf.geometry.centroid`). (Or you could have saved a copy of the old geodataframe and joined the collision counts back to that.)"
   ]
  },
  {
   "cell_type": "code",
   "execution_count": null,
   "id": "1d22514a",
   "metadata": {},
   "outputs": [],
   "source": [
    "# your code here\n"
   ]
  },
  {
   "cell_type": "markdown",
   "id": "73f6e1c6",
   "metadata": {},
   "source": [
    "## Joins gone wrong"
   ]
  },
  {
   "cell_type": "markdown",
   "id": "041fefc9",
   "metadata": {},
   "source": [
    "<div class=\"alert alert-block alert-info\">\n",
    "<strong>Exercise:</strong> Fix the errors in each cell below. (Not all of them generate Python exceptions, but the join might not be what you expect.)\n",
    "</div>"
   ]
  },
  {
   "cell_type": "code",
   "execution_count": 77,
   "id": "d8a6bff8",
   "metadata": {},
   "outputs": [],
   "source": [
    "# first, reload a clean copy of the data\n",
    "collisionDf3 = pd.read_csv('../data/Collisions.csv')\n",
    "enviroscreen3 = gpd.read_file('../data/CalEnviroScreen/CES4 Final Shapefile.shp')"
   ]
  },
  {
   "cell_type": "code",
   "execution_count": 78,
   "id": "5207199d",
   "metadata": {},
   "outputs": [
    {
     "ename": "ValueError",
     "evalue": "'left_df' should be GeoDataFrame, got <class 'pandas.core.frame.DataFrame'>",
     "output_type": "error",
     "traceback": [
      "\u001b[0;31m---------------------------------------------------------------------------\u001b[0m",
      "\u001b[0;31mValueError\u001b[0m                                Traceback (most recent call last)",
      "Cell \u001b[0;32mIn[78], line 2\u001b[0m\n\u001b[1;32m      1\u001b[0m \u001b[38;5;66;03m# spatial join between collisions and EnviroScreen\u001b[39;00m\n\u001b[0;32m----> 2\u001b[0m joined \u001b[38;5;241m=\u001b[39m \u001b[43mgpd\u001b[49m\u001b[38;5;241;43m.\u001b[39;49m\u001b[43msjoin\u001b[49m\u001b[43m(\u001b[49m\u001b[43mcollisionDf3\u001b[49m\u001b[43m,\u001b[49m\u001b[43m \u001b[49m\u001b[43menviroscreen3\u001b[49m\u001b[43m,\u001b[49m\u001b[43m \u001b[49m\u001b[43mpredicate\u001b[49m\u001b[38;5;241;43m=\u001b[39;49m\u001b[38;5;124;43m'\u001b[39;49m\u001b[38;5;124;43mintersects\u001b[39;49m\u001b[38;5;124;43m'\u001b[39;49m\u001b[43m)\u001b[49m\n",
      "File \u001b[0;32m~/opt/anaconda3/envs/uds/lib/python3.10/site-packages/geopandas/tools/sjoin.py:122\u001b[0m, in \u001b[0;36msjoin\u001b[0;34m(left_df, right_df, how, predicate, lsuffix, rsuffix, **kwargs)\u001b[0m\n\u001b[1;32m    119\u001b[0m     first \u001b[38;5;241m=\u001b[39m \u001b[38;5;28mnext\u001b[39m(\u001b[38;5;28miter\u001b[39m(kwargs\u001b[38;5;241m.\u001b[39mkeys()))\n\u001b[1;32m    120\u001b[0m     \u001b[38;5;28;01mraise\u001b[39;00m \u001b[38;5;167;01mTypeError\u001b[39;00m(\u001b[38;5;124mf\u001b[39m\u001b[38;5;124m\"\u001b[39m\u001b[38;5;124msjoin() got an unexpected keyword argument \u001b[39m\u001b[38;5;124m'\u001b[39m\u001b[38;5;132;01m{\u001b[39;00mfirst\u001b[38;5;132;01m}\u001b[39;00m\u001b[38;5;124m'\u001b[39m\u001b[38;5;124m\"\u001b[39m)\n\u001b[0;32m--> 122\u001b[0m \u001b[43m_basic_checks\u001b[49m\u001b[43m(\u001b[49m\u001b[43mleft_df\u001b[49m\u001b[43m,\u001b[49m\u001b[43m \u001b[49m\u001b[43mright_df\u001b[49m\u001b[43m,\u001b[49m\u001b[43m \u001b[49m\u001b[43mhow\u001b[49m\u001b[43m,\u001b[49m\u001b[43m \u001b[49m\u001b[43mlsuffix\u001b[49m\u001b[43m,\u001b[49m\u001b[43m \u001b[49m\u001b[43mrsuffix\u001b[49m\u001b[43m)\u001b[49m\n\u001b[1;32m    124\u001b[0m indices \u001b[38;5;241m=\u001b[39m _geom_predicate_query(left_df, right_df, predicate)\n\u001b[1;32m    126\u001b[0m joined \u001b[38;5;241m=\u001b[39m _frame_join(indices, left_df, right_df, how, lsuffix, rsuffix)\n",
      "File \u001b[0;32m~/opt/anaconda3/envs/uds/lib/python3.10/site-packages/geopandas/tools/sjoin.py:150\u001b[0m, in \u001b[0;36m_basic_checks\u001b[0;34m(left_df, right_df, how, lsuffix, rsuffix)\u001b[0m\n\u001b[1;32m    132\u001b[0m \u001b[38;5;250m\u001b[39m\u001b[38;5;124;03m\"\"\"Checks the validity of join input parameters.\u001b[39;00m\n\u001b[1;32m    133\u001b[0m \n\u001b[1;32m    134\u001b[0m \u001b[38;5;124;03m`how` must be one of the valid options.\u001b[39;00m\n\u001b[0;32m   (...)\u001b[0m\n\u001b[1;32m    147\u001b[0m \u001b[38;5;124;03m    right index suffix\u001b[39;00m\n\u001b[1;32m    148\u001b[0m \u001b[38;5;124;03m\"\"\"\u001b[39;00m\n\u001b[1;32m    149\u001b[0m \u001b[38;5;28;01mif\u001b[39;00m \u001b[38;5;129;01mnot\u001b[39;00m \u001b[38;5;28misinstance\u001b[39m(left_df, GeoDataFrame):\n\u001b[0;32m--> 150\u001b[0m     \u001b[38;5;28;01mraise\u001b[39;00m \u001b[38;5;167;01mValueError\u001b[39;00m(\n\u001b[1;32m    151\u001b[0m         \u001b[38;5;124m\"\u001b[39m\u001b[38;5;124m'\u001b[39m\u001b[38;5;124mleft_df\u001b[39m\u001b[38;5;124m'\u001b[39m\u001b[38;5;124m should be GeoDataFrame, got \u001b[39m\u001b[38;5;132;01m{}\u001b[39;00m\u001b[38;5;124m\"\u001b[39m\u001b[38;5;241m.\u001b[39mformat(\u001b[38;5;28mtype\u001b[39m(left_df))\n\u001b[1;32m    152\u001b[0m     )\n\u001b[1;32m    154\u001b[0m \u001b[38;5;28;01mif\u001b[39;00m \u001b[38;5;129;01mnot\u001b[39;00m \u001b[38;5;28misinstance\u001b[39m(right_df, GeoDataFrame):\n\u001b[1;32m    155\u001b[0m     \u001b[38;5;28;01mraise\u001b[39;00m \u001b[38;5;167;01mValueError\u001b[39;00m(\n\u001b[1;32m    156\u001b[0m         \u001b[38;5;124m\"\u001b[39m\u001b[38;5;124m'\u001b[39m\u001b[38;5;124mright_df\u001b[39m\u001b[38;5;124m'\u001b[39m\u001b[38;5;124m should be GeoDataFrame, got \u001b[39m\u001b[38;5;132;01m{}\u001b[39;00m\u001b[38;5;124m\"\u001b[39m\u001b[38;5;241m.\u001b[39mformat(\u001b[38;5;28mtype\u001b[39m(right_df))\n\u001b[1;32m    157\u001b[0m     )\n",
      "\u001b[0;31mValueError\u001b[0m: 'left_df' should be GeoDataFrame, got <class 'pandas.core.frame.DataFrame'>"
     ]
    }
   ],
   "source": [
    "# spatial join between collisions and EnviroScreen\n",
    "joined = gpd.sjoin(collisionDf3, enviroscreen3, predicate='intersects')"
   ]
  },
  {
   "cell_type": "code",
   "execution_count": 79,
   "id": "14511057",
   "metadata": {},
   "outputs": [
    {
     "name": "stderr",
     "output_type": "stream",
     "text": [
      "/var/folders/cx/5hr478816plb9gd8v3v207d40000gn/T/ipykernel_12370/1243833229.py:7: UserWarning: CRS mismatch between the CRS of left geometries and the CRS of right geometries.\n",
      "Use `to_crs()` to reproject one of the input geometries to match the CRS of the other.\n",
      "\n",
      "Left CRS: EPSG:4326\n",
      "Right CRS: EPSG:3310\n",
      "\n",
      "  joined = gpd.sjoin(collisionGdf3, enviroscreen3, predicate='contains')\n"
     ]
    }
   ],
   "source": [
    "# get number of collisions in each census tract\n",
    "collisionGdf3 = gpd.GeoDataFrame(collisionDf, \n",
    "                                geometry=gpd.points_from_xy(collisionDf3.LONGITUDE.fillna(collisionDf3.POINT_X), \n",
    "                                                            collisionDf3.LATITUDE.fillna(collisionDf3.POINT_Y), \n",
    "                                          crs='EPSG:4326'))\n",
    "\n",
    "joined = gpd.sjoin(collisionGdf3, enviroscreen3, predicate='contains')"
   ]
  },
  {
   "cell_type": "markdown",
   "id": "a2818a26",
   "metadata": {},
   "source": [
    "<div class=\"alert alert-block alert-info\">\n",
    "<h3>What you should have learned</h3>\n",
    "<ul>\n",
    "  <li>Gain more practice with spatial joins</li>\n",
    "  <li>Understand how to buffer geometries.</li>\n",
    "  <li>Get practice with troubleshooting spatial joins.</li>\n",
    "</ul>\n",
    "</div>"
   ]
  }
 ],
 "metadata": {
  "kernelspec": {
   "display_name": "Python 3 (ipykernel)",
   "language": "python",
   "name": "python3"
  },
  "language_info": {
   "codemirror_mode": {
    "name": "ipython",
    "version": 3
   },
   "file_extension": ".py",
   "mimetype": "text/x-python",
   "name": "python",
   "nbconvert_exporter": "python",
   "pygments_lexer": "ipython3",
   "version": "3.10.10"
  }
 },
 "nbformat": 4,
 "nbformat_minor": 5
}
