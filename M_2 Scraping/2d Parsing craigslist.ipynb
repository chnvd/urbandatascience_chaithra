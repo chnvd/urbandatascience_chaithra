{
 "cells": [
  {
   "cell_type": "markdown",
   "id": "sunrise-lease",
   "metadata": {},
   "source": [
    "# Parsing craigslist"
   ]
  },
  {
   "cell_type": "markdown",
   "id": "5a1dfbf1",
   "metadata": {},
   "source": [
    "## Lecture objectives\n",
    "\n",
    "1. Provide more practice with scraping web pages and parsing text\n",
    "2. Show how to handle errors (\"exceptions\") gracefully\n",
    "3. Provide more pratice with `pandas` and plotting"
   ]
  },
  {
   "cell_type": "markdown",
   "id": "major-watts",
   "metadata": {},
   "source": [
    "Let's continue with the craigslist example from the previous lecture.\n",
    "\n",
    "We've already figured out how to extract the information from a single post. Now, let's try and get all 120 posts from the first page of listings, and put them in a `pandas` dataframe. \n",
    "\n",
    "`pandas` can create a dataframe from many different data structures. But one of the easiest ways to is to create a list of dictionaries, and then tell `pandas` to convert that into a dataframe. \n",
    "\n",
    "Each element of the list will be a craigslist post. Within that list element, we have a dictionary of columns.\n",
    "\n",
    "First of all, let's recreate the list of posts as before."
   ]
  },
  {
   "cell_type": "markdown",
   "id": "34a69779",
   "metadata": {},
   "source": [
    "Remember that `posts` held our list of posts"
   ]
  },
  {
   "cell_type": "code",
   "execution_count": 1,
   "id": "e23b0b19",
   "metadata": {},
   "outputs": [
    {
     "name": "stdout",
     "output_type": "stream",
     "text": [
      "120\n"
     ]
    }
   ],
   "source": [
    "from bs4 import BeautifulSoup\n",
    "\n",
    "with open('../data/cl_posts.html', 'r') as f:  \n",
    "    saved_content = f.read()\n",
    "        \n",
    "soup = BeautifulSoup(saved_content, features='html.parser')\n",
    "posts = soup.find_all('li', class_='cl-search-result')\n",
    "print(len(posts))"
   ]
  },
  {
   "cell_type": "markdown",
   "id": "e199e9fd-8629-4842-8531-9e35c7e47b41",
   "metadata": {},
   "source": [
    "This is the code we had before."
   ]
  },
  {
   "cell_type": "code",
   "execution_count": 2,
   "id": "bb6713cc",
   "metadata": {},
   "outputs": [
    {
     "name": "stdout",
     "output_type": "stream",
     "text": [
      "SR- Brand new 2 bed, 2 bath  luxury unit with ROOTOP\n",
      "https://losangeles.craigslist.org/wst/apa/d/los-angeles-sr-brand-new-bed-bath/7584176475.html\n",
      "Hollywood\n",
      "$3,295\n",
      "2br\n",
      "925ft2\n"
     ]
    }
   ],
   "source": [
    "print(posts[2].find(class_='titlestring').text)\n",
    "print(posts[2].find(class_='titlestring')['href'])\n",
    "print(posts[2].find(class_='meta').text.split('·')[1])\n",
    "print(posts[2].find(class_= 'priceinfo').text)\n",
    "print(posts[2].find(class_= 'post-bedrooms').text)\n",
    "print(posts[2].find(class_= 'post-sqft').text)"
   ]
  },
  {
   "cell_type": "markdown",
   "id": "55720210",
   "metadata": {},
   "source": [
    "So now, let's do the same to all posts. We will:\n",
    "* Loop over the list, `posts`\n",
    "* Use the code above to extract each element we want, and store it in a dictionary\n",
    "* Create a list of these dictionaries, that we can then turn into a dataframe\n",
    "\n",
    "Note that rather than printing each result, we'll assign it to a temporary variable."
   ]
  },
  {
   "cell_type": "code",
   "execution_count": 3,
   "id": "dirty-expansion",
   "metadata": {},
   "outputs": [
    {
     "ename": "AttributeError",
     "evalue": "'NoneType' object has no attribute 'text'",
     "output_type": "error",
     "traceback": [
      "\u001b[0;31m---------------------------------------------------------------------------\u001b[0m",
      "\u001b[0;31mAttributeError\u001b[0m                            Traceback (most recent call last)",
      "Cell \u001b[0;32mIn[3], line 10\u001b[0m\n\u001b[1;32m      8\u001b[0m neighborhood \u001b[38;5;241m=\u001b[39m post\u001b[38;5;241m.\u001b[39mfind(class_\u001b[38;5;241m=\u001b[39m\u001b[38;5;124m'\u001b[39m\u001b[38;5;124mmeta\u001b[39m\u001b[38;5;124m'\u001b[39m)\u001b[38;5;241m.\u001b[39mtext\u001b[38;5;241m.\u001b[39msplit(\u001b[38;5;124m'\u001b[39m\u001b[38;5;124m·\u001b[39m\u001b[38;5;124m'\u001b[39m)[\u001b[38;5;241m1\u001b[39m]\n\u001b[1;32m      9\u001b[0m price \u001b[38;5;241m=\u001b[39m post\u001b[38;5;241m.\u001b[39mfind(class_\u001b[38;5;241m=\u001b[39m \u001b[38;5;124m'\u001b[39m\u001b[38;5;124mpriceinfo\u001b[39m\u001b[38;5;124m'\u001b[39m)\u001b[38;5;241m.\u001b[39mtext\n\u001b[0;32m---> 10\u001b[0m br \u001b[38;5;241m=\u001b[39m \u001b[43mpost\u001b[49m\u001b[38;5;241;43m.\u001b[39;49m\u001b[43mfind\u001b[49m\u001b[43m(\u001b[49m\u001b[43mclass_\u001b[49m\u001b[38;5;241;43m=\u001b[39;49m\u001b[43m \u001b[49m\u001b[38;5;124;43m'\u001b[39;49m\u001b[38;5;124;43mpost-bedrooms\u001b[39;49m\u001b[38;5;124;43m'\u001b[39;49m\u001b[43m)\u001b[49m\u001b[38;5;241;43m.\u001b[39;49m\u001b[43mtext\u001b[49m\n\u001b[1;32m     11\u001b[0m sf \u001b[38;5;241m=\u001b[39m post\u001b[38;5;241m.\u001b[39mfind(class_\u001b[38;5;241m=\u001b[39m \u001b[38;5;124m'\u001b[39m\u001b[38;5;124mpost-sqft\u001b[39m\u001b[38;5;124m'\u001b[39m)\u001b[38;5;241m.\u001b[39mtext\n\u001b[1;32m     13\u001b[0m \u001b[38;5;66;03m# put them all in a dictionary\u001b[39;00m\n",
      "\u001b[0;31mAttributeError\u001b[0m: 'NoneType' object has no attribute 'text'"
     ]
    }
   ],
   "source": [
    "import pandas as pd\n",
    "postList = [] # empty list that we can append to. This will be our list of dictionaries\n",
    "\n",
    "for post in posts:\n",
    "    # create temporary variables with the attributes that we extract from each post\n",
    "    title = post.find(class_='titlestring').text\n",
    "    url = post.find(class_='titlestring')['href']\n",
    "    neighborhood = post.find(class_='meta').text.split('·')[1]\n",
    "    price = post.find(class_= 'priceinfo').text\n",
    "    br = post.find(class_= 'post-bedrooms').text\n",
    "    sf = post.find(class_= 'post-sqft').text\n",
    "\n",
    "    # put them all in a dictionary\n",
    "    postDict = {'title': title, 'url':url, 'neighborhood':neighborhood, \n",
    "                'price':price, 'br':br, 'sf':sf}\n",
    "    \n",
    "    # append that dictionary to our list\n",
    "    postList.append(postDict)\n",
    "    \n",
    "# turn the list into a dataframe\n",
    "df = pd.DataFrame(postList)"
   ]
  },
  {
   "cell_type": "markdown",
   "id": "d8bfb0f2",
   "metadata": {},
   "source": [
    "### Catching exceptions\n",
    "What went wrong? Let's unpack this error.\n",
    "\n",
    "It looks like we couldn't get our `br` variable, because there was no text.\n",
    "\n",
    "So what if we back up and see what that object looks like, before we try and get the text? Note that `post` will still contain the element of the `posts` list where the error occurred."
   ]
  },
  {
   "cell_type": "code",
   "execution_count": 4,
   "id": "03f6ae7f",
   "metadata": {},
   "outputs": [],
   "source": [
    "post.find(class_= 'post-bedrooms')"
   ]
  },
  {
   "cell_type": "markdown",
   "id": "d86b6373",
   "metadata": {},
   "source": [
    "Nothing! How come?"
   ]
  },
  {
   "cell_type": "markdown",
   "id": "463b694f",
   "metadata": {},
   "source": [
    "Aha. It's a `None` object - basically empty. And so we can't ask to get the text where nothing exists.\n",
    "\n",
    "How can we be more robust to these errors (technically, \"exceptions\")?\n",
    "\n",
    "One way is to use `try...except`. We `try` a block of code, and if something goes wrong, we execute the alternative code under `except`."
   ]
  },
  {
   "cell_type": "code",
   "execution_count": 5,
   "id": "8fe73192",
   "metadata": {},
   "outputs": [
    {
     "data": {
      "text/html": [
       "<div>\n",
       "<style scoped>\n",
       "    .dataframe tbody tr th:only-of-type {\n",
       "        vertical-align: middle;\n",
       "    }\n",
       "\n",
       "    .dataframe tbody tr th {\n",
       "        vertical-align: top;\n",
       "    }\n",
       "\n",
       "    .dataframe thead th {\n",
       "        text-align: right;\n",
       "    }\n",
       "</style>\n",
       "<table border=\"1\" class=\"dataframe\">\n",
       "  <thead>\n",
       "    <tr style=\"text-align: right;\">\n",
       "      <th></th>\n",
       "      <th>title</th>\n",
       "      <th>url</th>\n",
       "      <th>neighborhood</th>\n",
       "      <th>price</th>\n",
       "      <th>br</th>\n",
       "      <th>sf</th>\n",
       "    </tr>\n",
       "  </thead>\n",
       "  <tbody>\n",
       "    <tr>\n",
       "      <th>0</th>\n",
       "      <td>NaN</td>\n",
       "      <td>NaN</td>\n",
       "      <td>NaN</td>\n",
       "      <td>NaN</td>\n",
       "      <td>NaN</td>\n",
       "      <td>NaN</td>\n",
       "    </tr>\n",
       "    <tr>\n",
       "      <th>1</th>\n",
       "      <td>NaN</td>\n",
       "      <td>NaN</td>\n",
       "      <td>NaN</td>\n",
       "      <td>NaN</td>\n",
       "      <td>NaN</td>\n",
       "      <td>NaN</td>\n",
       "    </tr>\n",
       "    <tr>\n",
       "      <th>2</th>\n",
       "      <td>SR- Brand new 2 bed, 2 bath  luxury unit with ...</td>\n",
       "      <td>https://losangeles.craigslist.org/wst/apa/d/lo...</td>\n",
       "      <td>Hollywood</td>\n",
       "      <td>$3,295</td>\n",
       "      <td>2br</td>\n",
       "      <td>925ft2</td>\n",
       "    </tr>\n",
       "    <tr>\n",
       "      <th>3</th>\n",
       "      <td>NaN</td>\n",
       "      <td>NaN</td>\n",
       "      <td>NaN</td>\n",
       "      <td>NaN</td>\n",
       "      <td>NaN</td>\n",
       "      <td>NaN</td>\n",
       "    </tr>\n",
       "    <tr>\n",
       "      <th>4</th>\n",
       "      <td>Affordable one bedroom near the beach</td>\n",
       "      <td>https://losangeles.craigslist.org/wst/apa/d/sa...</td>\n",
       "      <td>Santa Monica</td>\n",
       "      <td>$2,382</td>\n",
       "      <td>1br</td>\n",
       "      <td>655ft2</td>\n",
       "    </tr>\n",
       "    <tr>\n",
       "      <th>...</th>\n",
       "      <td>...</td>\n",
       "      <td>...</td>\n",
       "      <td>...</td>\n",
       "      <td>...</td>\n",
       "      <td>...</td>\n",
       "      <td>...</td>\n",
       "    </tr>\n",
       "    <tr>\n",
       "      <th>115</th>\n",
       "      <td>NaN</td>\n",
       "      <td>NaN</td>\n",
       "      <td>NaN</td>\n",
       "      <td>NaN</td>\n",
       "      <td>NaN</td>\n",
       "      <td>NaN</td>\n",
       "    </tr>\n",
       "    <tr>\n",
       "      <th>116</th>\n",
       "      <td>***********NEW BUILT GORGEOUS 4 BEDS 4.5 BATHS...</td>\n",
       "      <td>https://losangeles.craigslist.org/sfv/apa/d/su...</td>\n",
       "      <td>************** SUN VALLEY *************</td>\n",
       "      <td>$5,995</td>\n",
       "      <td>4br</td>\n",
       "      <td>2500ft2</td>\n",
       "    </tr>\n",
       "    <tr>\n",
       "      <th>117</th>\n",
       "      <td>NaN</td>\n",
       "      <td>NaN</td>\n",
       "      <td>NaN</td>\n",
       "      <td>NaN</td>\n",
       "      <td>NaN</td>\n",
       "      <td>NaN</td>\n",
       "    </tr>\n",
       "    <tr>\n",
       "      <th>118</th>\n",
       "      <td>In-Unit Washer/Dryer, Solid Surface Flooring, ...</td>\n",
       "      <td>https://losangeles.craigslist.org/sfv/apa/d/sa...</td>\n",
       "      <td>25910 Tournament Rd, Valencia, CA</td>\n",
       "      <td>$2,290</td>\n",
       "      <td>1br</td>\n",
       "      <td>720ft2</td>\n",
       "    </tr>\n",
       "    <tr>\n",
       "      <th>119</th>\n",
       "      <td>2 BD, On-Site Management, La Verne CA</td>\n",
       "      <td>https://losangeles.craigslist.org/ant/apa/d/sa...</td>\n",
       "      <td>antelope valley</td>\n",
       "      <td>$2,575</td>\n",
       "      <td>2br</td>\n",
       "      <td>985ft2</td>\n",
       "    </tr>\n",
       "  </tbody>\n",
       "</table>\n",
       "<p>120 rows × 6 columns</p>\n",
       "</div>"
      ],
      "text/plain": [
       "                                                 title   \n",
       "0                                                  NaN  \\\n",
       "1                                                  NaN   \n",
       "2    SR- Brand new 2 bed, 2 bath  luxury unit with ...   \n",
       "3                                                  NaN   \n",
       "4                Affordable one bedroom near the beach   \n",
       "..                                                 ...   \n",
       "115                                                NaN   \n",
       "116  ***********NEW BUILT GORGEOUS 4 BEDS 4.5 BATHS...   \n",
       "117                                                NaN   \n",
       "118  In-Unit Washer/Dryer, Solid Surface Flooring, ...   \n",
       "119              2 BD, On-Site Management, La Verne CA   \n",
       "\n",
       "                                                   url   \n",
       "0                                                  NaN  \\\n",
       "1                                                  NaN   \n",
       "2    https://losangeles.craigslist.org/wst/apa/d/lo...   \n",
       "3                                                  NaN   \n",
       "4    https://losangeles.craigslist.org/wst/apa/d/sa...   \n",
       "..                                                 ...   \n",
       "115                                                NaN   \n",
       "116  https://losangeles.craigslist.org/sfv/apa/d/su...   \n",
       "117                                                NaN   \n",
       "118  https://losangeles.craigslist.org/sfv/apa/d/sa...   \n",
       "119  https://losangeles.craigslist.org/ant/apa/d/sa...   \n",
       "\n",
       "                                neighborhood   price   br       sf  \n",
       "0                                        NaN     NaN  NaN      NaN  \n",
       "1                                        NaN     NaN  NaN      NaN  \n",
       "2                                  Hollywood  $3,295  2br   925ft2  \n",
       "3                                        NaN     NaN  NaN      NaN  \n",
       "4                               Santa Monica  $2,382  1br   655ft2  \n",
       "..                                       ...     ...  ...      ...  \n",
       "115                                      NaN     NaN  NaN      NaN  \n",
       "116  ************** SUN VALLEY *************  $5,995  4br  2500ft2  \n",
       "117                                      NaN     NaN  NaN      NaN  \n",
       "118        25910 Tournament Rd, Valencia, CA  $2,290  1br   720ft2  \n",
       "119                          antelope valley  $2,575  2br   985ft2  \n",
       "\n",
       "[120 rows x 6 columns]"
      ]
     },
     "execution_count": 5,
     "metadata": {},
     "output_type": "execute_result"
    }
   ],
   "source": [
    "postList = [] # empty list that we can append to. This will be our list of dictionaries\n",
    "\n",
    "for post in posts:\n",
    "    try:\n",
    "        # create temporary variables with the attributes that we extract from each post\n",
    "        title = post.find(class_='titlestring').text\n",
    "        url = post.find(class_='titlestring')['href']\n",
    "        neighborhood = post.find(class_='meta').text.split('·')[1]\n",
    "        price = post.find(class_= 'priceinfo').text\n",
    "        br = post.find(class_= 'post-bedrooms').text\n",
    "        sf = post.find(class_= 'post-sqft').text\n",
    "\n",
    "        # put them all in a dictionary\n",
    "        postDict = {'title': title, 'url':url, 'neighborhood':neighborhood, \n",
    "                    'price':price, 'br':br, 'sf':sf}\n",
    "    \n",
    "        # append that dictionary to our list\n",
    "        postList.append(postDict)\n",
    "    except: # we could also be more specific, e.g. except AttributeError:\n",
    "        # this is only excecuted if the code under try fails\n",
    "        # if there's a problem, we'll just append an empty dictionary\n",
    "        postList.append({})\n",
    "    \n",
    "# turn the list into a dataframe\n",
    "df = pd.DataFrame(postList)\n",
    "\n",
    "df"
   ]
  },
  {
   "cell_type": "markdown",
   "id": "2d27d213",
   "metadata": {},
   "source": [
    "So we find the errant rows - 0, 1, and lots of others.\n",
    "\n",
    "The `try...except` syntax is useful, but a blunt instrument. Notice that we lose all the data for that posting, not just the housing size.\n",
    "\n",
    "As an alternative, we could explicitly check for missing data at each step."
   ]
  },
  {
   "cell_type": "code",
   "execution_count": 6,
   "id": "e7dc205d",
   "metadata": {},
   "outputs": [
    {
     "data": {
      "text/html": [
       "<div>\n",
       "<style scoped>\n",
       "    .dataframe tbody tr th:only-of-type {\n",
       "        vertical-align: middle;\n",
       "    }\n",
       "\n",
       "    .dataframe tbody tr th {\n",
       "        vertical-align: top;\n",
       "    }\n",
       "\n",
       "    .dataframe thead th {\n",
       "        text-align: right;\n",
       "    }\n",
       "</style>\n",
       "<table border=\"1\" class=\"dataframe\">\n",
       "  <thead>\n",
       "    <tr style=\"text-align: right;\">\n",
       "      <th></th>\n",
       "      <th>title</th>\n",
       "      <th>url</th>\n",
       "      <th>neighborhood</th>\n",
       "      <th>price</th>\n",
       "      <th>br</th>\n",
       "      <th>sf</th>\n",
       "    </tr>\n",
       "  </thead>\n",
       "  <tbody>\n",
       "    <tr>\n",
       "      <th>0</th>\n",
       "      <td>1050 N. Orange Grove Ave./All Utilities Includ...</td>\n",
       "      <td>https://losangeles.craigslist.org/wst/apa/d/we...</td>\n",
       "      <td>West Hollywood</td>\n",
       "      <td>$1,195</td>\n",
       "      <td>None</td>\n",
       "      <td>None</td>\n",
       "    </tr>\n",
       "    <tr>\n",
       "      <th>1</th>\n",
       "      <td>BEAUTIFUL DORMITORY STYLE HOUSING AVAILABLE - ...</td>\n",
       "      <td>https://losangeles.craigslist.org/wst/apa/d/to...</td>\n",
       "      <td>westside-southbay-310</td>\n",
       "      <td>$1,025</td>\n",
       "      <td>None</td>\n",
       "      <td>None</td>\n",
       "    </tr>\n",
       "    <tr>\n",
       "      <th>2</th>\n",
       "      <td>SR- Brand new 2 bed, 2 bath  luxury unit with ...</td>\n",
       "      <td>https://losangeles.craigslist.org/wst/apa/d/lo...</td>\n",
       "      <td>Hollywood</td>\n",
       "      <td>$3,295</td>\n",
       "      <td>2br</td>\n",
       "      <td>925ft2</td>\n",
       "    </tr>\n",
       "    <tr>\n",
       "      <th>3</th>\n",
       "      <td>Very nice upgraded 1 bedroom 1 bath unit</td>\n",
       "      <td>https://losangeles.craigslist.org/wst/apa/d/ga...</td>\n",
       "      <td>Gardena</td>\n",
       "      <td>$1,910</td>\n",
       "      <td>1br</td>\n",
       "      <td>None</td>\n",
       "    </tr>\n",
       "    <tr>\n",
       "      <th>4</th>\n",
       "      <td>Affordable one bedroom near the beach</td>\n",
       "      <td>https://losangeles.craigslist.org/wst/apa/d/sa...</td>\n",
       "      <td>Santa Monica</td>\n",
       "      <td>$2,382</td>\n",
       "      <td>1br</td>\n",
       "      <td>655ft2</td>\n",
       "    </tr>\n",
       "    <tr>\n",
       "      <th>...</th>\n",
       "      <td>...</td>\n",
       "      <td>...</td>\n",
       "      <td>...</td>\n",
       "      <td>...</td>\n",
       "      <td>...</td>\n",
       "      <td>...</td>\n",
       "    </tr>\n",
       "    <tr>\n",
       "      <th>115</th>\n",
       "      <td>Light and Bright! See Photos! Vintage Bldg / P...</td>\n",
       "      <td>https://losangeles.craigslist.org/lac/apa/d/lo...</td>\n",
       "      <td>Los Angeles / Westlake District / DTLA</td>\n",
       "      <td>$2,195</td>\n",
       "      <td>1br</td>\n",
       "      <td>None</td>\n",
       "    </tr>\n",
       "    <tr>\n",
       "      <th>116</th>\n",
       "      <td>***********NEW BUILT GORGEOUS 4 BEDS 4.5 BATHS...</td>\n",
       "      <td>https://losangeles.craigslist.org/sfv/apa/d/su...</td>\n",
       "      <td>************** SUN VALLEY *************</td>\n",
       "      <td>$5,995</td>\n",
       "      <td>4br</td>\n",
       "      <td>2500ft2</td>\n",
       "    </tr>\n",
       "    <tr>\n",
       "      <th>117</th>\n",
       "      <td>******GREAT LOCATION SHERMAN OAKS NEAR VENTURA...</td>\n",
       "      <td>https://losangeles.craigslist.org/sfv/apa/d/sh...</td>\n",
       "      <td>**************SHERMAN OAKS / NEAR VENTURA BLVD...</td>\n",
       "      <td>$2,995</td>\n",
       "      <td>3br</td>\n",
       "      <td>None</td>\n",
       "    </tr>\n",
       "    <tr>\n",
       "      <th>118</th>\n",
       "      <td>In-Unit Washer/Dryer, Solid Surface Flooring, ...</td>\n",
       "      <td>https://losangeles.craigslist.org/sfv/apa/d/sa...</td>\n",
       "      <td>25910 Tournament Rd, Valencia, CA</td>\n",
       "      <td>$2,290</td>\n",
       "      <td>1br</td>\n",
       "      <td>720ft2</td>\n",
       "    </tr>\n",
       "    <tr>\n",
       "      <th>119</th>\n",
       "      <td>2 BD, On-Site Management, La Verne CA</td>\n",
       "      <td>https://losangeles.craigslist.org/ant/apa/d/sa...</td>\n",
       "      <td>antelope valley</td>\n",
       "      <td>$2,575</td>\n",
       "      <td>2br</td>\n",
       "      <td>985ft2</td>\n",
       "    </tr>\n",
       "  </tbody>\n",
       "</table>\n",
       "<p>120 rows × 6 columns</p>\n",
       "</div>"
      ],
      "text/plain": [
       "                                                 title   \n",
       "0    1050 N. Orange Grove Ave./All Utilities Includ...  \\\n",
       "1    BEAUTIFUL DORMITORY STYLE HOUSING AVAILABLE - ...   \n",
       "2    SR- Brand new 2 bed, 2 bath  luxury unit with ...   \n",
       "3             Very nice upgraded 1 bedroom 1 bath unit   \n",
       "4                Affordable one bedroom near the beach   \n",
       "..                                                 ...   \n",
       "115  Light and Bright! See Photos! Vintage Bldg / P...   \n",
       "116  ***********NEW BUILT GORGEOUS 4 BEDS 4.5 BATHS...   \n",
       "117  ******GREAT LOCATION SHERMAN OAKS NEAR VENTURA...   \n",
       "118  In-Unit Washer/Dryer, Solid Surface Flooring, ...   \n",
       "119              2 BD, On-Site Management, La Verne CA   \n",
       "\n",
       "                                                   url   \n",
       "0    https://losangeles.craigslist.org/wst/apa/d/we...  \\\n",
       "1    https://losangeles.craigslist.org/wst/apa/d/to...   \n",
       "2    https://losangeles.craigslist.org/wst/apa/d/lo...   \n",
       "3    https://losangeles.craigslist.org/wst/apa/d/ga...   \n",
       "4    https://losangeles.craigslist.org/wst/apa/d/sa...   \n",
       "..                                                 ...   \n",
       "115  https://losangeles.craigslist.org/lac/apa/d/lo...   \n",
       "116  https://losangeles.craigslist.org/sfv/apa/d/su...   \n",
       "117  https://losangeles.craigslist.org/sfv/apa/d/sh...   \n",
       "118  https://losangeles.craigslist.org/sfv/apa/d/sa...   \n",
       "119  https://losangeles.craigslist.org/ant/apa/d/sa...   \n",
       "\n",
       "                                          neighborhood   price    br       sf  \n",
       "0                                       West Hollywood  $1,195  None     None  \n",
       "1                                westside-southbay-310  $1,025  None     None  \n",
       "2                                            Hollywood  $3,295   2br   925ft2  \n",
       "3                                              Gardena  $1,910   1br     None  \n",
       "4                                         Santa Monica  $2,382   1br   655ft2  \n",
       "..                                                 ...     ...   ...      ...  \n",
       "115             Los Angeles / Westlake District / DTLA  $2,195   1br     None  \n",
       "116            ************** SUN VALLEY *************  $5,995   4br  2500ft2  \n",
       "117  **************SHERMAN OAKS / NEAR VENTURA BLVD...  $2,995   3br     None  \n",
       "118                  25910 Tournament Rd, Valencia, CA  $2,290   1br   720ft2  \n",
       "119                                    antelope valley  $2,575   2br   985ft2  \n",
       "\n",
       "[120 rows x 6 columns]"
      ]
     },
     "execution_count": 6,
     "metadata": {},
     "output_type": "execute_result"
    }
   ],
   "source": [
    "postList = [] # empty list that we can append to. This will be our list of dictionaries\n",
    "\n",
    "for post in posts:\n",
    "    title = post.find(class_='titlestring').text\n",
    "    url = post.find(class_='titlestring')['href']\n",
    "    neighborhood = post.find(class_='meta').text.split('·')[1]\n",
    "    price = post.find(class_= 'priceinfo').text\n",
    "    br_tmp = post.find(class_= 'post-bedrooms')\n",
    "    if br_tmp is None:\n",
    "        br = None\n",
    "    else:\n",
    "        br = br_tmp.text\n",
    "    \n",
    "    # we can also have our if..else statements as a one-liner\n",
    "    sf_tmp = post.find(class_= 'post-sqft')\n",
    "    sf = None if sf_tmp is None else sf_tmp.text\n",
    "\n",
    "    # put them all in a dictionary\n",
    "    postDict = {'title': title, 'url':url, 'neighborhood':neighborhood, \n",
    "                'price':price, 'br':br, 'sf':sf}\n",
    "    \n",
    "    # append that dictionary to our list\n",
    "    postList.append(postDict)\n",
    "    \n",
    "df = pd.DataFrame(postList)\n",
    "df"
   ]
  },
  {
   "cell_type": "markdown",
   "id": "ebfd04e7",
   "metadata": {},
   "source": [
    "Notice that we got some partial data for these rows."
   ]
  },
  {
   "cell_type": "markdown",
   "id": "closing-edward",
   "metadata": {},
   "source": [
    "### Plotting\n",
    "\n",
    "Now let's plot the distribution of price. A box plot would be a good choice here."
   ]
  },
  {
   "cell_type": "code",
   "execution_count": 7,
   "id": "modern-instruction",
   "metadata": {},
   "outputs": [
    {
     "ename": "ValueError",
     "evalue": "boxplot method requires numerical columns, nothing to plot.",
     "output_type": "error",
     "traceback": [
      "\u001b[0;31m---------------------------------------------------------------------------\u001b[0m",
      "\u001b[0;31mValueError\u001b[0m                                Traceback (most recent call last)",
      "Cell \u001b[0;32mIn[7], line 1\u001b[0m\n\u001b[0;32m----> 1\u001b[0m \u001b[43mdf\u001b[49m\u001b[38;5;241;43m.\u001b[39;49m\u001b[43mboxplot\u001b[49m\u001b[43m(\u001b[49m\u001b[38;5;124;43m'\u001b[39;49m\u001b[38;5;124;43mprice\u001b[39;49m\u001b[38;5;124;43m'\u001b[39;49m\u001b[43m)\u001b[49m\n",
      "File \u001b[0;32m~/opt/anaconda3/envs/uds/lib/python3.10/site-packages/pandas/plotting/_core.py:507\u001b[0m, in \u001b[0;36mboxplot_frame\u001b[0;34m(self, column, by, ax, fontsize, rot, grid, figsize, layout, return_type, backend, **kwargs)\u001b[0m\n\u001b[1;32m    490\u001b[0m \u001b[38;5;129m@Substitution\u001b[39m(data\u001b[38;5;241m=\u001b[39m\u001b[38;5;124m\"\u001b[39m\u001b[38;5;124m\"\u001b[39m, backend\u001b[38;5;241m=\u001b[39m_backend_doc)\n\u001b[1;32m    491\u001b[0m \u001b[38;5;129m@Appender\u001b[39m(_boxplot_doc)\n\u001b[1;32m    492\u001b[0m \u001b[38;5;28;01mdef\u001b[39;00m \u001b[38;5;21mboxplot_frame\u001b[39m(\n\u001b[0;32m   (...)\u001b[0m\n\u001b[1;32m    504\u001b[0m     \u001b[38;5;241m*\u001b[39m\u001b[38;5;241m*\u001b[39mkwargs,\n\u001b[1;32m    505\u001b[0m ):\n\u001b[1;32m    506\u001b[0m     plot_backend \u001b[38;5;241m=\u001b[39m _get_plot_backend(backend)\n\u001b[0;32m--> 507\u001b[0m     \u001b[38;5;28;01mreturn\u001b[39;00m \u001b[43mplot_backend\u001b[49m\u001b[38;5;241;43m.\u001b[39;49m\u001b[43mboxplot_frame\u001b[49m\u001b[43m(\u001b[49m\n\u001b[1;32m    508\u001b[0m \u001b[43m        \u001b[49m\u001b[38;5;28;43mself\u001b[39;49m\u001b[43m,\u001b[49m\n\u001b[1;32m    509\u001b[0m \u001b[43m        \u001b[49m\u001b[43mcolumn\u001b[49m\u001b[38;5;241;43m=\u001b[39;49m\u001b[43mcolumn\u001b[49m\u001b[43m,\u001b[49m\n\u001b[1;32m    510\u001b[0m \u001b[43m        \u001b[49m\u001b[43mby\u001b[49m\u001b[38;5;241;43m=\u001b[39;49m\u001b[43mby\u001b[49m\u001b[43m,\u001b[49m\n\u001b[1;32m    511\u001b[0m \u001b[43m        \u001b[49m\u001b[43max\u001b[49m\u001b[38;5;241;43m=\u001b[39;49m\u001b[43max\u001b[49m\u001b[43m,\u001b[49m\n\u001b[1;32m    512\u001b[0m \u001b[43m        \u001b[49m\u001b[43mfontsize\u001b[49m\u001b[38;5;241;43m=\u001b[39;49m\u001b[43mfontsize\u001b[49m\u001b[43m,\u001b[49m\n\u001b[1;32m    513\u001b[0m \u001b[43m        \u001b[49m\u001b[43mrot\u001b[49m\u001b[38;5;241;43m=\u001b[39;49m\u001b[43mrot\u001b[49m\u001b[43m,\u001b[49m\n\u001b[1;32m    514\u001b[0m \u001b[43m        \u001b[49m\u001b[43mgrid\u001b[49m\u001b[38;5;241;43m=\u001b[39;49m\u001b[43mgrid\u001b[49m\u001b[43m,\u001b[49m\n\u001b[1;32m    515\u001b[0m \u001b[43m        \u001b[49m\u001b[43mfigsize\u001b[49m\u001b[38;5;241;43m=\u001b[39;49m\u001b[43mfigsize\u001b[49m\u001b[43m,\u001b[49m\n\u001b[1;32m    516\u001b[0m \u001b[43m        \u001b[49m\u001b[43mlayout\u001b[49m\u001b[38;5;241;43m=\u001b[39;49m\u001b[43mlayout\u001b[49m\u001b[43m,\u001b[49m\n\u001b[1;32m    517\u001b[0m \u001b[43m        \u001b[49m\u001b[43mreturn_type\u001b[49m\u001b[38;5;241;43m=\u001b[39;49m\u001b[43mreturn_type\u001b[49m\u001b[43m,\u001b[49m\n\u001b[1;32m    518\u001b[0m \u001b[43m        \u001b[49m\u001b[38;5;241;43m*\u001b[39;49m\u001b[38;5;241;43m*\u001b[39;49m\u001b[43mkwargs\u001b[49m\u001b[43m,\u001b[49m\n\u001b[1;32m    519\u001b[0m \u001b[43m    \u001b[49m\u001b[43m)\u001b[49m\n",
      "File \u001b[0;32m~/opt/anaconda3/envs/uds/lib/python3.10/site-packages/pandas/plotting/_matplotlib/boxplot.py:469\u001b[0m, in \u001b[0;36mboxplot_frame\u001b[0;34m(self, column, by, ax, fontsize, rot, grid, figsize, layout, return_type, **kwds)\u001b[0m\n\u001b[1;32m    454\u001b[0m \u001b[38;5;28;01mdef\u001b[39;00m \u001b[38;5;21mboxplot_frame\u001b[39m(\n\u001b[1;32m    455\u001b[0m     \u001b[38;5;28mself\u001b[39m,\n\u001b[1;32m    456\u001b[0m     column\u001b[38;5;241m=\u001b[39m\u001b[38;5;28;01mNone\u001b[39;00m,\n\u001b[0;32m   (...)\u001b[0m\n\u001b[1;32m    465\u001b[0m     \u001b[38;5;241m*\u001b[39m\u001b[38;5;241m*\u001b[39mkwds,\n\u001b[1;32m    466\u001b[0m ):\n\u001b[1;32m    467\u001b[0m     \u001b[38;5;28;01mimport\u001b[39;00m \u001b[38;5;21;01mmatplotlib\u001b[39;00m\u001b[38;5;21;01m.\u001b[39;00m\u001b[38;5;21;01mpyplot\u001b[39;00m \u001b[38;5;28;01mas\u001b[39;00m \u001b[38;5;21;01mplt\u001b[39;00m\n\u001b[0;32m--> 469\u001b[0m     ax \u001b[38;5;241m=\u001b[39m \u001b[43mboxplot\u001b[49m\u001b[43m(\u001b[49m\n\u001b[1;32m    470\u001b[0m \u001b[43m        \u001b[49m\u001b[38;5;28;43mself\u001b[39;49m\u001b[43m,\u001b[49m\n\u001b[1;32m    471\u001b[0m \u001b[43m        \u001b[49m\u001b[43mcolumn\u001b[49m\u001b[38;5;241;43m=\u001b[39;49m\u001b[43mcolumn\u001b[49m\u001b[43m,\u001b[49m\n\u001b[1;32m    472\u001b[0m \u001b[43m        \u001b[49m\u001b[43mby\u001b[49m\u001b[38;5;241;43m=\u001b[39;49m\u001b[43mby\u001b[49m\u001b[43m,\u001b[49m\n\u001b[1;32m    473\u001b[0m \u001b[43m        \u001b[49m\u001b[43max\u001b[49m\u001b[38;5;241;43m=\u001b[39;49m\u001b[43max\u001b[49m\u001b[43m,\u001b[49m\n\u001b[1;32m    474\u001b[0m \u001b[43m        \u001b[49m\u001b[43mfontsize\u001b[49m\u001b[38;5;241;43m=\u001b[39;49m\u001b[43mfontsize\u001b[49m\u001b[43m,\u001b[49m\n\u001b[1;32m    475\u001b[0m \u001b[43m        \u001b[49m\u001b[43mgrid\u001b[49m\u001b[38;5;241;43m=\u001b[39;49m\u001b[43mgrid\u001b[49m\u001b[43m,\u001b[49m\n\u001b[1;32m    476\u001b[0m \u001b[43m        \u001b[49m\u001b[43mrot\u001b[49m\u001b[38;5;241;43m=\u001b[39;49m\u001b[43mrot\u001b[49m\u001b[43m,\u001b[49m\n\u001b[1;32m    477\u001b[0m \u001b[43m        \u001b[49m\u001b[43mfigsize\u001b[49m\u001b[38;5;241;43m=\u001b[39;49m\u001b[43mfigsize\u001b[49m\u001b[43m,\u001b[49m\n\u001b[1;32m    478\u001b[0m \u001b[43m        \u001b[49m\u001b[43mlayout\u001b[49m\u001b[38;5;241;43m=\u001b[39;49m\u001b[43mlayout\u001b[49m\u001b[43m,\u001b[49m\n\u001b[1;32m    479\u001b[0m \u001b[43m        \u001b[49m\u001b[43mreturn_type\u001b[49m\u001b[38;5;241;43m=\u001b[39;49m\u001b[43mreturn_type\u001b[49m\u001b[43m,\u001b[49m\n\u001b[1;32m    480\u001b[0m \u001b[43m        \u001b[49m\u001b[38;5;241;43m*\u001b[39;49m\u001b[38;5;241;43m*\u001b[39;49m\u001b[43mkwds\u001b[49m\u001b[43m,\u001b[49m\n\u001b[1;32m    481\u001b[0m \u001b[43m    \u001b[49m\u001b[43m)\u001b[49m\n\u001b[1;32m    482\u001b[0m     plt\u001b[38;5;241m.\u001b[39mdraw_if_interactive()\n\u001b[1;32m    483\u001b[0m     \u001b[38;5;28;01mreturn\u001b[39;00m ax\n",
      "File \u001b[0;32m~/opt/anaconda3/envs/uds/lib/python3.10/site-packages/pandas/plotting/_matplotlib/boxplot.py:440\u001b[0m, in \u001b[0;36mboxplot\u001b[0;34m(data, column, by, ax, fontsize, rot, grid, figsize, layout, return_type, **kwds)\u001b[0m\n\u001b[1;32m    438\u001b[0m naxes \u001b[38;5;241m=\u001b[39m \u001b[38;5;28mlen\u001b[39m(data\u001b[38;5;241m.\u001b[39mcolumns)\n\u001b[1;32m    439\u001b[0m \u001b[38;5;28;01mif\u001b[39;00m naxes \u001b[38;5;241m==\u001b[39m \u001b[38;5;241m0\u001b[39m:\n\u001b[0;32m--> 440\u001b[0m     \u001b[38;5;28;01mraise\u001b[39;00m \u001b[38;5;167;01mValueError\u001b[39;00m(\n\u001b[1;32m    441\u001b[0m         \u001b[38;5;124m\"\u001b[39m\u001b[38;5;124mboxplot method requires numerical columns, nothing to plot.\u001b[39m\u001b[38;5;124m\"\u001b[39m\n\u001b[1;32m    442\u001b[0m     )\n\u001b[1;32m    443\u001b[0m \u001b[38;5;28;01mif\u001b[39;00m columns \u001b[38;5;129;01mis\u001b[39;00m \u001b[38;5;28;01mNone\u001b[39;00m:\n\u001b[1;32m    444\u001b[0m     columns \u001b[38;5;241m=\u001b[39m data\u001b[38;5;241m.\u001b[39mcolumns\n",
      "\u001b[0;31mValueError\u001b[0m: boxplot method requires numerical columns, nothing to plot."
     ]
    },
    {
     "data": {
      "image/png": "[encoded data removed]",
      "text/plain": [
       "<Figure size 640x480 with 1 Axes>"
      ]
     },
     "metadata": {},
     "output_type": "display_data"
    }
   ],
   "source": [
    "df.boxplot('price')"
   ]
  },
  {
   "cell_type": "markdown",
   "id": "aa1d7f29",
   "metadata": {},
   "source": [
    "Oops. What went wrong? \n",
    "\n",
    "The error message isn't terribly helpful, so let's look at the data."
   ]
  },
  {
   "cell_type": "code",
   "execution_count": 8,
   "id": "db480863",
   "metadata": {},
   "outputs": [
    {
     "data": {
      "text/plain": [
       "0    $1,195\n",
       "1    $1,025\n",
       "2    $3,295\n",
       "3    $1,910\n",
       "4    $2,382\n",
       "Name: price, dtype: object"
      ]
     },
     "execution_count": 8,
     "metadata": {},
     "output_type": "execute_result"
    }
   ],
   "source": [
    "df.price.head()"
   ]
  },
  {
   "cell_type": "markdown",
   "id": "e259f259",
   "metadata": {},
   "source": [
    "Aha. We can't do a boxplot of a string! So let's convert it to a number. This is a three-stage process:\n",
    "* Remove the `$` (replace `$` with an empty string)\n",
    "* Do the same for the `,`\n",
    "* Convert to a float. The pandas `astype` function is useful here.\n",
    "\n",
    "Let's do this and store the output in a new column, `price_numeric`."
   ]
  },
  {
   "cell_type": "code",
   "execution_count": 9,
   "id": "nuclear-temperature",
   "metadata": {},
   "outputs": [],
   "source": [
    "df['price_numeric'] = df.price.str.replace('$','').str.replace(',','').astype(float)"
   ]
  },
  {
   "cell_type": "markdown",
   "id": "7c6a0612-4308-4577-8a2c-4f050aad1cd4",
   "metadata": {},
   "source": [
    "<div class=\"alert alert-block alert-info\">\n",
    "<strong>Exercise:</strong> Convert the sf and br fields to numeric in the same way.\n",
    "</div>"
   ]
  },
  {
   "cell_type": "code",
   "execution_count": 10,
   "id": "565d3832-bb4a-4fe1-91da-bf3ccb26361d",
   "metadata": {},
   "outputs": [
    {
     "data": {
      "text/html": [
       "<div>\n",
       "<style scoped>\n",
       "    .dataframe tbody tr th:only-of-type {\n",
       "        vertical-align: middle;\n",
       "    }\n",
       "\n",
       "    .dataframe tbody tr th {\n",
       "        vertical-align: top;\n",
       "    }\n",
       "\n",
       "    .dataframe thead th {\n",
       "        text-align: right;\n",
       "    }\n",
       "</style>\n",
       "<table border=\"1\" class=\"dataframe\">\n",
       "  <thead>\n",
       "    <tr style=\"text-align: right;\">\n",
       "      <th></th>\n",
       "      <th>sf</th>\n",
       "      <th>br</th>\n",
       "    </tr>\n",
       "  </thead>\n",
       "  <tbody>\n",
       "    <tr>\n",
       "      <th>0</th>\n",
       "      <td>NaN</td>\n",
       "      <td>NaN</td>\n",
       "    </tr>\n",
       "    <tr>\n",
       "      <th>1</th>\n",
       "      <td>NaN</td>\n",
       "      <td>NaN</td>\n",
       "    </tr>\n",
       "    <tr>\n",
       "      <th>2</th>\n",
       "      <td>925.0</td>\n",
       "      <td>2.0</td>\n",
       "    </tr>\n",
       "    <tr>\n",
       "      <th>3</th>\n",
       "      <td>NaN</td>\n",
       "      <td>1.0</td>\n",
       "    </tr>\n",
       "    <tr>\n",
       "      <th>4</th>\n",
       "      <td>655.0</td>\n",
       "      <td>1.0</td>\n",
       "    </tr>\n",
       "    <tr>\n",
       "      <th>...</th>\n",
       "      <td>...</td>\n",
       "      <td>...</td>\n",
       "    </tr>\n",
       "    <tr>\n",
       "      <th>115</th>\n",
       "      <td>NaN</td>\n",
       "      <td>1.0</td>\n",
       "    </tr>\n",
       "    <tr>\n",
       "      <th>116</th>\n",
       "      <td>2500.0</td>\n",
       "      <td>4.0</td>\n",
       "    </tr>\n",
       "    <tr>\n",
       "      <th>117</th>\n",
       "      <td>NaN</td>\n",
       "      <td>3.0</td>\n",
       "    </tr>\n",
       "    <tr>\n",
       "      <th>118</th>\n",
       "      <td>720.0</td>\n",
       "      <td>1.0</td>\n",
       "    </tr>\n",
       "    <tr>\n",
       "      <th>119</th>\n",
       "      <td>985.0</td>\n",
       "      <td>2.0</td>\n",
       "    </tr>\n",
       "  </tbody>\n",
       "</table>\n",
       "<p>120 rows × 2 columns</p>\n",
       "</div>"
      ],
      "text/plain": [
       "         sf   br\n",
       "0       NaN  NaN\n",
       "1       NaN  NaN\n",
       "2     925.0  2.0\n",
       "3       NaN  1.0\n",
       "4     655.0  1.0\n",
       "..      ...  ...\n",
       "115     NaN  1.0\n",
       "116  2500.0  4.0\n",
       "117     NaN  3.0\n",
       "118   720.0  1.0\n",
       "119   985.0  2.0\n",
       "\n",
       "[120 rows x 2 columns]"
      ]
     },
     "execution_count": 10,
     "metadata": {},
     "output_type": "execute_result"
    }
   ],
   "source": [
    "# for simplicity, I'll just write over the old column name rather than create \n",
    "# new columns sf_numeric and br_numeric\n",
    "\n",
    "df['sf'] = df.sf.str.replace('ft2','').astype(float)\n",
    "df['br'] = df.br.str.replace('br','').astype(float)\n",
    "df[['sf','br']]"
   ]
  },
  {
   "cell_type": "code",
   "execution_count": 11,
   "id": "willing-married",
   "metadata": {},
   "outputs": [
    {
     "data": {
      "text/plain": [
       "<Axes: >"
      ]
     },
     "execution_count": 11,
     "metadata": {},
     "output_type": "execute_result"
    },
    {
     "data": {
      "image/png": "[encoded data removed]",
      "text/plain": [
       "<Figure size 640x480 with 1 Axes>"
      ]
     },
     "metadata": {},
     "output_type": "display_data"
    }
   ],
   "source": [
    "%matplotlib inline\n",
    "df.boxplot('price_numeric')"
   ]
  },
  {
   "cell_type": "markdown",
   "id": "2e9ef7cc",
   "metadata": {},
   "source": [
    "We can also break it out by neighborhood using the `by` argument.\n",
    "\n",
    "But what's the problem here?"
   ]
  },
  {
   "cell_type": "code",
   "execution_count": 12,
   "id": "damaged-adelaide",
   "metadata": {},
   "outputs": [
    {
     "data": {
      "text/plain": [
       "<Axes: title={'center': 'price_numeric'}, xlabel='neighborhood'>"
      ]
     },
     "execution_count": 12,
     "metadata": {},
     "output_type": "execute_result"
    },
    {
     "data": {
      "image/png": "[encoded data removed]",
      "text/plain": [
       "<Figure size 640x480 with 1 Axes>"
      ]
     },
     "metadata": {},
     "output_type": "display_data"
    }
   ],
   "source": [
    "df.boxplot('price_numeric', by='neighborhood')"
   ]
  },
  {
   "cell_type": "markdown",
   "id": "5d4ea2ec",
   "metadata": {},
   "source": [
    "There are several ways to examine the contents of a pandas DataFrame column. `unique()` can be useful.\n",
    "\n",
    "Here, we see that there isn't a fixed set of neighborhood names, and so further cleaning would be needed."
   ]
  },
  {
   "cell_type": "code",
   "execution_count": 13,
   "id": "6f427798",
   "metadata": {},
   "outputs": [
    {
     "data": {
      "text/plain": [
       "array(['West Hollywood', 'westside-southbay-310', 'Hollywood', 'Gardena',\n",
       "       'Santa Monica', 'san fernando valley', 'Glendale', 'Reseda',\n",
       "       'West Los Angeles', 'Van Nuys/Lake Balboa ADJ',\n",
       "       'central LA 213/323', '44045 15th St W, Lancaster, CA',\n",
       "       'Marina Del Rey', 'Koreatown', 'Duarte', 'Monrovia', 'Covina',\n",
       "       'West Covina', 'Tarzana',\n",
       "       '**************** PACOIMA ****************',\n",
       "       '*****************NORTH HOLLYWOOD******************',\n",
       "       '*********** NORTH HOLLYWOOD *********', 'Paramount',\n",
       "       'long beach / 562', 'Moments to Ventura Boulevard',\n",
       "       'Close to Ventura Boulevard', 'South of Ventura Boulevard',\n",
       "       '************** SUN VALLEY *************',\n",
       "       '3205 Los Feliz Boulevard, Los Angeles, CA',\n",
       "       '************* HOLLYWOOD / LOS ANGELES *****************',\n",
       "       '18414 W. Jakes Way, Canyon Country, CA', 'VENICE BEACH BOARDWALK',\n",
       "       '******** SUN VALLEY ***************',\n",
       "       '************* SUN VALLEY ************',\n",
       "       '************* VAN NUYS ****************',\n",
       "       '************** BURBANK ******************',\n",
       "       '************* SUNLAND **************',\n",
       "       'LOS ANGELES - 1732 N. HARVARD BLVD HOLLYWOOD',\n",
       "       '************* MISSION HILLS ***************',\n",
       "       '************** NORTH HOLLYWOOD ****************', 'Van Nuys',\n",
       "       '**************SHERMAN OAKS / NEAR VENTURA BLVD**************',\n",
       "       'Northridge', '************ LAKE BALBOA ***************',\n",
       "       '************* WINNETKA ***************', 'Downey',\n",
       "       'VIRGIL VILLAGE / LOS FELIZ ADJ.',\n",
       "       '1221 W. 3rd St. , Los Angeles, CA', 'VALLEY VILLAGE',\n",
       "       '****************WINNETKA***********',\n",
       "       '************** GLENDALE ***************',\n",
       "       '*************GRANADA HILLS**************',\n",
       "       '********************** SYLMAR ***********************',\n",
       "       'Adelanto', '************** GLENDALE ****************',\n",
       "       'South of Ventura Blvd.', 'South Park District DTLA',\n",
       "       'Sherman Oaks', 'Long Beach', 'Encino', 'SOCAL',\n",
       "       '4041 Arch Dr, Studio City, CA',\n",
       "       '6300 Green Valley Circle, Culver City, CA', 'Socal', 'Lancaster',\n",
       "       'Eagle Rock / Los Angeles', 'TARZANA',\n",
       "       'Prime Koreatown / DTLA / Los Angeles', 'Downtown Santa Monica',\n",
       "       'DTLA / Los Angeles / Westlake District', 'Tarzana, CA',\n",
       "       'Los Angeles', 'Hollywood / Los Angeles',\n",
       "       'Los Angeles (Brentwood)', 'Topanga',\n",
       "       'Downtown Los Angeles Industrial District', 'South Torrance',\n",
       "       'Arts District; Downtown Los Angeles',\n",
       "       'Los Angeles / Westlake District / DTLA', 'compton',\n",
       "       'OPEN HOUSE DAILY 10-5 | Northridge',\n",
       "       '25910 Tournament Rd, Valencia, CA', 'antelope valley'],\n",
       "      dtype=object)"
      ]
     },
     "execution_count": 13,
     "metadata": {},
     "output_type": "execute_result"
    }
   ],
   "source": [
    "df.neighborhood.unique()"
   ]
  },
  {
   "cell_type": "markdown",
   "id": "957ec802",
   "metadata": {},
   "source": [
    "What about the relationship between prices and the apartment size?"
   ]
  },
  {
   "cell_type": "code",
   "execution_count": 14,
   "id": "ad6ade1e",
   "metadata": {},
   "outputs": [
    {
     "data": {
      "text/plain": [
       "<Axes: xlabel='sf', ylabel='price_numeric'>"
      ]
     },
     "execution_count": 14,
     "metadata": {},
     "output_type": "execute_result"
    },
    {
     "data": {
      "image/png": "[encoded data removed]",
      "text/plain": [
       "<Figure size 640x480 with 1 Axes>"
      ]
     },
     "metadata": {},
     "output_type": "display_data"
    }
   ],
   "source": [
    "df.plot('sf', 'price_numeric', kind='scatter')"
   ]
  },
  {
   "cell_type": "markdown",
   "id": "dominant-environment",
   "metadata": {},
   "source": [
    "So now we've created a dataframe that extracts all the posts on the first page! \n",
    "\n",
    "There's still quite a bit to do. For example:\n",
    "\n",
    "* We only have one page, and it would be useful to get data from the subsequent pages\n",
    "* Our neighborhood field is really dirty, so it's hard to do any mapping\n",
    "* We don't have any information about parking\n",
    "* We don't have the geographic coordinates (lat/lon)\n",
    "\n",
    "But let's leave those for future work. "
   ]
  },
  {
   "cell_type": "markdown",
   "id": "occasional-boring",
   "metadata": {},
   "source": [
    "<div class=\"alert alert-block alert-info\">\n",
    "<h3>Key Takeaways</h3>\n",
    "<ul>\n",
    "  <li>Scraping unstructured webpages involves more detective work and trial and error.</li>\n",
    "  <li>Some will have a consistent format and helpful class codes and html tags. Some won't.</li>\n",
    "  <li>Your code will need to be robust to missing fields and other inconsistencies in page formatting.</li>\n",
    "  <li>Be nice! You may need to slow the pace of your requests down.</li>\n",
    "</ul>\n",
    "</div>"
   ]
  }
 ],
 "metadata": {
  "kernelspec": {
   "display_name": "Python 3 (ipykernel)",
   "language": "python",
   "name": "python3"
  },
  "language_info": {
   "codemirror_mode": {
    "name": "ipython",
    "version": 3
   },
   "file_extension": ".py",
   "mimetype": "text/x-python",
   "name": "python",
   "nbconvert_exporter": "python",
   "pygments_lexer": "ipython3",
   "version": "3.10.10"
  }
 },
 "nbformat": 4,
 "nbformat_minor": 5
}
