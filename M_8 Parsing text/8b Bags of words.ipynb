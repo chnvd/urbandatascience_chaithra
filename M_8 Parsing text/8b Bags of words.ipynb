{
 "cells": [
  {
   "cell_type": "markdown",
   "id": "89e060b8",
   "metadata": {},
   "source": [
    "# Bags of words"
   ]
  },
  {
   "cell_type": "markdown",
   "id": "08ee7a19",
   "metadata": {},
   "source": [
    "## Lecture objectives\n",
    "1. Explore text analysis through simple word counts\n",
    "2. Discuss how to visualize bags of words"
   ]
  },
  {
   "cell_type": "markdown",
   "id": "06e48689",
   "metadata": {},
   "source": [
    "In the previous lecture, we parsed the PDF and obtained a clean string. Now, we can do something with that string that requires an understanding of the language - i.e., natural language processing.\n",
    "\n",
    "We'll focus on English-language parsing. Many of the principles are applicable to other languages too.\n",
    "\n",
    "First, let's load in the text file that we created in the previous lecture. It's the same `open` function, but we'll use `r` (read) rather than `w` (write)."
   ]
  },
  {
   "cell_type": "code",
   "execution_count": 1,
   "id": "687ac868",
   "metadata": {},
   "outputs": [
    {
     "name": "stdout",
     "output_type": "stream",
     "text": [
      "443126\n"
     ]
    }
   ],
   "source": [
    "with open('../scratch/eirtext.txt','r') as f:\n",
    "    eirtext = f.read()\n",
    "print(len(eirtext))"
   ]
  },
  {
   "cell_type": "markdown",
   "id": "a576351a",
   "metadata": {},
   "source": [
    "## Word counts\n",
    "One of the simplest ways to analyze a text is to look at the raw count of words.\n",
    "\n",
    "Let's write a function to take a piece of text, and return a DataFrame with word counts. \n",
    "\n",
    "What do we do? First, create an empty dictionary to hold our counts. The keys will be the words, and the values the counts."
   ]
  },
  {
   "cell_type": "code",
   "execution_count": 2,
   "id": "f0fb06c0",
   "metadata": {},
   "outputs": [],
   "source": [
    "counts = {}"
   ]
  },
  {
   "cell_type": "markdown",
   "id": "f378d1fb",
   "metadata": {},
   "source": [
    "Then, let's split our text into a list of words. `split()` splits a string by any character - the default is a space. \n",
    "\n",
    "For example:"
   ]
  },
  {
   "cell_type": "code",
   "execution_count": 3,
   "id": "af492098",
   "metadata": {},
   "outputs": [
    {
     "data": {
      "text/plain": [
       "['This', 'is', 'a', 'sentence']"
      ]
     },
     "execution_count": 3,
     "metadata": {},
     "output_type": "execute_result"
    }
   ],
   "source": [
    "'This is a sentence'.split()"
   ]
  },
  {
   "cell_type": "markdown",
   "id": "3c7419a0",
   "metadata": {},
   "source": [
    "Or split by the hyphens."
   ]
  },
  {
   "cell_type": "code",
   "execution_count": 4,
   "id": "db7f3d93",
   "metadata": {},
   "outputs": [
    {
     "data": {
      "text/plain": [
       "['This', 'is', 'a', 'sequence of words']"
      ]
     },
     "execution_count": 4,
     "metadata": {},
     "output_type": "execute_result"
    }
   ],
   "source": [
    "'This-is-a-sequence of words'.split('-')"
   ]
  },
  {
   "cell_type": "markdown",
   "id": "aedb7d86",
   "metadata": {},
   "source": [
    "So now let's do that with our EIR text."
   ]
  },
  {
   "cell_type": "code",
   "execution_count": 5,
   "id": "b2d74aa4",
   "metadata": {},
   "outputs": [],
   "source": [
    "wordlist = eirtext.split()"
   ]
  },
  {
   "cell_type": "markdown",
   "id": "69386948-c743-4070-b849-da601796f39e",
   "metadata": {},
   "source": [
    "We have a list of words - `wordlist`. Let's look at the first few."
   ]
  },
  {
   "cell_type": "code",
   "execution_count": 6,
   "id": "631a3386-c323-4e0d-81f6-2a0ebcd6ab54",
   "metadata": {},
   "outputs": [
    {
     "data": {
      "text/plain": [
       "['Section',\n",
       " '3.3',\n",
       " 'Air',\n",
       " 'Quality',\n",
       " 'and',\n",
       " 'Global',\n",
       " 'Climate',\n",
       " 'Change',\n",
       " '3.3',\n",
       " 'Air']"
      ]
     },
     "execution_count": 6,
     "metadata": {},
     "output_type": "execute_result"
    }
   ],
   "source": [
    "wordlist[:10]"
   ]
  },
  {
   "cell_type": "markdown",
   "id": "1e4bb4f9",
   "metadata": {},
   "source": [
    "Let's loop over them.\n",
    "\n",
    "If that word already exists in our dictionary, we add 1 to the value. Otherwise, we create a new key and a value of 1."
   ]
  },
  {
   "cell_type": "code",
   "execution_count": 7,
   "id": "c6509dfc",
   "metadata": {},
   "outputs": [],
   "source": [
    "for word in wordlist:\n",
    "    lword = word.lower() # convert to lowercase\n",
    "    if lword in counts:\n",
    "        counts[lword] +=1\n",
    "    else:\n",
    "        # doesn't exist in the dictionary\n",
    "        counts[lword] = 1"
   ]
  },
  {
   "cell_type": "code",
   "execution_count": 8,
   "id": "66e5b873-2fdb-4e6c-90d7-e1a266168c2f",
   "metadata": {},
   "outputs": [
    {
     "name": "stdout",
     "output_type": "stream",
     "text": [
      "240\n"
     ]
    },
    {
     "ename": "KeyError",
     "evalue": "'California'",
     "output_type": "error",
     "traceback": [
      "\u001b[0;31m---------------------------------------------------------------------------\u001b[0m",
      "\u001b[0;31mKeyError\u001b[0m                                  Traceback (most recent call last)",
      "Cell \u001b[0;32mIn[8], line 3\u001b[0m\n\u001b[1;32m      1\u001b[0m \u001b[38;5;66;03m# look at a few\u001b[39;00m\n\u001b[1;32m      2\u001b[0m \u001b[38;5;28mprint\u001b[39m(counts[\u001b[38;5;124m'\u001b[39m\u001b[38;5;124mrail\u001b[39m\u001b[38;5;124m'\u001b[39m])\n\u001b[0;32m----> 3\u001b[0m \u001b[38;5;28mprint\u001b[39m(\u001b[43mcounts\u001b[49m\u001b[43m[\u001b[49m\u001b[38;5;124;43m'\u001b[39;49m\u001b[38;5;124;43mCalifornia\u001b[39;49m\u001b[38;5;124;43m'\u001b[39;49m\u001b[43m]\u001b[49m)\n",
      "\u001b[0;31mKeyError\u001b[0m: 'California'"
     ]
    }
   ],
   "source": [
    "# look at a few\n",
    "print(counts['rail'])\n",
    "print(counts['California'])"
   ]
  },
  {
   "cell_type": "markdown",
   "id": "9dbebd44-12e2-4318-8e60-1e475e9d1a10",
   "metadata": {},
   "source": [
    "<div class=\"alert alert-block alert-info\">\n",
    "<strong>Exercise:</strong> What went wrong?\n",
    "</div>"
   ]
  },
  {
   "cell_type": "markdown",
   "id": "b4b05e13-cd2c-4a66-9819-0cf6305d2579",
   "metadata": {},
   "source": [
    "The `KeyError` tells you that California is not a key in the dictionary? Why not? We converted everything to lower case!"
   ]
  },
  {
   "cell_type": "code",
   "execution_count": 9,
   "id": "ece64c6e-fa54-4ce1-9040-e3c6e2efdb7a",
   "metadata": {},
   "outputs": [
    {
     "name": "stdout",
     "output_type": "stream",
     "text": [
      "240\n",
      "267\n"
     ]
    }
   ],
   "source": [
    "print(counts['rail'])\n",
    "print(counts['california'])"
   ]
  },
  {
   "cell_type": "markdown",
   "id": "3a217468",
   "metadata": {},
   "source": [
    "Let's convert this dictionary to a DataFrame, sort it by the word count column, and add a name to the index."
   ]
  },
  {
   "cell_type": "code",
   "execution_count": 10,
   "id": "70b2bf1d",
   "metadata": {},
   "outputs": [
    {
     "data": {
      "text/html": [
       "<div>\n",
       "<style scoped>\n",
       "    .dataframe tbody tr th:only-of-type {\n",
       "        vertical-align: middle;\n",
       "    }\n",
       "\n",
       "    .dataframe tbody tr th {\n",
       "        vertical-align: top;\n",
       "    }\n",
       "\n",
       "    .dataframe thead th {\n",
       "        text-align: right;\n",
       "    }\n",
       "</style>\n",
       "<table border=\"1\" class=\"dataframe\">\n",
       "  <thead>\n",
       "    <tr style=\"text-align: right;\">\n",
       "      <th></th>\n",
       "      <th>word_count</th>\n",
       "    </tr>\n",
       "    <tr>\n",
       "      <th>word</th>\n",
       "      <th></th>\n",
       "    </tr>\n",
       "  </thead>\n",
       "  <tbody>\n",
       "    <tr>\n",
       "      <th>the</th>\n",
       "      <td>4029</td>\n",
       "    </tr>\n",
       "    <tr>\n",
       "      <th>and</th>\n",
       "      <td>2007</td>\n",
       "    </tr>\n",
       "    <tr>\n",
       "      <th>of</th>\n",
       "      <td>1631</td>\n",
       "    </tr>\n",
       "    <tr>\n",
       "      <th>to</th>\n",
       "      <td>1481</td>\n",
       "    </tr>\n",
       "    <tr>\n",
       "      <th>no</th>\n",
       "      <td>1049</td>\n",
       "    </tr>\n",
       "    <tr>\n",
       "      <th>in</th>\n",
       "      <td>997</td>\n",
       "    </tr>\n",
       "    <tr>\n",
       "      <th>for</th>\n",
       "      <td>960</td>\n",
       "    </tr>\n",
       "    <tr>\n",
       "      <th>emissions</th>\n",
       "      <td>884</td>\n",
       "    </tr>\n",
       "    <tr>\n",
       "      <th>would</th>\n",
       "      <td>828</td>\n",
       "    </tr>\n",
       "    <tr>\n",
       "      <th>project</th>\n",
       "      <td>779</td>\n",
       "    </tr>\n",
       "  </tbody>\n",
       "</table>\n",
       "</div>"
      ],
      "text/plain": [
       "           word_count\n",
       "word                 \n",
       "the              4029\n",
       "and              2007\n",
       "of               1631\n",
       "to               1481\n",
       "no               1049\n",
       "in                997\n",
       "for               960\n",
       "emissions         884\n",
       "would             828\n",
       "project           779"
      ]
     },
     "execution_count": 10,
     "metadata": {},
     "output_type": "execute_result"
    }
   ],
   "source": [
    "import pandas as pd\n",
    "df = pd.DataFrame.from_dict(counts, orient='index', columns=['word_count'])\n",
    "df.sort_values('word_count', ascending=False, inplace=True)\n",
    "df.index.name = 'word'\n",
    "df.head(10)"
   ]
  },
  {
   "cell_type": "markdown",
   "id": "c3ac0c16",
   "metadata": {},
   "source": [
    "<div class=\"alert alert-block alert-info\">\n",
    "<strong>Exercise:</strong> Turn the preceding steps into a function. The argument should be a list of words, and the function should return a DataFrame.\n",
    "</div>"
   ]
  },
  {
   "cell_type": "markdown",
   "id": "092d8664",
   "metadata": {},
   "source": [
    "Here, we just take all the code above, indent it, and give the function a name (`countWords`), an argument (`wordlist`), and a `return` statement."
   ]
  },
  {
   "cell_type": "code",
   "execution_count": 11,
   "id": "9cca449e",
   "metadata": {
    "code_folding": [
     0
    ]
   },
   "outputs": [
    {
     "data": {
      "text/html": [
       "<div>\n",
       "<style scoped>\n",
       "    .dataframe tbody tr th:only-of-type {\n",
       "        vertical-align: middle;\n",
       "    }\n",
       "\n",
       "    .dataframe tbody tr th {\n",
       "        vertical-align: top;\n",
       "    }\n",
       "\n",
       "    .dataframe thead th {\n",
       "        text-align: right;\n",
       "    }\n",
       "</style>\n",
       "<table border=\"1\" class=\"dataframe\">\n",
       "  <thead>\n",
       "    <tr style=\"text-align: right;\">\n",
       "      <th></th>\n",
       "      <th>word_count</th>\n",
       "    </tr>\n",
       "    <tr>\n",
       "      <th>word</th>\n",
       "      <th></th>\n",
       "    </tr>\n",
       "  </thead>\n",
       "  <tbody>\n",
       "    <tr>\n",
       "      <th>the</th>\n",
       "      <td>4029</td>\n",
       "    </tr>\n",
       "    <tr>\n",
       "      <th>and</th>\n",
       "      <td>2007</td>\n",
       "    </tr>\n",
       "    <tr>\n",
       "      <th>of</th>\n",
       "      <td>1631</td>\n",
       "    </tr>\n",
       "    <tr>\n",
       "      <th>to</th>\n",
       "      <td>1481</td>\n",
       "    </tr>\n",
       "    <tr>\n",
       "      <th>no</th>\n",
       "      <td>1049</td>\n",
       "    </tr>\n",
       "    <tr>\n",
       "      <th>in</th>\n",
       "      <td>997</td>\n",
       "    </tr>\n",
       "    <tr>\n",
       "      <th>for</th>\n",
       "      <td>960</td>\n",
       "    </tr>\n",
       "    <tr>\n",
       "      <th>emissions</th>\n",
       "      <td>884</td>\n",
       "    </tr>\n",
       "    <tr>\n",
       "      <th>would</th>\n",
       "      <td>828</td>\n",
       "    </tr>\n",
       "    <tr>\n",
       "      <th>project</th>\n",
       "      <td>779</td>\n",
       "    </tr>\n",
       "  </tbody>\n",
       "</table>\n",
       "</div>"
      ],
      "text/plain": [
       "           word_count\n",
       "word                 \n",
       "the              4029\n",
       "and              2007\n",
       "of               1631\n",
       "to               1481\n",
       "no               1049\n",
       "in                997\n",
       "for               960\n",
       "emissions         884\n",
       "would             828\n",
       "project           779"
      ]
     },
     "execution_count": 11,
     "metadata": {},
     "output_type": "execute_result"
    }
   ],
   "source": [
    "def countWords(wordlist):\n",
    "    counts = {} \n",
    "    \n",
    "    for word in wordlist:\n",
    "        lword = word.lower()\n",
    "        if lword in counts:\n",
    "            counts[lword] +=1\n",
    "        else:\n",
    "            counts[lword] = 1\n",
    "\n",
    "    df = pd.DataFrame.from_dict(counts, orient='index', columns=['word_count'])\n",
    "    df.sort_values('word_count', ascending=False, inplace=True)\n",
    "    df.index.name = 'word'\n",
    "    \n",
    "    return df\n",
    "\n",
    "wordlist = eirtext.split()\n",
    "df = countWords(wordlist)\n",
    "df.head(10)"
   ]
  },
  {
   "cell_type": "markdown",
   "id": "158ad813-ae67-44bf-a75e-81e68d2512da",
   "metadata": {},
   "source": [
    "## Visualizing bags of words\n",
    "Usually, the best way to visualize bags of words is a simple bar chart."
   ]
  },
  {
   "cell_type": "code",
   "execution_count": 12,
   "id": "a9bc05c1-76ea-4fbf-a01c-85cd99722b95",
   "metadata": {},
   "outputs": [
    {
     "data": {
      "text/plain": [
       "<Axes: xlabel='word'>"
      ]
     },
     "execution_count": 12,
     "metadata": {},
     "output_type": "execute_result"
    },
    {
     "data": {
      "image/png": "[encoded data removed]",
      "text/plain": [
       "<Figure size 640x480 with 1 Axes>"
      ]
     },
     "metadata": {},
     "output_type": "display_data"
    }
   ],
   "source": [
    "df.head(40).plot(kind='bar')  # you can also do hbar"
   ]
  },
  {
   "cell_type": "markdown",
   "id": "c9c3d0bf-f15c-4f02-9857-2257a04122e9",
   "metadata": {},
   "source": [
    "There are also Python libraries like `wordcloud` that you can experiment with to generate word clouds and similar plots.\n",
    "\n",
    "A major downside of word clouds are that the images are subtly biased. For example, longer words take up more space. However, they can be a nice visual to motivate an analysis.\n",
    "\n",
    "Looking at the plot above, it's dominated by the \"small\" words like \"the,\" \"and,\" and \"of.\" Perhaps it's distracting to include them in the analysis. We'll explore this question in the next lecture."
   ]
  },
  {
   "cell_type": "markdown",
   "id": "b453f388",
   "metadata": {},
   "source": [
    "<div class=\"alert alert-block alert-info\">\n",
    "<h3>Key Takeaways</h3>\n",
    "<ul>\n",
    "  <li>Word counts (bags of words) are normally a helpful first step in analyzing a text.</li>\n",
    "</ul>\n",
    "</div>"
   ]
  }
 ],
 "metadata": {
  "kernelspec": {
   "display_name": "Python 3 (ipykernel)",
   "language": "python",
   "name": "python3"
  },
  "language_info": {
   "codemirror_mode": {
    "name": "ipython",
    "version": 3
   },
   "file_extension": ".py",
   "mimetype": "text/x-python",
   "name": "python",
   "nbconvert_exporter": "python",
   "pygments_lexer": "ipython3",
   "version": "3.10.10"
  }
 },
 "nbformat": 4,
 "nbformat_minor": 5
}
