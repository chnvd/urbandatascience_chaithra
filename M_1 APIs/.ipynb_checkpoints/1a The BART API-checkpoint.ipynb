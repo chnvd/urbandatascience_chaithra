{
 "cells": [
  {
   "cell_type": "markdown",
   "id": "coated-diving",
   "metadata": {
    "slideshow": {
     "slide_type": "slide"
    }
   },
   "source": [
    "# Module 1. Application programming interfaces: APIs\n",
    "# The BART API"
   ]
  },
  {
   "cell_type": "markdown",
   "id": "familiar-professor",
   "metadata": {
    "slideshow": {
     "slide_type": "fragment"
    },
    "tags": []
   },
   "source": [
    "## Lecture objectives\n",
    "\n",
    "1. Demonstrate different ways to access data via an API\n",
    "2. Introduce the `requests` library \n",
    "3. Show how to parse JSON data"
   ]
  },
  {
   "cell_type": "markdown",
   "id": "lesbian-infection",
   "metadata": {
    "slideshow": {
     "slide_type": "fragment"
    }
   },
   "source": [
    "One way to get data is to download it manually from a website. You might click through a series of links and then save a `.csv` or similar file to your hard drive.\n",
    "\n",
    "Another way is through an Application Programming Interface (API). These APIs make it possible to request just the data that you are interested in. Sometimes, this data is static—it will be the same each time you request it. The U.S. Census is a good example. Other APIs are dynamic—for example, bus and train arrival times."
   ]
  },
  {
   "cell_type": "markdown",
   "id": "parallel-stephen",
   "metadata": {
    "slideshow": {
     "slide_type": "slide"
    }
   },
   "source": [
    "## Example: BART\n",
    "Many APIs return a format known as JSON. While it seems complicated, it's relatively easy to work with because it's highly structured.\n",
    "\n",
    "BART provides its [API documentation here](https://api.bart.gov/docs/overview/index.aspx).\n",
    "\n",
    "How do we get data from the API into Python? The `requests` library is the key to unlocking many interactions with the web.\n",
    "\n",
    "Let's get the real-time departures from 12th St Oakland City Center station. According to the [documentation](https://api.bart.gov/docs/etd/etd.aspx), we need to pass `orig=12TH`. We can also pass `json=y` to return the results in JSON format.\n",
    "\n",
    "Most APIs, including that of BART, require a \"key\" that identifies you to the developer. For serious usage, you'd request your own key. But for experimentation, BART provides a key that anyone can use. \n",
    "\n",
    "So how do we construct the request? We simply build a string that contains all of these commands, following the example in the documentation. Then we pass that string to `requests.get()`."
   ]
  },
  {
   "cell_type": "code",
   "execution_count": 1,
   "id": "color-keeping",
   "metadata": {
    "slideshow": {
     "slide_type": "fragment"
    }
   },
   "outputs": [],
   "source": [
    "import requests\n",
    "\n",
    "APIkey = 'MW9S-E7SL-26DU-VV8V'  # the key posted on BART's website\n",
    "requestString = 'http://api.bart.gov/api/etd.aspx?cmd=etd&orig=12TH&json=y&key='+APIkey\n",
    "\n",
    "r = requests.get(requestString)"
   ]
  },
  {
   "cell_type": "markdown",
   "id": "manual-driving",
   "metadata": {
    "slideshow": {
     "slide_type": "fragment"
    }
   },
   "source": [
    "Here, we've made a request to the BART API, and stored the response in the `r` object. \n",
    "\n",
    "Let's see what the `r` object includes. Use `r.` and the `tab` autocomplete in Jupyter Notebook to see the different attributes. Or you can call the help function."
   ]
  },
  {
   "cell_type": "code",
   "execution_count": 2,
   "id": "f4973bf6",
   "metadata": {},
   "outputs": [
    {
     "name": "stdout",
     "output_type": "stream",
     "text": [
      "Help on Response in module requests.models object:\n",
      "\n",
      "class Response(builtins.object)\n",
      " |  The :class:`Response <Response>` object, which contains a\n",
      " |  server's response to an HTTP request.\n",
      " |  \n",
      " |  Methods defined here:\n",
      " |  \n",
      " |  __bool__(self)\n",
      " |      Returns True if :attr:`status_code` is less than 400.\n",
      " |      \n",
      " |      This attribute checks if the status code of the response is between\n",
      " |      400 and 600 to see if there was a client error or a server error. If\n",
      " |      the status code, is between 200 and 400, this will return True. This\n",
      " |      is **not** a check to see if the response code is ``200 OK``.\n",
      " |  \n",
      " |  __enter__(self)\n",
      " |  \n",
      " |  __exit__(self, *args)\n",
      " |  \n",
      " |  __getstate__(self)\n",
      " |  \n",
      " |  __init__(self)\n",
      " |      Initialize self.  See help(type(self)) for accurate signature.\n",
      " |  \n",
      " |  __iter__(self)\n",
      " |      Allows you to use a response as an iterator.\n",
      " |  \n",
      " |  __nonzero__(self)\n",
      " |      Returns True if :attr:`status_code` is less than 400.\n",
      " |      \n",
      " |      This attribute checks if the status code of the response is between\n",
      " |      400 and 600 to see if there was a client error or a server error. If\n",
      " |      the status code, is between 200 and 400, this will return True. This\n",
      " |      is **not** a check to see if the response code is ``200 OK``.\n",
      " |  \n",
      " |  __repr__(self)\n",
      " |      Return repr(self).\n",
      " |  \n",
      " |  __setstate__(self, state)\n",
      " |  \n",
      " |  close(self)\n",
      " |      Releases the connection back to the pool. Once this method has been\n",
      " |      called the underlying ``raw`` object must not be accessed again.\n",
      " |      \n",
      " |      *Note: Should not normally need to be called explicitly.*\n",
      " |  \n",
      " |  iter_content(self, chunk_size=1, decode_unicode=False)\n",
      " |      Iterates over the response data.  When stream=True is set on the\n",
      " |      request, this avoids reading the content at once into memory for\n",
      " |      large responses.  The chunk size is the number of bytes it should\n",
      " |      read into memory.  This is not necessarily the length of each item\n",
      " |      returned as decoding can take place.\n",
      " |      \n",
      " |      chunk_size must be of type int or None. A value of None will\n",
      " |      function differently depending on the value of `stream`.\n",
      " |      stream=True will read data as it arrives in whatever size the\n",
      " |      chunks are received. If stream=False, data is returned as\n",
      " |      a single chunk.\n",
      " |      \n",
      " |      If decode_unicode is True, content will be decoded using the best\n",
      " |      available encoding based on the response.\n",
      " |  \n",
      " |  iter_lines(self, chunk_size=512, decode_unicode=False, delimiter=None)\n",
      " |      Iterates over the response data, one line at a time.  When\n",
      " |      stream=True is set on the request, this avoids reading the\n",
      " |      content at once into memory for large responses.\n",
      " |      \n",
      " |      .. note:: This method is not reentrant safe.\n",
      " |  \n",
      " |  json(self, **kwargs)\n",
      " |      Returns the json-encoded content of a response, if any.\n",
      " |      \n",
      " |      :param \\*\\*kwargs: Optional arguments that ``json.loads`` takes.\n",
      " |      :raises requests.exceptions.JSONDecodeError: If the response body does not\n",
      " |          contain valid json.\n",
      " |  \n",
      " |  raise_for_status(self)\n",
      " |      Raises :class:`HTTPError`, if one occurred.\n",
      " |  \n",
      " |  ----------------------------------------------------------------------\n",
      " |  Readonly properties defined here:\n",
      " |  \n",
      " |  apparent_encoding\n",
      " |      The apparent encoding, provided by the charset_normalizer or chardet libraries.\n",
      " |  \n",
      " |  content\n",
      " |      Content of the response, in bytes.\n",
      " |  \n",
      " |  is_permanent_redirect\n",
      " |      True if this Response one of the permanent versions of redirect.\n",
      " |  \n",
      " |  is_redirect\n",
      " |      True if this Response is a well-formed HTTP redirect that could have\n",
      " |      been processed automatically (by :meth:`Session.resolve_redirects`).\n",
      " |  \n",
      " |  links\n",
      " |      Returns the parsed header links of the response, if any.\n",
      " |  \n",
      " |  next\n",
      " |      Returns a PreparedRequest for the next request in a redirect chain, if there is one.\n",
      " |  \n",
      " |  ok\n",
      " |      Returns True if :attr:`status_code` is less than 400, False if not.\n",
      " |      \n",
      " |      This attribute checks if the status code of the response is between\n",
      " |      400 and 600 to see if there was a client error or a server error. If\n",
      " |      the status code is between 200 and 400, this will return True. This\n",
      " |      is **not** a check to see if the response code is ``200 OK``.\n",
      " |  \n",
      " |  text\n",
      " |      Content of the response, in unicode.\n",
      " |      \n",
      " |      If Response.encoding is None, encoding will be guessed using\n",
      " |      ``charset_normalizer`` or ``chardet``.\n",
      " |      \n",
      " |      The encoding of the response content is determined based solely on HTTP\n",
      " |      headers, following RFC 2616 to the letter. If you can take advantage of\n",
      " |      non-HTTP knowledge to make a better guess at the encoding, you should\n",
      " |      set ``r.encoding`` appropriately before accessing this property.\n",
      " |  \n",
      " |  ----------------------------------------------------------------------\n",
      " |  Data descriptors defined here:\n",
      " |  \n",
      " |  __dict__\n",
      " |      dictionary for instance variables (if defined)\n",
      " |  \n",
      " |  __weakref__\n",
      " |      list of weak references to the object (if defined)\n",
      " |  \n",
      " |  ----------------------------------------------------------------------\n",
      " |  Data and other attributes defined here:\n",
      " |  \n",
      " |  __attrs__ = ['_content', 'status_code', 'headers', 'url', 'history', '...\n",
      "\n"
     ]
    }
   ],
   "source": [
    "help(r)"
   ]
  },
  {
   "cell_type": "markdown",
   "id": "875801a5",
   "metadata": {},
   "source": [
    "One attribute is `ok`: did the request succeed?"
   ]
  },
  {
   "cell_type": "code",
   "execution_count": 3,
   "id": "unexpected-sensitivity",
   "metadata": {},
   "outputs": [
    {
     "name": "stdout",
     "output_type": "stream",
     "text": [
      "True\n"
     ]
    }
   ],
   "source": [
    "print(r.ok)"
   ]
  },
  {
   "cell_type": "markdown",
   "id": "0583cb59",
   "metadata": {},
   "source": [
    "The `text` attribute shows the text that was returned."
   ]
  },
  {
   "cell_type": "code",
   "execution_count": 4,
   "id": "equivalent-southwest",
   "metadata": {},
   "outputs": [
    {
     "name": "stdout",
     "output_type": "stream",
     "text": [
      "{\"?xml\":{\"@version\":\"1.0\",\"@encoding\":\"utf-8\"},\"root\":{\"@id\":\"1\",\"uri\":{\"#cdata-section\":\"http://api.bart.gov/api/etd.aspx?cmd=etd&orig=12TH&json=y\"},\"date\":\"04/05/2023\",\"time\":\"06:31:11 AM PDT\",\"station\":[{\"name\":\"12th St. Oakland City Center\",\"abbr\":\"12TH\",\"etd\":[{\"destination\":\"Antioch\",\"abbreviation\":\"ANTC\",\"limited\":\"0\",\"estimate\":[{\"minutes\":\"10\",\"platform\":\"3\",\"direction\":\"North\",\"length\":\"8\",\"color\":\"YELLOW\",\"hexcolor\":\"#ffff33\",\"bikeflag\":\"1\",\"delay\":\"0\",\"cancelflag\":\"0\",\"dynamicflag\":\"0\"},{\"minutes\":\"25\",\"platform\":\"3\",\"direction\":\"North\",\"length\":\"10\",\"color\":\"YELLOW\",\"hexcolor\":\"#ffff33\",\"bikeflag\":\"1\",\"delay\":\"0\",\"cancelflag\":\"0\",\"dynamicflag\":\"0\"},{\"minutes\":\"40\",\"platform\":\"3\",\"direction\":\"North\",\"length\":\"10\",\"color\":\"YELLOW\",\"hexcolor\":\"#ffff33\",\"bikeflag\":\"1\",\"delay\":\"0\",\"cancelflag\":\"0\",\"dynamicflag\":\"0\"}]},{\"destination\":\"Berryessa\",\"abbreviation\":\"BERY\",\"limited\":\"0\",\"estimate\":[{\"minutes\":\"Leaving\",\"platform\":\"2\",\"direction\":\"South\",\"length\":\"8\",\"color\":\"ORANGE\",\"hexcolor\":\"#ff9933\",\"bikeflag\":\"1\",\"delay\":\"0\",\"cancelflag\":\"0\",\"dynamicflag\":\"0\"},{\"minutes\":\"15\",\"platform\":\"2\",\"direction\":\"South\",\"length\":\"8\",\"color\":\"ORANGE\",\"hexcolor\":\"#ff9933\",\"bikeflag\":\"1\",\"delay\":\"0\",\"cancelflag\":\"0\",\"dynamicflag\":\"0\"},{\"minutes\":\"30\",\"platform\":\"2\",\"direction\":\"South\",\"length\":\"8\",\"color\":\"ORANGE\",\"hexcolor\":\"#ff9933\",\"bikeflag\":\"1\",\"delay\":\"0\",\"cancelflag\":\"0\",\"dynamicflag\":\"0\"}]},{\"destination\":\"Millbrae/SFO\",\"abbreviation\":\"SFIA\",\"limited\":\"0\",\"estimate\":[{\"minutes\":\"7\",\"platform\":\"2\",\"direction\":\"South\",\"length\":\"10\",\"color\":\"RED\",\"hexcolor\":\"#ff0000\",\"bikeflag\":\"1\",\"delay\":\"0\",\"cancelflag\":\"0\",\"dynamicflag\":\"0\"},{\"minutes\":\"22\",\"platform\":\"2\",\"direction\":\"South\",\"length\":\"10\",\"color\":\"RED\",\"hexcolor\":\"#ff0000\",\"bikeflag\":\"1\",\"delay\":\"0\",\"cancelflag\":\"1\",\"dynamicflag\":\"0\"},{\"minutes\":\"37\",\"platform\":\"2\",\"direction\":\"South\",\"length\":\"10\",\"color\":\"RED\",\"hexcolor\":\"#ff0000\",\"bikeflag\":\"1\",\"delay\":\"0\",\"cancelflag\":\"0\",\"dynamicflag\":\"0\"}]},{\"destination\":\"Richmond\",\"abbreviation\":\"RICH\",\"limited\":\"0\",\"estimate\":[{\"minutes\":\"11\",\"platform\":\"1\",\"direction\":\"North\",\"length\":\"8\",\"color\":\"ORANGE\",\"hexcolor\":\"#ff9933\",\"bikeflag\":\"1\",\"delay\":\"0\",\"cancelflag\":\"0\",\"dynamicflag\":\"0\"},{\"minutes\":\"16\",\"platform\":\"1\",\"direction\":\"North\",\"length\":\"10\",\"color\":\"RED\",\"hexcolor\":\"#ff0000\",\"bikeflag\":\"1\",\"delay\":\"0\",\"cancelflag\":\"0\",\"dynamicflag\":\"0\"},{\"minutes\":\"26\",\"platform\":\"1\",\"direction\":\"North\",\"length\":\"8\",\"color\":\"ORANGE\",\"hexcolor\":\"#ff9933\",\"bikeflag\":\"1\",\"delay\":\"0\",\"cancelflag\":\"0\",\"dynamicflag\":\"0\"}]},{\"destination\":\"SF Airport\",\"abbreviation\":\"SFIA\",\"limited\":\"0\",\"estimate\":[{\"minutes\":\"12\",\"platform\":\"2\",\"direction\":\"South\",\"length\":\"10\",\"color\":\"YELLOW\",\"hexcolor\":\"#ffff33\",\"bikeflag\":\"1\",\"delay\":\"65\",\"cancelflag\":\"0\",\"dynamicflag\":\"0\"},{\"minutes\":\"26\",\"platform\":\"2\",\"direction\":\"South\",\"length\":\"10\",\"color\":\"YELLOW\",\"hexcolor\":\"#ffff33\",\"bikeflag\":\"1\",\"delay\":\"0\",\"cancelflag\":\"0\",\"dynamicflag\":\"0\"},{\"minutes\":\"41\",\"platform\":\"2\",\"direction\":\"South\",\"length\":\"8\",\"color\":\"YELLOW\",\"hexcolor\":\"#ffff33\",\"bikeflag\":\"1\",\"delay\":\"0\",\"cancelflag\":\"0\",\"dynamicflag\":\"0\"}]}]}],\"message\":\"\"}}\n"
     ]
    }
   ],
   "source": [
    "print(r.text)"
   ]
  },
  {
   "cell_type": "markdown",
   "id": "coupled-trick",
   "metadata": {},
   "source": [
    "This looks promising. But how can we get this into a more usable form? The `json` module is the key. It's built-in to Python so you don't have to install anything."
   ]
  },
  {
   "cell_type": "code",
   "execution_count": 5,
   "id": "atmospheric-smith",
   "metadata": {},
   "outputs": [],
   "source": [
    "import json"
   ]
  },
  {
   "cell_type": "code",
   "execution_count": 8,
   "id": "superior-seventh",
   "metadata": {},
   "outputs": [
    {
     "name": "stdout",
     "output_type": "stream",
     "text": [
      "<class 'dict'>\n"
     ]
    }
   ],
   "source": [
    "# json.loads() will turn the JSON object into a dictionary\n",
    "d = json.loads(r.text)\n",
    "print(type(d))"
   ]
  },
  {
   "cell_type": "markdown",
   "id": "bf0e430a",
   "metadata": {},
   "source": [
    "<div class=\"alert alert-block alert-info\">\n",
    "<strong>Exercise:</strong> How can you access the relevant contents of the dictionary? Hint: First, look at the keys.\n",
    "</div>"
   ]
  },
  {
   "cell_type": "code",
   "execution_count": 9,
   "id": "spiritual-pursuit",
   "metadata": {},
   "outputs": [
    {
     "name": "stdout",
     "output_type": "stream",
     "text": [
      "dict_keys(['?xml', 'root'])\n",
      "{'@id': '1', 'uri': {'#cdata-section': 'http://api.bart.gov/api/etd.aspx?cmd=etd&orig=12TH&json=y'}, 'date': '04/05/2023', 'time': '06:31:11 AM PDT', 'station': [{'name': '12th St. Oakland City Center', 'abbr': '12TH', 'etd': [{'destination': 'Antioch', 'abbreviation': 'ANTC', 'limited': '0', 'estimate': [{'minutes': '10', 'platform': '3', 'direction': 'North', 'length': '8', 'color': 'YELLOW', 'hexcolor': '#ffff33', 'bikeflag': '1', 'delay': '0', 'cancelflag': '0', 'dynamicflag': '0'}, {'minutes': '25', 'platform': '3', 'direction': 'North', 'length': '10', 'color': 'YELLOW', 'hexcolor': '#ffff33', 'bikeflag': '1', 'delay': '0', 'cancelflag': '0', 'dynamicflag': '0'}, {'minutes': '40', 'platform': '3', 'direction': 'North', 'length': '10', 'color': 'YELLOW', 'hexcolor': '#ffff33', 'bikeflag': '1', 'delay': '0', 'cancelflag': '0', 'dynamicflag': '0'}]}, {'destination': 'Berryessa', 'abbreviation': 'BERY', 'limited': '0', 'estimate': [{'minutes': 'Leaving', 'platform': '2', 'direction': 'South', 'length': '8', 'color': 'ORANGE', 'hexcolor': '#ff9933', 'bikeflag': '1', 'delay': '0', 'cancelflag': '0', 'dynamicflag': '0'}, {'minutes': '15', 'platform': '2', 'direction': 'South', 'length': '8', 'color': 'ORANGE', 'hexcolor': '#ff9933', 'bikeflag': '1', 'delay': '0', 'cancelflag': '0', 'dynamicflag': '0'}, {'minutes': '30', 'platform': '2', 'direction': 'South', 'length': '8', 'color': 'ORANGE', 'hexcolor': '#ff9933', 'bikeflag': '1', 'delay': '0', 'cancelflag': '0', 'dynamicflag': '0'}]}, {'destination': 'Millbrae/SFO', 'abbreviation': 'SFIA', 'limited': '0', 'estimate': [{'minutes': '7', 'platform': '2', 'direction': 'South', 'length': '10', 'color': 'RED', 'hexcolor': '#ff0000', 'bikeflag': '1', 'delay': '0', 'cancelflag': '0', 'dynamicflag': '0'}, {'minutes': '22', 'platform': '2', 'direction': 'South', 'length': '10', 'color': 'RED', 'hexcolor': '#ff0000', 'bikeflag': '1', 'delay': '0', 'cancelflag': '1', 'dynamicflag': '0'}, {'minutes': '37', 'platform': '2', 'direction': 'South', 'length': '10', 'color': 'RED', 'hexcolor': '#ff0000', 'bikeflag': '1', 'delay': '0', 'cancelflag': '0', 'dynamicflag': '0'}]}, {'destination': 'Richmond', 'abbreviation': 'RICH', 'limited': '0', 'estimate': [{'minutes': '11', 'platform': '1', 'direction': 'North', 'length': '8', 'color': 'ORANGE', 'hexcolor': '#ff9933', 'bikeflag': '1', 'delay': '0', 'cancelflag': '0', 'dynamicflag': '0'}, {'minutes': '16', 'platform': '1', 'direction': 'North', 'length': '10', 'color': 'RED', 'hexcolor': '#ff0000', 'bikeflag': '1', 'delay': '0', 'cancelflag': '0', 'dynamicflag': '0'}, {'minutes': '26', 'platform': '1', 'direction': 'North', 'length': '8', 'color': 'ORANGE', 'hexcolor': '#ff9933', 'bikeflag': '1', 'delay': '0', 'cancelflag': '0', 'dynamicflag': '0'}]}, {'destination': 'SF Airport', 'abbreviation': 'SFIA', 'limited': '0', 'estimate': [{'minutes': '12', 'platform': '2', 'direction': 'South', 'length': '10', 'color': 'YELLOW', 'hexcolor': '#ffff33', 'bikeflag': '1', 'delay': '65', 'cancelflag': '0', 'dynamicflag': '0'}, {'minutes': '26', 'platform': '2', 'direction': 'South', 'length': '10', 'color': 'YELLOW', 'hexcolor': '#ffff33', 'bikeflag': '1', 'delay': '0', 'cancelflag': '0', 'dynamicflag': '0'}, {'minutes': '41', 'platform': '2', 'direction': 'South', 'length': '8', 'color': 'YELLOW', 'hexcolor': '#ffff33', 'bikeflag': '1', 'delay': '0', 'cancelflag': '0', 'dynamicflag': '0'}]}]}], 'message': ''}\n"
     ]
    }
   ],
   "source": [
    "# remember, a dictionary is a collection of keys and values\n",
    "# here looks like there are two keys, called ?xml and root\n",
    "# let's look at the root item\n",
    "print(d.keys())\n",
    "print(d['root'])"
   ]
  },
  {
   "cell_type": "code",
   "execution_count": 10,
   "id": "indoor-refund",
   "metadata": {},
   "outputs": [
    {
     "name": "stdout",
     "output_type": "stream",
     "text": [
      "dict_keys(['@id', 'uri', 'date', 'time', 'station', 'message'])\n"
     ]
    }
   ],
   "source": [
    "# and in turn, 'root' is another dictionary. You could also have seen this because of the curly brackets { }  \n",
    "print((d['root'].keys()))"
   ]
  },
  {
   "cell_type": "markdown",
   "id": "protective-couple",
   "metadata": {},
   "source": [
    "The \"station\" item seems to hold most of the useful information. \n",
    "\n",
    "It's a list."
   ]
  },
  {
   "cell_type": "code",
   "execution_count": 11,
   "id": "ca4be59b",
   "metadata": {},
   "outputs": [
    {
     "name": "stdout",
     "output_type": "stream",
     "text": [
      "<class 'list'>\n"
     ]
    }
   ],
   "source": [
    "print(type((d['root']['station'])))"
   ]
  },
  {
   "cell_type": "markdown",
   "id": "2efa96c3",
   "metadata": {},
   "source": [
    "Of length 1"
   ]
  },
  {
   "cell_type": "code",
   "execution_count": 12,
   "id": "67f306ab",
   "metadata": {},
   "outputs": [
    {
     "name": "stdout",
     "output_type": "stream",
     "text": [
      "1\n"
     ]
    }
   ],
   "source": [
    "print(len(d['root']['station']))"
   ]
  },
  {
   "cell_type": "code",
   "execution_count": 13,
   "id": "d96377b5",
   "metadata": {},
   "outputs": [
    {
     "name": "stdout",
     "output_type": "stream",
     "text": [
      "{'name': '12th St. Oakland City Center', 'abbr': '12TH', 'etd': [{'destination': 'Antioch', 'abbreviation': 'ANTC', 'limited': '0', 'estimate': [{'minutes': '10', 'platform': '3', 'direction': 'North', 'length': '8', 'color': 'YELLOW', 'hexcolor': '#ffff33', 'bikeflag': '1', 'delay': '0', 'cancelflag': '0', 'dynamicflag': '0'}, {'minutes': '25', 'platform': '3', 'direction': 'North', 'length': '10', 'color': 'YELLOW', 'hexcolor': '#ffff33', 'bikeflag': '1', 'delay': '0', 'cancelflag': '0', 'dynamicflag': '0'}, {'minutes': '40', 'platform': '3', 'direction': 'North', 'length': '10', 'color': 'YELLOW', 'hexcolor': '#ffff33', 'bikeflag': '1', 'delay': '0', 'cancelflag': '0', 'dynamicflag': '0'}]}, {'destination': 'Berryessa', 'abbreviation': 'BERY', 'limited': '0', 'estimate': [{'minutes': 'Leaving', 'platform': '2', 'direction': 'South', 'length': '8', 'color': 'ORANGE', 'hexcolor': '#ff9933', 'bikeflag': '1', 'delay': '0', 'cancelflag': '0', 'dynamicflag': '0'}, {'minutes': '15', 'platform': '2', 'direction': 'South', 'length': '8', 'color': 'ORANGE', 'hexcolor': '#ff9933', 'bikeflag': '1', 'delay': '0', 'cancelflag': '0', 'dynamicflag': '0'}, {'minutes': '30', 'platform': '2', 'direction': 'South', 'length': '8', 'color': 'ORANGE', 'hexcolor': '#ff9933', 'bikeflag': '1', 'delay': '0', 'cancelflag': '0', 'dynamicflag': '0'}]}, {'destination': 'Millbrae/SFO', 'abbreviation': 'SFIA', 'limited': '0', 'estimate': [{'minutes': '7', 'platform': '2', 'direction': 'South', 'length': '10', 'color': 'RED', 'hexcolor': '#ff0000', 'bikeflag': '1', 'delay': '0', 'cancelflag': '0', 'dynamicflag': '0'}, {'minutes': '22', 'platform': '2', 'direction': 'South', 'length': '10', 'color': 'RED', 'hexcolor': '#ff0000', 'bikeflag': '1', 'delay': '0', 'cancelflag': '1', 'dynamicflag': '0'}, {'minutes': '37', 'platform': '2', 'direction': 'South', 'length': '10', 'color': 'RED', 'hexcolor': '#ff0000', 'bikeflag': '1', 'delay': '0', 'cancelflag': '0', 'dynamicflag': '0'}]}, {'destination': 'Richmond', 'abbreviation': 'RICH', 'limited': '0', 'estimate': [{'minutes': '11', 'platform': '1', 'direction': 'North', 'length': '8', 'color': 'ORANGE', 'hexcolor': '#ff9933', 'bikeflag': '1', 'delay': '0', 'cancelflag': '0', 'dynamicflag': '0'}, {'minutes': '16', 'platform': '1', 'direction': 'North', 'length': '10', 'color': 'RED', 'hexcolor': '#ff0000', 'bikeflag': '1', 'delay': '0', 'cancelflag': '0', 'dynamicflag': '0'}, {'minutes': '26', 'platform': '1', 'direction': 'North', 'length': '8', 'color': 'ORANGE', 'hexcolor': '#ff9933', 'bikeflag': '1', 'delay': '0', 'cancelflag': '0', 'dynamicflag': '0'}]}, {'destination': 'SF Airport', 'abbreviation': 'SFIA', 'limited': '0', 'estimate': [{'minutes': '12', 'platform': '2', 'direction': 'South', 'length': '10', 'color': 'YELLOW', 'hexcolor': '#ffff33', 'bikeflag': '1', 'delay': '65', 'cancelflag': '0', 'dynamicflag': '0'}, {'minutes': '26', 'platform': '2', 'direction': 'South', 'length': '10', 'color': 'YELLOW', 'hexcolor': '#ffff33', 'bikeflag': '1', 'delay': '0', 'cancelflag': '0', 'dynamicflag': '0'}, {'minutes': '41', 'platform': '2', 'direction': 'South', 'length': '8', 'color': 'YELLOW', 'hexcolor': '#ffff33', 'bikeflag': '1', 'delay': '0', 'cancelflag': '0', 'dynamicflag': '0'}]}]}\n"
     ]
    }
   ],
   "source": [
    "print(d['root']['station'][0])"
   ]
  },
  {
   "cell_type": "markdown",
   "id": "b8738169",
   "metadata": {},
   "source": [
    "And this is another dictionary! (You can tell by the curly brackets).\n",
    "\n",
    "Most of the information appears to be in `etd`, which is another list. "
   ]
  },
  {
   "cell_type": "code",
   "execution_count": 14,
   "id": "aa7113cb",
   "metadata": {},
   "outputs": [
    {
     "name": "stdout",
     "output_type": "stream",
     "text": [
      "[{'destination': 'Antioch', 'abbreviation': 'ANTC', 'limited': '0', 'estimate': [{'minutes': '10', 'platform': '3', 'direction': 'North', 'length': '8', 'color': 'YELLOW', 'hexcolor': '#ffff33', 'bikeflag': '1', 'delay': '0', 'cancelflag': '0', 'dynamicflag': '0'}, {'minutes': '25', 'platform': '3', 'direction': 'North', 'length': '10', 'color': 'YELLOW', 'hexcolor': '#ffff33', 'bikeflag': '1', 'delay': '0', 'cancelflag': '0', 'dynamicflag': '0'}, {'minutes': '40', 'platform': '3', 'direction': 'North', 'length': '10', 'color': 'YELLOW', 'hexcolor': '#ffff33', 'bikeflag': '1', 'delay': '0', 'cancelflag': '0', 'dynamicflag': '0'}]}, {'destination': 'Berryessa', 'abbreviation': 'BERY', 'limited': '0', 'estimate': [{'minutes': 'Leaving', 'platform': '2', 'direction': 'South', 'length': '8', 'color': 'ORANGE', 'hexcolor': '#ff9933', 'bikeflag': '1', 'delay': '0', 'cancelflag': '0', 'dynamicflag': '0'}, {'minutes': '15', 'platform': '2', 'direction': 'South', 'length': '8', 'color': 'ORANGE', 'hexcolor': '#ff9933', 'bikeflag': '1', 'delay': '0', 'cancelflag': '0', 'dynamicflag': '0'}, {'minutes': '30', 'platform': '2', 'direction': 'South', 'length': '8', 'color': 'ORANGE', 'hexcolor': '#ff9933', 'bikeflag': '1', 'delay': '0', 'cancelflag': '0', 'dynamicflag': '0'}]}, {'destination': 'Millbrae/SFO', 'abbreviation': 'SFIA', 'limited': '0', 'estimate': [{'minutes': '7', 'platform': '2', 'direction': 'South', 'length': '10', 'color': 'RED', 'hexcolor': '#ff0000', 'bikeflag': '1', 'delay': '0', 'cancelflag': '0', 'dynamicflag': '0'}, {'minutes': '22', 'platform': '2', 'direction': 'South', 'length': '10', 'color': 'RED', 'hexcolor': '#ff0000', 'bikeflag': '1', 'delay': '0', 'cancelflag': '1', 'dynamicflag': '0'}, {'minutes': '37', 'platform': '2', 'direction': 'South', 'length': '10', 'color': 'RED', 'hexcolor': '#ff0000', 'bikeflag': '1', 'delay': '0', 'cancelflag': '0', 'dynamicflag': '0'}]}, {'destination': 'Richmond', 'abbreviation': 'RICH', 'limited': '0', 'estimate': [{'minutes': '11', 'platform': '1', 'direction': 'North', 'length': '8', 'color': 'ORANGE', 'hexcolor': '#ff9933', 'bikeflag': '1', 'delay': '0', 'cancelflag': '0', 'dynamicflag': '0'}, {'minutes': '16', 'platform': '1', 'direction': 'North', 'length': '10', 'color': 'RED', 'hexcolor': '#ff0000', 'bikeflag': '1', 'delay': '0', 'cancelflag': '0', 'dynamicflag': '0'}, {'minutes': '26', 'platform': '1', 'direction': 'North', 'length': '8', 'color': 'ORANGE', 'hexcolor': '#ff9933', 'bikeflag': '1', 'delay': '0', 'cancelflag': '0', 'dynamicflag': '0'}]}, {'destination': 'SF Airport', 'abbreviation': 'SFIA', 'limited': '0', 'estimate': [{'minutes': '12', 'platform': '2', 'direction': 'South', 'length': '10', 'color': 'YELLOW', 'hexcolor': '#ffff33', 'bikeflag': '1', 'delay': '65', 'cancelflag': '0', 'dynamicflag': '0'}, {'minutes': '26', 'platform': '2', 'direction': 'South', 'length': '10', 'color': 'YELLOW', 'hexcolor': '#ffff33', 'bikeflag': '1', 'delay': '0', 'cancelflag': '0', 'dynamicflag': '0'}, {'minutes': '41', 'platform': '2', 'direction': 'South', 'length': '8', 'color': 'YELLOW', 'hexcolor': '#ffff33', 'bikeflag': '1', 'delay': '0', 'cancelflag': '0', 'dynamicflag': '0'}]}]\n"
     ]
    }
   ],
   "source": [
    "print(d['root']['station'][0]['etd'])"
   ]
  },
  {
   "cell_type": "markdown",
   "id": "6fcd26ff",
   "metadata": {},
   "source": [
    "Each element of the list appears to be a dictionary, giving details of trains to a particular destination. Let's simplify things by pulling this list out to a separate variable.\n",
    "\n",
    "The `destination` item is self explanatory. The `estimate` item is yet another list!"
   ]
  },
  {
   "cell_type": "code",
   "execution_count": 15,
   "id": "5cfeb00c",
   "metadata": {},
   "outputs": [
    {
     "name": "stdout",
     "output_type": "stream",
     "text": [
      "Antioch\n",
      "[{'minutes': '10', 'platform': '3', 'direction': 'North', 'length': '8', 'color': 'YELLOW', 'hexcolor': '#ffff33', 'bikeflag': '1', 'delay': '0', 'cancelflag': '0', 'dynamicflag': '0'}, {'minutes': '25', 'platform': '3', 'direction': 'North', 'length': '10', 'color': 'YELLOW', 'hexcolor': '#ffff33', 'bikeflag': '1', 'delay': '0', 'cancelflag': '0', 'dynamicflag': '0'}, {'minutes': '40', 'platform': '3', 'direction': 'North', 'length': '10', 'color': 'YELLOW', 'hexcolor': '#ffff33', 'bikeflag': '1', 'delay': '0', 'cancelflag': '0', 'dynamicflag': '0'}]\n",
      "Berryessa\n",
      "[{'minutes': 'Leaving', 'platform': '2', 'direction': 'South', 'length': '8', 'color': 'ORANGE', 'hexcolor': '#ff9933', 'bikeflag': '1', 'delay': '0', 'cancelflag': '0', 'dynamicflag': '0'}, {'minutes': '15', 'platform': '2', 'direction': 'South', 'length': '8', 'color': 'ORANGE', 'hexcolor': '#ff9933', 'bikeflag': '1', 'delay': '0', 'cancelflag': '0', 'dynamicflag': '0'}, {'minutes': '30', 'platform': '2', 'direction': 'South', 'length': '8', 'color': 'ORANGE', 'hexcolor': '#ff9933', 'bikeflag': '1', 'delay': '0', 'cancelflag': '0', 'dynamicflag': '0'}]\n"
     ]
    }
   ],
   "source": [
    "etd = d['root']['station'][0]['etd']\n",
    "\n",
    "print(etd[0]['destination'])\n",
    "print(etd[0]['estimate'])\n",
    "\n",
    "print(etd[1]['destination'])\n",
    "print(etd[1]['estimate'])"
   ]
  },
  {
   "cell_type": "markdown",
   "id": "c32655fc",
   "metadata": {},
   "source": [
    "We can print this more nicely using the `.format()` method for a string. The curly braces `{}` are placeholders for the items to be inserted."
   ]
  },
  {
   "cell_type": "code",
   "execution_count": 16,
   "id": "raised-jimmy",
   "metadata": {},
   "outputs": [
    {
     "name": "stdout",
     "output_type": "stream",
     "text": [
      "Train to Antioch is arriving in 10 minutes\n"
     ]
    }
   ],
   "source": [
    "print('Train to {} is arriving in {} minutes'.format(etd[0]['destination'], etd[0]['estimate'][0]['minutes']))"
   ]
  },
  {
   "cell_type": "markdown",
   "id": "a556701f",
   "metadata": {},
   "source": [
    "To make this easier to work with, we can convert to a pandas `DataFrame`. This doesn't always work, but is worth a try."
   ]
  },
  {
   "cell_type": "code",
   "execution_count": 17,
   "id": "offshore-crown",
   "metadata": {},
   "outputs": [
    {
     "data": {
      "text/html": [
       "<div>\n",
       "<style scoped>\n",
       "    .dataframe tbody tr th:only-of-type {\n",
       "        vertical-align: middle;\n",
       "    }\n",
       "\n",
       "    .dataframe tbody tr th {\n",
       "        vertical-align: top;\n",
       "    }\n",
       "\n",
       "    .dataframe thead th {\n",
       "        text-align: right;\n",
       "    }\n",
       "</style>\n",
       "<table border=\"1\" class=\"dataframe\">\n",
       "  <thead>\n",
       "    <tr style=\"text-align: right;\">\n",
       "      <th></th>\n",
       "      <th>minutes</th>\n",
       "      <th>platform</th>\n",
       "      <th>direction</th>\n",
       "      <th>length</th>\n",
       "      <th>color</th>\n",
       "      <th>hexcolor</th>\n",
       "      <th>bikeflag</th>\n",
       "      <th>delay</th>\n",
       "      <th>cancelflag</th>\n",
       "      <th>dynamicflag</th>\n",
       "    </tr>\n",
       "  </thead>\n",
       "  <tbody>\n",
       "    <tr>\n",
       "      <th>0</th>\n",
       "      <td>10</td>\n",
       "      <td>3</td>\n",
       "      <td>North</td>\n",
       "      <td>8</td>\n",
       "      <td>YELLOW</td>\n",
       "      <td>#ffff33</td>\n",
       "      <td>1</td>\n",
       "      <td>0</td>\n",
       "      <td>0</td>\n",
       "      <td>0</td>\n",
       "    </tr>\n",
       "    <tr>\n",
       "      <th>1</th>\n",
       "      <td>25</td>\n",
       "      <td>3</td>\n",
       "      <td>North</td>\n",
       "      <td>10</td>\n",
       "      <td>YELLOW</td>\n",
       "      <td>#ffff33</td>\n",
       "      <td>1</td>\n",
       "      <td>0</td>\n",
       "      <td>0</td>\n",
       "      <td>0</td>\n",
       "    </tr>\n",
       "    <tr>\n",
       "      <th>2</th>\n",
       "      <td>40</td>\n",
       "      <td>3</td>\n",
       "      <td>North</td>\n",
       "      <td>10</td>\n",
       "      <td>YELLOW</td>\n",
       "      <td>#ffff33</td>\n",
       "      <td>1</td>\n",
       "      <td>0</td>\n",
       "      <td>0</td>\n",
       "      <td>0</td>\n",
       "    </tr>\n",
       "  </tbody>\n",
       "</table>\n",
       "</div>"
      ],
      "text/plain": [
       "  minutes platform direction length   color hexcolor bikeflag delay   \n",
       "0      10        3     North      8  YELLOW  #ffff33        1     0  \\\n",
       "1      25        3     North     10  YELLOW  #ffff33        1     0   \n",
       "2      40        3     North     10  YELLOW  #ffff33        1     0   \n",
       "\n",
       "  cancelflag dynamicflag  \n",
       "0          0           0  \n",
       "1          0           0  \n",
       "2          0           0  "
      ]
     },
     "execution_count": 17,
     "metadata": {},
     "output_type": "execute_result"
    }
   ],
   "source": [
    "import pandas as pd\n",
    "df = pd.DataFrame(etd[0]['estimate'])\n",
    "df"
   ]
  },
  {
   "cell_type": "markdown",
   "id": "78e514ad",
   "metadata": {},
   "source": [
    "Note that this gave us only the trains to the first destination (contained in `etd[0]`). We'd have to loop over `etd` to get the other destinations.\n",
    "\n",
    "Here, we use `display` rather than `print` to format the output more nicely. [Here's an explanation](https://stackoverflow.com/questions/26873127/show-dataframe-as-table-in-ipython-notebook)."
   ]
  },
  {
   "cell_type": "code",
   "execution_count": 18,
   "id": "609752ef",
   "metadata": {},
   "outputs": [
    {
     "name": "stdout",
     "output_type": "stream",
     "text": [
      "\n",
      "Trains to Antioch\n"
     ]
    },
    {
     "data": {
      "text/html": [
       "<div>\n",
       "<style scoped>\n",
       "    .dataframe tbody tr th:only-of-type {\n",
       "        vertical-align: middle;\n",
       "    }\n",
       "\n",
       "    .dataframe tbody tr th {\n",
       "        vertical-align: top;\n",
       "    }\n",
       "\n",
       "    .dataframe thead th {\n",
       "        text-align: right;\n",
       "    }\n",
       "</style>\n",
       "<table border=\"1\" class=\"dataframe\">\n",
       "  <thead>\n",
       "    <tr style=\"text-align: right;\">\n",
       "      <th></th>\n",
       "      <th>minutes</th>\n",
       "      <th>platform</th>\n",
       "      <th>direction</th>\n",
       "      <th>length</th>\n",
       "      <th>color</th>\n",
       "      <th>hexcolor</th>\n",
       "      <th>bikeflag</th>\n",
       "      <th>delay</th>\n",
       "      <th>cancelflag</th>\n",
       "      <th>dynamicflag</th>\n",
       "    </tr>\n",
       "  </thead>\n",
       "  <tbody>\n",
       "    <tr>\n",
       "      <th>0</th>\n",
       "      <td>10</td>\n",
       "      <td>3</td>\n",
       "      <td>North</td>\n",
       "      <td>8</td>\n",
       "      <td>YELLOW</td>\n",
       "      <td>#ffff33</td>\n",
       "      <td>1</td>\n",
       "      <td>0</td>\n",
       "      <td>0</td>\n",
       "      <td>0</td>\n",
       "    </tr>\n",
       "    <tr>\n",
       "      <th>1</th>\n",
       "      <td>25</td>\n",
       "      <td>3</td>\n",
       "      <td>North</td>\n",
       "      <td>10</td>\n",
       "      <td>YELLOW</td>\n",
       "      <td>#ffff33</td>\n",
       "      <td>1</td>\n",
       "      <td>0</td>\n",
       "      <td>0</td>\n",
       "      <td>0</td>\n",
       "    </tr>\n",
       "    <tr>\n",
       "      <th>2</th>\n",
       "      <td>40</td>\n",
       "      <td>3</td>\n",
       "      <td>North</td>\n",
       "      <td>10</td>\n",
       "      <td>YELLOW</td>\n",
       "      <td>#ffff33</td>\n",
       "      <td>1</td>\n",
       "      <td>0</td>\n",
       "      <td>0</td>\n",
       "      <td>0</td>\n",
       "    </tr>\n",
       "  </tbody>\n",
       "</table>\n",
       "</div>"
      ],
      "text/plain": [
       "  minutes platform direction length   color hexcolor bikeflag delay   \n",
       "0      10        3     North      8  YELLOW  #ffff33        1     0  \\\n",
       "1      25        3     North     10  YELLOW  #ffff33        1     0   \n",
       "2      40        3     North     10  YELLOW  #ffff33        1     0   \n",
       "\n",
       "  cancelflag dynamicflag  \n",
       "0          0           0  \n",
       "1          0           0  \n",
       "2          0           0  "
      ]
     },
     "metadata": {},
     "output_type": "display_data"
    },
    {
     "name": "stdout",
     "output_type": "stream",
     "text": [
      "\n",
      "Trains to Berryessa\n"
     ]
    },
    {
     "data": {
      "text/html": [
       "<div>\n",
       "<style scoped>\n",
       "    .dataframe tbody tr th:only-of-type {\n",
       "        vertical-align: middle;\n",
       "    }\n",
       "\n",
       "    .dataframe tbody tr th {\n",
       "        vertical-align: top;\n",
       "    }\n",
       "\n",
       "    .dataframe thead th {\n",
       "        text-align: right;\n",
       "    }\n",
       "</style>\n",
       "<table border=\"1\" class=\"dataframe\">\n",
       "  <thead>\n",
       "    <tr style=\"text-align: right;\">\n",
       "      <th></th>\n",
       "      <th>minutes</th>\n",
       "      <th>platform</th>\n",
       "      <th>direction</th>\n",
       "      <th>length</th>\n",
       "      <th>color</th>\n",
       "      <th>hexcolor</th>\n",
       "      <th>bikeflag</th>\n",
       "      <th>delay</th>\n",
       "      <th>cancelflag</th>\n",
       "      <th>dynamicflag</th>\n",
       "    </tr>\n",
       "  </thead>\n",
       "  <tbody>\n",
       "    <tr>\n",
       "      <th>0</th>\n",
       "      <td>Leaving</td>\n",
       "      <td>2</td>\n",
       "      <td>South</td>\n",
       "      <td>8</td>\n",
       "      <td>ORANGE</td>\n",
       "      <td>#ff9933</td>\n",
       "      <td>1</td>\n",
       "      <td>0</td>\n",
       "      <td>0</td>\n",
       "      <td>0</td>\n",
       "    </tr>\n",
       "    <tr>\n",
       "      <th>1</th>\n",
       "      <td>15</td>\n",
       "      <td>2</td>\n",
       "      <td>South</td>\n",
       "      <td>8</td>\n",
       "      <td>ORANGE</td>\n",
       "      <td>#ff9933</td>\n",
       "      <td>1</td>\n",
       "      <td>0</td>\n",
       "      <td>0</td>\n",
       "      <td>0</td>\n",
       "    </tr>\n",
       "    <tr>\n",
       "      <th>2</th>\n",
       "      <td>30</td>\n",
       "      <td>2</td>\n",
       "      <td>South</td>\n",
       "      <td>8</td>\n",
       "      <td>ORANGE</td>\n",
       "      <td>#ff9933</td>\n",
       "      <td>1</td>\n",
       "      <td>0</td>\n",
       "      <td>0</td>\n",
       "      <td>0</td>\n",
       "    </tr>\n",
       "  </tbody>\n",
       "</table>\n",
       "</div>"
      ],
      "text/plain": [
       "   minutes platform direction length   color hexcolor bikeflag delay   \n",
       "0  Leaving        2     South      8  ORANGE  #ff9933        1     0  \\\n",
       "1       15        2     South      8  ORANGE  #ff9933        1     0   \n",
       "2       30        2     South      8  ORANGE  #ff9933        1     0   \n",
       "\n",
       "  cancelflag dynamicflag  \n",
       "0          0           0  \n",
       "1          0           0  \n",
       "2          0           0  "
      ]
     },
     "metadata": {},
     "output_type": "display_data"
    },
    {
     "name": "stdout",
     "output_type": "stream",
     "text": [
      "\n",
      "Trains to Millbrae/SFO\n"
     ]
    },
    {
     "data": {
      "text/html": [
       "<div>\n",
       "<style scoped>\n",
       "    .dataframe tbody tr th:only-of-type {\n",
       "        vertical-align: middle;\n",
       "    }\n",
       "\n",
       "    .dataframe tbody tr th {\n",
       "        vertical-align: top;\n",
       "    }\n",
       "\n",
       "    .dataframe thead th {\n",
       "        text-align: right;\n",
       "    }\n",
       "</style>\n",
       "<table border=\"1\" class=\"dataframe\">\n",
       "  <thead>\n",
       "    <tr style=\"text-align: right;\">\n",
       "      <th></th>\n",
       "      <th>minutes</th>\n",
       "      <th>platform</th>\n",
       "      <th>direction</th>\n",
       "      <th>length</th>\n",
       "      <th>color</th>\n",
       "      <th>hexcolor</th>\n",
       "      <th>bikeflag</th>\n",
       "      <th>delay</th>\n",
       "      <th>cancelflag</th>\n",
       "      <th>dynamicflag</th>\n",
       "    </tr>\n",
       "  </thead>\n",
       "  <tbody>\n",
       "    <tr>\n",
       "      <th>0</th>\n",
       "      <td>7</td>\n",
       "      <td>2</td>\n",
       "      <td>South</td>\n",
       "      <td>10</td>\n",
       "      <td>RED</td>\n",
       "      <td>#ff0000</td>\n",
       "      <td>1</td>\n",
       "      <td>0</td>\n",
       "      <td>0</td>\n",
       "      <td>0</td>\n",
       "    </tr>\n",
       "    <tr>\n",
       "      <th>1</th>\n",
       "      <td>22</td>\n",
       "      <td>2</td>\n",
       "      <td>South</td>\n",
       "      <td>10</td>\n",
       "      <td>RED</td>\n",
       "      <td>#ff0000</td>\n",
       "      <td>1</td>\n",
       "      <td>0</td>\n",
       "      <td>1</td>\n",
       "      <td>0</td>\n",
       "    </tr>\n",
       "    <tr>\n",
       "      <th>2</th>\n",
       "      <td>37</td>\n",
       "      <td>2</td>\n",
       "      <td>South</td>\n",
       "      <td>10</td>\n",
       "      <td>RED</td>\n",
       "      <td>#ff0000</td>\n",
       "      <td>1</td>\n",
       "      <td>0</td>\n",
       "      <td>0</td>\n",
       "      <td>0</td>\n",
       "    </tr>\n",
       "  </tbody>\n",
       "</table>\n",
       "</div>"
      ],
      "text/plain": [
       "  minutes platform direction length color hexcolor bikeflag delay cancelflag   \n",
       "0       7        2     South     10   RED  #ff0000        1     0          0  \\\n",
       "1      22        2     South     10   RED  #ff0000        1     0          1   \n",
       "2      37        2     South     10   RED  #ff0000        1     0          0   \n",
       "\n",
       "  dynamicflag  \n",
       "0           0  \n",
       "1           0  \n",
       "2           0  "
      ]
     },
     "metadata": {},
     "output_type": "display_data"
    },
    {
     "name": "stdout",
     "output_type": "stream",
     "text": [
      "\n",
      "Trains to Richmond\n"
     ]
    },
    {
     "data": {
      "text/html": [
       "<div>\n",
       "<style scoped>\n",
       "    .dataframe tbody tr th:only-of-type {\n",
       "        vertical-align: middle;\n",
       "    }\n",
       "\n",
       "    .dataframe tbody tr th {\n",
       "        vertical-align: top;\n",
       "    }\n",
       "\n",
       "    .dataframe thead th {\n",
       "        text-align: right;\n",
       "    }\n",
       "</style>\n",
       "<table border=\"1\" class=\"dataframe\">\n",
       "  <thead>\n",
       "    <tr style=\"text-align: right;\">\n",
       "      <th></th>\n",
       "      <th>minutes</th>\n",
       "      <th>platform</th>\n",
       "      <th>direction</th>\n",
       "      <th>length</th>\n",
       "      <th>color</th>\n",
       "      <th>hexcolor</th>\n",
       "      <th>bikeflag</th>\n",
       "      <th>delay</th>\n",
       "      <th>cancelflag</th>\n",
       "      <th>dynamicflag</th>\n",
       "    </tr>\n",
       "  </thead>\n",
       "  <tbody>\n",
       "    <tr>\n",
       "      <th>0</th>\n",
       "      <td>11</td>\n",
       "      <td>1</td>\n",
       "      <td>North</td>\n",
       "      <td>8</td>\n",
       "      <td>ORANGE</td>\n",
       "      <td>#ff9933</td>\n",
       "      <td>1</td>\n",
       "      <td>0</td>\n",
       "      <td>0</td>\n",
       "      <td>0</td>\n",
       "    </tr>\n",
       "    <tr>\n",
       "      <th>1</th>\n",
       "      <td>16</td>\n",
       "      <td>1</td>\n",
       "      <td>North</td>\n",
       "      <td>10</td>\n",
       "      <td>RED</td>\n",
       "      <td>#ff0000</td>\n",
       "      <td>1</td>\n",
       "      <td>0</td>\n",
       "      <td>0</td>\n",
       "      <td>0</td>\n",
       "    </tr>\n",
       "    <tr>\n",
       "      <th>2</th>\n",
       "      <td>26</td>\n",
       "      <td>1</td>\n",
       "      <td>North</td>\n",
       "      <td>8</td>\n",
       "      <td>ORANGE</td>\n",
       "      <td>#ff9933</td>\n",
       "      <td>1</td>\n",
       "      <td>0</td>\n",
       "      <td>0</td>\n",
       "      <td>0</td>\n",
       "    </tr>\n",
       "  </tbody>\n",
       "</table>\n",
       "</div>"
      ],
      "text/plain": [
       "  minutes platform direction length   color hexcolor bikeflag delay   \n",
       "0      11        1     North      8  ORANGE  #ff9933        1     0  \\\n",
       "1      16        1     North     10     RED  #ff0000        1     0   \n",
       "2      26        1     North      8  ORANGE  #ff9933        1     0   \n",
       "\n",
       "  cancelflag dynamicflag  \n",
       "0          0           0  \n",
       "1          0           0  \n",
       "2          0           0  "
      ]
     },
     "metadata": {},
     "output_type": "display_data"
    },
    {
     "name": "stdout",
     "output_type": "stream",
     "text": [
      "\n",
      "Trains to SF Airport\n"
     ]
    },
    {
     "data": {
      "text/html": [
       "<div>\n",
       "<style scoped>\n",
       "    .dataframe tbody tr th:only-of-type {\n",
       "        vertical-align: middle;\n",
       "    }\n",
       "\n",
       "    .dataframe tbody tr th {\n",
       "        vertical-align: top;\n",
       "    }\n",
       "\n",
       "    .dataframe thead th {\n",
       "        text-align: right;\n",
       "    }\n",
       "</style>\n",
       "<table border=\"1\" class=\"dataframe\">\n",
       "  <thead>\n",
       "    <tr style=\"text-align: right;\">\n",
       "      <th></th>\n",
       "      <th>minutes</th>\n",
       "      <th>platform</th>\n",
       "      <th>direction</th>\n",
       "      <th>length</th>\n",
       "      <th>color</th>\n",
       "      <th>hexcolor</th>\n",
       "      <th>bikeflag</th>\n",
       "      <th>delay</th>\n",
       "      <th>cancelflag</th>\n",
       "      <th>dynamicflag</th>\n",
       "    </tr>\n",
       "  </thead>\n",
       "  <tbody>\n",
       "    <tr>\n",
       "      <th>0</th>\n",
       "      <td>12</td>\n",
       "      <td>2</td>\n",
       "      <td>South</td>\n",
       "      <td>10</td>\n",
       "      <td>YELLOW</td>\n",
       "      <td>#ffff33</td>\n",
       "      <td>1</td>\n",
       "      <td>65</td>\n",
       "      <td>0</td>\n",
       "      <td>0</td>\n",
       "    </tr>\n",
       "    <tr>\n",
       "      <th>1</th>\n",
       "      <td>26</td>\n",
       "      <td>2</td>\n",
       "      <td>South</td>\n",
       "      <td>10</td>\n",
       "      <td>YELLOW</td>\n",
       "      <td>#ffff33</td>\n",
       "      <td>1</td>\n",
       "      <td>0</td>\n",
       "      <td>0</td>\n",
       "      <td>0</td>\n",
       "    </tr>\n",
       "    <tr>\n",
       "      <th>2</th>\n",
       "      <td>41</td>\n",
       "      <td>2</td>\n",
       "      <td>South</td>\n",
       "      <td>8</td>\n",
       "      <td>YELLOW</td>\n",
       "      <td>#ffff33</td>\n",
       "      <td>1</td>\n",
       "      <td>0</td>\n",
       "      <td>0</td>\n",
       "      <td>0</td>\n",
       "    </tr>\n",
       "  </tbody>\n",
       "</table>\n",
       "</div>"
      ],
      "text/plain": [
       "  minutes platform direction length   color hexcolor bikeflag delay   \n",
       "0      12        2     South     10  YELLOW  #ffff33        1    65  \\\n",
       "1      26        2     South     10  YELLOW  #ffff33        1     0   \n",
       "2      41        2     South      8  YELLOW  #ffff33        1     0   \n",
       "\n",
       "  cancelflag dynamicflag  \n",
       "0          0           0  \n",
       "1          0           0  \n",
       "2          0           0  "
      ]
     },
     "metadata": {},
     "output_type": "display_data"
    }
   ],
   "source": [
    "from IPython.display import display\n",
    "for e in etd:\n",
    "    print('\\nTrains to {}'.format(e['destination']))\n",
    "    display(pd.DataFrame(e['estimate']))"
   ]
  },
  {
   "cell_type": "markdown",
   "id": "404428ed",
   "metadata": {},
   "source": [
    "<div class=\"alert alert-block alert-info\">\n",
    "<strong>Exercise:</strong> How would you calculate the mean headway (time between trains)?\n",
    "</div>"
   ]
  },
  {
   "cell_type": "markdown",
   "id": "4b6c9f78-4a85-4511-ac87-e23f304f5e4e",
   "metadata": {},
   "source": [
    "mean - group by? average"
   ]
  },
  {
   "cell_type": "markdown",
   "id": "0e530588",
   "metadata": {},
   "source": [
    "<div class=\"alert alert-block alert-info\">\n",
    "<strong>Let's recap.</strong> What did we just do?\n",
    "<ul>  \n",
    "<li>We constructed a text string following the API documentation, and passed that string to `requests`</li>\n",
    "<li>We did some step-by-step detective work to convert the output into a usable format</li>\n",
    "</uli>\n",
    "</div>"
   ]
  },
  {
   "cell_type": "markdown",
   "id": "3ea68948",
   "metadata": {},
   "source": [
    "Let's focus on the first step, and try more commands from the BART API, [such as returning fare information](https://api.bart.gov/docs/sched/fare.aspx).\n",
    "\n",
    "We see that the string begins like this:\n",
    "\n",
    "`http://api.bart.gov/api/sched.aspx?cmd=fare`\n",
    "\n",
    "Then we add the various inputs separated by `&`.\n",
    "\n",
    "For example, the fare from `12TH` to `CIVC` is as follows."
   ]
  },
  {
   "cell_type": "code",
   "execution_count": 19,
   "id": "4d7e032a",
   "metadata": {},
   "outputs": [
    {
     "name": "stdout",
     "output_type": "stream",
     "text": [
      "{\"?xml\":{\"@version\":\"1.0\",\"@encoding\":\"utf-8\"},\"root\":{\"message\":{\"error\":{\"text\":\"Invalid cmd\",\"details\":\"The cmd parameter () is missing or invalid. Please correct the error and try again.\"}}}}\n"
     ]
    }
   ],
   "source": [
    "requestString = 'http://api.bart.gov/api/sched.aspx?&origcmd=fare=12TH&dest=CIVC&key={}&json=y'.format(APIkey)\n",
    "r = requests.get(requestString)\n",
    "print(r.text)"
   ]
  },
  {
   "cell_type": "markdown",
   "id": "e96831ea",
   "metadata": {},
   "source": [
    "Note that the output is the same as if you paste the string into a web browser."
   ]
  },
  {
   "cell_type": "code",
   "execution_count": 20,
   "id": "4618a417",
   "metadata": {},
   "outputs": [
    {
     "name": "stdout",
     "output_type": "stream",
     "text": [
      "http://api.bart.gov/api/sched.aspx?&origcmd=fare=12TH&dest=CIVC&key=MW9S-E7SL-26DU-VV8V&json=y\n"
     ]
    }
   ],
   "source": [
    "print(requestString)"
   ]
  },
  {
   "cell_type": "markdown",
   "id": "be878b25",
   "metadata": {},
   "source": [
    "An alternative and more elegant way of calling requests is to put all the inputs (parameters) into a dictionary. This version is identical to the previous API call."
   ]
  },
  {
   "cell_type": "code",
   "execution_count": 26,
   "id": "1ef2ba70",
   "metadata": {},
   "outputs": [
    {
     "name": "stdout",
     "output_type": "stream",
     "text": [
      "{\"?xml\":{\"@version\":\"1.0\",\"@encoding\":\"utf-8\"},\"root\":{\"uri\":{\"#cdata-section\":\"http://api.bart.gov/api/sched.aspx?cmd=fare&orig=12TH&dest=CIVC&json=y\"},\"origin\":\"12TH\",\"destination\":\"CIVC\",\"trip\":{\"fare\":\"3.85\",\"discount\":{\"clipper\":\"1.40\"}},\"fares\":{\"@level\":\"normal\",\"fare\":[{\"@amount\":\"3.85\",\"@class\":\"clipper\",\"@name\":\"Clipper\"},{\"@amount\":\"3.05\",\"@class\":\"start\",\"@name\":\"Clipper START\"},{\"@amount\":\"1.40\",\"@class\":\"rtcclipper\",\"@name\":\"Senior/Disabled Clipper\"},{\"@amount\":\"1.90\",\"@class\":\"student\",\"@name\":\"Youth Clipper\"}]},\"message\":\"\"}}\n"
     ]
    }
   ],
   "source": [
    "requestString = 'http://api.bart.gov/api/sched.aspx'\n",
    "params = {'cmd':'fare',\n",
    "          'orig':'12TH',\n",
    "          'dest':'CIVC',\n",
    "          'key':APIkey,\n",
    "          'json':'y'}\n",
    "r = requests.get(requestString, params=params)\n",
    "print(r.text)"
   ]
  },
  {
   "cell_type": "code",
   "execution_count": 25,
   "id": "0e96fc04-863e-430b-a03d-906c171b2bc3",
   "metadata": {},
   "outputs": [
    {
     "name": "stdout",
     "output_type": "stream",
     "text": [
      "{\"?xml\":{\"@version\":\"1.0\",\"@encoding\":\"utf-8\"},\"root\":{\"uri\":{\"#cdata-section\":\"http://api.bart.gov/api/sched.aspx?cmd=routesched&route=7&date=wd&json=y\"},\"date\":\"4/5/2023\",\"route\":{\"train\":[{\"@index\":\"1\",\"stop\":[{\"@station\":\"RICH\",\"@load\":\"0\",\"@bikeflag\":\"1\",\"@origTime\":\"04:57 AM\"},{\"@station\":\"DELN\",\"@load\":\"0\",\"@bikeflag\":\"1\",\"@origTime\":\"05:02 AM\"},{\"@station\":\"PLZA\",\"@load\":\"0\",\"@bikeflag\":\"1\",\"@origTime\":\"05:05 AM\"},{\"@station\":\"NBRK\",\"@load\":\"0\",\"@bikeflag\":\"1\",\"@origTime\":\"05:08 AM\"},{\"@station\":\"DBRK\",\"@load\":\"0\",\"@bikeflag\":\"1\",\"@origTime\":\"05:10 AM\"},{\"@station\":\"ASHB\",\"@load\":\"0\",\"@bikeflag\":\"1\",\"@origTime\":\"05:13 AM\"},{\"@station\":\"MCAR\",\"@load\":\"0\",\"@bikeflag\":\"1\",\"@origTime\":\"05:16 AM\"},{\"@station\":\"19TH\",\"@load\":\"0\",\"@bikeflag\":\"1\",\"@origTime\":\"05:20 AM\"},{\"@station\":\"12TH\",\"@load\":\"0\",\"@bikeflag\":\"1\",\"@origTime\":\"05:22 AM\"},{\"@station\":\"WOAK\",\"@load\":\"0\",\"@bikeflag\":\"1\",\"@origTime\":\"05:26 AM\"},{\"@station\":\"EMBR\",\"@load\":\"0\",\"@bikeflag\":\"1\",\"@origTime\":\"05:33 AM\"},{\"@station\":\"MONT\",\"@load\":\"0\",\"@bikeflag\":\"1\",\"@origTime\":\"05:35 AM\"},{\"@station\":\"POWL\",\"@load\":\"0\",\"@bikeflag\":\"1\",\"@origTime\":\"05:37 AM\"},{\"@station\":\"CIVC\",\"@load\":\"0\",\"@bikeflag\":\"1\",\"@origTime\":\"05:38 AM\"},{\"@station\":\"16TH\",\"@load\":\"0\",\"@bikeflag\":\"1\",\"@origTime\":\"05:40 AM\"},{\"@station\":\"24TH\",\"@load\":\"0\",\"@bikeflag\":\"1\",\"@origTime\":\"05:42 AM\"},{\"@station\":\"GLEN\",\"@load\":\"0\",\"@bikeflag\":\"1\",\"@origTime\":\"05:45 AM\"},{\"@station\":\"BALB\",\"@load\":\"0\",\"@bikeflag\":\"1\",\"@origTime\":\"05:48 AM\"},{\"@station\":\"DALY\",\"@load\":\"0\",\"@bikeflag\":\"1\",\"@origTime\":\"05:52 AM\"},{\"@station\":\"COLM\",\"@load\":\"0\",\"@bikeflag\":\"1\",\"@origTime\":\"05:56 AM\"},{\"@station\":\"SSAN\",\"@load\":\"0\",\"@bikeflag\":\"1\",\"@origTime\":\"05:59 AM\"},{\"@station\":\"SBRN\",\"@load\":\"0\",\"@bikeflag\":\"1\",\"@origTime\":\"06:02 AM\"},{\"@station\":\"MLBR\",\"@load\":\"0\",\"@bikeflag\":\"1\",\"@origTime\":\"06:09 AM\"},{\"@station\":\"SFIA\",\"@load\":\"0\",\"@bikeflag\":\"1\",\"@origTime\":\"06:13 AM\"}]},{\"@index\":\"2\",\"stop\":[{\"@station\":\"RICH\",\"@load\":\"0\",\"@bikeflag\":\"1\",\"@origTime\":\"05:12 AM\"},{\"@station\":\"DELN\",\"@load\":\"0\",\"@bikeflag\":\"1\",\"@origTime\":\"05:17 AM\"},{\"@station\":\"PLZA\",\"@load\":\"0\",\"@bikeflag\":\"1\",\"@origTime\":\"05:20 AM\"},{\"@station\":\"NBRK\",\"@load\":\"0\",\"@bikeflag\":\"1\",\"@origTime\":\"05:23 AM\"},{\"@station\":\"DBRK\",\"@load\":\"0\",\"@bikeflag\":\"1\",\"@origTime\":\"05:25 AM\"},{\"@station\":\"ASHB\",\"@load\":\"0\",\"@bikeflag\":\"1\",\"@origTime\":\"05:28 AM\"},{\"@station\":\"MCAR\",\"@load\":\"0\",\"@bikeflag\":\"1\",\"@origTime\":\"05:31 AM\"},{\"@station\":\"19TH\",\"@load\":\"0\",\"@bikeflag\":\"1\",\"@origTime\":\"05:35 AM\"},{\"@station\":\"12TH\",\"@load\":\"0\",\"@bikeflag\":\"1\",\"@origTime\":\"05:37 AM\"},{\"@station\":\"WOAK\",\"@load\":\"0\",\"@bikeflag\":\"1\",\"@origTime\":\"05:41 AM\"},{\"@station\":\"EMBR\",\"@load\":\"0\",\"@bikeflag\":\"1\",\"@origTime\":\"05:48 AM\"},{\"@station\":\"MONT\",\"@load\":\"0\",\"@bikeflag\":\"1\",\"@origTime\":\"05:50 AM\"},{\"@station\":\"POWL\",\"@load\":\"0\",\"@bikeflag\":\"1\",\"@origTime\":\"05:52 AM\"},{\"@station\":\"CIVC\",\"@load\":\"0\",\"@bikeflag\":\"1\",\"@origTime\":\"05:53 AM\"},{\"@station\":\"16TH\",\"@load\":\"0\",\"@bikeflag\":\"1\",\"@origTime\":\"05:55 AM\"},{\"@station\":\"24TH\",\"@load\":\"0\",\"@bikeflag\":\"1\",\"@origTime\":\"05:57 AM\"},{\"@station\":\"GLEN\",\"@load\":\"0\",\"@bikeflag\":\"1\",\"@origTime\":\"06:00 AM\"},{\"@station\":\"BALB\",\"@load\":\"0\",\"@bikeflag\":\"1\",\"@origTime\":\"06:03 AM\"},{\"@station\":\"DALY\",\"@load\":\"0\",\"@bikeflag\":\"1\",\"@origTime\":\"06:07 AM\"},{\"@station\":\"COLM\",\"@load\":\"0\",\"@bikeflag\":\"1\",\"@origTime\":\"06:11 AM\"},{\"@station\":\"SSAN\",\"@load\":\"0\",\"@bikeflag\":\"1\",\"@origTime\":\"06:14 AM\"},{\"@station\":\"SBRN\",\"@load\":\"0\",\"@bikeflag\":\"1\",\"@origTime\":\"06:17 AM\"},{\"@station\":\"MLBR\",\"@load\":\"0\",\"@bikeflag\":\"1\",\"@origTime\":\"06:24 AM\"},{\"@station\":\"SFIA\",\"@load\":\"0\",\"@bikeflag\":\"1\",\"@origTime\":\"06:28 AM\"}]},{\"@index\":\"3\",\"stop\":[{\"@station\":\"RICH\",\"@load\":\"0\",\"@bikeflag\":\"1\",\"@origTime\":\"05:27 AM\"},{\"@station\":\"DELN\",\"@load\":\"0\",\"@bikeflag\":\"1\",\"@origTime\":\"05:32 AM\"},{\"@station\":\"PLZA\",\"@load\":\"0\",\"@bikeflag\":\"1\",\"@origTime\":\"05:35 AM\"},{\"@station\":\"NBRK\",\"@load\":\"0\",\"@bikeflag\":\"1\",\"@origTime\":\"05:38 AM\"},{\"@station\":\"DBRK\",\"@load\":\"0\",\"@bikeflag\":\"1\",\"@origTime\":\"05:40 AM\"},{\"@station\":\"ASHB\",\"@load\":\"0\",\"@bikeflag\":\"1\",\"@origTime\":\"05:43 AM\"},{\"@station\":\"MCAR\",\"@load\":\"0\",\"@bikeflag\":\"1\",\"@origTime\":\"05:46 AM\"},{\"@station\":\"19TH\",\"@load\":\"0\",\"@bikeflag\":\"1\",\"@origTime\":\"05:50 AM\"},{\"@station\":\"12TH\",\"@load\":\"0\",\"@bikeflag\":\"1\",\"@origTime\":\"05:52 AM\"},{\"@station\":\"WOAK\",\"@load\":\"0\",\"@bikeflag\":\"1\",\"@origTime\":\"05:56 AM\"},{\"@station\":\"EMBR\",\"@load\":\"0\",\"@bikeflag\":\"1\",\"@origTime\":\"06:03 AM\"},{\"@station\":\"MONT\",\"@load\":\"0\",\"@bikeflag\":\"1\",\"@origTime\":\"06:05 AM\"},{\"@station\":\"POWL\",\"@load\":\"0\",\"@bikeflag\":\"1\",\"@origTime\":\"06:07 AM\"},{\"@station\":\"CIVC\",\"@load\":\"0\",\"@bikeflag\":\"1\",\"@origTime\":\"06:08 AM\"},{\"@station\":\"16TH\",\"@load\":\"0\",\"@bikeflag\":\"1\",\"@origTime\":\"06:10 AM\"},{\"@station\":\"24TH\",\"@load\":\"0\",\"@bikeflag\":\"1\",\"@origTime\":\"06:12 AM\"},{\"@station\":\"GLEN\",\"@load\":\"0\",\"@bikeflag\":\"1\",\"@origTime\":\"06:15 AM\"},{\"@station\":\"BALB\",\"@load\":\"0\",\"@bikeflag\":\"1\",\"@origTime\":\"06:18 AM\"},{\"@station\":\"DALY\",\"@load\":\"0\",\"@bikeflag\":\"1\",\"@origTime\":\"06:22 AM\"},{\"@station\":\"COLM\",\"@load\":\"0\",\"@bikeflag\":\"1\",\"@origTime\":\"06:26 AM\"},{\"@station\":\"SSAN\",\"@load\":\"0\",\"@bikeflag\":\"1\",\"@origTime\":\"06:29 AM\"},{\"@station\":\"SBRN\",\"@load\":\"0\",\"@bikeflag\":\"1\",\"@origTime\":\"06:32 AM\"},{\"@station\":\"MLBR\",\"@load\":\"0\",\"@bikeflag\":\"1\",\"@origTime\":\"06:39 AM\"},{\"@station\":\"SFIA\",\"@load\":\"0\",\"@bikeflag\":\"1\",\"@origTime\":\"06:43 AM\"}]},{\"@index\":\"4\",\"stop\":[{\"@station\":\"RICH\",\"@load\":\"0\",\"@bikeflag\":\"1\",\"@origTime\":\"05:42 AM\"},{\"@station\":\"DELN\",\"@load\":\"0\",\"@bikeflag\":\"1\",\"@origTime\":\"05:47 AM\"},{\"@station\":\"PLZA\",\"@load\":\"0\",\"@bikeflag\":\"1\",\"@origTime\":\"05:50 AM\"},{\"@station\":\"NBRK\",\"@load\":\"0\",\"@bikeflag\":\"1\",\"@origTime\":\"05:53 AM\"},{\"@station\":\"DBRK\",\"@load\":\"0\",\"@bikeflag\":\"1\",\"@origTime\":\"05:55 AM\"},{\"@station\":\"ASHB\",\"@load\":\"0\",\"@bikeflag\":\"1\",\"@origTime\":\"05:58 AM\"},{\"@station\":\"MCAR\",\"@load\":\"0\",\"@bikeflag\":\"1\",\"@origTime\":\"06:01 AM\"},{\"@station\":\"19TH\",\"@load\":\"0\",\"@bikeflag\":\"1\",\"@origTime\":\"06:05 AM\"},{\"@station\":\"12TH\",\"@load\":\"0\",\"@bikeflag\":\"1\",\"@origTime\":\"06:07 AM\"},{\"@station\":\"WOAK\",\"@load\":\"0\",\"@bikeflag\":\"1\",\"@origTime\":\"06:11 AM\"},{\"@station\":\"EMBR\",\"@load\":\"0\",\"@bikeflag\":\"1\",\"@origTime\":\"06:18 AM\"},{\"@station\":\"MONT\",\"@load\":\"0\",\"@bikeflag\":\"1\",\"@origTime\":\"06:20 AM\"},{\"@station\":\"POWL\",\"@load\":\"0\",\"@bikeflag\":\"1\",\"@origTime\":\"06:22 AM\"},{\"@station\":\"CIVC\",\"@load\":\"0\",\"@bikeflag\":\"1\",\"@origTime\":\"06:23 AM\"},{\"@station\":\"16TH\",\"@load\":\"0\",\"@bikeflag\":\"1\",\"@origTime\":\"06:25 AM\"},{\"@station\":\"24TH\",\"@load\":\"0\",\"@bikeflag\":\"1\",\"@origTime\":\"06:27 AM\"},{\"@station\":\"GLEN\",\"@load\":\"0\",\"@bikeflag\":\"1\",\"@origTime\":\"06:30 AM\"},{\"@station\":\"BALB\",\"@load\":\"0\",\"@bikeflag\":\"1\",\"@origTime\":\"06:33 AM\"},{\"@station\":\"DALY\",\"@load\":\"0\",\"@bikeflag\":\"1\",\"@origTime\":\"06:37 AM\"},{\"@station\":\"COLM\",\"@load\":\"0\",\"@bikeflag\":\"1\",\"@origTime\":\"06:41 AM\"},{\"@station\":\"SSAN\",\"@load\":\"0\",\"@bikeflag\":\"1\",\"@origTime\":\"06:44 AM\"},{\"@station\":\"SBRN\",\"@load\":\"0\",\"@bikeflag\":\"1\",\"@origTime\":\"06:47 AM\"},{\"@station\":\"MLBR\",\"@load\":\"0\",\"@bikeflag\":\"1\",\"@origTime\":\"06:54 AM\"},{\"@station\":\"SFIA\",\"@load\":\"0\",\"@bikeflag\":\"1\",\"@origTime\":\"06:58 AM\"}]},{\"@index\":\"5\",\"stop\":[{\"@station\":\"RICH\",\"@load\":\"0\",\"@bikeflag\":\"1\",\"@origTime\":\"05:57 AM\"},{\"@station\":\"DELN\",\"@load\":\"0\",\"@bikeflag\":\"1\",\"@origTime\":\"06:02 AM\"},{\"@station\":\"PLZA\",\"@load\":\"0\",\"@bikeflag\":\"1\",\"@origTime\":\"06:05 AM\"},{\"@station\":\"NBRK\",\"@load\":\"0\",\"@bikeflag\":\"1\",\"@origTime\":\"06:08 AM\"},{\"@station\":\"DBRK\",\"@load\":\"0\",\"@bikeflag\":\"1\",\"@origTime\":\"06:10 AM\"},{\"@station\":\"ASHB\",\"@load\":\"0\",\"@bikeflag\":\"1\",\"@origTime\":\"06:13 AM\"},{\"@station\":\"MCAR\",\"@load\":\"0\",\"@bikeflag\":\"1\",\"@origTime\":\"06:16 AM\"},{\"@station\":\"19TH\",\"@load\":\"0\",\"@bikeflag\":\"1\",\"@origTime\":\"06:20 AM\"},{\"@station\":\"12TH\",\"@load\":\"0\",\"@bikeflag\":\"1\",\"@origTime\":\"06:22 AM\"},{\"@station\":\"WOAK\",\"@load\":\"0\",\"@bikeflag\":\"1\",\"@origTime\":\"06:26 AM\"},{\"@station\":\"EMBR\",\"@load\":\"0\",\"@bikeflag\":\"1\",\"@origTime\":\"06:33 AM\"},{\"@station\":\"MONT\",\"@load\":\"0\",\"@bikeflag\":\"1\",\"@origTime\":\"06:35 AM\"},{\"@station\":\"POWL\",\"@load\":\"0\",\"@bikeflag\":\"1\",\"@origTime\":\"06:37 AM\"},{\"@station\":\"CIVC\",\"@load\":\"0\",\"@bikeflag\":\"1\",\"@origTime\":\"06:38 AM\"},{\"@station\":\"16TH\",\"@load\":\"0\",\"@bikeflag\":\"1\",\"@origTime\":\"06:40 AM\"},{\"@station\":\"24TH\",\"@load\":\"0\",\"@bikeflag\":\"1\",\"@origTime\":\"06:42 AM\"},{\"@station\":\"GLEN\",\"@load\":\"0\",\"@bikeflag\":\"1\",\"@origTime\":\"06:45 AM\"},{\"@station\":\"BALB\",\"@load\":\"0\",\"@bikeflag\":\"1\",\"@origTime\":\"06:48 AM\"},{\"@station\":\"DALY\",\"@load\":\"0\",\"@bikeflag\":\"1\",\"@origTime\":\"06:52 AM\"},{\"@station\":\"COLM\",\"@load\":\"0\",\"@bikeflag\":\"1\",\"@origTime\":\"06:56 AM\"},{\"@station\":\"SSAN\",\"@load\":\"0\",\"@bikeflag\":\"1\",\"@origTime\":\"06:59 AM\"},{\"@station\":\"SBRN\",\"@load\":\"0\",\"@bikeflag\":\"1\",\"@origTime\":\"07:02 AM\"},{\"@station\":\"MLBR\",\"@load\":\"0\",\"@bikeflag\":\"1\",\"@origTime\":\"07:09 AM\"},{\"@station\":\"SFIA\",\"@load\":\"0\",\"@bikeflag\":\"1\",\"@origTime\":\"07:13 AM\"}]},{\"@index\":\"6\",\"stop\":[{\"@station\":\"RICH\",\"@load\":\"0\",\"@bikeflag\":\"1\",\"@origTime\":\"06:12 AM\"},{\"@station\":\"DELN\",\"@load\":\"0\",\"@bikeflag\":\"1\",\"@origTime\":\"06:17 AM\"},{\"@station\":\"PLZA\",\"@load\":\"0\",\"@bikeflag\":\"1\",\"@origTime\":\"06:20 AM\"},{\"@station\":\"NBRK\",\"@load\":\"0\",\"@bikeflag\":\"1\",\"@origTime\":\"06:23 AM\"},{\"@station\":\"DBRK\",\"@load\":\"0\",\"@bikeflag\":\"1\",\"@origTime\":\"06:25 AM\"},{\"@station\":\"ASHB\",\"@load\":\"0\",\"@bikeflag\":\"1\",\"@origTime\":\"06:28 AM\"},{\"@station\":\"MCAR\",\"@load\":\"0\",\"@bikeflag\":\"1\",\"@origTime\":\"06:31 AM\"},{\"@station\":\"19TH\",\"@load\":\"0\",\"@bikeflag\":\"1\",\"@origTime\":\"06:35 AM\"},{\"@station\":\"12TH\",\"@load\":\"0\",\"@bikeflag\":\"1\",\"@origTime\":\"06:37 AM\"},{\"@station\":\"WOAK\",\"@load\":\"0\",\"@bikeflag\":\"1\",\"@origTime\":\"06:41 AM\"},{\"@station\":\"EMBR\",\"@load\":\"0\",\"@bikeflag\":\"1\",\"@origTime\":\"06:48 AM\"},{\"@station\":\"MONT\",\"@load\":\"0\",\"@bikeflag\":\"1\",\"@origTime\":\"06:50 AM\"},{\"@station\":\"POWL\",\"@load\":\"0\",\"@bikeflag\":\"1\",\"@origTime\":\"06:52 AM\"},{\"@station\":\"CIVC\",\"@load\":\"0\",\"@bikeflag\":\"1\",\"@origTime\":\"06:53 AM\"},{\"@station\":\"16TH\",\"@load\":\"0\",\"@bikeflag\":\"1\",\"@origTime\":\"06:55 AM\"},{\"@station\":\"24TH\",\"@load\":\"0\",\"@bikeflag\":\"1\",\"@origTime\":\"06:57 AM\"},{\"@station\":\"GLEN\",\"@load\":\"0\",\"@bikeflag\":\"1\",\"@origTime\":\"07:00 AM\"},{\"@station\":\"BALB\",\"@load\":\"0\",\"@bikeflag\":\"1\",\"@origTime\":\"07:03 AM\"},{\"@station\":\"DALY\",\"@load\":\"0\",\"@bikeflag\":\"1\",\"@origTime\":\"07:07 AM\"},{\"@station\":\"COLM\",\"@load\":\"0\",\"@bikeflag\":\"1\",\"@origTime\":\"07:11 AM\"},{\"@station\":\"SSAN\",\"@load\":\"0\",\"@bikeflag\":\"1\",\"@origTime\":\"07:14 AM\"},{\"@station\":\"SBRN\",\"@load\":\"0\",\"@bikeflag\":\"1\",\"@origTime\":\"07:17 AM\"},{\"@station\":\"MLBR\",\"@load\":\"0\",\"@bikeflag\":\"1\",\"@origTime\":\"07:24 AM\"},{\"@station\":\"SFIA\",\"@load\":\"0\",\"@bikeflag\":\"1\",\"@origTime\":\"07:28 AM\"}]},{\"@index\":\"7\",\"stop\":[{\"@station\":\"RICH\",\"@load\":\"0\",\"@bikeflag\":\"1\",\"@origTime\":\"06:27 AM\"},{\"@station\":\"DELN\",\"@load\":\"0\",\"@bikeflag\":\"1\",\"@origTime\":\"06:32 AM\"},{\"@station\":\"PLZA\",\"@load\":\"0\",\"@bikeflag\":\"1\",\"@origTime\":\"06:35 AM\"},{\"@station\":\"NBRK\",\"@load\":\"0\",\"@bikeflag\":\"1\",\"@origTime\":\"06:38 AM\"},{\"@station\":\"DBRK\",\"@load\":\"0\",\"@bikeflag\":\"1\",\"@origTime\":\"06:40 AM\"},{\"@station\":\"ASHB\",\"@load\":\"0\",\"@bikeflag\":\"1\",\"@origTime\":\"06:43 AM\"},{\"@station\":\"MCAR\",\"@load\":\"0\",\"@bikeflag\":\"1\",\"@origTime\":\"06:46 AM\"},{\"@station\":\"19TH\",\"@load\":\"0\",\"@bikeflag\":\"1\",\"@origTime\":\"06:50 AM\"},{\"@station\":\"12TH\",\"@load\":\"0\",\"@bikeflag\":\"1\",\"@origTime\":\"06:52 AM\"},{\"@station\":\"WOAK\",\"@load\":\"0\",\"@bikeflag\":\"1\",\"@origTime\":\"06:56 AM\"},{\"@station\":\"EMBR\",\"@load\":\"0\",\"@bikeflag\":\"1\",\"@origTime\":\"07:03 AM\"},{\"@station\":\"MONT\",\"@load\":\"0\",\"@bikeflag\":\"1\",\"@origTime\":\"07:05 AM\"},{\"@station\":\"POWL\",\"@load\":\"0\",\"@bikeflag\":\"1\",\"@origTime\":\"07:07 AM\"},{\"@station\":\"CIVC\",\"@load\":\"0\",\"@bikeflag\":\"1\",\"@origTime\":\"07:08 AM\"},{\"@station\":\"16TH\",\"@load\":\"0\",\"@bikeflag\":\"1\",\"@origTime\":\"07:10 AM\"},{\"@station\":\"24TH\",\"@load\":\"0\",\"@bikeflag\":\"1\",\"@origTime\":\"07:12 AM\"},{\"@station\":\"GLEN\",\"@load\":\"0\",\"@bikeflag\":\"1\",\"@origTime\":\"07:15 AM\"},{\"@station\":\"BALB\",\"@load\":\"0\",\"@bikeflag\":\"1\",\"@origTime\":\"07:18 AM\"},{\"@station\":\"DALY\",\"@load\":\"0\",\"@bikeflag\":\"1\",\"@origTime\":\"07:22 AM\"},{\"@station\":\"COLM\",\"@load\":\"0\",\"@bikeflag\":\"1\",\"@origTime\":\"07:26 AM\"},{\"@station\":\"SSAN\",\"@load\":\"0\",\"@bikeflag\":\"1\",\"@origTime\":\"07:29 AM\"},{\"@station\":\"SBRN\",\"@load\":\"0\",\"@bikeflag\":\"1\",\"@origTime\":\"07:32 AM\"},{\"@station\":\"MLBR\",\"@load\":\"0\",\"@bikeflag\":\"1\",\"@origTime\":\"07:39 AM\"},{\"@station\":\"SFIA\",\"@load\":\"0\",\"@bikeflag\":\"1\",\"@origTime\":\"07:43 AM\"}]},{\"@index\":\"8\",\"stop\":[{\"@station\":\"RICH\",\"@load\":\"0\",\"@bikeflag\":\"1\",\"@origTime\":\"06:42 AM\"},{\"@station\":\"DELN\",\"@load\":\"0\",\"@bikeflag\":\"1\",\"@origTime\":\"06:47 AM\"},{\"@station\":\"PLZA\",\"@load\":\"0\",\"@bikeflag\":\"1\",\"@origTime\":\"06:50 AM\"},{\"@station\":\"NBRK\",\"@load\":\"0\",\"@bikeflag\":\"1\",\"@origTime\":\"06:53 AM\"},{\"@station\":\"DBRK\",\"@load\":\"0\",\"@bikeflag\":\"1\",\"@origTime\":\"06:55 AM\"},{\"@station\":\"ASHB\",\"@load\":\"0\",\"@bikeflag\":\"1\",\"@origTime\":\"06:58 AM\"},{\"@station\":\"MCAR\",\"@load\":\"0\",\"@bikeflag\":\"1\",\"@origTime\":\"07:01 AM\"},{\"@station\":\"19TH\",\"@load\":\"0\",\"@bikeflag\":\"1\",\"@origTime\":\"07:05 AM\"},{\"@station\":\"12TH\",\"@load\":\"0\",\"@bikeflag\":\"1\",\"@origTime\":\"07:07 AM\"},{\"@station\":\"WOAK\",\"@load\":\"0\",\"@bikeflag\":\"1\",\"@origTime\":\"07:11 AM\"},{\"@station\":\"EMBR\",\"@load\":\"0\",\"@bikeflag\":\"1\",\"@origTime\":\"07:18 AM\"},{\"@station\":\"MONT\",\"@load\":\"0\",\"@bikeflag\":\"1\",\"@origTime\":\"07:20 AM\"},{\"@station\":\"POWL\",\"@load\":\"0\",\"@bikeflag\":\"1\",\"@origTime\":\"07:22 AM\"},{\"@station\":\"CIVC\",\"@load\":\"0\",\"@bikeflag\":\"1\",\"@origTime\":\"07:23 AM\"},{\"@station\":\"16TH\",\"@load\":\"0\",\"@bikeflag\":\"1\",\"@origTime\":\"07:25 AM\"},{\"@station\":\"24TH\",\"@load\":\"0\",\"@bikeflag\":\"1\",\"@origTime\":\"07:27 AM\"},{\"@station\":\"GLEN\",\"@load\":\"0\",\"@bikeflag\":\"1\",\"@origTime\":\"07:30 AM\"},{\"@station\":\"BALB\",\"@load\":\"0\",\"@bikeflag\":\"1\",\"@origTime\":\"07:33 AM\"},{\"@station\":\"DALY\",\"@load\":\"0\",\"@bikeflag\":\"1\",\"@origTime\":\"07:37 AM\"},{\"@station\":\"COLM\",\"@load\":\"0\",\"@bikeflag\":\"1\",\"@origTime\":\"07:41 AM\"},{\"@station\":\"SSAN\",\"@load\":\"0\",\"@bikeflag\":\"1\",\"@origTime\":\"07:44 AM\"},{\"@station\":\"SBRN\",\"@load\":\"0\",\"@bikeflag\":\"1\",\"@origTime\":\"07:47 AM\"},{\"@station\":\"MLBR\",\"@load\":\"0\",\"@bikeflag\":\"1\",\"@origTime\":\"07:54 AM\"},{\"@station\":\"SFIA\",\"@load\":\"0\",\"@bikeflag\":\"1\",\"@origTime\":\"07:58 AM\"}]},{\"@index\":\"9\",\"stop\":[{\"@station\":\"RICH\",\"@load\":\"0\",\"@bikeflag\":\"1\",\"@origTime\":\"06:57 AM\"},{\"@station\":\"DELN\",\"@load\":\"0\",\"@bikeflag\":\"1\",\"@origTime\":\"07:02 AM\"},{\"@station\":\"PLZA\",\"@load\":\"0\",\"@bikeflag\":\"1\",\"@origTime\":\"07:05 AM\"},{\"@station\":\"NBRK\",\"@load\":\"0\",\"@bikeflag\":\"1\",\"@origTime\":\"07:08 AM\"},{\"@station\":\"DBRK\",\"@load\":\"0\",\"@bikeflag\":\"1\",\"@origTime\":\"07:10 AM\"},{\"@station\":\"ASHB\",\"@load\":\"0\",\"@bikeflag\":\"1\",\"@origTime\":\"07:13 AM\"},{\"@station\":\"MCAR\",\"@load\":\"0\",\"@bikeflag\":\"1\",\"@origTime\":\"07:16 AM\"},{\"@station\":\"19TH\",\"@load\":\"0\",\"@bikeflag\":\"1\",\"@origTime\":\"07:20 AM\"},{\"@station\":\"12TH\",\"@load\":\"0\",\"@bikeflag\":\"1\",\"@origTime\":\"07:22 AM\"},{\"@station\":\"WOAK\",\"@load\":\"0\",\"@bikeflag\":\"1\",\"@origTime\":\"07:26 AM\"},{\"@station\":\"EMBR\",\"@load\":\"0\",\"@bikeflag\":\"1\",\"@origTime\":\"07:33 AM\"},{\"@station\":\"MONT\",\"@load\":\"0\",\"@bikeflag\":\"1\",\"@origTime\":\"07:35 AM\"},{\"@station\":\"POWL\",\"@load\":\"0\",\"@bikeflag\":\"1\",\"@origTime\":\"07:37 AM\"},{\"@station\":\"CIVC\",\"@load\":\"0\",\"@bikeflag\":\"1\",\"@origTime\":\"07:38 AM\"},{\"@station\":\"16TH\",\"@load\":\"0\",\"@bikeflag\":\"1\",\"@origTime\":\"07:40 AM\"},{\"@station\":\"24TH\",\"@load\":\"0\",\"@bikeflag\":\"1\",\"@origTime\":\"07:42 AM\"},{\"@station\":\"GLEN\",\"@load\":\"0\",\"@bikeflag\":\"1\",\"@origTime\":\"07:45 AM\"},{\"@station\":\"BALB\",\"@load\":\"0\",\"@bikeflag\":\"1\",\"@origTime\":\"07:48 AM\"},{\"@station\":\"DALY\",\"@load\":\"0\",\"@bikeflag\":\"1\",\"@origTime\":\"07:52 AM\"},{\"@station\":\"COLM\",\"@load\":\"0\",\"@bikeflag\":\"1\",\"@origTime\":\"07:56 AM\"},{\"@station\":\"SSAN\",\"@load\":\"0\",\"@bikeflag\":\"1\",\"@origTime\":\"07:59 AM\"},{\"@station\":\"SBRN\",\"@load\":\"0\",\"@bikeflag\":\"1\",\"@origTime\":\"08:02 AM\"},{\"@station\":\"MLBR\",\"@load\":\"0\",\"@bikeflag\":\"1\",\"@origTime\":\"08:09 AM\"},{\"@station\":\"SFIA\",\"@load\":\"0\",\"@bikeflag\":\"1\",\"@origTime\":\"08:13 AM\"}]},{\"@index\":\"10\",\"stop\":[{\"@station\":\"RICH\",\"@load\":\"0\",\"@bikeflag\":\"1\",\"@origTime\":\"07:12 AM\"},{\"@station\":\"DELN\",\"@load\":\"0\",\"@bikeflag\":\"1\",\"@origTime\":\"07:17 AM\"},{\"@station\":\"PLZA\",\"@load\":\"0\",\"@bikeflag\":\"1\",\"@origTime\":\"07:20 AM\"},{\"@station\":\"NBRK\",\"@load\":\"0\",\"@bikeflag\":\"1\",\"@origTime\":\"07:23 AM\"},{\"@station\":\"DBRK\",\"@load\":\"0\",\"@bikeflag\":\"1\",\"@origTime\":\"07:25 AM\"},{\"@station\":\"ASHB\",\"@load\":\"0\",\"@bikeflag\":\"1\",\"@origTime\":\"07:28 AM\"},{\"@station\":\"MCAR\",\"@load\":\"0\",\"@bikeflag\":\"1\",\"@origTime\":\"07:31 AM\"},{\"@station\":\"19TH\",\"@load\":\"0\",\"@bikeflag\":\"1\",\"@origTime\":\"07:35 AM\"},{\"@station\":\"12TH\",\"@load\":\"0\",\"@bikeflag\":\"1\",\"@origTime\":\"07:37 AM\"},{\"@station\":\"WOAK\",\"@load\":\"0\",\"@bikeflag\":\"1\",\"@origTime\":\"07:41 AM\"},{\"@station\":\"EMBR\",\"@load\":\"0\",\"@bikeflag\":\"1\",\"@origTime\":\"07:48 AM\"},{\"@station\":\"MONT\",\"@load\":\"0\",\"@bikeflag\":\"1\",\"@origTime\":\"07:50 AM\"},{\"@station\":\"POWL\",\"@load\":\"0\",\"@bikeflag\":\"1\",\"@origTime\":\"07:52 AM\"},{\"@station\":\"CIVC\",\"@load\":\"0\",\"@bikeflag\":\"1\",\"@origTime\":\"07:53 AM\"},{\"@station\":\"16TH\",\"@load\":\"0\",\"@bikeflag\":\"1\",\"@origTime\":\"07:55 AM\"},{\"@station\":\"24TH\",\"@load\":\"0\",\"@bikeflag\":\"1\",\"@origTime\":\"07:57 AM\"},{\"@station\":\"GLEN\",\"@load\":\"0\",\"@bikeflag\":\"1\",\"@origTime\":\"08:00 AM\"},{\"@station\":\"BALB\",\"@load\":\"0\",\"@bikeflag\":\"1\",\"@origTime\":\"08:03 AM\"},{\"@station\":\"DALY\",\"@load\":\"0\",\"@bikeflag\":\"1\",\"@origTime\":\"08:07 AM\"},{\"@station\":\"COLM\",\"@load\":\"0\",\"@bikeflag\":\"1\",\"@origTime\":\"08:11 AM\"},{\"@station\":\"SSAN\",\"@load\":\"0\",\"@bikeflag\":\"1\",\"@origTime\":\"08:14 AM\"},{\"@station\":\"SBRN\",\"@load\":\"0\",\"@bikeflag\":\"1\",\"@origTime\":\"08:17 AM\"},{\"@station\":\"MLBR\",\"@load\":\"0\",\"@bikeflag\":\"1\",\"@origTime\":\"08:24 AM\"},{\"@station\":\"SFIA\",\"@load\":\"0\",\"@bikeflag\":\"1\",\"@origTime\":\"08:28 AM\"}]},{\"@index\":\"11\",\"stop\":[{\"@station\":\"RICH\",\"@load\":\"0\",\"@bikeflag\":\"1\",\"@origTime\":\"07:27 AM\"},{\"@station\":\"DELN\",\"@load\":\"0\",\"@bikeflag\":\"1\",\"@origTime\":\"07:32 AM\"},{\"@station\":\"PLZA\",\"@load\":\"0\",\"@bikeflag\":\"1\",\"@origTime\":\"07:35 AM\"},{\"@station\":\"NBRK\",\"@load\":\"0\",\"@bikeflag\":\"1\",\"@origTime\":\"07:38 AM\"},{\"@station\":\"DBRK\",\"@load\":\"0\",\"@bikeflag\":\"1\",\"@origTime\":\"07:40 AM\"},{\"@station\":\"ASHB\",\"@load\":\"0\",\"@bikeflag\":\"1\",\"@origTime\":\"07:43 AM\"},{\"@station\":\"MCAR\",\"@load\":\"0\",\"@bikeflag\":\"1\",\"@origTime\":\"07:46 AM\"},{\"@station\":\"19TH\",\"@load\":\"0\",\"@bikeflag\":\"1\",\"@origTime\":\"07:50 AM\"},{\"@station\":\"12TH\",\"@load\":\"0\",\"@bikeflag\":\"1\",\"@origTime\":\"07:52 AM\"},{\"@station\":\"WOAK\",\"@load\":\"0\",\"@bikeflag\":\"1\",\"@origTime\":\"07:56 AM\"},{\"@station\":\"EMBR\",\"@load\":\"0\",\"@bikeflag\":\"1\",\"@origTime\":\"08:03 AM\"},{\"@station\":\"MONT\",\"@load\":\"0\",\"@bikeflag\":\"1\",\"@origTime\":\"08:05 AM\"},{\"@station\":\"POWL\",\"@load\":\"0\",\"@bikeflag\":\"1\",\"@origTime\":\"08:07 AM\"},{\"@station\":\"CIVC\",\"@load\":\"0\",\"@bikeflag\":\"1\",\"@origTime\":\"08:08 AM\"},{\"@station\":\"16TH\",\"@load\":\"0\",\"@bikeflag\":\"1\",\"@origTime\":\"08:10 AM\"},{\"@station\":\"24TH\",\"@load\":\"0\",\"@bikeflag\":\"1\",\"@origTime\":\"08:12 AM\"},{\"@station\":\"GLEN\",\"@load\":\"0\",\"@bikeflag\":\"1\",\"@origTime\":\"08:15 AM\"},{\"@station\":\"BALB\",\"@load\":\"0\",\"@bikeflag\":\"1\",\"@origTime\":\"08:18 AM\"},{\"@station\":\"DALY\",\"@load\":\"0\",\"@bikeflag\":\"1\",\"@origTime\":\"08:22 AM\"},{\"@station\":\"COLM\",\"@load\":\"0\",\"@bikeflag\":\"1\",\"@origTime\":\"08:26 AM\"},{\"@station\":\"SSAN\",\"@load\":\"0\",\"@bikeflag\":\"1\",\"@origTime\":\"08:29 AM\"},{\"@station\":\"SBRN\",\"@load\":\"0\",\"@bikeflag\":\"1\",\"@origTime\":\"08:32 AM\"},{\"@station\":\"MLBR\",\"@load\":\"0\",\"@bikeflag\":\"1\",\"@origTime\":\"08:39 AM\"},{\"@station\":\"SFIA\",\"@load\":\"0\",\"@bikeflag\":\"1\",\"@origTime\":\"08:43 AM\"}]},{\"@index\":\"12\",\"stop\":[{\"@station\":\"RICH\",\"@load\":\"0\",\"@bikeflag\":\"1\",\"@origTime\":\"07:42 AM\"},{\"@station\":\"DELN\",\"@load\":\"0\",\"@bikeflag\":\"1\",\"@origTime\":\"07:47 AM\"},{\"@station\":\"PLZA\",\"@load\":\"0\",\"@bikeflag\":\"1\",\"@origTime\":\"07:50 AM\"},{\"@station\":\"NBRK\",\"@load\":\"0\",\"@bikeflag\":\"1\",\"@origTime\":\"07:53 AM\"},{\"@station\":\"DBRK\",\"@load\":\"0\",\"@bikeflag\":\"1\",\"@origTime\":\"07:55 AM\"},{\"@station\":\"ASHB\",\"@load\":\"0\",\"@bikeflag\":\"1\",\"@origTime\":\"07:58 AM\"},{\"@station\":\"MCAR\",\"@load\":\"0\",\"@bikeflag\":\"1\",\"@origTime\":\"08:01 AM\"},{\"@station\":\"19TH\",\"@load\":\"0\",\"@bikeflag\":\"1\",\"@origTime\":\"08:05 AM\"},{\"@station\":\"12TH\",\"@load\":\"0\",\"@bikeflag\":\"1\",\"@origTime\":\"08:07 AM\"},{\"@station\":\"WOAK\",\"@load\":\"0\",\"@bikeflag\":\"1\",\"@origTime\":\"08:11 AM\"},{\"@station\":\"EMBR\",\"@load\":\"0\",\"@bikeflag\":\"1\",\"@origTime\":\"08:18 AM\"},{\"@station\":\"MONT\",\"@load\":\"0\",\"@bikeflag\":\"1\",\"@origTime\":\"08:20 AM\"},{\"@station\":\"POWL\",\"@load\":\"0\",\"@bikeflag\":\"1\",\"@origTime\":\"08:22 AM\"},{\"@station\":\"CIVC\",\"@load\":\"0\",\"@bikeflag\":\"1\",\"@origTime\":\"08:23 AM\"},{\"@station\":\"16TH\",\"@load\":\"0\",\"@bikeflag\":\"1\",\"@origTime\":\"08:25 AM\"},{\"@station\":\"24TH\",\"@load\":\"0\",\"@bikeflag\":\"1\",\"@origTime\":\"08:27 AM\"},{\"@station\":\"GLEN\",\"@load\":\"0\",\"@bikeflag\":\"1\",\"@origTime\":\"08:30 AM\"},{\"@station\":\"BALB\",\"@load\":\"0\",\"@bikeflag\":\"1\",\"@origTime\":\"08:33 AM\"},{\"@station\":\"DALY\",\"@load\":\"0\",\"@bikeflag\":\"1\",\"@origTime\":\"08:37 AM\"},{\"@station\":\"COLM\",\"@load\":\"0\",\"@bikeflag\":\"1\",\"@origTime\":\"08:41 AM\"},{\"@station\":\"SSAN\",\"@load\":\"0\",\"@bikeflag\":\"1\",\"@origTime\":\"08:44 AM\"},{\"@station\":\"SBRN\",\"@load\":\"0\",\"@bikeflag\":\"1\",\"@origTime\":\"08:47 AM\"},{\"@station\":\"MLBR\",\"@load\":\"0\",\"@bikeflag\":\"1\",\"@origTime\":\"08:54 AM\"},{\"@station\":\"SFIA\",\"@load\":\"0\",\"@bikeflag\":\"1\",\"@origTime\":\"08:58 AM\"}]},{\"@index\":\"13\",\"stop\":[{\"@station\":\"RICH\",\"@load\":\"0\",\"@bikeflag\":\"1\",\"@origTime\":\"07:57 AM\"},{\"@station\":\"DELN\",\"@load\":\"0\",\"@bikeflag\":\"1\",\"@origTime\":\"08:02 AM\"},{\"@station\":\"PLZA\",\"@load\":\"0\",\"@bikeflag\":\"1\",\"@origTime\":\"08:05 AM\"},{\"@station\":\"NBRK\",\"@load\":\"0\",\"@bikeflag\":\"1\",\"@origTime\":\"08:08 AM\"},{\"@station\":\"DBRK\",\"@load\":\"0\",\"@bikeflag\":\"1\",\"@origTime\":\"08:10 AM\"},{\"@station\":\"ASHB\",\"@load\":\"0\",\"@bikeflag\":\"1\",\"@origTime\":\"08:13 AM\"},{\"@station\":\"MCAR\",\"@load\":\"0\",\"@bikeflag\":\"1\",\"@origTime\":\"08:16 AM\"},{\"@station\":\"19TH\",\"@load\":\"0\",\"@bikeflag\":\"1\",\"@origTime\":\"08:20 AM\"},{\"@station\":\"12TH\",\"@load\":\"0\",\"@bikeflag\":\"1\",\"@origTime\":\"08:22 AM\"},{\"@station\":\"WOAK\",\"@load\":\"0\",\"@bikeflag\":\"1\",\"@origTime\":\"08:26 AM\"},{\"@station\":\"EMBR\",\"@load\":\"0\",\"@bikeflag\":\"1\",\"@origTime\":\"08:33 AM\"},{\"@station\":\"MONT\",\"@load\":\"0\",\"@bikeflag\":\"1\",\"@origTime\":\"08:35 AM\"},{\"@station\":\"POWL\",\"@load\":\"0\",\"@bikeflag\":\"1\",\"@origTime\":\"08:37 AM\"},{\"@station\":\"CIVC\",\"@load\":\"0\",\"@bikeflag\":\"1\",\"@origTime\":\"08:38 AM\"},{\"@station\":\"16TH\",\"@load\":\"0\",\"@bikeflag\":\"1\",\"@origTime\":\"08:40 AM\"},{\"@station\":\"24TH\",\"@load\":\"0\",\"@bikeflag\":\"1\",\"@origTime\":\"08:42 AM\"},{\"@station\":\"GLEN\",\"@load\":\"0\",\"@bikeflag\":\"1\",\"@origTime\":\"08:45 AM\"},{\"@station\":\"BALB\",\"@load\":\"0\",\"@bikeflag\":\"1\",\"@origTime\":\"08:48 AM\"},{\"@station\":\"DALY\",\"@load\":\"0\",\"@bikeflag\":\"1\",\"@origTime\":\"08:52 AM\"},{\"@station\":\"COLM\",\"@load\":\"0\",\"@bikeflag\":\"1\",\"@origTime\":\"08:56 AM\"},{\"@station\":\"SSAN\",\"@load\":\"0\",\"@bikeflag\":\"1\",\"@origTime\":\"08:59 AM\"},{\"@station\":\"SBRN\",\"@load\":\"0\",\"@bikeflag\":\"1\",\"@origTime\":\"09:02 AM\"},{\"@station\":\"MLBR\",\"@load\":\"0\",\"@bikeflag\":\"1\",\"@origTime\":\"09:09 AM\"},{\"@station\":\"SFIA\",\"@load\":\"0\",\"@bikeflag\":\"1\",\"@origTime\":\"09:13 AM\"}]},{\"@index\":\"14\",\"stop\":[{\"@station\":\"RICH\",\"@load\":\"0\",\"@bikeflag\":\"1\",\"@origTime\":\"08:12 AM\"},{\"@station\":\"DELN\",\"@load\":\"0\",\"@bikeflag\":\"1\",\"@origTime\":\"08:17 AM\"},{\"@station\":\"PLZA\",\"@load\":\"0\",\"@bikeflag\":\"1\",\"@origTime\":\"08:20 AM\"},{\"@station\":\"NBRK\",\"@load\":\"0\",\"@bikeflag\":\"1\",\"@origTime\":\"08:23 AM\"},{\"@station\":\"DBRK\",\"@load\":\"0\",\"@bikeflag\":\"1\",\"@origTime\":\"08:25 AM\"},{\"@station\":\"ASHB\",\"@load\":\"0\",\"@bikeflag\":\"1\",\"@origTime\":\"08:28 AM\"},{\"@station\":\"MCAR\",\"@load\":\"0\",\"@bikeflag\":\"1\",\"@origTime\":\"08:31 AM\"},{\"@station\":\"19TH\",\"@load\":\"0\",\"@bikeflag\":\"1\",\"@origTime\":\"08:35 AM\"},{\"@station\":\"12TH\",\"@load\":\"0\",\"@bikeflag\":\"1\",\"@origTime\":\"08:37 AM\"},{\"@station\":\"WOAK\",\"@load\":\"0\",\"@bikeflag\":\"1\",\"@origTime\":\"08:41 AM\"},{\"@station\":\"EMBR\",\"@load\":\"0\",\"@bikeflag\":\"1\",\"@origTime\":\"08:48 AM\"},{\"@station\":\"MONT\",\"@load\":\"0\",\"@bikeflag\":\"1\",\"@origTime\":\"08:50 AM\"},{\"@station\":\"POWL\",\"@load\":\"0\",\"@bikeflag\":\"1\",\"@origTime\":\"08:52 AM\"},{\"@station\":\"CIVC\",\"@load\":\"0\",\"@bikeflag\":\"1\",\"@origTime\":\"08:53 AM\"},{\"@station\":\"16TH\",\"@load\":\"0\",\"@bikeflag\":\"1\",\"@origTime\":\"08:55 AM\"},{\"@station\":\"24TH\",\"@load\":\"0\",\"@bikeflag\":\"1\",\"@origTime\":\"08:57 AM\"},{\"@station\":\"GLEN\",\"@load\":\"0\",\"@bikeflag\":\"1\",\"@origTime\":\"09:00 AM\"},{\"@station\":\"BALB\",\"@load\":\"0\",\"@bikeflag\":\"1\",\"@origTime\":\"09:03 AM\"},{\"@station\":\"DALY\",\"@load\":\"0\",\"@bikeflag\":\"1\",\"@origTime\":\"09:07 AM\"},{\"@station\":\"COLM\",\"@load\":\"0\",\"@bikeflag\":\"1\",\"@origTime\":\"09:11 AM\"},{\"@station\":\"SSAN\",\"@load\":\"0\",\"@bikeflag\":\"1\",\"@origTime\":\"09:14 AM\"},{\"@station\":\"SBRN\",\"@load\":\"0\",\"@bikeflag\":\"1\",\"@origTime\":\"09:17 AM\"},{\"@station\":\"MLBR\",\"@load\":\"0\",\"@bikeflag\":\"1\",\"@origTime\":\"09:24 AM\"},{\"@station\":\"SFIA\",\"@load\":\"0\",\"@bikeflag\":\"1\",\"@origTime\":\"09:28 AM\"}]},{\"@index\":\"15\",\"stop\":[{\"@station\":\"RICH\",\"@load\":\"0\",\"@bikeflag\":\"1\",\"@origTime\":\"08:27 AM\"},{\"@station\":\"DELN\",\"@load\":\"0\",\"@bikeflag\":\"1\",\"@origTime\":\"08:32 AM\"},{\"@station\":\"PLZA\",\"@load\":\"0\",\"@bikeflag\":\"1\",\"@origTime\":\"08:35 AM\"},{\"@station\":\"NBRK\",\"@load\":\"0\",\"@bikeflag\":\"1\",\"@origTime\":\"08:38 AM\"},{\"@station\":\"DBRK\",\"@load\":\"0\",\"@bikeflag\":\"1\",\"@origTime\":\"08:40 AM\"},{\"@station\":\"ASHB\",\"@load\":\"0\",\"@bikeflag\":\"1\",\"@origTime\":\"08:43 AM\"},{\"@station\":\"MCAR\",\"@load\":\"0\",\"@bikeflag\":\"1\",\"@origTime\":\"08:46 AM\"},{\"@station\":\"19TH\",\"@load\":\"0\",\"@bikeflag\":\"1\",\"@origTime\":\"08:50 AM\"},{\"@station\":\"12TH\",\"@load\":\"0\",\"@bikeflag\":\"1\",\"@origTime\":\"08:52 AM\"},{\"@station\":\"WOAK\",\"@load\":\"0\",\"@bikeflag\":\"1\",\"@origTime\":\"08:56 AM\"},{\"@station\":\"EMBR\",\"@load\":\"0\",\"@bikeflag\":\"1\",\"@origTime\":\"09:03 AM\"},{\"@station\":\"MONT\",\"@load\":\"0\",\"@bikeflag\":\"1\",\"@origTime\":\"09:05 AM\"},{\"@station\":\"POWL\",\"@load\":\"0\",\"@bikeflag\":\"1\",\"@origTime\":\"09:07 AM\"},{\"@station\":\"CIVC\",\"@load\":\"0\",\"@bikeflag\":\"1\",\"@origTime\":\"09:08 AM\"},{\"@station\":\"16TH\",\"@load\":\"0\",\"@bikeflag\":\"1\",\"@origTime\":\"09:10 AM\"},{\"@station\":\"24TH\",\"@load\":\"0\",\"@bikeflag\":\"1\",\"@origTime\":\"09:12 AM\"},{\"@station\":\"GLEN\",\"@load\":\"0\",\"@bikeflag\":\"1\",\"@origTime\":\"09:15 AM\"},{\"@station\":\"BALB\",\"@load\":\"0\",\"@bikeflag\":\"1\",\"@origTime\":\"09:18 AM\"},{\"@station\":\"DALY\",\"@load\":\"0\",\"@bikeflag\":\"1\",\"@origTime\":\"09:22 AM\"},{\"@station\":\"COLM\",\"@load\":\"0\",\"@bikeflag\":\"1\",\"@origTime\":\"09:26 AM\"},{\"@station\":\"SSAN\",\"@load\":\"0\",\"@bikeflag\":\"1\",\"@origTime\":\"09:29 AM\"},{\"@station\":\"SBRN\",\"@load\":\"0\",\"@bikeflag\":\"1\",\"@origTime\":\"09:32 AM\"},{\"@station\":\"MLBR\",\"@load\":\"0\",\"@bikeflag\":\"1\",\"@origTime\":\"09:39 AM\"},{\"@station\":\"SFIA\",\"@load\":\"0\",\"@bikeflag\":\"1\",\"@origTime\":\"09:43 AM\"}]},{\"@index\":\"16\",\"stop\":[{\"@station\":\"RICH\",\"@load\":\"0\",\"@bikeflag\":\"1\",\"@origTime\":\"08:42 AM\"},{\"@station\":\"DELN\",\"@load\":\"0\",\"@bikeflag\":\"1\",\"@origTime\":\"08:47 AM\"},{\"@station\":\"PLZA\",\"@load\":\"0\",\"@bikeflag\":\"1\",\"@origTime\":\"08:50 AM\"},{\"@station\":\"NBRK\",\"@load\":\"0\",\"@bikeflag\":\"1\",\"@origTime\":\"08:53 AM\"},{\"@station\":\"DBRK\",\"@load\":\"0\",\"@bikeflag\":\"1\",\"@origTime\":\"08:55 AM\"},{\"@station\":\"ASHB\",\"@load\":\"0\",\"@bikeflag\":\"1\",\"@origTime\":\"08:58 AM\"},{\"@station\":\"MCAR\",\"@load\":\"0\",\"@bikeflag\":\"1\",\"@origTime\":\"09:01 AM\"},{\"@station\":\"19TH\",\"@load\":\"0\",\"@bikeflag\":\"1\",\"@origTime\":\"09:05 AM\"},{\"@station\":\"12TH\",\"@load\":\"0\",\"@bikeflag\":\"1\",\"@origTime\":\"09:07 AM\"},{\"@station\":\"WOAK\",\"@load\":\"0\",\"@bikeflag\":\"1\",\"@origTime\":\"09:11 AM\"},{\"@station\":\"EMBR\",\"@load\":\"0\",\"@bikeflag\":\"1\",\"@origTime\":\"09:18 AM\"},{\"@station\":\"MONT\",\"@load\":\"0\",\"@bikeflag\":\"1\",\"@origTime\":\"09:20 AM\"},{\"@station\":\"POWL\",\"@load\":\"0\",\"@bikeflag\":\"1\",\"@origTime\":\"09:22 AM\"},{\"@station\":\"CIVC\",\"@load\":\"0\",\"@bikeflag\":\"1\",\"@origTime\":\"09:23 AM\"},{\"@station\":\"16TH\",\"@load\":\"0\",\"@bikeflag\":\"1\",\"@origTime\":\"09:25 AM\"},{\"@station\":\"24TH\",\"@load\":\"0\",\"@bikeflag\":\"1\",\"@origTime\":\"09:27 AM\"},{\"@station\":\"GLEN\",\"@load\":\"0\",\"@bikeflag\":\"1\",\"@origTime\":\"09:30 AM\"},{\"@station\":\"BALB\",\"@load\":\"0\",\"@bikeflag\":\"1\",\"@origTime\":\"09:33 AM\"},{\"@station\":\"DALY\",\"@load\":\"0\",\"@bikeflag\":\"1\",\"@origTime\":\"09:37 AM\"},{\"@station\":\"COLM\",\"@load\":\"0\",\"@bikeflag\":\"1\",\"@origTime\":\"09:41 AM\"},{\"@station\":\"SSAN\",\"@load\":\"0\",\"@bikeflag\":\"1\",\"@origTime\":\"09:44 AM\"},{\"@station\":\"SBRN\",\"@load\":\"0\",\"@bikeflag\":\"1\",\"@origTime\":\"09:47 AM\"},{\"@station\":\"MLBR\",\"@load\":\"0\",\"@bikeflag\":\"1\",\"@origTime\":\"09:54 AM\"},{\"@station\":\"SFIA\",\"@load\":\"0\",\"@bikeflag\":\"1\",\"@origTime\":\"09:58 AM\"}]},{\"@index\":\"17\",\"stop\":[{\"@station\":\"RICH\",\"@load\":\"0\",\"@bikeflag\":\"1\",\"@origTime\":\"08:57 AM\"},{\"@station\":\"DELN\",\"@load\":\"0\",\"@bikeflag\":\"1\",\"@origTime\":\"09:02 AM\"},{\"@station\":\"PLZA\",\"@load\":\"0\",\"@bikeflag\":\"1\",\"@origTime\":\"09:05 AM\"},{\"@station\":\"NBRK\",\"@load\":\"0\",\"@bikeflag\":\"1\",\"@origTime\":\"09:08 AM\"},{\"@station\":\"DBRK\",\"@load\":\"0\",\"@bikeflag\":\"1\",\"@origTime\":\"09:10 AM\"},{\"@station\":\"ASHB\",\"@load\":\"0\",\"@bikeflag\":\"1\",\"@origTime\":\"09:13 AM\"},{\"@station\":\"MCAR\",\"@load\":\"0\",\"@bikeflag\":\"1\",\"@origTime\":\"09:16 AM\"},{\"@station\":\"19TH\",\"@load\":\"0\",\"@bikeflag\":\"1\",\"@origTime\":\"09:20 AM\"},{\"@station\":\"12TH\",\"@load\":\"0\",\"@bikeflag\":\"1\",\"@origTime\":\"09:22 AM\"},{\"@station\":\"WOAK\",\"@load\":\"0\",\"@bikeflag\":\"1\",\"@origTime\":\"09:26 AM\"},{\"@station\":\"EMBR\",\"@load\":\"0\",\"@bikeflag\":\"1\",\"@origTime\":\"09:33 AM\"},{\"@station\":\"MONT\",\"@load\":\"0\",\"@bikeflag\":\"1\",\"@origTime\":\"09:35 AM\"},{\"@station\":\"POWL\",\"@load\":\"0\",\"@bikeflag\":\"1\",\"@origTime\":\"09:37 AM\"},{\"@station\":\"CIVC\",\"@load\":\"0\",\"@bikeflag\":\"1\",\"@origTime\":\"09:38 AM\"},{\"@station\":\"16TH\",\"@load\":\"0\",\"@bikeflag\":\"1\",\"@origTime\":\"09:40 AM\"},{\"@station\":\"24TH\",\"@load\":\"0\",\"@bikeflag\":\"1\",\"@origTime\":\"09:42 AM\"},{\"@station\":\"GLEN\",\"@load\":\"0\",\"@bikeflag\":\"1\",\"@origTime\":\"09:45 AM\"},{\"@station\":\"BALB\",\"@load\":\"0\",\"@bikeflag\":\"1\",\"@origTime\":\"09:48 AM\"},{\"@station\":\"DALY\",\"@load\":\"0\",\"@bikeflag\":\"1\",\"@origTime\":\"09:52 AM\"},{\"@station\":\"COLM\",\"@load\":\"0\",\"@bikeflag\":\"1\",\"@origTime\":\"09:56 AM\"},{\"@station\":\"SSAN\",\"@load\":\"0\",\"@bikeflag\":\"1\",\"@origTime\":\"09:59 AM\"},{\"@station\":\"SBRN\",\"@load\":\"0\",\"@bikeflag\":\"1\",\"@origTime\":\"10:02 AM\"},{\"@station\":\"MLBR\",\"@load\":\"0\",\"@bikeflag\":\"1\",\"@origTime\":\"10:09 AM\"},{\"@station\":\"SFIA\",\"@load\":\"0\",\"@bikeflag\":\"1\",\"@origTime\":\"10:13 AM\"}]},{\"@index\":\"18\",\"stop\":[{\"@station\":\"RICH\",\"@load\":\"0\",\"@bikeflag\":\"1\",\"@origTime\":\"09:12 AM\"},{\"@station\":\"DELN\",\"@load\":\"0\",\"@bikeflag\":\"1\",\"@origTime\":\"09:17 AM\"},{\"@station\":\"PLZA\",\"@load\":\"0\",\"@bikeflag\":\"1\",\"@origTime\":\"09:20 AM\"},{\"@station\":\"NBRK\",\"@load\":\"0\",\"@bikeflag\":\"1\",\"@origTime\":\"09:23 AM\"},{\"@station\":\"DBRK\",\"@load\":\"0\",\"@bikeflag\":\"1\",\"@origTime\":\"09:25 AM\"},{\"@station\":\"ASHB\",\"@load\":\"0\",\"@bikeflag\":\"1\",\"@origTime\":\"09:28 AM\"},{\"@station\":\"MCAR\",\"@load\":\"0\",\"@bikeflag\":\"1\",\"@origTime\":\"09:31 AM\"},{\"@station\":\"19TH\",\"@load\":\"0\",\"@bikeflag\":\"1\",\"@origTime\":\"09:35 AM\"},{\"@station\":\"12TH\",\"@load\":\"0\",\"@bikeflag\":\"1\",\"@origTime\":\"09:37 AM\"},{\"@station\":\"WOAK\",\"@load\":\"0\",\"@bikeflag\":\"1\",\"@origTime\":\"09:41 AM\"},{\"@station\":\"EMBR\",\"@load\":\"0\",\"@bikeflag\":\"1\",\"@origTime\":\"09:48 AM\"},{\"@station\":\"MONT\",\"@load\":\"0\",\"@bikeflag\":\"1\",\"@origTime\":\"09:50 AM\"},{\"@station\":\"POWL\",\"@load\":\"0\",\"@bikeflag\":\"1\",\"@origTime\":\"09:52 AM\"},{\"@station\":\"CIVC\",\"@load\":\"0\",\"@bikeflag\":\"1\",\"@origTime\":\"09:53 AM\"},{\"@station\":\"16TH\",\"@load\":\"0\",\"@bikeflag\":\"1\",\"@origTime\":\"09:55 AM\"},{\"@station\":\"24TH\",\"@load\":\"0\",\"@bikeflag\":\"1\",\"@origTime\":\"09:57 AM\"},{\"@station\":\"GLEN\",\"@load\":\"0\",\"@bikeflag\":\"1\",\"@origTime\":\"10:00 AM\"},{\"@station\":\"BALB\",\"@load\":\"0\",\"@bikeflag\":\"1\",\"@origTime\":\"10:03 AM\"},{\"@station\":\"DALY\",\"@load\":\"0\",\"@bikeflag\":\"1\",\"@origTime\":\"10:07 AM\"},{\"@station\":\"COLM\",\"@load\":\"0\",\"@bikeflag\":\"1\",\"@origTime\":\"10:11 AM\"},{\"@station\":\"SSAN\",\"@load\":\"0\",\"@bikeflag\":\"1\",\"@origTime\":\"10:14 AM\"},{\"@station\":\"SBRN\",\"@load\":\"0\",\"@bikeflag\":\"1\",\"@origTime\":\"10:17 AM\"},{\"@station\":\"MLBR\",\"@load\":\"0\",\"@bikeflag\":\"1\",\"@origTime\":\"10:24 AM\"},{\"@station\":\"SFIA\",\"@load\":\"0\",\"@bikeflag\":\"1\",\"@origTime\":\"10:28 AM\"}]},{\"@index\":\"19\",\"stop\":[{\"@station\":\"RICH\",\"@load\":\"0\",\"@bikeflag\":\"1\",\"@origTime\":\"09:27 AM\"},{\"@station\":\"DELN\",\"@load\":\"0\",\"@bikeflag\":\"1\",\"@origTime\":\"09:32 AM\"},{\"@station\":\"PLZA\",\"@load\":\"0\",\"@bikeflag\":\"1\",\"@origTime\":\"09:35 AM\"},{\"@station\":\"NBRK\",\"@load\":\"0\",\"@bikeflag\":\"1\",\"@origTime\":\"09:38 AM\"},{\"@station\":\"DBRK\",\"@load\":\"0\",\"@bikeflag\":\"1\",\"@origTime\":\"09:40 AM\"},{\"@station\":\"ASHB\",\"@load\":\"0\",\"@bikeflag\":\"1\",\"@origTime\":\"09:43 AM\"},{\"@station\":\"MCAR\",\"@load\":\"0\",\"@bikeflag\":\"1\",\"@origTime\":\"09:46 AM\"},{\"@station\":\"19TH\",\"@load\":\"0\",\"@bikeflag\":\"1\",\"@origTime\":\"09:50 AM\"},{\"@station\":\"12TH\",\"@load\":\"0\",\"@bikeflag\":\"1\",\"@origTime\":\"09:52 AM\"},{\"@station\":\"WOAK\",\"@load\":\"0\",\"@bikeflag\":\"1\",\"@origTime\":\"09:56 AM\"},{\"@station\":\"EMBR\",\"@load\":\"0\",\"@bikeflag\":\"1\",\"@origTime\":\"10:03 AM\"},{\"@station\":\"MONT\",\"@load\":\"0\",\"@bikeflag\":\"1\",\"@origTime\":\"10:05 AM\"},{\"@station\":\"POWL\",\"@load\":\"0\",\"@bikeflag\":\"1\",\"@origTime\":\"10:07 AM\"},{\"@station\":\"CIVC\",\"@load\":\"0\",\"@bikeflag\":\"1\",\"@origTime\":\"10:08 AM\"},{\"@station\":\"16TH\",\"@load\":\"0\",\"@bikeflag\":\"1\",\"@origTime\":\"10:10 AM\"},{\"@station\":\"24TH\",\"@load\":\"0\",\"@bikeflag\":\"1\",\"@origTime\":\"10:12 AM\"},{\"@station\":\"GLEN\",\"@load\":\"0\",\"@bikeflag\":\"1\",\"@origTime\":\"10:15 AM\"},{\"@station\":\"BALB\",\"@load\":\"0\",\"@bikeflag\":\"1\",\"@origTime\":\"10:18 AM\"},{\"@station\":\"DALY\",\"@load\":\"0\",\"@bikeflag\":\"1\",\"@origTime\":\"10:22 AM\"},{\"@station\":\"COLM\",\"@load\":\"0\",\"@bikeflag\":\"1\",\"@origTime\":\"10:26 AM\"},{\"@station\":\"SSAN\",\"@load\":\"0\",\"@bikeflag\":\"1\",\"@origTime\":\"10:29 AM\"},{\"@station\":\"SBRN\",\"@load\":\"0\",\"@bikeflag\":\"1\",\"@origTime\":\"10:32 AM\"},{\"@station\":\"MLBR\",\"@load\":\"0\",\"@bikeflag\":\"1\",\"@origTime\":\"10:39 AM\"},{\"@station\":\"SFIA\",\"@load\":\"0\",\"@bikeflag\":\"1\",\"@origTime\":\"10:43 AM\"}]},{\"@index\":\"20\",\"stop\":[{\"@station\":\"RICH\",\"@load\":\"0\",\"@bikeflag\":\"1\",\"@origTime\":\"09:42 AM\"},{\"@station\":\"DELN\",\"@load\":\"0\",\"@bikeflag\":\"1\",\"@origTime\":\"09:47 AM\"},{\"@station\":\"PLZA\",\"@load\":\"0\",\"@bikeflag\":\"1\",\"@origTime\":\"09:50 AM\"},{\"@station\":\"NBRK\",\"@load\":\"0\",\"@bikeflag\":\"1\",\"@origTime\":\"09:53 AM\"},{\"@station\":\"DBRK\",\"@load\":\"0\",\"@bikeflag\":\"1\",\"@origTime\":\"09:55 AM\"},{\"@station\":\"ASHB\",\"@load\":\"0\",\"@bikeflag\":\"1\",\"@origTime\":\"09:58 AM\"},{\"@station\":\"MCAR\",\"@load\":\"0\",\"@bikeflag\":\"1\",\"@origTime\":\"10:01 AM\"},{\"@station\":\"19TH\",\"@load\":\"0\",\"@bikeflag\":\"1\",\"@origTime\":\"10:05 AM\"},{\"@station\":\"12TH\",\"@load\":\"0\",\"@bikeflag\":\"1\",\"@origTime\":\"10:07 AM\"},{\"@station\":\"WOAK\",\"@load\":\"0\",\"@bikeflag\":\"1\",\"@origTime\":\"10:11 AM\"},{\"@station\":\"EMBR\",\"@load\":\"0\",\"@bikeflag\":\"1\",\"@origTime\":\"10:18 AM\"},{\"@station\":\"MONT\",\"@load\":\"0\",\"@bikeflag\":\"1\",\"@origTime\":\"10:20 AM\"},{\"@station\":\"POWL\",\"@load\":\"0\",\"@bikeflag\":\"1\",\"@origTime\":\"10:22 AM\"},{\"@station\":\"CIVC\",\"@load\":\"0\",\"@bikeflag\":\"1\",\"@origTime\":\"10:23 AM\"},{\"@station\":\"16TH\",\"@load\":\"0\",\"@bikeflag\":\"1\",\"@origTime\":\"10:25 AM\"},{\"@station\":\"24TH\",\"@load\":\"0\",\"@bikeflag\":\"1\",\"@origTime\":\"10:27 AM\"},{\"@station\":\"GLEN\",\"@load\":\"0\",\"@bikeflag\":\"1\",\"@origTime\":\"10:30 AM\"},{\"@station\":\"BALB\",\"@load\":\"0\",\"@bikeflag\":\"1\",\"@origTime\":\"10:33 AM\"},{\"@station\":\"DALY\",\"@load\":\"0\",\"@bikeflag\":\"1\",\"@origTime\":\"10:37 AM\"},{\"@station\":\"COLM\",\"@load\":\"0\",\"@bikeflag\":\"1\",\"@origTime\":\"10:41 AM\"},{\"@station\":\"SSAN\",\"@load\":\"0\",\"@bikeflag\":\"1\",\"@origTime\":\"10:44 AM\"},{\"@station\":\"SBRN\",\"@load\":\"0\",\"@bikeflag\":\"1\",\"@origTime\":\"10:47 AM\"},{\"@station\":\"MLBR\",\"@load\":\"0\",\"@bikeflag\":\"1\",\"@origTime\":\"10:54 AM\"},{\"@station\":\"SFIA\",\"@load\":\"0\",\"@bikeflag\":\"1\",\"@origTime\":\"10:58 AM\"}]},{\"@index\":\"21\",\"stop\":[{\"@station\":\"RICH\",\"@load\":\"0\",\"@bikeflag\":\"1\",\"@origTime\":\"09:57 AM\"},{\"@station\":\"DELN\",\"@load\":\"0\",\"@bikeflag\":\"1\",\"@origTime\":\"10:02 AM\"},{\"@station\":\"PLZA\",\"@load\":\"0\",\"@bikeflag\":\"1\",\"@origTime\":\"10:05 AM\"},{\"@station\":\"NBRK\",\"@load\":\"0\",\"@bikeflag\":\"1\",\"@origTime\":\"10:08 AM\"},{\"@station\":\"DBRK\",\"@load\":\"0\",\"@bikeflag\":\"1\",\"@origTime\":\"10:10 AM\"},{\"@station\":\"ASHB\",\"@load\":\"0\",\"@bikeflag\":\"1\",\"@origTime\":\"10:13 AM\"},{\"@station\":\"MCAR\",\"@load\":\"0\",\"@bikeflag\":\"1\",\"@origTime\":\"10:16 AM\"},{\"@station\":\"19TH\",\"@load\":\"0\",\"@bikeflag\":\"1\",\"@origTime\":\"10:20 AM\"},{\"@station\":\"12TH\",\"@load\":\"0\",\"@bikeflag\":\"1\",\"@origTime\":\"10:22 AM\"},{\"@station\":\"WOAK\",\"@load\":\"0\",\"@bikeflag\":\"1\",\"@origTime\":\"10:26 AM\"},{\"@station\":\"EMBR\",\"@load\":\"0\",\"@bikeflag\":\"1\",\"@origTime\":\"10:33 AM\"},{\"@station\":\"MONT\",\"@load\":\"0\",\"@bikeflag\":\"1\",\"@origTime\":\"10:35 AM\"},{\"@station\":\"POWL\",\"@load\":\"0\",\"@bikeflag\":\"1\",\"@origTime\":\"10:37 AM\"},{\"@station\":\"CIVC\",\"@load\":\"0\",\"@bikeflag\":\"1\",\"@origTime\":\"10:38 AM\"},{\"@station\":\"16TH\",\"@load\":\"0\",\"@bikeflag\":\"1\",\"@origTime\":\"10:40 AM\"},{\"@station\":\"24TH\",\"@load\":\"0\",\"@bikeflag\":\"1\",\"@origTime\":\"10:42 AM\"},{\"@station\":\"GLEN\",\"@load\":\"0\",\"@bikeflag\":\"1\",\"@origTime\":\"10:45 AM\"},{\"@station\":\"BALB\",\"@load\":\"0\",\"@bikeflag\":\"1\",\"@origTime\":\"10:48 AM\"},{\"@station\":\"DALY\",\"@load\":\"0\",\"@bikeflag\":\"1\",\"@origTime\":\"10:52 AM\"},{\"@station\":\"COLM\",\"@load\":\"0\",\"@bikeflag\":\"1\",\"@origTime\":\"10:56 AM\"},{\"@station\":\"SSAN\",\"@load\":\"0\",\"@bikeflag\":\"1\",\"@origTime\":\"10:59 AM\"},{\"@station\":\"SBRN\",\"@load\":\"0\",\"@bikeflag\":\"1\",\"@origTime\":\"11:02 AM\"},{\"@station\":\"MLBR\",\"@load\":\"0\",\"@bikeflag\":\"1\",\"@origTime\":\"11:09 AM\"},{\"@station\":\"SFIA\",\"@load\":\"0\",\"@bikeflag\":\"1\",\"@origTime\":\"11:13 AM\"}]},{\"@index\":\"22\",\"stop\":[{\"@station\":\"RICH\",\"@load\":\"0\",\"@bikeflag\":\"1\",\"@origTime\":\"10:12 AM\"},{\"@station\":\"DELN\",\"@load\":\"0\",\"@bikeflag\":\"1\",\"@origTime\":\"10:17 AM\"},{\"@station\":\"PLZA\",\"@load\":\"0\",\"@bikeflag\":\"1\",\"@origTime\":\"10:20 AM\"},{\"@station\":\"NBRK\",\"@load\":\"0\",\"@bikeflag\":\"1\",\"@origTime\":\"10:23 AM\"},{\"@station\":\"DBRK\",\"@load\":\"0\",\"@bikeflag\":\"1\",\"@origTime\":\"10:25 AM\"},{\"@station\":\"ASHB\",\"@load\":\"0\",\"@bikeflag\":\"1\",\"@origTime\":\"10:28 AM\"},{\"@station\":\"MCAR\",\"@load\":\"0\",\"@bikeflag\":\"1\",\"@origTime\":\"10:31 AM\"},{\"@station\":\"19TH\",\"@load\":\"0\",\"@bikeflag\":\"1\",\"@origTime\":\"10:35 AM\"},{\"@station\":\"12TH\",\"@load\":\"0\",\"@bikeflag\":\"1\",\"@origTime\":\"10:37 AM\"},{\"@station\":\"WOAK\",\"@load\":\"0\",\"@bikeflag\":\"1\",\"@origTime\":\"10:41 AM\"},{\"@station\":\"EMBR\",\"@load\":\"0\",\"@bikeflag\":\"1\",\"@origTime\":\"10:48 AM\"},{\"@station\":\"MONT\",\"@load\":\"0\",\"@bikeflag\":\"1\",\"@origTime\":\"10:50 AM\"},{\"@station\":\"POWL\",\"@load\":\"0\",\"@bikeflag\":\"1\",\"@origTime\":\"10:52 AM\"},{\"@station\":\"CIVC\",\"@load\":\"0\",\"@bikeflag\":\"1\",\"@origTime\":\"10:53 AM\"},{\"@station\":\"16TH\",\"@load\":\"0\",\"@bikeflag\":\"1\",\"@origTime\":\"10:55 AM\"},{\"@station\":\"24TH\",\"@load\":\"0\",\"@bikeflag\":\"1\",\"@origTime\":\"10:57 AM\"},{\"@station\":\"GLEN\",\"@load\":\"0\",\"@bikeflag\":\"1\",\"@origTime\":\"11:00 AM\"},{\"@station\":\"BALB\",\"@load\":\"0\",\"@bikeflag\":\"1\",\"@origTime\":\"11:03 AM\"},{\"@station\":\"DALY\",\"@load\":\"0\",\"@bikeflag\":\"1\",\"@origTime\":\"11:07 AM\"},{\"@station\":\"COLM\",\"@load\":\"0\",\"@bikeflag\":\"1\",\"@origTime\":\"11:11 AM\"},{\"@station\":\"SSAN\",\"@load\":\"0\",\"@bikeflag\":\"1\",\"@origTime\":\"11:14 AM\"},{\"@station\":\"SBRN\",\"@load\":\"0\",\"@bikeflag\":\"1\",\"@origTime\":\"11:17 AM\"},{\"@station\":\"MLBR\",\"@load\":\"0\",\"@bikeflag\":\"1\",\"@origTime\":\"11:24 AM\"},{\"@station\":\"SFIA\",\"@load\":\"0\",\"@bikeflag\":\"1\",\"@origTime\":\"11:28 AM\"}]},{\"@index\":\"23\",\"stop\":[{\"@station\":\"RICH\",\"@load\":\"0\",\"@bikeflag\":\"1\",\"@origTime\":\"10:27 AM\"},{\"@station\":\"DELN\",\"@load\":\"0\",\"@bikeflag\":\"1\",\"@origTime\":\"10:32 AM\"},{\"@station\":\"PLZA\",\"@load\":\"0\",\"@bikeflag\":\"1\",\"@origTime\":\"10:35 AM\"},{\"@station\":\"NBRK\",\"@load\":\"0\",\"@bikeflag\":\"1\",\"@origTime\":\"10:38 AM\"},{\"@station\":\"DBRK\",\"@load\":\"0\",\"@bikeflag\":\"1\",\"@origTime\":\"10:40 AM\"},{\"@station\":\"ASHB\",\"@load\":\"0\",\"@bikeflag\":\"1\",\"@origTime\":\"10:43 AM\"},{\"@station\":\"MCAR\",\"@load\":\"0\",\"@bikeflag\":\"1\",\"@origTime\":\"10:46 AM\"},{\"@station\":\"19TH\",\"@load\":\"0\",\"@bikeflag\":\"1\",\"@origTime\":\"10:50 AM\"},{\"@station\":\"12TH\",\"@load\":\"0\",\"@bikeflag\":\"1\",\"@origTime\":\"10:52 AM\"},{\"@station\":\"WOAK\",\"@load\":\"0\",\"@bikeflag\":\"1\",\"@origTime\":\"10:56 AM\"},{\"@station\":\"EMBR\",\"@load\":\"0\",\"@bikeflag\":\"1\",\"@origTime\":\"11:03 AM\"},{\"@station\":\"MONT\",\"@load\":\"0\",\"@bikeflag\":\"1\",\"@origTime\":\"11:05 AM\"},{\"@station\":\"POWL\",\"@load\":\"0\",\"@bikeflag\":\"1\",\"@origTime\":\"11:07 AM\"},{\"@station\":\"CIVC\",\"@load\":\"0\",\"@bikeflag\":\"1\",\"@origTime\":\"11:08 AM\"},{\"@station\":\"16TH\",\"@load\":\"0\",\"@bikeflag\":\"1\",\"@origTime\":\"11:10 AM\"},{\"@station\":\"24TH\",\"@load\":\"0\",\"@bikeflag\":\"1\",\"@origTime\":\"11:12 AM\"},{\"@station\":\"GLEN\",\"@load\":\"0\",\"@bikeflag\":\"1\",\"@origTime\":\"11:15 AM\"},{\"@station\":\"BALB\",\"@load\":\"0\",\"@bikeflag\":\"1\",\"@origTime\":\"11:18 AM\"},{\"@station\":\"DALY\",\"@load\":\"0\",\"@bikeflag\":\"1\",\"@origTime\":\"11:22 AM\"},{\"@station\":\"COLM\",\"@load\":\"0\",\"@bikeflag\":\"1\",\"@origTime\":\"11:26 AM\"},{\"@station\":\"SSAN\",\"@load\":\"0\",\"@bikeflag\":\"1\",\"@origTime\":\"11:29 AM\"},{\"@station\":\"SBRN\",\"@load\":\"0\",\"@bikeflag\":\"1\",\"@origTime\":\"11:32 AM\"},{\"@station\":\"MLBR\",\"@load\":\"0\",\"@bikeflag\":\"1\",\"@origTime\":\"11:39 AM\"},{\"@station\":\"SFIA\",\"@load\":\"0\",\"@bikeflag\":\"1\",\"@origTime\":\"11:43 AM\"}]},{\"@index\":\"24\",\"stop\":[{\"@station\":\"RICH\",\"@load\":\"0\",\"@bikeflag\":\"1\",\"@origTime\":\"10:42 AM\"},{\"@station\":\"DELN\",\"@load\":\"0\",\"@bikeflag\":\"1\",\"@origTime\":\"10:47 AM\"},{\"@station\":\"PLZA\",\"@load\":\"0\",\"@bikeflag\":\"1\",\"@origTime\":\"10:50 AM\"},{\"@station\":\"NBRK\",\"@load\":\"0\",\"@bikeflag\":\"1\",\"@origTime\":\"10:53 AM\"},{\"@station\":\"DBRK\",\"@load\":\"0\",\"@bikeflag\":\"1\",\"@origTime\":\"10:55 AM\"},{\"@station\":\"ASHB\",\"@load\":\"0\",\"@bikeflag\":\"1\",\"@origTime\":\"10:58 AM\"},{\"@station\":\"MCAR\",\"@load\":\"0\",\"@bikeflag\":\"1\",\"@origTime\":\"11:01 AM\"},{\"@station\":\"19TH\",\"@load\":\"0\",\"@bikeflag\":\"1\",\"@origTime\":\"11:05 AM\"},{\"@station\":\"12TH\",\"@load\":\"0\",\"@bikeflag\":\"1\",\"@origTime\":\"11:07 AM\"},{\"@station\":\"WOAK\",\"@load\":\"0\",\"@bikeflag\":\"1\",\"@origTime\":\"11:11 AM\"},{\"@station\":\"EMBR\",\"@load\":\"0\",\"@bikeflag\":\"1\",\"@origTime\":\"11:18 AM\"},{\"@station\":\"MONT\",\"@load\":\"0\",\"@bikeflag\":\"1\",\"@origTime\":\"11:20 AM\"},{\"@station\":\"POWL\",\"@load\":\"0\",\"@bikeflag\":\"1\",\"@origTime\":\"11:22 AM\"},{\"@station\":\"CIVC\",\"@load\":\"0\",\"@bikeflag\":\"1\",\"@origTime\":\"11:23 AM\"},{\"@station\":\"16TH\",\"@load\":\"0\",\"@bikeflag\":\"1\",\"@origTime\":\"11:25 AM\"},{\"@station\":\"24TH\",\"@load\":\"0\",\"@bikeflag\":\"1\",\"@origTime\":\"11:27 AM\"},{\"@station\":\"GLEN\",\"@load\":\"0\",\"@bikeflag\":\"1\",\"@origTime\":\"11:30 AM\"},{\"@station\":\"BALB\",\"@load\":\"0\",\"@bikeflag\":\"1\",\"@origTime\":\"11:33 AM\"},{\"@station\":\"DALY\",\"@load\":\"0\",\"@bikeflag\":\"1\",\"@origTime\":\"11:37 AM\"},{\"@station\":\"COLM\",\"@load\":\"0\",\"@bikeflag\":\"1\",\"@origTime\":\"11:41 AM\"},{\"@station\":\"SSAN\",\"@load\":\"0\",\"@bikeflag\":\"1\",\"@origTime\":\"11:44 AM\"},{\"@station\":\"SBRN\",\"@load\":\"0\",\"@bikeflag\":\"1\",\"@origTime\":\"11:47 AM\"},{\"@station\":\"MLBR\",\"@load\":\"0\",\"@bikeflag\":\"1\",\"@origTime\":\"11:54 AM\"},{\"@station\":\"SFIA\",\"@load\":\"0\",\"@bikeflag\":\"1\",\"@origTime\":\"11:58 AM\"}]},{\"@index\":\"25\",\"stop\":[{\"@station\":\"RICH\",\"@load\":\"0\",\"@bikeflag\":\"1\",\"@origTime\":\"10:57 AM\"},{\"@station\":\"DELN\",\"@load\":\"0\",\"@bikeflag\":\"1\",\"@origTime\":\"11:02 AM\"},{\"@station\":\"PLZA\",\"@load\":\"0\",\"@bikeflag\":\"1\",\"@origTime\":\"11:05 AM\"},{\"@station\":\"NBRK\",\"@load\":\"0\",\"@bikeflag\":\"1\",\"@origTime\":\"11:08 AM\"},{\"@station\":\"DBRK\",\"@load\":\"0\",\"@bikeflag\":\"1\",\"@origTime\":\"11:10 AM\"},{\"@station\":\"ASHB\",\"@load\":\"0\",\"@bikeflag\":\"1\",\"@origTime\":\"11:13 AM\"},{\"@station\":\"MCAR\",\"@load\":\"0\",\"@bikeflag\":\"1\",\"@origTime\":\"11:16 AM\"},{\"@station\":\"19TH\",\"@load\":\"0\",\"@bikeflag\":\"1\",\"@origTime\":\"11:20 AM\"},{\"@station\":\"12TH\",\"@load\":\"0\",\"@bikeflag\":\"1\",\"@origTime\":\"11:22 AM\"},{\"@station\":\"WOAK\",\"@load\":\"0\",\"@bikeflag\":\"1\",\"@origTime\":\"11:26 AM\"},{\"@station\":\"EMBR\",\"@load\":\"0\",\"@bikeflag\":\"1\",\"@origTime\":\"11:33 AM\"},{\"@station\":\"MONT\",\"@load\":\"0\",\"@bikeflag\":\"1\",\"@origTime\":\"11:35 AM\"},{\"@station\":\"POWL\",\"@load\":\"0\",\"@bikeflag\":\"1\",\"@origTime\":\"11:37 AM\"},{\"@station\":\"CIVC\",\"@load\":\"0\",\"@bikeflag\":\"1\",\"@origTime\":\"11:38 AM\"},{\"@station\":\"16TH\",\"@load\":\"0\",\"@bikeflag\":\"1\",\"@origTime\":\"11:40 AM\"},{\"@station\":\"24TH\",\"@load\":\"0\",\"@bikeflag\":\"1\",\"@origTime\":\"11:42 AM\"},{\"@station\":\"GLEN\",\"@load\":\"0\",\"@bikeflag\":\"1\",\"@origTime\":\"11:45 AM\"},{\"@station\":\"BALB\",\"@load\":\"0\",\"@bikeflag\":\"1\",\"@origTime\":\"11:48 AM\"},{\"@station\":\"DALY\",\"@load\":\"0\",\"@bikeflag\":\"1\",\"@origTime\":\"11:52 AM\"},{\"@station\":\"COLM\",\"@load\":\"0\",\"@bikeflag\":\"1\",\"@origTime\":\"11:56 AM\"},{\"@station\":\"SSAN\",\"@load\":\"0\",\"@bikeflag\":\"1\",\"@origTime\":\"11:59 AM\"},{\"@station\":\"SBRN\",\"@load\":\"0\",\"@bikeflag\":\"1\",\"@origTime\":\"12:02 PM\"},{\"@station\":\"MLBR\",\"@load\":\"0\",\"@bikeflag\":\"1\",\"@origTime\":\"12:09 PM\"},{\"@station\":\"SFIA\",\"@load\":\"0\",\"@bikeflag\":\"1\",\"@origTime\":\"12:13 PM\"}]},{\"@index\":\"26\",\"stop\":[{\"@station\":\"RICH\",\"@load\":\"0\",\"@bikeflag\":\"1\",\"@origTime\":\"11:12 AM\"},{\"@station\":\"DELN\",\"@load\":\"0\",\"@bikeflag\":\"1\",\"@origTime\":\"11:17 AM\"},{\"@station\":\"PLZA\",\"@load\":\"0\",\"@bikeflag\":\"1\",\"@origTime\":\"11:20 AM\"},{\"@station\":\"NBRK\",\"@load\":\"0\",\"@bikeflag\":\"1\",\"@origTime\":\"11:23 AM\"},{\"@station\":\"DBRK\",\"@load\":\"0\",\"@bikeflag\":\"1\",\"@origTime\":\"11:25 AM\"},{\"@station\":\"ASHB\",\"@load\":\"0\",\"@bikeflag\":\"1\",\"@origTime\":\"11:28 AM\"},{\"@station\":\"MCAR\",\"@load\":\"0\",\"@bikeflag\":\"1\",\"@origTime\":\"11:31 AM\"},{\"@station\":\"19TH\",\"@load\":\"0\",\"@bikeflag\":\"1\",\"@origTime\":\"11:35 AM\"},{\"@station\":\"12TH\",\"@load\":\"0\",\"@bikeflag\":\"1\",\"@origTime\":\"11:37 AM\"},{\"@station\":\"WOAK\",\"@load\":\"0\",\"@bikeflag\":\"1\",\"@origTime\":\"11:41 AM\"},{\"@station\":\"EMBR\",\"@load\":\"0\",\"@bikeflag\":\"1\",\"@origTime\":\"11:48 AM\"},{\"@station\":\"MONT\",\"@load\":\"0\",\"@bikeflag\":\"1\",\"@origTime\":\"11:50 AM\"},{\"@station\":\"POWL\",\"@load\":\"0\",\"@bikeflag\":\"1\",\"@origTime\":\"11:52 AM\"},{\"@station\":\"CIVC\",\"@load\":\"0\",\"@bikeflag\":\"1\",\"@origTime\":\"11:53 AM\"},{\"@station\":\"16TH\",\"@load\":\"0\",\"@bikeflag\":\"1\",\"@origTime\":\"11:55 AM\"},{\"@station\":\"24TH\",\"@load\":\"0\",\"@bikeflag\":\"1\",\"@origTime\":\"11:57 AM\"},{\"@station\":\"GLEN\",\"@load\":\"0\",\"@bikeflag\":\"1\",\"@origTime\":\"12:00 PM\"},{\"@station\":\"BALB\",\"@load\":\"0\",\"@bikeflag\":\"1\",\"@origTime\":\"12:03 PM\"},{\"@station\":\"DALY\",\"@load\":\"0\",\"@bikeflag\":\"1\",\"@origTime\":\"12:07 PM\"},{\"@station\":\"COLM\",\"@load\":\"0\",\"@bikeflag\":\"1\",\"@origTime\":\"12:11 PM\"},{\"@station\":\"SSAN\",\"@load\":\"0\",\"@bikeflag\":\"1\",\"@origTime\":\"12:14 PM\"},{\"@station\":\"SBRN\",\"@load\":\"0\",\"@bikeflag\":\"1\",\"@origTime\":\"12:17 PM\"},{\"@station\":\"MLBR\",\"@load\":\"0\",\"@bikeflag\":\"1\",\"@origTime\":\"12:24 PM\"},{\"@station\":\"SFIA\",\"@load\":\"0\",\"@bikeflag\":\"1\",\"@origTime\":\"12:28 PM\"}]},{\"@index\":\"27\",\"stop\":[{\"@station\":\"RICH\",\"@load\":\"0\",\"@bikeflag\":\"1\",\"@origTime\":\"11:27 AM\"},{\"@station\":\"DELN\",\"@load\":\"0\",\"@bikeflag\":\"1\",\"@origTime\":\"11:32 AM\"},{\"@station\":\"PLZA\",\"@load\":\"0\",\"@bikeflag\":\"1\",\"@origTime\":\"11:35 AM\"},{\"@station\":\"NBRK\",\"@load\":\"0\",\"@bikeflag\":\"1\",\"@origTime\":\"11:38 AM\"},{\"@station\":\"DBRK\",\"@load\":\"0\",\"@bikeflag\":\"1\",\"@origTime\":\"11:40 AM\"},{\"@station\":\"ASHB\",\"@load\":\"0\",\"@bikeflag\":\"1\",\"@origTime\":\"11:43 AM\"},{\"@station\":\"MCAR\",\"@load\":\"0\",\"@bikeflag\":\"1\",\"@origTime\":\"11:46 AM\"},{\"@station\":\"19TH\",\"@load\":\"0\",\"@bikeflag\":\"1\",\"@origTime\":\"11:50 AM\"},{\"@station\":\"12TH\",\"@load\":\"0\",\"@bikeflag\":\"1\",\"@origTime\":\"11:52 AM\"},{\"@station\":\"WOAK\",\"@load\":\"0\",\"@bikeflag\":\"1\",\"@origTime\":\"11:56 AM\"},{\"@station\":\"EMBR\",\"@load\":\"0\",\"@bikeflag\":\"1\",\"@origTime\":\"12:03 PM\"},{\"@station\":\"MONT\",\"@load\":\"0\",\"@bikeflag\":\"1\",\"@origTime\":\"12:05 PM\"},{\"@station\":\"POWL\",\"@load\":\"0\",\"@bikeflag\":\"1\",\"@origTime\":\"12:07 PM\"},{\"@station\":\"CIVC\",\"@load\":\"0\",\"@bikeflag\":\"1\",\"@origTime\":\"12:08 PM\"},{\"@station\":\"16TH\",\"@load\":\"0\",\"@bikeflag\":\"1\",\"@origTime\":\"12:10 PM\"},{\"@station\":\"24TH\",\"@load\":\"0\",\"@bikeflag\":\"1\",\"@origTime\":\"12:12 PM\"},{\"@station\":\"GLEN\",\"@load\":\"0\",\"@bikeflag\":\"1\",\"@origTime\":\"12:15 PM\"},{\"@station\":\"BALB\",\"@load\":\"0\",\"@bikeflag\":\"1\",\"@origTime\":\"12:18 PM\"},{\"@station\":\"DALY\",\"@load\":\"0\",\"@bikeflag\":\"1\",\"@origTime\":\"12:22 PM\"},{\"@station\":\"COLM\",\"@load\":\"0\",\"@bikeflag\":\"1\",\"@origTime\":\"12:26 PM\"},{\"@station\":\"SSAN\",\"@load\":\"0\",\"@bikeflag\":\"1\",\"@origTime\":\"12:29 PM\"},{\"@station\":\"SBRN\",\"@load\":\"0\",\"@bikeflag\":\"1\",\"@origTime\":\"12:32 PM\"},{\"@station\":\"MLBR\",\"@load\":\"0\",\"@bikeflag\":\"1\",\"@origTime\":\"12:39 PM\"},{\"@station\":\"SFIA\",\"@load\":\"0\",\"@bikeflag\":\"1\",\"@origTime\":\"12:43 PM\"}]},{\"@index\":\"28\",\"stop\":[{\"@station\":\"RICH\",\"@load\":\"0\",\"@bikeflag\":\"1\",\"@origTime\":\"11:42 AM\"},{\"@station\":\"DELN\",\"@load\":\"0\",\"@bikeflag\":\"1\",\"@origTime\":\"11:47 AM\"},{\"@station\":\"PLZA\",\"@load\":\"0\",\"@bikeflag\":\"1\",\"@origTime\":\"11:50 AM\"},{\"@station\":\"NBRK\",\"@load\":\"0\",\"@bikeflag\":\"1\",\"@origTime\":\"11:53 AM\"},{\"@station\":\"DBRK\",\"@load\":\"0\",\"@bikeflag\":\"1\",\"@origTime\":\"11:55 AM\"},{\"@station\":\"ASHB\",\"@load\":\"0\",\"@bikeflag\":\"1\",\"@origTime\":\"11:58 AM\"},{\"@station\":\"MCAR\",\"@load\":\"0\",\"@bikeflag\":\"1\",\"@origTime\":\"12:01 PM\"},{\"@station\":\"19TH\",\"@load\":\"0\",\"@bikeflag\":\"1\",\"@origTime\":\"12:05 PM\"},{\"@station\":\"12TH\",\"@load\":\"0\",\"@bikeflag\":\"1\",\"@origTime\":\"12:07 PM\"},{\"@station\":\"WOAK\",\"@load\":\"0\",\"@bikeflag\":\"1\",\"@origTime\":\"12:11 PM\"},{\"@station\":\"EMBR\",\"@load\":\"0\",\"@bikeflag\":\"1\",\"@origTime\":\"12:18 PM\"},{\"@station\":\"MONT\",\"@load\":\"0\",\"@bikeflag\":\"1\",\"@origTime\":\"12:20 PM\"},{\"@station\":\"POWL\",\"@load\":\"0\",\"@bikeflag\":\"1\",\"@origTime\":\"12:22 PM\"},{\"@station\":\"CIVC\",\"@load\":\"0\",\"@bikeflag\":\"1\",\"@origTime\":\"12:23 PM\"},{\"@station\":\"16TH\",\"@load\":\"0\",\"@bikeflag\":\"1\",\"@origTime\":\"12:25 PM\"},{\"@station\":\"24TH\",\"@load\":\"0\",\"@bikeflag\":\"1\",\"@origTime\":\"12:27 PM\"},{\"@station\":\"GLEN\",\"@load\":\"0\",\"@bikeflag\":\"1\",\"@origTime\":\"12:30 PM\"},{\"@station\":\"BALB\",\"@load\":\"0\",\"@bikeflag\":\"1\",\"@origTime\":\"12:33 PM\"},{\"@station\":\"DALY\",\"@load\":\"0\",\"@bikeflag\":\"1\",\"@origTime\":\"12:37 PM\"},{\"@station\":\"COLM\",\"@load\":\"0\",\"@bikeflag\":\"1\",\"@origTime\":\"12:41 PM\"},{\"@station\":\"SSAN\",\"@load\":\"0\",\"@bikeflag\":\"1\",\"@origTime\":\"12:44 PM\"},{\"@station\":\"SBRN\",\"@load\":\"0\",\"@bikeflag\":\"1\",\"@origTime\":\"12:47 PM\"},{\"@station\":\"MLBR\",\"@load\":\"0\",\"@bikeflag\":\"1\",\"@origTime\":\"12:54 PM\"},{\"@station\":\"SFIA\",\"@load\":\"0\",\"@bikeflag\":\"1\",\"@origTime\":\"12:58 PM\"}]},{\"@index\":\"29\",\"stop\":[{\"@station\":\"RICH\",\"@load\":\"0\",\"@bikeflag\":\"1\",\"@origTime\":\"11:57 AM\"},{\"@station\":\"DELN\",\"@load\":\"0\",\"@bikeflag\":\"1\",\"@origTime\":\"12:02 PM\"},{\"@station\":\"PLZA\",\"@load\":\"0\",\"@bikeflag\":\"1\",\"@origTime\":\"12:05 PM\"},{\"@station\":\"NBRK\",\"@load\":\"0\",\"@bikeflag\":\"1\",\"@origTime\":\"12:08 PM\"},{\"@station\":\"DBRK\",\"@load\":\"0\",\"@bikeflag\":\"1\",\"@origTime\":\"12:10 PM\"},{\"@station\":\"ASHB\",\"@load\":\"0\",\"@bikeflag\":\"1\",\"@origTime\":\"12:13 PM\"},{\"@station\":\"MCAR\",\"@load\":\"0\",\"@bikeflag\":\"1\",\"@origTime\":\"12:16 PM\"},{\"@station\":\"19TH\",\"@load\":\"0\",\"@bikeflag\":\"1\",\"@origTime\":\"12:20 PM\"},{\"@station\":\"12TH\",\"@load\":\"0\",\"@bikeflag\":\"1\",\"@origTime\":\"12:22 PM\"},{\"@station\":\"WOAK\",\"@load\":\"0\",\"@bikeflag\":\"1\",\"@origTime\":\"12:26 PM\"},{\"@station\":\"EMBR\",\"@load\":\"0\",\"@bikeflag\":\"1\",\"@origTime\":\"12:33 PM\"},{\"@station\":\"MONT\",\"@load\":\"0\",\"@bikeflag\":\"1\",\"@origTime\":\"12:35 PM\"},{\"@station\":\"POWL\",\"@load\":\"0\",\"@bikeflag\":\"1\",\"@origTime\":\"12:37 PM\"},{\"@station\":\"CIVC\",\"@load\":\"0\",\"@bikeflag\":\"1\",\"@origTime\":\"12:38 PM\"},{\"@station\":\"16TH\",\"@load\":\"0\",\"@bikeflag\":\"1\",\"@origTime\":\"12:40 PM\"},{\"@station\":\"24TH\",\"@load\":\"0\",\"@bikeflag\":\"1\",\"@origTime\":\"12:42 PM\"},{\"@station\":\"GLEN\",\"@load\":\"0\",\"@bikeflag\":\"1\",\"@origTime\":\"12:45 PM\"},{\"@station\":\"BALB\",\"@load\":\"0\",\"@bikeflag\":\"1\",\"@origTime\":\"12:48 PM\"},{\"@station\":\"DALY\",\"@load\":\"0\",\"@bikeflag\":\"1\",\"@origTime\":\"12:52 PM\"},{\"@station\":\"COLM\",\"@load\":\"0\",\"@bikeflag\":\"1\",\"@origTime\":\"12:56 PM\"},{\"@station\":\"SSAN\",\"@load\":\"0\",\"@bikeflag\":\"1\",\"@origTime\":\"12:59 PM\"},{\"@station\":\"SBRN\",\"@load\":\"0\",\"@bikeflag\":\"1\",\"@origTime\":\"01:02 PM\"},{\"@station\":\"MLBR\",\"@load\":\"0\",\"@bikeflag\":\"1\",\"@origTime\":\"01:09 PM\"},{\"@station\":\"SFIA\",\"@load\":\"0\",\"@bikeflag\":\"1\",\"@origTime\":\"01:13 PM\"}]},{\"@index\":\"30\",\"stop\":[{\"@station\":\"RICH\",\"@load\":\"0\",\"@bikeflag\":\"1\",\"@origTime\":\"12:12 PM\"},{\"@station\":\"DELN\",\"@load\":\"0\",\"@bikeflag\":\"1\",\"@origTime\":\"12:17 PM\"},{\"@station\":\"PLZA\",\"@load\":\"0\",\"@bikeflag\":\"1\",\"@origTime\":\"12:20 PM\"},{\"@station\":\"NBRK\",\"@load\":\"0\",\"@bikeflag\":\"1\",\"@origTime\":\"12:23 PM\"},{\"@station\":\"DBRK\",\"@load\":\"0\",\"@bikeflag\":\"1\",\"@origTime\":\"12:25 PM\"},{\"@station\":\"ASHB\",\"@load\":\"0\",\"@bikeflag\":\"1\",\"@origTime\":\"12:28 PM\"},{\"@station\":\"MCAR\",\"@load\":\"0\",\"@bikeflag\":\"1\",\"@origTime\":\"12:31 PM\"},{\"@station\":\"19TH\",\"@load\":\"0\",\"@bikeflag\":\"1\",\"@origTime\":\"12:35 PM\"},{\"@station\":\"12TH\",\"@load\":\"0\",\"@bikeflag\":\"1\",\"@origTime\":\"12:37 PM\"},{\"@station\":\"WOAK\",\"@load\":\"0\",\"@bikeflag\":\"1\",\"@origTime\":\"12:41 PM\"},{\"@station\":\"EMBR\",\"@load\":\"0\",\"@bikeflag\":\"1\",\"@origTime\":\"12:48 PM\"},{\"@station\":\"MONT\",\"@load\":\"0\",\"@bikeflag\":\"1\",\"@origTime\":\"12:50 PM\"},{\"@station\":\"POWL\",\"@load\":\"0\",\"@bikeflag\":\"1\",\"@origTime\":\"12:52 PM\"},{\"@station\":\"CIVC\",\"@load\":\"0\",\"@bikeflag\":\"1\",\"@origTime\":\"12:53 PM\"},{\"@station\":\"16TH\",\"@load\":\"0\",\"@bikeflag\":\"1\",\"@origTime\":\"12:55 PM\"},{\"@station\":\"24TH\",\"@load\":\"0\",\"@bikeflag\":\"1\",\"@origTime\":\"12:57 PM\"},{\"@station\":\"GLEN\",\"@load\":\"0\",\"@bikeflag\":\"1\",\"@origTime\":\"01:00 PM\"},{\"@station\":\"BALB\",\"@load\":\"0\",\"@bikeflag\":\"1\",\"@origTime\":\"01:03 PM\"},{\"@station\":\"DALY\",\"@load\":\"0\",\"@bikeflag\":\"1\",\"@origTime\":\"01:07 PM\"},{\"@station\":\"COLM\",\"@load\":\"0\",\"@bikeflag\":\"1\",\"@origTime\":\"01:11 PM\"},{\"@station\":\"SSAN\",\"@load\":\"0\",\"@bikeflag\":\"1\",\"@origTime\":\"01:14 PM\"},{\"@station\":\"SBRN\",\"@load\":\"0\",\"@bikeflag\":\"1\",\"@origTime\":\"01:17 PM\"},{\"@station\":\"MLBR\",\"@load\":\"0\",\"@bikeflag\":\"1\",\"@origTime\":\"01:24 PM\"},{\"@station\":\"SFIA\",\"@load\":\"0\",\"@bikeflag\":\"1\",\"@origTime\":\"01:28 PM\"}]},{\"@index\":\"31\",\"stop\":[{\"@station\":\"RICH\",\"@load\":\"0\",\"@bikeflag\":\"1\",\"@origTime\":\"12:27 PM\"},{\"@station\":\"DELN\",\"@load\":\"0\",\"@bikeflag\":\"1\",\"@origTime\":\"12:32 PM\"},{\"@station\":\"PLZA\",\"@load\":\"0\",\"@bikeflag\":\"1\",\"@origTime\":\"12:35 PM\"},{\"@station\":\"NBRK\",\"@load\":\"0\",\"@bikeflag\":\"1\",\"@origTime\":\"12:38 PM\"},{\"@station\":\"DBRK\",\"@load\":\"0\",\"@bikeflag\":\"1\",\"@origTime\":\"12:40 PM\"},{\"@station\":\"ASHB\",\"@load\":\"0\",\"@bikeflag\":\"1\",\"@origTime\":\"12:43 PM\"},{\"@station\":\"MCAR\",\"@load\":\"0\",\"@bikeflag\":\"1\",\"@origTime\":\"12:46 PM\"},{\"@station\":\"19TH\",\"@load\":\"0\",\"@bikeflag\":\"1\",\"@origTime\":\"12:50 PM\"},{\"@station\":\"12TH\",\"@load\":\"0\",\"@bikeflag\":\"1\",\"@origTime\":\"12:52 PM\"},{\"@station\":\"WOAK\",\"@load\":\"0\",\"@bikeflag\":\"1\",\"@origTime\":\"12:56 PM\"},{\"@station\":\"EMBR\",\"@load\":\"0\",\"@bikeflag\":\"1\",\"@origTime\":\"01:03 PM\"},{\"@station\":\"MONT\",\"@load\":\"0\",\"@bikeflag\":\"1\",\"@origTime\":\"01:05 PM\"},{\"@station\":\"POWL\",\"@load\":\"0\",\"@bikeflag\":\"1\",\"@origTime\":\"01:07 PM\"},{\"@station\":\"CIVC\",\"@load\":\"0\",\"@bikeflag\":\"1\",\"@origTime\":\"01:08 PM\"},{\"@station\":\"16TH\",\"@load\":\"0\",\"@bikeflag\":\"1\",\"@origTime\":\"01:10 PM\"},{\"@station\":\"24TH\",\"@load\":\"0\",\"@bikeflag\":\"1\",\"@origTime\":\"01:12 PM\"},{\"@station\":\"GLEN\",\"@load\":\"0\",\"@bikeflag\":\"1\",\"@origTime\":\"01:15 PM\"},{\"@station\":\"BALB\",\"@load\":\"0\",\"@bikeflag\":\"1\",\"@origTime\":\"01:18 PM\"},{\"@station\":\"DALY\",\"@load\":\"0\",\"@bikeflag\":\"1\",\"@origTime\":\"01:22 PM\"},{\"@station\":\"COLM\",\"@load\":\"0\",\"@bikeflag\":\"1\",\"@origTime\":\"01:26 PM\"},{\"@station\":\"SSAN\",\"@load\":\"0\",\"@bikeflag\":\"1\",\"@origTime\":\"01:29 PM\"},{\"@station\":\"SBRN\",\"@load\":\"0\",\"@bikeflag\":\"1\",\"@origTime\":\"01:32 PM\"},{\"@station\":\"MLBR\",\"@load\":\"0\",\"@bikeflag\":\"1\",\"@origTime\":\"01:39 PM\"},{\"@station\":\"SFIA\",\"@load\":\"0\",\"@bikeflag\":\"1\",\"@origTime\":\"01:43 PM\"}]},{\"@index\":\"32\",\"stop\":[{\"@station\":\"RICH\",\"@load\":\"0\",\"@bikeflag\":\"1\",\"@origTime\":\"12:42 PM\"},{\"@station\":\"DELN\",\"@load\":\"0\",\"@bikeflag\":\"1\",\"@origTime\":\"12:47 PM\"},{\"@station\":\"PLZA\",\"@load\":\"0\",\"@bikeflag\":\"1\",\"@origTime\":\"12:50 PM\"},{\"@station\":\"NBRK\",\"@load\":\"0\",\"@bikeflag\":\"1\",\"@origTime\":\"12:53 PM\"},{\"@station\":\"DBRK\",\"@load\":\"0\",\"@bikeflag\":\"1\",\"@origTime\":\"12:55 PM\"},{\"@station\":\"ASHB\",\"@load\":\"0\",\"@bikeflag\":\"1\",\"@origTime\":\"12:58 PM\"},{\"@station\":\"MCAR\",\"@load\":\"0\",\"@bikeflag\":\"1\",\"@origTime\":\"01:01 PM\"},{\"@station\":\"19TH\",\"@load\":\"0\",\"@bikeflag\":\"1\",\"@origTime\":\"01:05 PM\"},{\"@station\":\"12TH\",\"@load\":\"0\",\"@bikeflag\":\"1\",\"@origTime\":\"01:07 PM\"},{\"@station\":\"WOAK\",\"@load\":\"0\",\"@bikeflag\":\"1\",\"@origTime\":\"01:11 PM\"},{\"@station\":\"EMBR\",\"@load\":\"0\",\"@bikeflag\":\"1\",\"@origTime\":\"01:18 PM\"},{\"@station\":\"MONT\",\"@load\":\"0\",\"@bikeflag\":\"1\",\"@origTime\":\"01:20 PM\"},{\"@station\":\"POWL\",\"@load\":\"0\",\"@bikeflag\":\"1\",\"@origTime\":\"01:22 PM\"},{\"@station\":\"CIVC\",\"@load\":\"0\",\"@bikeflag\":\"1\",\"@origTime\":\"01:23 PM\"},{\"@station\":\"16TH\",\"@load\":\"0\",\"@bikeflag\":\"1\",\"@origTime\":\"01:25 PM\"},{\"@station\":\"24TH\",\"@load\":\"0\",\"@bikeflag\":\"1\",\"@origTime\":\"01:27 PM\"},{\"@station\":\"GLEN\",\"@load\":\"0\",\"@bikeflag\":\"1\",\"@origTime\":\"01:30 PM\"},{\"@station\":\"BALB\",\"@load\":\"0\",\"@bikeflag\":\"1\",\"@origTime\":\"01:33 PM\"},{\"@station\":\"DALY\",\"@load\":\"0\",\"@bikeflag\":\"1\",\"@origTime\":\"01:37 PM\"},{\"@station\":\"COLM\",\"@load\":\"0\",\"@bikeflag\":\"1\",\"@origTime\":\"01:41 PM\"},{\"@station\":\"SSAN\",\"@load\":\"0\",\"@bikeflag\":\"1\",\"@origTime\":\"01:44 PM\"},{\"@station\":\"SBRN\",\"@load\":\"0\",\"@bikeflag\":\"1\",\"@origTime\":\"01:47 PM\"},{\"@station\":\"MLBR\",\"@load\":\"0\",\"@bikeflag\":\"1\",\"@origTime\":\"01:54 PM\"},{\"@station\":\"SFIA\",\"@load\":\"0\",\"@bikeflag\":\"1\",\"@origTime\":\"01:58 PM\"}]},{\"@index\":\"33\",\"stop\":[{\"@station\":\"RICH\",\"@load\":\"0\",\"@bikeflag\":\"1\",\"@origTime\":\"12:57 PM\"},{\"@station\":\"DELN\",\"@load\":\"0\",\"@bikeflag\":\"1\",\"@origTime\":\"01:02 PM\"},{\"@station\":\"PLZA\",\"@load\":\"0\",\"@bikeflag\":\"1\",\"@origTime\":\"01:05 PM\"},{\"@station\":\"NBRK\",\"@load\":\"0\",\"@bikeflag\":\"1\",\"@origTime\":\"01:08 PM\"},{\"@station\":\"DBRK\",\"@load\":\"0\",\"@bikeflag\":\"1\",\"@origTime\":\"01:10 PM\"},{\"@station\":\"ASHB\",\"@load\":\"0\",\"@bikeflag\":\"1\",\"@origTime\":\"01:13 PM\"},{\"@station\":\"MCAR\",\"@load\":\"0\",\"@bikeflag\":\"1\",\"@origTime\":\"01:16 PM\"},{\"@station\":\"19TH\",\"@load\":\"0\",\"@bikeflag\":\"1\",\"@origTime\":\"01:20 PM\"},{\"@station\":\"12TH\",\"@load\":\"0\",\"@bikeflag\":\"1\",\"@origTime\":\"01:22 PM\"},{\"@station\":\"WOAK\",\"@load\":\"0\",\"@bikeflag\":\"1\",\"@origTime\":\"01:26 PM\"},{\"@station\":\"EMBR\",\"@load\":\"0\",\"@bikeflag\":\"1\",\"@origTime\":\"01:33 PM\"},{\"@station\":\"MONT\",\"@load\":\"0\",\"@bikeflag\":\"1\",\"@origTime\":\"01:35 PM\"},{\"@station\":\"POWL\",\"@load\":\"0\",\"@bikeflag\":\"1\",\"@origTime\":\"01:37 PM\"},{\"@station\":\"CIVC\",\"@load\":\"0\",\"@bikeflag\":\"1\",\"@origTime\":\"01:38 PM\"},{\"@station\":\"16TH\",\"@load\":\"0\",\"@bikeflag\":\"1\",\"@origTime\":\"01:40 PM\"},{\"@station\":\"24TH\",\"@load\":\"0\",\"@bikeflag\":\"1\",\"@origTime\":\"01:42 PM\"},{\"@station\":\"GLEN\",\"@load\":\"0\",\"@bikeflag\":\"1\",\"@origTime\":\"01:45 PM\"},{\"@station\":\"BALB\",\"@load\":\"0\",\"@bikeflag\":\"1\",\"@origTime\":\"01:48 PM\"},{\"@station\":\"DALY\",\"@load\":\"0\",\"@bikeflag\":\"1\",\"@origTime\":\"01:52 PM\"},{\"@station\":\"COLM\",\"@load\":\"0\",\"@bikeflag\":\"1\",\"@origTime\":\"01:56 PM\"},{\"@station\":\"SSAN\",\"@load\":\"0\",\"@bikeflag\":\"1\",\"@origTime\":\"01:59 PM\"},{\"@station\":\"SBRN\",\"@load\":\"0\",\"@bikeflag\":\"1\",\"@origTime\":\"02:02 PM\"},{\"@station\":\"MLBR\",\"@load\":\"0\",\"@bikeflag\":\"1\",\"@origTime\":\"02:09 PM\"},{\"@station\":\"SFIA\",\"@load\":\"0\",\"@bikeflag\":\"1\",\"@origTime\":\"02:13 PM\"}]},{\"@index\":\"34\",\"stop\":[{\"@station\":\"RICH\",\"@load\":\"0\",\"@bikeflag\":\"1\",\"@origTime\":\"01:12 PM\"},{\"@station\":\"DELN\",\"@load\":\"0\",\"@bikeflag\":\"1\",\"@origTime\":\"01:17 PM\"},{\"@station\":\"PLZA\",\"@load\":\"0\",\"@bikeflag\":\"1\",\"@origTime\":\"01:20 PM\"},{\"@station\":\"NBRK\",\"@load\":\"0\",\"@bikeflag\":\"1\",\"@origTime\":\"01:23 PM\"},{\"@station\":\"DBRK\",\"@load\":\"0\",\"@bikeflag\":\"1\",\"@origTime\":\"01:25 PM\"},{\"@station\":\"ASHB\",\"@load\":\"0\",\"@bikeflag\":\"1\",\"@origTime\":\"01:28 PM\"},{\"@station\":\"MCAR\",\"@load\":\"0\",\"@bikeflag\":\"1\",\"@origTime\":\"01:31 PM\"},{\"@station\":\"19TH\",\"@load\":\"0\",\"@bikeflag\":\"1\",\"@origTime\":\"01:35 PM\"},{\"@station\":\"12TH\",\"@load\":\"0\",\"@bikeflag\":\"1\",\"@origTime\":\"01:37 PM\"},{\"@station\":\"WOAK\",\"@load\":\"0\",\"@bikeflag\":\"1\",\"@origTime\":\"01:41 PM\"},{\"@station\":\"EMBR\",\"@load\":\"0\",\"@bikeflag\":\"1\",\"@origTime\":\"01:48 PM\"},{\"@station\":\"MONT\",\"@load\":\"0\",\"@bikeflag\":\"1\",\"@origTime\":\"01:50 PM\"},{\"@station\":\"POWL\",\"@load\":\"0\",\"@bikeflag\":\"1\",\"@origTime\":\"01:52 PM\"},{\"@station\":\"CIVC\",\"@load\":\"0\",\"@bikeflag\":\"1\",\"@origTime\":\"01:53 PM\"},{\"@station\":\"16TH\",\"@load\":\"0\",\"@bikeflag\":\"1\",\"@origTime\":\"01:55 PM\"},{\"@station\":\"24TH\",\"@load\":\"0\",\"@bikeflag\":\"1\",\"@origTime\":\"01:57 PM\"},{\"@station\":\"GLEN\",\"@load\":\"0\",\"@bikeflag\":\"1\",\"@origTime\":\"02:00 PM\"},{\"@station\":\"BALB\",\"@load\":\"0\",\"@bikeflag\":\"1\",\"@origTime\":\"02:03 PM\"},{\"@station\":\"DALY\",\"@load\":\"0\",\"@bikeflag\":\"1\",\"@origTime\":\"02:07 PM\"},{\"@station\":\"COLM\",\"@load\":\"0\",\"@bikeflag\":\"1\",\"@origTime\":\"02:11 PM\"},{\"@station\":\"SSAN\",\"@load\":\"0\",\"@bikeflag\":\"1\",\"@origTime\":\"02:14 PM\"},{\"@station\":\"SBRN\",\"@load\":\"0\",\"@bikeflag\":\"1\",\"@origTime\":\"02:17 PM\"},{\"@station\":\"MLBR\",\"@load\":\"0\",\"@bikeflag\":\"1\",\"@origTime\":\"02:24 PM\"},{\"@station\":\"SFIA\",\"@load\":\"0\",\"@bikeflag\":\"1\",\"@origTime\":\"02:28 PM\"}]},{\"@index\":\"35\",\"stop\":[{\"@station\":\"RICH\",\"@load\":\"0\",\"@bikeflag\":\"1\",\"@origTime\":\"01:27 PM\"},{\"@station\":\"DELN\",\"@load\":\"0\",\"@bikeflag\":\"1\",\"@origTime\":\"01:32 PM\"},{\"@station\":\"PLZA\",\"@load\":\"0\",\"@bikeflag\":\"1\",\"@origTime\":\"01:35 PM\"},{\"@station\":\"NBRK\",\"@load\":\"0\",\"@bikeflag\":\"1\",\"@origTime\":\"01:38 PM\"},{\"@station\":\"DBRK\",\"@load\":\"0\",\"@bikeflag\":\"1\",\"@origTime\":\"01:40 PM\"},{\"@station\":\"ASHB\",\"@load\":\"0\",\"@bikeflag\":\"1\",\"@origTime\":\"01:43 PM\"},{\"@station\":\"MCAR\",\"@load\":\"0\",\"@bikeflag\":\"1\",\"@origTime\":\"01:46 PM\"},{\"@station\":\"19TH\",\"@load\":\"0\",\"@bikeflag\":\"1\",\"@origTime\":\"01:50 PM\"},{\"@station\":\"12TH\",\"@load\":\"0\",\"@bikeflag\":\"1\",\"@origTime\":\"01:52 PM\"},{\"@station\":\"WOAK\",\"@load\":\"0\",\"@bikeflag\":\"1\",\"@origTime\":\"01:56 PM\"},{\"@station\":\"EMBR\",\"@load\":\"0\",\"@bikeflag\":\"1\",\"@origTime\":\"02:03 PM\"},{\"@station\":\"MONT\",\"@load\":\"0\",\"@bikeflag\":\"1\",\"@origTime\":\"02:05 PM\"},{\"@station\":\"POWL\",\"@load\":\"0\",\"@bikeflag\":\"1\",\"@origTime\":\"02:07 PM\"},{\"@station\":\"CIVC\",\"@load\":\"0\",\"@bikeflag\":\"1\",\"@origTime\":\"02:08 PM\"},{\"@station\":\"16TH\",\"@load\":\"0\",\"@bikeflag\":\"1\",\"@origTime\":\"02:10 PM\"},{\"@station\":\"24TH\",\"@load\":\"0\",\"@bikeflag\":\"1\",\"@origTime\":\"02:12 PM\"},{\"@station\":\"GLEN\",\"@load\":\"0\",\"@bikeflag\":\"1\",\"@origTime\":\"02:15 PM\"},{\"@station\":\"BALB\",\"@load\":\"0\",\"@bikeflag\":\"1\",\"@origTime\":\"02:18 PM\"},{\"@station\":\"DALY\",\"@load\":\"0\",\"@bikeflag\":\"1\",\"@origTime\":\"02:22 PM\"},{\"@station\":\"COLM\",\"@load\":\"0\",\"@bikeflag\":\"1\",\"@origTime\":\"02:26 PM\"},{\"@station\":\"SSAN\",\"@load\":\"0\",\"@bikeflag\":\"1\",\"@origTime\":\"02:29 PM\"},{\"@station\":\"SBRN\",\"@load\":\"0\",\"@bikeflag\":\"1\",\"@origTime\":\"02:32 PM\"},{\"@station\":\"MLBR\",\"@load\":\"0\",\"@bikeflag\":\"1\",\"@origTime\":\"02:39 PM\"},{\"@station\":\"SFIA\",\"@load\":\"0\",\"@bikeflag\":\"1\",\"@origTime\":\"02:43 PM\"}]},{\"@index\":\"36\",\"stop\":[{\"@station\":\"RICH\",\"@load\":\"0\",\"@bikeflag\":\"1\",\"@origTime\":\"01:42 PM\"},{\"@station\":\"DELN\",\"@load\":\"0\",\"@bikeflag\":\"1\",\"@origTime\":\"01:47 PM\"},{\"@station\":\"PLZA\",\"@load\":\"0\",\"@bikeflag\":\"1\",\"@origTime\":\"01:50 PM\"},{\"@station\":\"NBRK\",\"@load\":\"0\",\"@bikeflag\":\"1\",\"@origTime\":\"01:53 PM\"},{\"@station\":\"DBRK\",\"@load\":\"0\",\"@bikeflag\":\"1\",\"@origTime\":\"01:55 PM\"},{\"@station\":\"ASHB\",\"@load\":\"0\",\"@bikeflag\":\"1\",\"@origTime\":\"01:58 PM\"},{\"@station\":\"MCAR\",\"@load\":\"0\",\"@bikeflag\":\"1\",\"@origTime\":\"02:01 PM\"},{\"@station\":\"19TH\",\"@load\":\"0\",\"@bikeflag\":\"1\",\"@origTime\":\"02:05 PM\"},{\"@station\":\"12TH\",\"@load\":\"0\",\"@bikeflag\":\"1\",\"@origTime\":\"02:07 PM\"},{\"@station\":\"WOAK\",\"@load\":\"0\",\"@bikeflag\":\"1\",\"@origTime\":\"02:11 PM\"},{\"@station\":\"EMBR\",\"@load\":\"0\",\"@bikeflag\":\"1\",\"@origTime\":\"02:18 PM\"},{\"@station\":\"MONT\",\"@load\":\"0\",\"@bikeflag\":\"1\",\"@origTime\":\"02:20 PM\"},{\"@station\":\"POWL\",\"@load\":\"0\",\"@bikeflag\":\"1\",\"@origTime\":\"02:22 PM\"},{\"@station\":\"CIVC\",\"@load\":\"0\",\"@bikeflag\":\"1\",\"@origTime\":\"02:23 PM\"},{\"@station\":\"16TH\",\"@load\":\"0\",\"@bikeflag\":\"1\",\"@origTime\":\"02:25 PM\"},{\"@station\":\"24TH\",\"@load\":\"0\",\"@bikeflag\":\"1\",\"@origTime\":\"02:27 PM\"},{\"@station\":\"GLEN\",\"@load\":\"0\",\"@bikeflag\":\"1\",\"@origTime\":\"02:30 PM\"},{\"@station\":\"BALB\",\"@load\":\"0\",\"@bikeflag\":\"1\",\"@origTime\":\"02:33 PM\"},{\"@station\":\"DALY\",\"@load\":\"0\",\"@bikeflag\":\"1\",\"@origTime\":\"02:37 PM\"},{\"@station\":\"COLM\",\"@load\":\"0\",\"@bikeflag\":\"1\",\"@origTime\":\"02:41 PM\"},{\"@station\":\"SSAN\",\"@load\":\"0\",\"@bikeflag\":\"1\",\"@origTime\":\"02:44 PM\"},{\"@station\":\"SBRN\",\"@load\":\"0\",\"@bikeflag\":\"1\",\"@origTime\":\"02:47 PM\"},{\"@station\":\"MLBR\",\"@load\":\"0\",\"@bikeflag\":\"1\",\"@origTime\":\"02:54 PM\"},{\"@station\":\"SFIA\",\"@load\":\"0\",\"@bikeflag\":\"1\",\"@origTime\":\"02:58 PM\"}]},{\"@index\":\"37\",\"stop\":[{\"@station\":\"RICH\",\"@load\":\"0\",\"@bikeflag\":\"1\",\"@origTime\":\"01:57 PM\"},{\"@station\":\"DELN\",\"@load\":\"0\",\"@bikeflag\":\"1\",\"@origTime\":\"02:02 PM\"},{\"@station\":\"PLZA\",\"@load\":\"0\",\"@bikeflag\":\"1\",\"@origTime\":\"02:05 PM\"},{\"@station\":\"NBRK\",\"@load\":\"0\",\"@bikeflag\":\"1\",\"@origTime\":\"02:08 PM\"},{\"@station\":\"DBRK\",\"@load\":\"0\",\"@bikeflag\":\"1\",\"@origTime\":\"02:10 PM\"},{\"@station\":\"ASHB\",\"@load\":\"0\",\"@bikeflag\":\"1\",\"@origTime\":\"02:13 PM\"},{\"@station\":\"MCAR\",\"@load\":\"0\",\"@bikeflag\":\"1\",\"@origTime\":\"02:16 PM\"},{\"@station\":\"19TH\",\"@load\":\"0\",\"@bikeflag\":\"1\",\"@origTime\":\"02:20 PM\"},{\"@station\":\"12TH\",\"@load\":\"0\",\"@bikeflag\":\"1\",\"@origTime\":\"02:22 PM\"},{\"@station\":\"WOAK\",\"@load\":\"0\",\"@bikeflag\":\"1\",\"@origTime\":\"02:26 PM\"},{\"@station\":\"EMBR\",\"@load\":\"0\",\"@bikeflag\":\"1\",\"@origTime\":\"02:33 PM\"},{\"@station\":\"MONT\",\"@load\":\"0\",\"@bikeflag\":\"1\",\"@origTime\":\"02:35 PM\"},{\"@station\":\"POWL\",\"@load\":\"0\",\"@bikeflag\":\"1\",\"@origTime\":\"02:37 PM\"},{\"@station\":\"CIVC\",\"@load\":\"0\",\"@bikeflag\":\"1\",\"@origTime\":\"02:38 PM\"},{\"@station\":\"16TH\",\"@load\":\"0\",\"@bikeflag\":\"1\",\"@origTime\":\"02:40 PM\"},{\"@station\":\"24TH\",\"@load\":\"0\",\"@bikeflag\":\"1\",\"@origTime\":\"02:42 PM\"},{\"@station\":\"GLEN\",\"@load\":\"0\",\"@bikeflag\":\"1\",\"@origTime\":\"02:45 PM\"},{\"@station\":\"BALB\",\"@load\":\"0\",\"@bikeflag\":\"1\",\"@origTime\":\"02:48 PM\"},{\"@station\":\"DALY\",\"@load\":\"0\",\"@bikeflag\":\"1\",\"@origTime\":\"02:52 PM\"},{\"@station\":\"COLM\",\"@load\":\"0\",\"@bikeflag\":\"1\",\"@origTime\":\"02:56 PM\"},{\"@station\":\"SSAN\",\"@load\":\"0\",\"@bikeflag\":\"1\",\"@origTime\":\"02:59 PM\"},{\"@station\":\"SBRN\",\"@load\":\"0\",\"@bikeflag\":\"1\",\"@origTime\":\"03:02 PM\"},{\"@station\":\"MLBR\",\"@load\":\"0\",\"@bikeflag\":\"1\",\"@origTime\":\"03:09 PM\"},{\"@station\":\"SFIA\",\"@load\":\"0\",\"@bikeflag\":\"1\",\"@origTime\":\"03:13 PM\"}]},{\"@index\":\"38\",\"stop\":[{\"@station\":\"RICH\",\"@load\":\"0\",\"@bikeflag\":\"1\",\"@origTime\":\"02:12 PM\"},{\"@station\":\"DELN\",\"@load\":\"0\",\"@bikeflag\":\"1\",\"@origTime\":\"02:17 PM\"},{\"@station\":\"PLZA\",\"@load\":\"0\",\"@bikeflag\":\"1\",\"@origTime\":\"02:20 PM\"},{\"@station\":\"NBRK\",\"@load\":\"0\",\"@bikeflag\":\"1\",\"@origTime\":\"02:23 PM\"},{\"@station\":\"DBRK\",\"@load\":\"0\",\"@bikeflag\":\"1\",\"@origTime\":\"02:25 PM\"},{\"@station\":\"ASHB\",\"@load\":\"0\",\"@bikeflag\":\"1\",\"@origTime\":\"02:28 PM\"},{\"@station\":\"MCAR\",\"@load\":\"0\",\"@bikeflag\":\"1\",\"@origTime\":\"02:31 PM\"},{\"@station\":\"19TH\",\"@load\":\"0\",\"@bikeflag\":\"1\",\"@origTime\":\"02:35 PM\"},{\"@station\":\"12TH\",\"@load\":\"0\",\"@bikeflag\":\"1\",\"@origTime\":\"02:37 PM\"},{\"@station\":\"WOAK\",\"@load\":\"0\",\"@bikeflag\":\"1\",\"@origTime\":\"02:41 PM\"},{\"@station\":\"EMBR\",\"@load\":\"0\",\"@bikeflag\":\"1\",\"@origTime\":\"02:48 PM\"},{\"@station\":\"MONT\",\"@load\":\"0\",\"@bikeflag\":\"1\",\"@origTime\":\"02:50 PM\"},{\"@station\":\"POWL\",\"@load\":\"0\",\"@bikeflag\":\"1\",\"@origTime\":\"02:52 PM\"},{\"@station\":\"CIVC\",\"@load\":\"0\",\"@bikeflag\":\"1\",\"@origTime\":\"02:53 PM\"},{\"@station\":\"16TH\",\"@load\":\"0\",\"@bikeflag\":\"1\",\"@origTime\":\"02:55 PM\"},{\"@station\":\"24TH\",\"@load\":\"0\",\"@bikeflag\":\"1\",\"@origTime\":\"02:57 PM\"},{\"@station\":\"GLEN\",\"@load\":\"0\",\"@bikeflag\":\"1\",\"@origTime\":\"03:00 PM\"},{\"@station\":\"BALB\",\"@load\":\"0\",\"@bikeflag\":\"1\",\"@origTime\":\"03:03 PM\"},{\"@station\":\"DALY\",\"@load\":\"0\",\"@bikeflag\":\"1\",\"@origTime\":\"03:07 PM\"},{\"@station\":\"COLM\",\"@load\":\"0\",\"@bikeflag\":\"1\",\"@origTime\":\"03:11 PM\"},{\"@station\":\"SSAN\",\"@load\":\"0\",\"@bikeflag\":\"1\",\"@origTime\":\"03:14 PM\"},{\"@station\":\"SBRN\",\"@load\":\"0\",\"@bikeflag\":\"1\",\"@origTime\":\"03:17 PM\"},{\"@station\":\"MLBR\",\"@load\":\"0\",\"@bikeflag\":\"1\",\"@origTime\":\"03:24 PM\"},{\"@station\":\"SFIA\",\"@load\":\"0\",\"@bikeflag\":\"1\",\"@origTime\":\"03:28 PM\"}]},{\"@index\":\"39\",\"stop\":[{\"@station\":\"RICH\",\"@load\":\"0\",\"@bikeflag\":\"1\",\"@origTime\":\"02:27 PM\"},{\"@station\":\"DELN\",\"@load\":\"0\",\"@bikeflag\":\"1\",\"@origTime\":\"02:32 PM\"},{\"@station\":\"PLZA\",\"@load\":\"0\",\"@bikeflag\":\"1\",\"@origTime\":\"02:35 PM\"},{\"@station\":\"NBRK\",\"@load\":\"0\",\"@bikeflag\":\"1\",\"@origTime\":\"02:38 PM\"},{\"@station\":\"DBRK\",\"@load\":\"0\",\"@bikeflag\":\"1\",\"@origTime\":\"02:40 PM\"},{\"@station\":\"ASHB\",\"@load\":\"0\",\"@bikeflag\":\"1\",\"@origTime\":\"02:43 PM\"},{\"@station\":\"MCAR\",\"@load\":\"0\",\"@bikeflag\":\"1\",\"@origTime\":\"02:46 PM\"},{\"@station\":\"19TH\",\"@load\":\"0\",\"@bikeflag\":\"1\",\"@origTime\":\"02:50 PM\"},{\"@station\":\"12TH\",\"@load\":\"0\",\"@bikeflag\":\"1\",\"@origTime\":\"02:52 PM\"},{\"@station\":\"WOAK\",\"@load\":\"0\",\"@bikeflag\":\"1\",\"@origTime\":\"02:56 PM\"},{\"@station\":\"EMBR\",\"@load\":\"0\",\"@bikeflag\":\"1\",\"@origTime\":\"03:03 PM\"},{\"@station\":\"MONT\",\"@load\":\"0\",\"@bikeflag\":\"1\",\"@origTime\":\"03:05 PM\"},{\"@station\":\"POWL\",\"@load\":\"0\",\"@bikeflag\":\"1\",\"@origTime\":\"03:07 PM\"},{\"@station\":\"CIVC\",\"@load\":\"0\",\"@bikeflag\":\"1\",\"@origTime\":\"03:08 PM\"},{\"@station\":\"16TH\",\"@load\":\"0\",\"@bikeflag\":\"1\",\"@origTime\":\"03:10 PM\"},{\"@station\":\"24TH\",\"@load\":\"0\",\"@bikeflag\":\"1\",\"@origTime\":\"03:12 PM\"},{\"@station\":\"GLEN\",\"@load\":\"0\",\"@bikeflag\":\"1\",\"@origTime\":\"03:15 PM\"},{\"@station\":\"BALB\",\"@load\":\"0\",\"@bikeflag\":\"1\",\"@origTime\":\"03:18 PM\"},{\"@station\":\"DALY\",\"@load\":\"0\",\"@bikeflag\":\"1\",\"@origTime\":\"03:22 PM\"},{\"@station\":\"COLM\",\"@load\":\"0\",\"@bikeflag\":\"1\",\"@origTime\":\"03:26 PM\"},{\"@station\":\"SSAN\",\"@load\":\"0\",\"@bikeflag\":\"1\",\"@origTime\":\"03:29 PM\"},{\"@station\":\"SBRN\",\"@load\":\"0\",\"@bikeflag\":\"1\",\"@origTime\":\"03:32 PM\"},{\"@station\":\"MLBR\",\"@load\":\"0\",\"@bikeflag\":\"1\",\"@origTime\":\"03:39 PM\"},{\"@station\":\"SFIA\",\"@load\":\"0\",\"@bikeflag\":\"1\",\"@origTime\":\"03:43 PM\"}]},{\"@index\":\"40\",\"stop\":[{\"@station\":\"RICH\",\"@load\":\"0\",\"@bikeflag\":\"1\",\"@origTime\":\"02:42 PM\"},{\"@station\":\"DELN\",\"@load\":\"0\",\"@bikeflag\":\"1\",\"@origTime\":\"02:47 PM\"},{\"@station\":\"PLZA\",\"@load\":\"0\",\"@bikeflag\":\"1\",\"@origTime\":\"02:50 PM\"},{\"@station\":\"NBRK\",\"@load\":\"0\",\"@bikeflag\":\"1\",\"@origTime\":\"02:53 PM\"},{\"@station\":\"DBRK\",\"@load\":\"0\",\"@bikeflag\":\"1\",\"@origTime\":\"02:55 PM\"},{\"@station\":\"ASHB\",\"@load\":\"0\",\"@bikeflag\":\"1\",\"@origTime\":\"02:58 PM\"},{\"@station\":\"MCAR\",\"@load\":\"0\",\"@bikeflag\":\"1\",\"@origTime\":\"03:01 PM\"},{\"@station\":\"19TH\",\"@load\":\"0\",\"@bikeflag\":\"1\",\"@origTime\":\"03:05 PM\"},{\"@station\":\"12TH\",\"@load\":\"0\",\"@bikeflag\":\"1\",\"@origTime\":\"03:07 PM\"},{\"@station\":\"WOAK\",\"@load\":\"0\",\"@bikeflag\":\"1\",\"@origTime\":\"03:11 PM\"},{\"@station\":\"EMBR\",\"@load\":\"0\",\"@bikeflag\":\"1\",\"@origTime\":\"03:18 PM\"},{\"@station\":\"MONT\",\"@load\":\"0\",\"@bikeflag\":\"1\",\"@origTime\":\"03:20 PM\"},{\"@station\":\"POWL\",\"@load\":\"0\",\"@bikeflag\":\"1\",\"@origTime\":\"03:22 PM\"},{\"@station\":\"CIVC\",\"@load\":\"0\",\"@bikeflag\":\"1\",\"@origTime\":\"03:23 PM\"},{\"@station\":\"16TH\",\"@load\":\"0\",\"@bikeflag\":\"1\",\"@origTime\":\"03:25 PM\"},{\"@station\":\"24TH\",\"@load\":\"0\",\"@bikeflag\":\"1\",\"@origTime\":\"03:27 PM\"},{\"@station\":\"GLEN\",\"@load\":\"0\",\"@bikeflag\":\"1\",\"@origTime\":\"03:30 PM\"},{\"@station\":\"BALB\",\"@load\":\"0\",\"@bikeflag\":\"1\",\"@origTime\":\"03:33 PM\"},{\"@station\":\"DALY\",\"@load\":\"0\",\"@bikeflag\":\"1\",\"@origTime\":\"03:37 PM\"},{\"@station\":\"COLM\",\"@load\":\"0\",\"@bikeflag\":\"1\",\"@origTime\":\"03:41 PM\"},{\"@station\":\"SSAN\",\"@load\":\"0\",\"@bikeflag\":\"1\",\"@origTime\":\"03:44 PM\"},{\"@station\":\"SBRN\",\"@load\":\"0\",\"@bikeflag\":\"1\",\"@origTime\":\"03:47 PM\"},{\"@station\":\"MLBR\",\"@load\":\"0\",\"@bikeflag\":\"1\",\"@origTime\":\"03:54 PM\"},{\"@station\":\"SFIA\",\"@load\":\"0\",\"@bikeflag\":\"1\",\"@origTime\":\"03:58 PM\"}]},{\"@index\":\"41\",\"stop\":[{\"@station\":\"RICH\",\"@load\":\"0\",\"@bikeflag\":\"1\",\"@origTime\":\"02:57 PM\"},{\"@station\":\"DELN\",\"@load\":\"0\",\"@bikeflag\":\"1\",\"@origTime\":\"03:02 PM\"},{\"@station\":\"PLZA\",\"@load\":\"0\",\"@bikeflag\":\"1\",\"@origTime\":\"03:05 PM\"},{\"@station\":\"NBRK\",\"@load\":\"0\",\"@bikeflag\":\"1\",\"@origTime\":\"03:08 PM\"},{\"@station\":\"DBRK\",\"@load\":\"0\",\"@bikeflag\":\"1\",\"@origTime\":\"03:10 PM\"},{\"@station\":\"ASHB\",\"@load\":\"0\",\"@bikeflag\":\"1\",\"@origTime\":\"03:13 PM\"},{\"@station\":\"MCAR\",\"@load\":\"0\",\"@bikeflag\":\"1\",\"@origTime\":\"03:16 PM\"},{\"@station\":\"19TH\",\"@load\":\"0\",\"@bikeflag\":\"1\",\"@origTime\":\"03:20 PM\"},{\"@station\":\"12TH\",\"@load\":\"0\",\"@bikeflag\":\"1\",\"@origTime\":\"03:22 PM\"},{\"@station\":\"WOAK\",\"@load\":\"0\",\"@bikeflag\":\"1\",\"@origTime\":\"03:26 PM\"},{\"@station\":\"EMBR\",\"@load\":\"0\",\"@bikeflag\":\"1\",\"@origTime\":\"03:33 PM\"},{\"@station\":\"MONT\",\"@load\":\"0\",\"@bikeflag\":\"1\",\"@origTime\":\"03:35 PM\"},{\"@station\":\"POWL\",\"@load\":\"0\",\"@bikeflag\":\"1\",\"@origTime\":\"03:37 PM\"},{\"@station\":\"CIVC\",\"@load\":\"0\",\"@bikeflag\":\"1\",\"@origTime\":\"03:38 PM\"},{\"@station\":\"16TH\",\"@load\":\"0\",\"@bikeflag\":\"1\",\"@origTime\":\"03:40 PM\"},{\"@station\":\"24TH\",\"@load\":\"0\",\"@bikeflag\":\"1\",\"@origTime\":\"03:42 PM\"},{\"@station\":\"GLEN\",\"@load\":\"0\",\"@bikeflag\":\"1\",\"@origTime\":\"03:45 PM\"},{\"@station\":\"BALB\",\"@load\":\"0\",\"@bikeflag\":\"1\",\"@origTime\":\"03:48 PM\"},{\"@station\":\"DALY\",\"@load\":\"0\",\"@bikeflag\":\"1\",\"@origTime\":\"03:52 PM\"},{\"@station\":\"COLM\",\"@load\":\"0\",\"@bikeflag\":\"1\",\"@origTime\":\"03:56 PM\"},{\"@station\":\"SSAN\",\"@load\":\"0\",\"@bikeflag\":\"1\",\"@origTime\":\"03:59 PM\"},{\"@station\":\"SBRN\",\"@load\":\"0\",\"@bikeflag\":\"1\",\"@origTime\":\"04:02 PM\"},{\"@station\":\"MLBR\",\"@load\":\"0\",\"@bikeflag\":\"1\",\"@origTime\":\"04:09 PM\"},{\"@station\":\"SFIA\",\"@load\":\"0\",\"@bikeflag\":\"1\",\"@origTime\":\"04:13 PM\"}]},{\"@index\":\"42\",\"stop\":[{\"@station\":\"RICH\",\"@load\":\"0\",\"@bikeflag\":\"1\",\"@origTime\":\"03:12 PM\"},{\"@station\":\"DELN\",\"@load\":\"0\",\"@bikeflag\":\"1\",\"@origTime\":\"03:17 PM\"},{\"@station\":\"PLZA\",\"@load\":\"0\",\"@bikeflag\":\"1\",\"@origTime\":\"03:20 PM\"},{\"@station\":\"NBRK\",\"@load\":\"0\",\"@bikeflag\":\"1\",\"@origTime\":\"03:23 PM\"},{\"@station\":\"DBRK\",\"@load\":\"0\",\"@bikeflag\":\"1\",\"@origTime\":\"03:25 PM\"},{\"@station\":\"ASHB\",\"@load\":\"0\",\"@bikeflag\":\"1\",\"@origTime\":\"03:28 PM\"},{\"@station\":\"MCAR\",\"@load\":\"0\",\"@bikeflag\":\"1\",\"@origTime\":\"03:31 PM\"},{\"@station\":\"19TH\",\"@load\":\"0\",\"@bikeflag\":\"1\",\"@origTime\":\"03:35 PM\"},{\"@station\":\"12TH\",\"@load\":\"0\",\"@bikeflag\":\"1\",\"@origTime\":\"03:37 PM\"},{\"@station\":\"WOAK\",\"@load\":\"0\",\"@bikeflag\":\"1\",\"@origTime\":\"03:41 PM\"},{\"@station\":\"EMBR\",\"@load\":\"0\",\"@bikeflag\":\"1\",\"@origTime\":\"03:48 PM\"},{\"@station\":\"MONT\",\"@load\":\"0\",\"@bikeflag\":\"1\",\"@origTime\":\"03:50 PM\"},{\"@station\":\"POWL\",\"@load\":\"0\",\"@bikeflag\":\"1\",\"@origTime\":\"03:52 PM\"},{\"@station\":\"CIVC\",\"@load\":\"0\",\"@bikeflag\":\"1\",\"@origTime\":\"03:53 PM\"},{\"@station\":\"16TH\",\"@load\":\"0\",\"@bikeflag\":\"1\",\"@origTime\":\"03:55 PM\"},{\"@station\":\"24TH\",\"@load\":\"0\",\"@bikeflag\":\"1\",\"@origTime\":\"03:57 PM\"},{\"@station\":\"GLEN\",\"@load\":\"0\",\"@bikeflag\":\"1\",\"@origTime\":\"04:00 PM\"},{\"@station\":\"BALB\",\"@load\":\"0\",\"@bikeflag\":\"1\",\"@origTime\":\"04:03 PM\"},{\"@station\":\"DALY\",\"@load\":\"0\",\"@bikeflag\":\"1\",\"@origTime\":\"04:07 PM\"},{\"@station\":\"COLM\",\"@load\":\"0\",\"@bikeflag\":\"1\",\"@origTime\":\"04:11 PM\"},{\"@station\":\"SSAN\",\"@load\":\"0\",\"@bikeflag\":\"1\",\"@origTime\":\"04:14 PM\"},{\"@station\":\"SBRN\",\"@load\":\"0\",\"@bikeflag\":\"1\",\"@origTime\":\"04:17 PM\"},{\"@station\":\"MLBR\",\"@load\":\"0\",\"@bikeflag\":\"1\",\"@origTime\":\"04:24 PM\"},{\"@station\":\"SFIA\",\"@load\":\"0\",\"@bikeflag\":\"1\",\"@origTime\":\"04:28 PM\"}]},{\"@index\":\"43\",\"stop\":[{\"@station\":\"RICH\",\"@load\":\"0\",\"@bikeflag\":\"1\",\"@origTime\":\"03:27 PM\"},{\"@station\":\"DELN\",\"@load\":\"0\",\"@bikeflag\":\"1\",\"@origTime\":\"03:32 PM\"},{\"@station\":\"PLZA\",\"@load\":\"0\",\"@bikeflag\":\"1\",\"@origTime\":\"03:35 PM\"},{\"@station\":\"NBRK\",\"@load\":\"0\",\"@bikeflag\":\"1\",\"@origTime\":\"03:38 PM\"},{\"@station\":\"DBRK\",\"@load\":\"0\",\"@bikeflag\":\"1\",\"@origTime\":\"03:40 PM\"},{\"@station\":\"ASHB\",\"@load\":\"0\",\"@bikeflag\":\"1\",\"@origTime\":\"03:43 PM\"},{\"@station\":\"MCAR\",\"@load\":\"0\",\"@bikeflag\":\"1\",\"@origTime\":\"03:46 PM\"},{\"@station\":\"19TH\",\"@load\":\"0\",\"@bikeflag\":\"1\",\"@origTime\":\"03:50 PM\"},{\"@station\":\"12TH\",\"@load\":\"0\",\"@bikeflag\":\"1\",\"@origTime\":\"03:52 PM\"},{\"@station\":\"WOAK\",\"@load\":\"0\",\"@bikeflag\":\"1\",\"@origTime\":\"03:56 PM\"},{\"@station\":\"EMBR\",\"@load\":\"0\",\"@bikeflag\":\"1\",\"@origTime\":\"04:03 PM\"},{\"@station\":\"MONT\",\"@load\":\"0\",\"@bikeflag\":\"1\",\"@origTime\":\"04:05 PM\"},{\"@station\":\"POWL\",\"@load\":\"0\",\"@bikeflag\":\"1\",\"@origTime\":\"04:07 PM\"},{\"@station\":\"CIVC\",\"@load\":\"0\",\"@bikeflag\":\"1\",\"@origTime\":\"04:08 PM\"},{\"@station\":\"16TH\",\"@load\":\"0\",\"@bikeflag\":\"1\",\"@origTime\":\"04:10 PM\"},{\"@station\":\"24TH\",\"@load\":\"0\",\"@bikeflag\":\"1\",\"@origTime\":\"04:12 PM\"},{\"@station\":\"GLEN\",\"@load\":\"0\",\"@bikeflag\":\"1\",\"@origTime\":\"04:15 PM\"},{\"@station\":\"BALB\",\"@load\":\"0\",\"@bikeflag\":\"1\",\"@origTime\":\"04:18 PM\"},{\"@station\":\"DALY\",\"@load\":\"0\",\"@bikeflag\":\"1\",\"@origTime\":\"04:22 PM\"},{\"@station\":\"COLM\",\"@load\":\"0\",\"@bikeflag\":\"1\",\"@origTime\":\"04:26 PM\"},{\"@station\":\"SSAN\",\"@load\":\"0\",\"@bikeflag\":\"1\",\"@origTime\":\"04:29 PM\"},{\"@station\":\"SBRN\",\"@load\":\"0\",\"@bikeflag\":\"1\",\"@origTime\":\"04:32 PM\"},{\"@station\":\"MLBR\",\"@load\":\"0\",\"@bikeflag\":\"1\",\"@origTime\":\"04:39 PM\"},{\"@station\":\"SFIA\",\"@load\":\"0\",\"@bikeflag\":\"1\",\"@origTime\":\"04:43 PM\"}]},{\"@index\":\"44\",\"stop\":[{\"@station\":\"RICH\",\"@load\":\"0\",\"@bikeflag\":\"1\",\"@origTime\":\"03:42 PM\"},{\"@station\":\"DELN\",\"@load\":\"0\",\"@bikeflag\":\"1\",\"@origTime\":\"03:47 PM\"},{\"@station\":\"PLZA\",\"@load\":\"0\",\"@bikeflag\":\"1\",\"@origTime\":\"03:50 PM\"},{\"@station\":\"NBRK\",\"@load\":\"0\",\"@bikeflag\":\"1\",\"@origTime\":\"03:53 PM\"},{\"@station\":\"DBRK\",\"@load\":\"0\",\"@bikeflag\":\"1\",\"@origTime\":\"03:55 PM\"},{\"@station\":\"ASHB\",\"@load\":\"0\",\"@bikeflag\":\"1\",\"@origTime\":\"03:58 PM\"},{\"@station\":\"MCAR\",\"@load\":\"0\",\"@bikeflag\":\"1\",\"@origTime\":\"04:01 PM\"},{\"@station\":\"19TH\",\"@load\":\"0\",\"@bikeflag\":\"1\",\"@origTime\":\"04:05 PM\"},{\"@station\":\"12TH\",\"@load\":\"0\",\"@bikeflag\":\"1\",\"@origTime\":\"04:07 PM\"},{\"@station\":\"WOAK\",\"@load\":\"0\",\"@bikeflag\":\"1\",\"@origTime\":\"04:11 PM\"},{\"@station\":\"EMBR\",\"@load\":\"0\",\"@bikeflag\":\"1\",\"@origTime\":\"04:18 PM\"},{\"@station\":\"MONT\",\"@load\":\"0\",\"@bikeflag\":\"1\",\"@origTime\":\"04:20 PM\"},{\"@station\":\"POWL\",\"@load\":\"0\",\"@bikeflag\":\"1\",\"@origTime\":\"04:22 PM\"},{\"@station\":\"CIVC\",\"@load\":\"0\",\"@bikeflag\":\"1\",\"@origTime\":\"04:23 PM\"},{\"@station\":\"16TH\",\"@load\":\"0\",\"@bikeflag\":\"1\",\"@origTime\":\"04:25 PM\"},{\"@station\":\"24TH\",\"@load\":\"0\",\"@bikeflag\":\"1\",\"@origTime\":\"04:27 PM\"},{\"@station\":\"GLEN\",\"@load\":\"0\",\"@bikeflag\":\"1\",\"@origTime\":\"04:30 PM\"},{\"@station\":\"BALB\",\"@load\":\"0\",\"@bikeflag\":\"1\",\"@origTime\":\"04:33 PM\"},{\"@station\":\"DALY\",\"@load\":\"0\",\"@bikeflag\":\"1\",\"@origTime\":\"04:37 PM\"},{\"@station\":\"COLM\",\"@load\":\"0\",\"@bikeflag\":\"1\",\"@origTime\":\"04:41 PM\"},{\"@station\":\"SSAN\",\"@load\":\"0\",\"@bikeflag\":\"1\",\"@origTime\":\"04:44 PM\"},{\"@station\":\"SBRN\",\"@load\":\"0\",\"@bikeflag\":\"1\",\"@origTime\":\"04:47 PM\"},{\"@station\":\"MLBR\",\"@load\":\"0\",\"@bikeflag\":\"1\",\"@origTime\":\"04:54 PM\"},{\"@station\":\"SFIA\",\"@load\":\"0\",\"@bikeflag\":\"1\",\"@origTime\":\"04:58 PM\"}]},{\"@index\":\"45\",\"stop\":[{\"@station\":\"RICH\",\"@load\":\"0\",\"@bikeflag\":\"1\",\"@origTime\":\"03:57 PM\"},{\"@station\":\"DELN\",\"@load\":\"0\",\"@bikeflag\":\"1\",\"@origTime\":\"04:02 PM\"},{\"@station\":\"PLZA\",\"@load\":\"0\",\"@bikeflag\":\"1\",\"@origTime\":\"04:05 PM\"},{\"@station\":\"NBRK\",\"@load\":\"0\",\"@bikeflag\":\"1\",\"@origTime\":\"04:08 PM\"},{\"@station\":\"DBRK\",\"@load\":\"0\",\"@bikeflag\":\"1\",\"@origTime\":\"04:10 PM\"},{\"@station\":\"ASHB\",\"@load\":\"0\",\"@bikeflag\":\"1\",\"@origTime\":\"04:13 PM\"},{\"@station\":\"MCAR\",\"@load\":\"0\",\"@bikeflag\":\"1\",\"@origTime\":\"04:16 PM\"},{\"@station\":\"19TH\",\"@load\":\"0\",\"@bikeflag\":\"1\",\"@origTime\":\"04:20 PM\"},{\"@station\":\"12TH\",\"@load\":\"0\",\"@bikeflag\":\"1\",\"@origTime\":\"04:22 PM\"},{\"@station\":\"WOAK\",\"@load\":\"0\",\"@bikeflag\":\"1\",\"@origTime\":\"04:26 PM\"},{\"@station\":\"EMBR\",\"@load\":\"0\",\"@bikeflag\":\"1\",\"@origTime\":\"04:33 PM\"},{\"@station\":\"MONT\",\"@load\":\"0\",\"@bikeflag\":\"1\",\"@origTime\":\"04:35 PM\"},{\"@station\":\"POWL\",\"@load\":\"0\",\"@bikeflag\":\"1\",\"@origTime\":\"04:37 PM\"},{\"@station\":\"CIVC\",\"@load\":\"0\",\"@bikeflag\":\"1\",\"@origTime\":\"04:38 PM\"},{\"@station\":\"16TH\",\"@load\":\"0\",\"@bikeflag\":\"1\",\"@origTime\":\"04:40 PM\"},{\"@station\":\"24TH\",\"@load\":\"0\",\"@bikeflag\":\"1\",\"@origTime\":\"04:42 PM\"},{\"@station\":\"GLEN\",\"@load\":\"0\",\"@bikeflag\":\"1\",\"@origTime\":\"04:45 PM\"},{\"@station\":\"BALB\",\"@load\":\"0\",\"@bikeflag\":\"1\",\"@origTime\":\"04:48 PM\"},{\"@station\":\"DALY\",\"@load\":\"0\",\"@bikeflag\":\"1\",\"@origTime\":\"04:52 PM\"},{\"@station\":\"COLM\",\"@load\":\"0\",\"@bikeflag\":\"1\",\"@origTime\":\"04:56 PM\"},{\"@station\":\"SSAN\",\"@load\":\"0\",\"@bikeflag\":\"1\",\"@origTime\":\"04:59 PM\"},{\"@station\":\"SBRN\",\"@load\":\"0\",\"@bikeflag\":\"1\",\"@origTime\":\"05:02 PM\"},{\"@station\":\"MLBR\",\"@load\":\"0\",\"@bikeflag\":\"1\",\"@origTime\":\"05:09 PM\"},{\"@station\":\"SFIA\",\"@load\":\"0\",\"@bikeflag\":\"1\",\"@origTime\":\"05:13 PM\"}]},{\"@index\":\"46\",\"stop\":[{\"@station\":\"RICH\",\"@load\":\"0\",\"@bikeflag\":\"1\",\"@origTime\":\"04:12 PM\"},{\"@station\":\"DELN\",\"@load\":\"0\",\"@bikeflag\":\"1\",\"@origTime\":\"04:17 PM\"},{\"@station\":\"PLZA\",\"@load\":\"0\",\"@bikeflag\":\"1\",\"@origTime\":\"04:20 PM\"},{\"@station\":\"NBRK\",\"@load\":\"0\",\"@bikeflag\":\"1\",\"@origTime\":\"04:23 PM\"},{\"@station\":\"DBRK\",\"@load\":\"0\",\"@bikeflag\":\"1\",\"@origTime\":\"04:25 PM\"},{\"@station\":\"ASHB\",\"@load\":\"0\",\"@bikeflag\":\"1\",\"@origTime\":\"04:28 PM\"},{\"@station\":\"MCAR\",\"@load\":\"0\",\"@bikeflag\":\"1\",\"@origTime\":\"04:31 PM\"},{\"@station\":\"19TH\",\"@load\":\"0\",\"@bikeflag\":\"1\",\"@origTime\":\"04:35 PM\"},{\"@station\":\"12TH\",\"@load\":\"0\",\"@bikeflag\":\"1\",\"@origTime\":\"04:37 PM\"},{\"@station\":\"WOAK\",\"@load\":\"0\",\"@bikeflag\":\"1\",\"@origTime\":\"04:41 PM\"},{\"@station\":\"EMBR\",\"@load\":\"0\",\"@bikeflag\":\"1\",\"@origTime\":\"04:48 PM\"},{\"@station\":\"MONT\",\"@load\":\"0\",\"@bikeflag\":\"1\",\"@origTime\":\"04:50 PM\"},{\"@station\":\"POWL\",\"@load\":\"0\",\"@bikeflag\":\"1\",\"@origTime\":\"04:52 PM\"},{\"@station\":\"CIVC\",\"@load\":\"0\",\"@bikeflag\":\"1\",\"@origTime\":\"04:53 PM\"},{\"@station\":\"16TH\",\"@load\":\"0\",\"@bikeflag\":\"1\",\"@origTime\":\"04:55 PM\"},{\"@station\":\"24TH\",\"@load\":\"0\",\"@bikeflag\":\"1\",\"@origTime\":\"04:57 PM\"},{\"@station\":\"GLEN\",\"@load\":\"0\",\"@bikeflag\":\"1\",\"@origTime\":\"05:00 PM\"},{\"@station\":\"BALB\",\"@load\":\"0\",\"@bikeflag\":\"1\",\"@origTime\":\"05:03 PM\"},{\"@station\":\"DALY\",\"@load\":\"0\",\"@bikeflag\":\"1\",\"@origTime\":\"05:07 PM\"},{\"@station\":\"COLM\",\"@load\":\"0\",\"@bikeflag\":\"1\",\"@origTime\":\"05:11 PM\"},{\"@station\":\"SSAN\",\"@load\":\"0\",\"@bikeflag\":\"1\",\"@origTime\":\"05:14 PM\"},{\"@station\":\"SBRN\",\"@load\":\"0\",\"@bikeflag\":\"1\",\"@origTime\":\"05:17 PM\"},{\"@station\":\"MLBR\",\"@load\":\"0\",\"@bikeflag\":\"1\",\"@origTime\":\"05:24 PM\"},{\"@station\":\"SFIA\",\"@load\":\"0\",\"@bikeflag\":\"1\",\"@origTime\":\"05:28 PM\"}]},{\"@index\":\"47\",\"stop\":[{\"@station\":\"RICH\",\"@load\":\"0\",\"@bikeflag\":\"1\",\"@origTime\":\"04:27 PM\"},{\"@station\":\"DELN\",\"@load\":\"0\",\"@bikeflag\":\"1\",\"@origTime\":\"04:32 PM\"},{\"@station\":\"PLZA\",\"@load\":\"0\",\"@bikeflag\":\"1\",\"@origTime\":\"04:35 PM\"},{\"@station\":\"NBRK\",\"@load\":\"0\",\"@bikeflag\":\"1\",\"@origTime\":\"04:38 PM\"},{\"@station\":\"DBRK\",\"@load\":\"0\",\"@bikeflag\":\"1\",\"@origTime\":\"04:40 PM\"},{\"@station\":\"ASHB\",\"@load\":\"0\",\"@bikeflag\":\"1\",\"@origTime\":\"04:43 PM\"},{\"@station\":\"MCAR\",\"@load\":\"0\",\"@bikeflag\":\"1\",\"@origTime\":\"04:46 PM\"},{\"@station\":\"19TH\",\"@load\":\"0\",\"@bikeflag\":\"1\",\"@origTime\":\"04:50 PM\"},{\"@station\":\"12TH\",\"@load\":\"0\",\"@bikeflag\":\"1\",\"@origTime\":\"04:52 PM\"},{\"@station\":\"WOAK\",\"@load\":\"0\",\"@bikeflag\":\"1\",\"@origTime\":\"04:56 PM\"},{\"@station\":\"EMBR\",\"@load\":\"0\",\"@bikeflag\":\"1\",\"@origTime\":\"05:03 PM\"},{\"@station\":\"MONT\",\"@load\":\"0\",\"@bikeflag\":\"1\",\"@origTime\":\"05:05 PM\"},{\"@station\":\"POWL\",\"@load\":\"0\",\"@bikeflag\":\"1\",\"@origTime\":\"05:07 PM\"},{\"@station\":\"CIVC\",\"@load\":\"0\",\"@bikeflag\":\"1\",\"@origTime\":\"05:08 PM\"},{\"@station\":\"16TH\",\"@load\":\"0\",\"@bikeflag\":\"1\",\"@origTime\":\"05:10 PM\"},{\"@station\":\"24TH\",\"@load\":\"0\",\"@bikeflag\":\"1\",\"@origTime\":\"05:12 PM\"},{\"@station\":\"GLEN\",\"@load\":\"0\",\"@bikeflag\":\"1\",\"@origTime\":\"05:15 PM\"},{\"@station\":\"BALB\",\"@load\":\"0\",\"@bikeflag\":\"1\",\"@origTime\":\"05:18 PM\"},{\"@station\":\"DALY\",\"@load\":\"0\",\"@bikeflag\":\"1\",\"@origTime\":\"05:22 PM\"},{\"@station\":\"COLM\",\"@load\":\"0\",\"@bikeflag\":\"1\",\"@origTime\":\"05:26 PM\"},{\"@station\":\"SSAN\",\"@load\":\"0\",\"@bikeflag\":\"1\",\"@origTime\":\"05:29 PM\"},{\"@station\":\"SBRN\",\"@load\":\"0\",\"@bikeflag\":\"1\",\"@origTime\":\"05:32 PM\"},{\"@station\":\"MLBR\",\"@load\":\"0\",\"@bikeflag\":\"1\",\"@origTime\":\"05:39 PM\"},{\"@station\":\"SFIA\",\"@load\":\"0\",\"@bikeflag\":\"1\",\"@origTime\":\"05:43 PM\"}]},{\"@index\":\"48\",\"stop\":[{\"@station\":\"RICH\",\"@load\":\"0\",\"@bikeflag\":\"1\",\"@origTime\":\"04:42 PM\"},{\"@station\":\"DELN\",\"@load\":\"0\",\"@bikeflag\":\"1\",\"@origTime\":\"04:47 PM\"},{\"@station\":\"PLZA\",\"@load\":\"0\",\"@bikeflag\":\"1\",\"@origTime\":\"04:50 PM\"},{\"@station\":\"NBRK\",\"@load\":\"0\",\"@bikeflag\":\"1\",\"@origTime\":\"04:53 PM\"},{\"@station\":\"DBRK\",\"@load\":\"0\",\"@bikeflag\":\"1\",\"@origTime\":\"04:55 PM\"},{\"@station\":\"ASHB\",\"@load\":\"0\",\"@bikeflag\":\"1\",\"@origTime\":\"04:58 PM\"},{\"@station\":\"MCAR\",\"@load\":\"0\",\"@bikeflag\":\"1\",\"@origTime\":\"05:01 PM\"},{\"@station\":\"19TH\",\"@load\":\"0\",\"@bikeflag\":\"1\",\"@origTime\":\"05:05 PM\"},{\"@station\":\"12TH\",\"@load\":\"0\",\"@bikeflag\":\"1\",\"@origTime\":\"05:07 PM\"},{\"@station\":\"WOAK\",\"@load\":\"0\",\"@bikeflag\":\"1\",\"@origTime\":\"05:11 PM\"},{\"@station\":\"EMBR\",\"@load\":\"0\",\"@bikeflag\":\"1\",\"@origTime\":\"05:18 PM\"},{\"@station\":\"MONT\",\"@load\":\"0\",\"@bikeflag\":\"1\",\"@origTime\":\"05:20 PM\"},{\"@station\":\"POWL\",\"@load\":\"0\",\"@bikeflag\":\"1\",\"@origTime\":\"05:22 PM\"},{\"@station\":\"CIVC\",\"@load\":\"0\",\"@bikeflag\":\"1\",\"@origTime\":\"05:23 PM\"},{\"@station\":\"16TH\",\"@load\":\"0\",\"@bikeflag\":\"1\",\"@origTime\":\"05:25 PM\"},{\"@station\":\"24TH\",\"@load\":\"0\",\"@bikeflag\":\"1\",\"@origTime\":\"05:27 PM\"},{\"@station\":\"GLEN\",\"@load\":\"0\",\"@bikeflag\":\"1\",\"@origTime\":\"05:30 PM\"},{\"@station\":\"BALB\",\"@load\":\"0\",\"@bikeflag\":\"1\",\"@origTime\":\"05:33 PM\"},{\"@station\":\"DALY\",\"@load\":\"0\",\"@bikeflag\":\"1\",\"@origTime\":\"05:37 PM\"},{\"@station\":\"COLM\",\"@load\":\"0\",\"@bikeflag\":\"1\",\"@origTime\":\"05:41 PM\"},{\"@station\":\"SSAN\",\"@load\":\"0\",\"@bikeflag\":\"1\",\"@origTime\":\"05:44 PM\"},{\"@station\":\"SBRN\",\"@load\":\"0\",\"@bikeflag\":\"1\",\"@origTime\":\"05:47 PM\"},{\"@station\":\"MLBR\",\"@load\":\"0\",\"@bikeflag\":\"1\",\"@origTime\":\"05:54 PM\"},{\"@station\":\"SFIA\",\"@load\":\"0\",\"@bikeflag\":\"1\",\"@origTime\":\"05:58 PM\"}]},{\"@index\":\"49\",\"stop\":[{\"@station\":\"RICH\",\"@load\":\"0\",\"@bikeflag\":\"1\",\"@origTime\":\"04:57 PM\"},{\"@station\":\"DELN\",\"@load\":\"0\",\"@bikeflag\":\"1\",\"@origTime\":\"05:02 PM\"},{\"@station\":\"PLZA\",\"@load\":\"0\",\"@bikeflag\":\"1\",\"@origTime\":\"05:05 PM\"},{\"@station\":\"NBRK\",\"@load\":\"0\",\"@bikeflag\":\"1\",\"@origTime\":\"05:08 PM\"},{\"@station\":\"DBRK\",\"@load\":\"0\",\"@bikeflag\":\"1\",\"@origTime\":\"05:10 PM\"},{\"@station\":\"ASHB\",\"@load\":\"0\",\"@bikeflag\":\"1\",\"@origTime\":\"05:13 PM\"},{\"@station\":\"MCAR\",\"@load\":\"0\",\"@bikeflag\":\"1\",\"@origTime\":\"05:16 PM\"},{\"@station\":\"19TH\",\"@load\":\"0\",\"@bikeflag\":\"1\",\"@origTime\":\"05:20 PM\"},{\"@station\":\"12TH\",\"@load\":\"0\",\"@bikeflag\":\"1\",\"@origTime\":\"05:22 PM\"},{\"@station\":\"WOAK\",\"@load\":\"0\",\"@bikeflag\":\"1\",\"@origTime\":\"05:26 PM\"},{\"@station\":\"EMBR\",\"@load\":\"0\",\"@bikeflag\":\"1\",\"@origTime\":\"05:33 PM\"},{\"@station\":\"MONT\",\"@load\":\"0\",\"@bikeflag\":\"1\",\"@origTime\":\"05:35 PM\"},{\"@station\":\"POWL\",\"@load\":\"0\",\"@bikeflag\":\"1\",\"@origTime\":\"05:37 PM\"},{\"@station\":\"CIVC\",\"@load\":\"0\",\"@bikeflag\":\"1\",\"@origTime\":\"05:38 PM\"},{\"@station\":\"16TH\",\"@load\":\"0\",\"@bikeflag\":\"1\",\"@origTime\":\"05:40 PM\"},{\"@station\":\"24TH\",\"@load\":\"0\",\"@bikeflag\":\"1\",\"@origTime\":\"05:42 PM\"},{\"@station\":\"GLEN\",\"@load\":\"0\",\"@bikeflag\":\"1\",\"@origTime\":\"05:45 PM\"},{\"@station\":\"BALB\",\"@load\":\"0\",\"@bikeflag\":\"1\",\"@origTime\":\"05:48 PM\"},{\"@station\":\"DALY\",\"@load\":\"0\",\"@bikeflag\":\"1\",\"@origTime\":\"05:52 PM\"},{\"@station\":\"COLM\",\"@load\":\"0\",\"@bikeflag\":\"1\",\"@origTime\":\"05:56 PM\"},{\"@station\":\"SSAN\",\"@load\":\"0\",\"@bikeflag\":\"1\",\"@origTime\":\"05:59 PM\"},{\"@station\":\"SBRN\",\"@load\":\"0\",\"@bikeflag\":\"1\",\"@origTime\":\"06:02 PM\"},{\"@station\":\"MLBR\",\"@load\":\"0\",\"@bikeflag\":\"1\",\"@origTime\":\"06:09 PM\"},{\"@station\":\"SFIA\",\"@load\":\"0\",\"@bikeflag\":\"1\",\"@origTime\":\"06:13 PM\"}]},{\"@index\":\"50\",\"stop\":[{\"@station\":\"RICH\",\"@load\":\"0\",\"@bikeflag\":\"1\",\"@origTime\":\"05:12 PM\"},{\"@station\":\"DELN\",\"@load\":\"0\",\"@bikeflag\":\"1\",\"@origTime\":\"05:17 PM\"},{\"@station\":\"PLZA\",\"@load\":\"0\",\"@bikeflag\":\"1\",\"@origTime\":\"05:20 PM\"},{\"@station\":\"NBRK\",\"@load\":\"0\",\"@bikeflag\":\"1\",\"@origTime\":\"05:23 PM\"},{\"@station\":\"DBRK\",\"@load\":\"0\",\"@bikeflag\":\"1\",\"@origTime\":\"05:25 PM\"},{\"@station\":\"ASHB\",\"@load\":\"0\",\"@bikeflag\":\"1\",\"@origTime\":\"05:28 PM\"},{\"@station\":\"MCAR\",\"@load\":\"0\",\"@bikeflag\":\"1\",\"@origTime\":\"05:31 PM\"},{\"@station\":\"19TH\",\"@load\":\"0\",\"@bikeflag\":\"1\",\"@origTime\":\"05:35 PM\"},{\"@station\":\"12TH\",\"@load\":\"0\",\"@bikeflag\":\"1\",\"@origTime\":\"05:37 PM\"},{\"@station\":\"WOAK\",\"@load\":\"0\",\"@bikeflag\":\"1\",\"@origTime\":\"05:41 PM\"},{\"@station\":\"EMBR\",\"@load\":\"0\",\"@bikeflag\":\"1\",\"@origTime\":\"05:48 PM\"},{\"@station\":\"MONT\",\"@load\":\"0\",\"@bikeflag\":\"1\",\"@origTime\":\"05:50 PM\"},{\"@station\":\"POWL\",\"@load\":\"0\",\"@bikeflag\":\"1\",\"@origTime\":\"05:52 PM\"},{\"@station\":\"CIVC\",\"@load\":\"0\",\"@bikeflag\":\"1\",\"@origTime\":\"05:53 PM\"},{\"@station\":\"16TH\",\"@load\":\"0\",\"@bikeflag\":\"1\",\"@origTime\":\"05:55 PM\"},{\"@station\":\"24TH\",\"@load\":\"0\",\"@bikeflag\":\"1\",\"@origTime\":\"05:57 PM\"},{\"@station\":\"GLEN\",\"@load\":\"0\",\"@bikeflag\":\"1\",\"@origTime\":\"06:00 PM\"},{\"@station\":\"BALB\",\"@load\":\"0\",\"@bikeflag\":\"1\",\"@origTime\":\"06:03 PM\"},{\"@station\":\"DALY\",\"@load\":\"0\",\"@bikeflag\":\"1\",\"@origTime\":\"06:07 PM\"},{\"@station\":\"COLM\",\"@load\":\"0\",\"@bikeflag\":\"1\",\"@origTime\":\"06:11 PM\"},{\"@station\":\"SSAN\",\"@load\":\"0\",\"@bikeflag\":\"1\",\"@origTime\":\"06:14 PM\"},{\"@station\":\"SBRN\",\"@load\":\"0\",\"@bikeflag\":\"1\",\"@origTime\":\"06:17 PM\"},{\"@station\":\"MLBR\",\"@load\":\"0\",\"@bikeflag\":\"1\",\"@origTime\":\"06:24 PM\"},{\"@station\":\"SFIA\",\"@load\":\"0\",\"@bikeflag\":\"1\",\"@origTime\":\"06:28 PM\"}]},{\"@index\":\"51\",\"stop\":[{\"@station\":\"RICH\",\"@load\":\"0\",\"@bikeflag\":\"1\",\"@origTime\":\"05:27 PM\"},{\"@station\":\"DELN\",\"@load\":\"0\",\"@bikeflag\":\"1\",\"@origTime\":\"05:32 PM\"},{\"@station\":\"PLZA\",\"@load\":\"0\",\"@bikeflag\":\"1\",\"@origTime\":\"05:35 PM\"},{\"@station\":\"NBRK\",\"@load\":\"0\",\"@bikeflag\":\"1\",\"@origTime\":\"05:38 PM\"},{\"@station\":\"DBRK\",\"@load\":\"0\",\"@bikeflag\":\"1\",\"@origTime\":\"05:40 PM\"},{\"@station\":\"ASHB\",\"@load\":\"0\",\"@bikeflag\":\"1\",\"@origTime\":\"05:43 PM\"},{\"@station\":\"MCAR\",\"@load\":\"0\",\"@bikeflag\":\"1\",\"@origTime\":\"05:46 PM\"},{\"@station\":\"19TH\",\"@load\":\"0\",\"@bikeflag\":\"1\",\"@origTime\":\"05:50 PM\"},{\"@station\":\"12TH\",\"@load\":\"0\",\"@bikeflag\":\"1\",\"@origTime\":\"05:52 PM\"},{\"@station\":\"WOAK\",\"@load\":\"0\",\"@bikeflag\":\"1\",\"@origTime\":\"05:56 PM\"},{\"@station\":\"EMBR\",\"@load\":\"0\",\"@bikeflag\":\"1\",\"@origTime\":\"06:03 PM\"},{\"@station\":\"MONT\",\"@load\":\"0\",\"@bikeflag\":\"1\",\"@origTime\":\"06:05 PM\"},{\"@station\":\"POWL\",\"@load\":\"0\",\"@bikeflag\":\"1\",\"@origTime\":\"06:07 PM\"},{\"@station\":\"CIVC\",\"@load\":\"0\",\"@bikeflag\":\"1\",\"@origTime\":\"06:08 PM\"},{\"@station\":\"16TH\",\"@load\":\"0\",\"@bikeflag\":\"1\",\"@origTime\":\"06:10 PM\"},{\"@station\":\"24TH\",\"@load\":\"0\",\"@bikeflag\":\"1\",\"@origTime\":\"06:12 PM\"},{\"@station\":\"GLEN\",\"@load\":\"0\",\"@bikeflag\":\"1\",\"@origTime\":\"06:15 PM\"},{\"@station\":\"BALB\",\"@load\":\"0\",\"@bikeflag\":\"1\",\"@origTime\":\"06:18 PM\"},{\"@station\":\"DALY\",\"@load\":\"0\",\"@bikeflag\":\"1\",\"@origTime\":\"06:22 PM\"},{\"@station\":\"COLM\",\"@load\":\"0\",\"@bikeflag\":\"1\",\"@origTime\":\"06:26 PM\"},{\"@station\":\"SSAN\",\"@load\":\"0\",\"@bikeflag\":\"1\",\"@origTime\":\"06:29 PM\"},{\"@station\":\"SBRN\",\"@load\":\"0\",\"@bikeflag\":\"1\",\"@origTime\":\"06:32 PM\"},{\"@station\":\"MLBR\",\"@load\":\"0\",\"@bikeflag\":\"1\",\"@origTime\":\"06:39 PM\"},{\"@station\":\"SFIA\",\"@load\":\"0\",\"@bikeflag\":\"1\",\"@origTime\":\"06:43 PM\"}]},{\"@index\":\"52\",\"stop\":[{\"@station\":\"RICH\",\"@load\":\"0\",\"@bikeflag\":\"1\",\"@origTime\":\"05:42 PM\"},{\"@station\":\"DELN\",\"@load\":\"0\",\"@bikeflag\":\"1\",\"@origTime\":\"05:47 PM\"},{\"@station\":\"PLZA\",\"@load\":\"0\",\"@bikeflag\":\"1\",\"@origTime\":\"05:50 PM\"},{\"@station\":\"NBRK\",\"@load\":\"0\",\"@bikeflag\":\"1\",\"@origTime\":\"05:53 PM\"},{\"@station\":\"DBRK\",\"@load\":\"0\",\"@bikeflag\":\"1\",\"@origTime\":\"05:55 PM\"},{\"@station\":\"ASHB\",\"@load\":\"0\",\"@bikeflag\":\"1\",\"@origTime\":\"05:58 PM\"},{\"@station\":\"MCAR\",\"@load\":\"0\",\"@bikeflag\":\"1\",\"@origTime\":\"06:01 PM\"},{\"@station\":\"19TH\",\"@load\":\"0\",\"@bikeflag\":\"1\",\"@origTime\":\"06:05 PM\"},{\"@station\":\"12TH\",\"@load\":\"0\",\"@bikeflag\":\"1\",\"@origTime\":\"06:07 PM\"},{\"@station\":\"WOAK\",\"@load\":\"0\",\"@bikeflag\":\"1\",\"@origTime\":\"06:11 PM\"},{\"@station\":\"EMBR\",\"@load\":\"0\",\"@bikeflag\":\"1\",\"@origTime\":\"06:18 PM\"},{\"@station\":\"MONT\",\"@load\":\"0\",\"@bikeflag\":\"1\",\"@origTime\":\"06:20 PM\"},{\"@station\":\"POWL\",\"@load\":\"0\",\"@bikeflag\":\"1\",\"@origTime\":\"06:22 PM\"},{\"@station\":\"CIVC\",\"@load\":\"0\",\"@bikeflag\":\"1\",\"@origTime\":\"06:23 PM\"},{\"@station\":\"16TH\",\"@load\":\"0\",\"@bikeflag\":\"1\",\"@origTime\":\"06:25 PM\"},{\"@station\":\"24TH\",\"@load\":\"0\",\"@bikeflag\":\"1\",\"@origTime\":\"06:27 PM\"},{\"@station\":\"GLEN\",\"@load\":\"0\",\"@bikeflag\":\"1\",\"@origTime\":\"06:30 PM\"},{\"@station\":\"BALB\",\"@load\":\"0\",\"@bikeflag\":\"1\",\"@origTime\":\"06:33 PM\"},{\"@station\":\"DALY\",\"@load\":\"0\",\"@bikeflag\":\"1\",\"@origTime\":\"06:37 PM\"},{\"@station\":\"COLM\",\"@load\":\"0\",\"@bikeflag\":\"1\",\"@origTime\":\"06:41 PM\"},{\"@station\":\"SSAN\",\"@load\":\"0\",\"@bikeflag\":\"1\",\"@origTime\":\"06:44 PM\"},{\"@station\":\"SBRN\",\"@load\":\"0\",\"@bikeflag\":\"1\",\"@origTime\":\"06:47 PM\"},{\"@station\":\"MLBR\",\"@load\":\"0\",\"@bikeflag\":\"1\",\"@origTime\":\"06:54 PM\"},{\"@station\":\"SFIA\",\"@load\":\"0\",\"@bikeflag\":\"1\",\"@origTime\":\"06:58 PM\"}]},{\"@index\":\"53\",\"stop\":[{\"@station\":\"RICH\",\"@load\":\"0\",\"@bikeflag\":\"1\",\"@origTime\":\"05:57 PM\"},{\"@station\":\"DELN\",\"@load\":\"0\",\"@bikeflag\":\"1\",\"@origTime\":\"06:02 PM\"},{\"@station\":\"PLZA\",\"@load\":\"0\",\"@bikeflag\":\"1\",\"@origTime\":\"06:05 PM\"},{\"@station\":\"NBRK\",\"@load\":\"0\",\"@bikeflag\":\"1\",\"@origTime\":\"06:08 PM\"},{\"@station\":\"DBRK\",\"@load\":\"0\",\"@bikeflag\":\"1\",\"@origTime\":\"06:10 PM\"},{\"@station\":\"ASHB\",\"@load\":\"0\",\"@bikeflag\":\"1\",\"@origTime\":\"06:13 PM\"},{\"@station\":\"MCAR\",\"@load\":\"0\",\"@bikeflag\":\"1\",\"@origTime\":\"06:16 PM\"},{\"@station\":\"19TH\",\"@load\":\"0\",\"@bikeflag\":\"1\",\"@origTime\":\"06:20 PM\"},{\"@station\":\"12TH\",\"@load\":\"0\",\"@bikeflag\":\"1\",\"@origTime\":\"06:22 PM\"},{\"@station\":\"WOAK\",\"@load\":\"0\",\"@bikeflag\":\"1\",\"@origTime\":\"06:26 PM\"},{\"@station\":\"EMBR\",\"@load\":\"0\",\"@bikeflag\":\"1\",\"@origTime\":\"06:33 PM\"},{\"@station\":\"MONT\",\"@load\":\"0\",\"@bikeflag\":\"1\",\"@origTime\":\"06:35 PM\"},{\"@station\":\"POWL\",\"@load\":\"0\",\"@bikeflag\":\"1\",\"@origTime\":\"06:37 PM\"},{\"@station\":\"CIVC\",\"@load\":\"0\",\"@bikeflag\":\"1\",\"@origTime\":\"06:38 PM\"},{\"@station\":\"16TH\",\"@load\":\"0\",\"@bikeflag\":\"1\",\"@origTime\":\"06:40 PM\"},{\"@station\":\"24TH\",\"@load\":\"0\",\"@bikeflag\":\"1\",\"@origTime\":\"06:42 PM\"},{\"@station\":\"GLEN\",\"@load\":\"0\",\"@bikeflag\":\"1\",\"@origTime\":\"06:45 PM\"},{\"@station\":\"BALB\",\"@load\":\"0\",\"@bikeflag\":\"1\",\"@origTime\":\"06:48 PM\"},{\"@station\":\"DALY\",\"@load\":\"0\",\"@bikeflag\":\"1\",\"@origTime\":\"06:52 PM\"},{\"@station\":\"COLM\",\"@load\":\"0\",\"@bikeflag\":\"1\",\"@origTime\":\"06:56 PM\"},{\"@station\":\"SSAN\",\"@load\":\"0\",\"@bikeflag\":\"1\",\"@origTime\":\"06:59 PM\"},{\"@station\":\"SBRN\",\"@load\":\"0\",\"@bikeflag\":\"1\",\"@origTime\":\"07:02 PM\"},{\"@station\":\"MLBR\",\"@load\":\"0\",\"@bikeflag\":\"1\",\"@origTime\":\"07:09 PM\"},{\"@station\":\"SFIA\",\"@load\":\"0\",\"@bikeflag\":\"1\",\"@origTime\":\"07:13 PM\"}]},{\"@index\":\"54\",\"stop\":[{\"@station\":\"RICH\",\"@load\":\"0\",\"@bikeflag\":\"1\",\"@origTime\":\"06:12 PM\"},{\"@station\":\"DELN\",\"@load\":\"0\",\"@bikeflag\":\"1\",\"@origTime\":\"06:17 PM\"},{\"@station\":\"PLZA\",\"@load\":\"0\",\"@bikeflag\":\"1\",\"@origTime\":\"06:20 PM\"},{\"@station\":\"NBRK\",\"@load\":\"0\",\"@bikeflag\":\"1\",\"@origTime\":\"06:23 PM\"},{\"@station\":\"DBRK\",\"@load\":\"0\",\"@bikeflag\":\"1\",\"@origTime\":\"06:25 PM\"},{\"@station\":\"ASHB\",\"@load\":\"0\",\"@bikeflag\":\"1\",\"@origTime\":\"06:28 PM\"},{\"@station\":\"MCAR\",\"@load\":\"0\",\"@bikeflag\":\"1\",\"@origTime\":\"06:31 PM\"},{\"@station\":\"19TH\",\"@load\":\"0\",\"@bikeflag\":\"1\",\"@origTime\":\"06:35 PM\"},{\"@station\":\"12TH\",\"@load\":\"0\",\"@bikeflag\":\"1\",\"@origTime\":\"06:37 PM\"},{\"@station\":\"WOAK\",\"@load\":\"0\",\"@bikeflag\":\"1\",\"@origTime\":\"06:41 PM\"},{\"@station\":\"EMBR\",\"@load\":\"0\",\"@bikeflag\":\"1\",\"@origTime\":\"06:48 PM\"},{\"@station\":\"MONT\",\"@load\":\"0\",\"@bikeflag\":\"1\",\"@origTime\":\"06:50 PM\"},{\"@station\":\"POWL\",\"@load\":\"0\",\"@bikeflag\":\"1\",\"@origTime\":\"06:52 PM\"},{\"@station\":\"CIVC\",\"@load\":\"0\",\"@bikeflag\":\"1\",\"@origTime\":\"06:53 PM\"},{\"@station\":\"16TH\",\"@load\":\"0\",\"@bikeflag\":\"1\",\"@origTime\":\"06:55 PM\"},{\"@station\":\"24TH\",\"@load\":\"0\",\"@bikeflag\":\"1\",\"@origTime\":\"06:57 PM\"},{\"@station\":\"GLEN\",\"@load\":\"0\",\"@bikeflag\":\"1\",\"@origTime\":\"07:00 PM\"},{\"@station\":\"BALB\",\"@load\":\"0\",\"@bikeflag\":\"1\",\"@origTime\":\"07:03 PM\"},{\"@station\":\"DALY\",\"@load\":\"0\",\"@bikeflag\":\"1\",\"@origTime\":\"07:07 PM\"},{\"@station\":\"COLM\",\"@load\":\"0\",\"@bikeflag\":\"1\",\"@origTime\":\"07:11 PM\"},{\"@station\":\"SSAN\",\"@load\":\"0\",\"@bikeflag\":\"1\",\"@origTime\":\"07:14 PM\"},{\"@station\":\"SBRN\",\"@load\":\"0\",\"@bikeflag\":\"1\",\"@origTime\":\"07:17 PM\"},{\"@station\":\"MLBR\",\"@load\":\"0\",\"@bikeflag\":\"1\",\"@origTime\":\"07:24 PM\"},{\"@station\":\"SFIA\",\"@load\":\"0\",\"@bikeflag\":\"1\",\"@origTime\":\"07:28 PM\"}]},{\"@index\":\"55\",\"stop\":[{\"@station\":\"RICH\",\"@load\":\"0\",\"@bikeflag\":\"1\",\"@origTime\":\"06:27 PM\"},{\"@station\":\"DELN\",\"@load\":\"0\",\"@bikeflag\":\"1\",\"@origTime\":\"06:32 PM\"},{\"@station\":\"PLZA\",\"@load\":\"0\",\"@bikeflag\":\"1\",\"@origTime\":\"06:35 PM\"},{\"@station\":\"NBRK\",\"@load\":\"0\",\"@bikeflag\":\"1\",\"@origTime\":\"06:38 PM\"},{\"@station\":\"DBRK\",\"@load\":\"0\",\"@bikeflag\":\"1\",\"@origTime\":\"06:40 PM\"},{\"@station\":\"ASHB\",\"@load\":\"0\",\"@bikeflag\":\"1\",\"@origTime\":\"06:43 PM\"},{\"@station\":\"MCAR\",\"@load\":\"0\",\"@bikeflag\":\"1\",\"@origTime\":\"06:46 PM\"},{\"@station\":\"19TH\",\"@load\":\"0\",\"@bikeflag\":\"1\",\"@origTime\":\"06:50 PM\"},{\"@station\":\"12TH\",\"@load\":\"0\",\"@bikeflag\":\"1\",\"@origTime\":\"06:52 PM\"},{\"@station\":\"WOAK\",\"@load\":\"0\",\"@bikeflag\":\"1\",\"@origTime\":\"06:56 PM\"},{\"@station\":\"EMBR\",\"@load\":\"0\",\"@bikeflag\":\"1\",\"@origTime\":\"07:03 PM\"},{\"@station\":\"MONT\",\"@load\":\"0\",\"@bikeflag\":\"1\",\"@origTime\":\"07:05 PM\"},{\"@station\":\"POWL\",\"@load\":\"0\",\"@bikeflag\":\"1\",\"@origTime\":\"07:07 PM\"},{\"@station\":\"CIVC\",\"@load\":\"0\",\"@bikeflag\":\"1\",\"@origTime\":\"07:08 PM\"},{\"@station\":\"16TH\",\"@load\":\"0\",\"@bikeflag\":\"1\",\"@origTime\":\"07:10 PM\"},{\"@station\":\"24TH\",\"@load\":\"0\",\"@bikeflag\":\"1\",\"@origTime\":\"07:12 PM\"},{\"@station\":\"GLEN\",\"@load\":\"0\",\"@bikeflag\":\"1\",\"@origTime\":\"07:15 PM\"},{\"@station\":\"BALB\",\"@load\":\"0\",\"@bikeflag\":\"1\",\"@origTime\":\"07:18 PM\"},{\"@station\":\"DALY\",\"@load\":\"0\",\"@bikeflag\":\"1\",\"@origTime\":\"07:22 PM\"},{\"@station\":\"COLM\",\"@load\":\"0\",\"@bikeflag\":\"1\",\"@origTime\":\"07:26 PM\"},{\"@station\":\"SSAN\",\"@load\":\"0\",\"@bikeflag\":\"1\",\"@origTime\":\"07:29 PM\"},{\"@station\":\"SBRN\",\"@load\":\"0\",\"@bikeflag\":\"1\",\"@origTime\":\"07:32 PM\"},{\"@station\":\"MLBR\",\"@load\":\"0\",\"@bikeflag\":\"1\",\"@origTime\":\"07:39 PM\"},{\"@station\":\"SFIA\",\"@load\":\"0\",\"@bikeflag\":\"1\",\"@origTime\":\"07:43 PM\"}]},{\"@index\":\"56\",\"stop\":[{\"@station\":\"RICH\",\"@load\":\"0\",\"@bikeflag\":\"1\",\"@origTime\":\"06:42 PM\"},{\"@station\":\"DELN\",\"@load\":\"0\",\"@bikeflag\":\"1\",\"@origTime\":\"06:47 PM\"},{\"@station\":\"PLZA\",\"@load\":\"0\",\"@bikeflag\":\"1\",\"@origTime\":\"06:50 PM\"},{\"@station\":\"NBRK\",\"@load\":\"0\",\"@bikeflag\":\"1\",\"@origTime\":\"06:53 PM\"},{\"@station\":\"DBRK\",\"@load\":\"0\",\"@bikeflag\":\"1\",\"@origTime\":\"06:55 PM\"},{\"@station\":\"ASHB\",\"@load\":\"0\",\"@bikeflag\":\"1\",\"@origTime\":\"06:58 PM\"},{\"@station\":\"MCAR\",\"@load\":\"0\",\"@bikeflag\":\"1\",\"@origTime\":\"07:01 PM\"},{\"@station\":\"19TH\",\"@load\":\"0\",\"@bikeflag\":\"1\",\"@origTime\":\"07:05 PM\"},{\"@station\":\"12TH\",\"@load\":\"0\",\"@bikeflag\":\"1\",\"@origTime\":\"07:07 PM\"},{\"@station\":\"WOAK\",\"@load\":\"0\",\"@bikeflag\":\"1\",\"@origTime\":\"07:11 PM\"},{\"@station\":\"EMBR\",\"@load\":\"0\",\"@bikeflag\":\"1\",\"@origTime\":\"07:18 PM\"},{\"@station\":\"MONT\",\"@load\":\"0\",\"@bikeflag\":\"1\",\"@origTime\":\"07:20 PM\"},{\"@station\":\"POWL\",\"@load\":\"0\",\"@bikeflag\":\"1\",\"@origTime\":\"07:22 PM\"},{\"@station\":\"CIVC\",\"@load\":\"0\",\"@bikeflag\":\"1\",\"@origTime\":\"07:23 PM\"},{\"@station\":\"16TH\",\"@load\":\"0\",\"@bikeflag\":\"1\",\"@origTime\":\"07:25 PM\"},{\"@station\":\"24TH\",\"@load\":\"0\",\"@bikeflag\":\"1\",\"@origTime\":\"07:27 PM\"},{\"@station\":\"GLEN\",\"@load\":\"0\",\"@bikeflag\":\"1\",\"@origTime\":\"07:30 PM\"},{\"@station\":\"BALB\",\"@load\":\"0\",\"@bikeflag\":\"1\",\"@origTime\":\"07:33 PM\"},{\"@station\":\"DALY\",\"@load\":\"0\",\"@bikeflag\":\"1\",\"@origTime\":\"07:37 PM\"},{\"@station\":\"COLM\",\"@load\":\"0\",\"@bikeflag\":\"1\",\"@origTime\":\"07:41 PM\"},{\"@station\":\"SSAN\",\"@load\":\"0\",\"@bikeflag\":\"1\",\"@origTime\":\"07:44 PM\"},{\"@station\":\"SBRN\",\"@load\":\"0\",\"@bikeflag\":\"1\",\"@origTime\":\"07:47 PM\"},{\"@station\":\"MLBR\",\"@load\":\"0\",\"@bikeflag\":\"1\",\"@origTime\":\"07:54 PM\"},{\"@station\":\"SFIA\",\"@load\":\"0\",\"@bikeflag\":\"1\",\"@origTime\":\"07:58 PM\"}]},{\"@index\":\"57\",\"stop\":[{\"@station\":\"RICH\",\"@load\":\"0\",\"@bikeflag\":\"1\",\"@origTime\":\"06:57 PM\"},{\"@station\":\"DELN\",\"@load\":\"0\",\"@bikeflag\":\"1\",\"@origTime\":\"07:02 PM\"},{\"@station\":\"PLZA\",\"@load\":\"0\",\"@bikeflag\":\"1\",\"@origTime\":\"07:05 PM\"},{\"@station\":\"NBRK\",\"@load\":\"0\",\"@bikeflag\":\"1\",\"@origTime\":\"07:08 PM\"},{\"@station\":\"DBRK\",\"@load\":\"0\",\"@bikeflag\":\"1\",\"@origTime\":\"07:10 PM\"},{\"@station\":\"ASHB\",\"@load\":\"0\",\"@bikeflag\":\"1\",\"@origTime\":\"07:13 PM\"},{\"@station\":\"MCAR\",\"@load\":\"0\",\"@bikeflag\":\"1\",\"@origTime\":\"07:16 PM\"},{\"@station\":\"19TH\",\"@load\":\"0\",\"@bikeflag\":\"1\",\"@origTime\":\"07:20 PM\"},{\"@station\":\"12TH\",\"@load\":\"0\",\"@bikeflag\":\"1\",\"@origTime\":\"07:22 PM\"},{\"@station\":\"WOAK\",\"@load\":\"0\",\"@bikeflag\":\"1\",\"@origTime\":\"07:26 PM\"},{\"@station\":\"EMBR\",\"@load\":\"0\",\"@bikeflag\":\"1\",\"@origTime\":\"07:33 PM\"},{\"@station\":\"MONT\",\"@load\":\"0\",\"@bikeflag\":\"1\",\"@origTime\":\"07:35 PM\"},{\"@station\":\"POWL\",\"@load\":\"0\",\"@bikeflag\":\"1\",\"@origTime\":\"07:37 PM\"},{\"@station\":\"CIVC\",\"@load\":\"0\",\"@bikeflag\":\"1\",\"@origTime\":\"07:38 PM\"},{\"@station\":\"16TH\",\"@load\":\"0\",\"@bikeflag\":\"1\",\"@origTime\":\"07:40 PM\"},{\"@station\":\"24TH\",\"@load\":\"0\",\"@bikeflag\":\"1\",\"@origTime\":\"07:42 PM\"},{\"@station\":\"GLEN\",\"@load\":\"0\",\"@bikeflag\":\"1\",\"@origTime\":\"07:45 PM\"},{\"@station\":\"BALB\",\"@load\":\"0\",\"@bikeflag\":\"1\",\"@origTime\":\"07:48 PM\"},{\"@station\":\"DALY\",\"@load\":\"0\",\"@bikeflag\":\"1\",\"@origTime\":\"07:52 PM\"},{\"@station\":\"COLM\",\"@load\":\"0\",\"@bikeflag\":\"1\",\"@origTime\":\"07:56 PM\"},{\"@station\":\"SSAN\",\"@load\":\"0\",\"@bikeflag\":\"1\",\"@origTime\":\"07:59 PM\"},{\"@station\":\"SBRN\",\"@load\":\"0\",\"@bikeflag\":\"1\",\"@origTime\":\"08:02 PM\"},{\"@station\":\"MLBR\",\"@load\":\"0\",\"@bikeflag\":\"1\",\"@origTime\":\"08:07 PM\"}]},{\"@index\":\"58\",\"stop\":[{\"@station\":\"RICH\",\"@load\":\"0\",\"@bikeflag\":\"1\",\"@origTime\":\"07:12 PM\"},{\"@station\":\"DELN\",\"@load\":\"0\",\"@bikeflag\":\"1\",\"@origTime\":\"07:17 PM\"},{\"@station\":\"PLZA\",\"@load\":\"0\",\"@bikeflag\":\"1\",\"@origTime\":\"07:20 PM\"},{\"@station\":\"NBRK\",\"@load\":\"0\",\"@bikeflag\":\"1\",\"@origTime\":\"07:23 PM\"},{\"@station\":\"DBRK\",\"@load\":\"0\",\"@bikeflag\":\"1\",\"@origTime\":\"07:25 PM\"},{\"@station\":\"ASHB\",\"@load\":\"0\",\"@bikeflag\":\"1\",\"@origTime\":\"07:28 PM\"},{\"@station\":\"MCAR\",\"@load\":\"0\",\"@bikeflag\":\"1\",\"@origTime\":\"07:31 PM\"},{\"@station\":\"19TH\",\"@load\":\"0\",\"@bikeflag\":\"1\",\"@origTime\":\"07:35 PM\"},{\"@station\":\"12TH\",\"@load\":\"0\",\"@bikeflag\":\"1\",\"@origTime\":\"07:37 PM\"},{\"@station\":\"WOAK\",\"@load\":\"0\",\"@bikeflag\":\"1\",\"@origTime\":\"07:41 PM\"},{\"@station\":\"EMBR\",\"@load\":\"0\",\"@bikeflag\":\"1\",\"@origTime\":\"07:48 PM\"},{\"@station\":\"MONT\",\"@load\":\"0\",\"@bikeflag\":\"1\",\"@origTime\":\"07:50 PM\"},{\"@station\":\"POWL\",\"@load\":\"0\",\"@bikeflag\":\"1\",\"@origTime\":\"07:52 PM\"},{\"@station\":\"CIVC\",\"@load\":\"0\",\"@bikeflag\":\"1\",\"@origTime\":\"07:53 PM\"},{\"@station\":\"16TH\",\"@load\":\"0\",\"@bikeflag\":\"1\",\"@origTime\":\"07:55 PM\"},{\"@station\":\"24TH\",\"@load\":\"0\",\"@bikeflag\":\"1\",\"@origTime\":\"07:57 PM\"},{\"@station\":\"GLEN\",\"@load\":\"0\",\"@bikeflag\":\"1\",\"@origTime\":\"08:00 PM\"},{\"@station\":\"BALB\",\"@load\":\"0\",\"@bikeflag\":\"1\",\"@origTime\":\"08:03 PM\"},{\"@station\":\"DALY\",\"@load\":\"0\",\"@bikeflag\":\"1\",\"@origTime\":\"08:07 PM\"},{\"@station\":\"COLM\",\"@load\":\"0\",\"@bikeflag\":\"1\",\"@origTime\":\"08:11 PM\"},{\"@station\":\"SSAN\",\"@load\":\"0\",\"@bikeflag\":\"1\",\"@origTime\":\"08:14 PM\"},{\"@station\":\"SBRN\",\"@load\":\"0\",\"@bikeflag\":\"1\",\"@origTime\":\"08:17 PM\"},{\"@station\":\"MLBR\",\"@load\":\"0\",\"@bikeflag\":\"1\",\"@origTime\":\"08:22 PM\"}]}]},\"message\":\"\"}}\n"
     ]
    }
   ],
   "source": [
    "requestString = 'https://api.bart.gov/api/sched.aspx'\n",
    "params = {'cmd':'routesched',\n",
    "          'route':'7',\n",
    "          'date':'wd',\n",
    "          'key':APIkey,\n",
    "          'json':'y'}\n",
    "r = requests.get(requestString, params=params)\n",
    "print(r.text)"
   ]
  },
  {
   "cell_type": "code",
   "execution_count": null,
   "id": "0d9febb8-e150-4766-babf-60118cfdeed0",
   "metadata": {},
   "outputs": [],
   "source": []
  },
  {
   "cell_type": "markdown",
   "id": "9c523b6e",
   "metadata": {},
   "source": [
    "<div class=\"alert alert-block alert-info\">\n",
    "<strong>Exercise:</strong> Explore some of BART's other API collections at the same link above\n",
    "</div>"
   ]
  },
  {
   "cell_type": "markdown",
   "id": "excellent-spank",
   "metadata": {},
   "source": [
    "<div class=\"alert alert-block alert-info\">\n",
    "<h3>Key Takeaways</h3>\n",
    "<ul>\n",
    "  <li>Many APIs are just URLs. You can compose the URL as a string.</li>\n",
    "  <li>JSON is the typical format of the returned data, but you will often need to experiment.</li>\n",
    "  <li>Be nice! Some APIs will ask you to register. Most will kick you off if you make too many requests.</li>\n",
    "</ul>\n",
    "</div>"
   ]
  }
 ],
 "metadata": {
  "kernelspec": {
   "display_name": "Python 3 (ipykernel)",
   "language": "python",
   "name": "python3"
  },
  "language_info": {
   "codemirror_mode": {
    "name": "ipython",
    "version": 3
   },
   "file_extension": ".py",
   "mimetype": "text/x-python",
   "name": "python",
   "nbconvert_exporter": "python",
   "pygments_lexer": "ipython3",
   "version": "3.10.10"
  },
  "livereveal": {
   "height": "90%",
   "scroll": true,
   "width": "90%"
  }
 },
 "nbformat": 4,
 "nbformat_minor": 5
}
